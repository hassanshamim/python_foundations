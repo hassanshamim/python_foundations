{
 "cells": [
  {
   "cell_type": "markdown",
   "metadata": {},
   "source": [
    "# LESSON 3 - Flow Control (continued)\n",
    " - Continues [Chapter 2](https://automatetheboringstuff.com/chapter2/)\n",
    "    "
   ]
  },
  {
   "cell_type": "markdown",
   "metadata": {},
   "source": [
    "## While Loops:\n",
    "- One way to execute code multiple times\n",
    "- Code in the *clause* or the block, will be executed until the condition is False\n",
    "- In english, 'While this is true, do that'\n",
    "- Same syntax as previous conditionals:\n",
    "\n",
    "`while <condition>:\n",
    "    <code block>\n",
    "`"
   ]
  },
  {
   "cell_type": "code",
   "execution_count": null,
   "metadata": {
    "collapsed": false
   },
   "outputs": [],
   "source": [
    "# Before we executed code manually multiple times\n",
    "countdown = 10"
   ]
  },
  {
   "cell_type": "code",
   "execution_count": null,
   "metadata": {
    "collapsed": true
   },
   "outputs": [],
   "source": [
    "if countdown > 0:\n",
    "    print(countdown)\n",
    "    countdown = countdown - 1\n",
    "else:\n",
    "    print('Blastoff!')"
   ]
  },
  {
   "cell_type": "markdown",
   "metadata": {
    "collapsed": true
   },
   "source": [
    "%load -r 3-7 solutions/flow_control.py"
   ]
  },
  {
   "cell_type": "markdown",
   "metadata": {},
   "source": [
    "The above, visualized on pythontutor.com"
   ]
  },
  {
   "cell_type": "code",
   "execution_count": null,
   "metadata": {
    "collapsed": true
   },
   "outputs": [],
   "source": [
    "%%html\n",
    "<iframe width=\"800\" height=\"500\" frameborder=\"0\" src=\"http://pythontutor.com/iframe-embed.html#code=countdown%20%3D%2010%0Awhile%20countdown%20%3E%200%3A%0A%20%20%20%20print(countdown%29%0A%20%20%20%20countdown%20%3D%20countdown%20-%201%0A%20%20%20%20print('Blastoff!'%29&codeDivHeight=400&codeDivWidth=350&cumulative=false&curInstr=0&heapPrimitives=false&origin=opt-frontend.js&py=3&rawInputLstJSON=%5B%5D&textReferences=false\"> </iframe>"
   ]
  },
  {
   "cell_type": "markdown",
   "metadata": {},
   "source": [
    "[Thonny](http://thonny.cs.ut.ee/) is another good tool to visualize Python code execution."
   ]
  },
  {
   "cell_type": "markdown",
   "metadata": {},
   "source": [
    "Here's a rather annoying example for you to play with.  Replace the string with your name.  Before you run it ask yourelf:\n",
    "- What is this while loop doing? (what happens inside the code block, aka the indented portion)\n",
    "- When will this loop stop executing?"
   ]
  },
  {
   "cell_type": "code",
   "execution_count": null,
   "metadata": {
    "collapsed": true
   },
   "outputs": [],
   "source": [
    "name = ''\n",
    "while name != 'your name here':\n",
    "    print('Please type your name.')\n",
    "    name = input()\n",
    "print('Thank you!')"
   ]
  },
  {
   "cell_type": "markdown",
   "metadata": {},
   "source": [
    "### Break Statement:\n",
    "- Terminates the innermost loop\n",
    "- Just a line with the word `break`"
   ]
  },
  {
   "cell_type": "markdown",
   "metadata": {},
   "source": [
    "Here's that last annoying example with a break instead."
   ]
  },
  {
   "cell_type": "code",
   "execution_count": null,
   "metadata": {
    "collapsed": false
   },
   "outputs": [],
   "source": [
    "while True: # This is never False, and would continue looping forever without a break statement\n",
    "    print('Please type your name.')\n",
    "    name = input()\n",
    "    if name == 'your name':\n",
    "        break\n",
    "print('Thank you!')"
   ]
  },
  {
   "cell_type": "markdown",
   "metadata": {},
   "source": [
    "#### HELP I'm caught in an ifinite loop! What do I do?\n",
    "`ctrl+c` or in Jupyter notebook: Kernal > Interrupt"
   ]
  },
  {
   "cell_type": "code",
   "execution_count": null,
   "metadata": {
    "collapsed": true
   },
   "outputs": [],
   "source": [
    "while True:\n",
    "    input()"
   ]
  },
  {
   "cell_type": "markdown",
   "metadata": {},
   "source": [
    "### Continue Statement\n",
    "- Skips **remainder** of current *code block* or *conditional body*, and continues with the loop\n",
    "- just a simple `continue` statement by itself on a line (just like the break)"
   ]
  },
  {
   "cell_type": "markdown",
   "metadata": {},
   "source": [
    "Let's start listing all the even numbers"
   ]
  },
  {
   "cell_type": "code",
   "execution_count": null,
   "metadata": {
    "collapsed": false
   },
   "outputs": [],
   "source": [
    "i = 0\n",
    "while i < 100:\n",
    "    i += 1\n",
    "    if i%2 != 0: # Could also be: if not i%2\n",
    "        continue\n",
    "    print(i)"
   ]
  },
  {
   "cell_type": "code",
   "execution_count": null,
   "metadata": {
    "collapsed": false
   },
   "outputs": [],
   "source": [
    "# Another example:\n",
    "password = ''\n",
    "while True:\n",
    "    password = input('Enter a secure password:')\n",
    "    if len(password) < 10:\n",
    "        print('not secure enough')\n",
    "        continue\n",
    "    email = input('what is your email?')\n",
    "    # Do the signup thing\n",
    "    break\n",
    "print('Welcome to SoandSo.io')\n",
    "    "
   ]
  },
  {
   "cell_type": "markdown",
   "metadata": {
    "collapsed": true
   },
   "source": [
    "### Truthy and Falsey values\n",
    "\n",
    "While most values (strings, numbers, etc) are True, \"empty\" values are considered False.  Why?  Because it\n",
    "makes code easier to read, as well as some more advanced reasons. (This is Python-specific, not all languages consider 0 and \"\" false)\n",
    "\n",
    "#### All False values:\n",
    "- False\n",
    "- None\n",
    "- 0\n",
    "- '' (empty string)\n",
    "- (Other empty data structures)\n",
    "\n",
    "What about 0.0?  How can you find out?\n"
   ]
  },
  {
   "cell_type": "code",
   "execution_count": null,
   "metadata": {
    "collapsed": false,
    "scrolled": true
   },
   "outputs": [],
   "source": [
    "name = ''\n",
    "while not name:\n",
    "    print('Enter your name:')\n",
    "    name = input()\n",
    "print('How many guests will you have?')\n",
    "numOfGuests = int(input())\n",
    "if numOfGuests:\n",
    "    print('Be sure to have enough room for all your guests.') #(3)\n",
    "print('Done')"
   ]
  },
  {
   "cell_type": "markdown",
   "metadata": {},
   "source": [
    "## For Loops\n",
    "- Great for iterating over a known quantity\n",
    "- `for <variable_name> in <some_collection>:`\n",
    "- `<indented code block>`\n",
    "- `break` and `continue` work in for loops as well\n",
    "- **note:** not just for numbers. can loop over strings and other data types as well\n",
    "\n",
    "### Range Function:\n",
    "- range(number) i.e. `range(5)` generates 5 numbers (0, 1, 2, 3, 4)\n",
    "- range(start, stop): generates numbers from start up **until** stop. i.e. range(0, 5) == range(5)\n",
    "- range(start, stop, step) generates numbers from start to stop incrementing by step."
   ]
  },
  {
   "cell_type": "code",
   "execution_count": null,
   "metadata": {
    "collapsed": true
   },
   "outputs": [],
   "source": [
    "?range"
   ]
  },
  {
   "cell_type": "code",
   "execution_count": null,
   "metadata": {
    "collapsed": false
   },
   "outputs": [],
   "source": [
    "# play around with range and for loops on your own for a bit.\n",
    "for i in range(10):\n",
    "    print(i)"
   ]
  },
  {
   "cell_type": "code",
   "execution_count": null,
   "metadata": {
    "collapsed": false
   },
   "outputs": [],
   "source": [
    "total = 0\n",
    "for i in range(101):\n",
    "    total += i\n",
    "print(total)\n",
    "\n",
    "# Versus\n",
    "\n",
    "total = 0\n",
    "i = 0\n",
    "while True:\n",
    "    if i > 100:\n",
    "        break\n",
    "    total += i\n",
    "    i += 1\n",
    "print(total)\n",
    "\n",
    "# Or nicer:\n",
    "total = 0\n",
    "i = 0\n",
    "while i <= 100:\n",
    "    total += i\n",
    "    i += 1\n",
    "print(total)"
   ]
  },
  {
   "cell_type": "markdown",
   "metadata": {},
   "source": [
    "## Importing Modules\n",
    "- Not all python is available in the *global namespace*\n",
    "- Sometimes you have to import code for extra features\n",
    "- You can import code in the *Python Standard Library*, or python code written by someone else if it's installed\n",
    "- A few syntax ways to do it:\n",
    "- - `import <module> (or multiple if separated by commas)`\n",
    "- - `from <module> import <module or function>`\n",
    "- - **optional as**"
   ]
  },
  {
   "cell_type": "code",
   "execution_count": null,
   "metadata": {
    "collapsed": false
   },
   "outputs": [],
   "source": [
    "import random, math"
   ]
  },
  {
   "cell_type": "code",
   "execution_count": null,
   "metadata": {
    "collapsed": false
   },
   "outputs": [],
   "source": [
    "random_number = random.randint(1, 10)\n",
    "print(random_number)\n",
    "print(math.pi)\n",
    "print(math.ceil(1.2))"
   ]
  },
  {
   "cell_type": "markdown",
   "metadata": {
    "collapsed": true
   },
   "source": [
    "## Practice Questions\n",
    "\n",
    "1. How do you exit your program if it is stuck in an infinite loop?\n",
    "2. What is the difference between `break` and `continue`?  When can you use them?\n",
    "3. What is the difference between range(10), range(0, 10), and range(0, 10, 1) when used in a for loop?\n",
    "4. There is a module named 'example'.  Import the `hello` function and run it.  \n",
    "5. Why would you ever want to use a break statement instead of adding a condition to `while`?\n"
   ]
  },
  {
   "cell_type": "markdown",
   "metadata": {},
   "source": [
    "## Practice Problems\n",
    "1. Write a loop that sings 99 Bottles of Beer on the wall.  Last line is 'No more bottles of beer on the wall'\n",
    "2. Write another loop that does FizzBuzz for the numbers 1 to 100.\n",
    "3. Print out the letters of the alphabet along with their index (a is 1, b is 2, c is 3)\n",
    "4. Write a loop that prompts the user to enter a password twice.  If both passwords are the same it prints \"Access Granted\" otherwise it reprompts them to enter their password again twice."
   ]
  },
  {
   "cell_type": "markdown",
   "metadata": {},
   "source": [
    "### Bonus:\n",
    "1. Write a program that takes a word (or any input) and calculates the word value according the the alphabet index created above (i.e. cat == 3 + 1 + 20 == 24)\n",
    "2. What if the word has uppercase letters? Account for those in your next solution.\n",
    "3. List the amount of steps the Collatz procedure takes (until it reaches 1) for every number from 1 to 10."
   ]
  },
  {
   "cell_type": "markdown",
   "metadata": {},
   "source": [
    "### Bonus solution #1 (convert to Code cell type to run this cell)\n",
    "\n",
    "%load -r 10-20 solutions/flow_control.py"
   ]
  }
 ],
 "metadata": {
  "anaconda-cloud": {},
  "kernelspec": {
   "display_name": "Python [conda env:python-foundations]",
   "language": "python",
   "name": "conda-env-python-foundations-py"
  },
  "language_info": {
   "codemirror_mode": {
    "name": "ipython",
    "version": 3
   },
   "file_extension": ".py",
   "mimetype": "text/x-python",
   "name": "python",
   "nbconvert_exporter": "python",
   "pygments_lexer": "ipython3",
   "version": "3.5.2"
  }
 },
 "nbformat": 4,
 "nbformat_minor": 1
}
