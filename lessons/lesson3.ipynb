{
 "cells": [
  {
   "cell_type": "markdown",
   "metadata": {},
   "source": [
    "# LESSON 3 - Flow Control (continued)\n",
    " - Continues [Chapter 2](https://automatetheboringstuff.com/chapter2/)\n",
    "    "
   ]
  },
  {
   "cell_type": "markdown",
   "metadata": {},
   "source": [
    "## While Loops:\n",
    "- One way to execute code multiple types\n",
    "- Code in the *clause* or the block, will be executed until the condition is False\n",
    "- In english, 'While this is true, do that'"
   ]
  },
  {
   "cell_type": "code",
   "execution_count": null,
   "metadata": {
    "collapsed": false
   },
   "outputs": [],
   "source": [
    "# Before we executed code manually multiple times\n",
    "countdown = 10"
   ]
  },
  {
   "cell_type": "code",
   "execution_count": null,
   "metadata": {
    "collapsed": true
   },
   "outputs": [],
   "source": [
    "if countdown > 0:\n",
    "    print(countdown)\n",
    "    countdown = countdown - 1\n",
    "else:\n",
    "    print('Blastoff!')"
   ]
  },
  {
   "cell_type": "code",
   "execution_count": null,
   "metadata": {
    "collapsed": true
   },
   "outputs": [],
   "source": [
    "%load -r 3-7 solutions/flow_control.py"
   ]
  },
  {
   "cell_type": "markdown",
   "metadata": {},
   "source": [
    "Here's a rather annoying example"
   ]
  },
  {
   "cell_type": "code",
   "execution_count": null,
   "metadata": {
    "collapsed": true
   },
   "outputs": [],
   "source": [
    "name = ''\n",
    "while name != 'your name here':\n",
    "    print('Please type your name.')\n",
    "    name = input()\n",
    "print('Thank you!')"
   ]
  },
  {
   "cell_type": "markdown",
   "metadata": {},
   "source": [
    "### Break Statement:\n",
    "- Terminates the innermost loop\n",
    "- Just a line with the word `break`"
   ]
  },
  {
   "cell_type": "markdown",
   "metadata": {},
   "source": [
    "Here's that last annoying example with a break instead"
   ]
  },
  {
   "cell_type": "code",
   "execution_count": null,
   "metadata": {
    "collapsed": false
   },
   "outputs": [],
   "source": [
    "while True:\n",
    "    print('Please type your name.')\n",
    "    name = input()\n",
    "    if name == 'your name':\n",
    "        break\n",
    "print('Thank you!')"
   ]
  },
  {
   "cell_type": "markdown",
   "metadata": {},
   "source": [
    "#### HELP I'm caught in an ifinite loop! What do I do?\n",
    "`ctrl+c` or in Jupyter notebook: Kernal > Interrupt"
   ]
  },
  {
   "cell_type": "code",
   "execution_count": null,
   "metadata": {
    "collapsed": true
   },
   "outputs": [],
   "source": [
    "while True:\n",
    "    input()"
   ]
  },
  {
   "cell_type": "markdown",
   "metadata": {},
   "source": [
    "### Continue Statement\n",
    "- Skips remainder of current *code block* or *conditional body*, and continues with the loop\n",
    "- just a simple `continue` statement by itself on a line (just like the break)"
   ]
  },
  {
   "cell_type": "markdown",
   "metadata": {},
   "source": [
    "Let's start listing all the even numbers"
   ]
  },
  {
   "cell_type": "code",
   "execution_count": null,
   "metadata": {
    "collapsed": false
   },
   "outputs": [],
   "source": [
    "i = 0\n",
    "while i < 100:\n",
    "    i += 1\n",
    "    if i%2 != 0: # Could also be: if not i%2\n",
    "        continue\n",
    "    print(i)"
   ]
  },
  {
   "cell_type": "code",
   "execution_count": null,
   "metadata": {
    "collapsed": false
   },
   "outputs": [],
   "source": [
    "# Another example:\n",
    "password = ''\n",
    "while True:\n",
    "    password = input('Enter a secure password:')\n",
    "    if len(password) < 10:\n",
    "        print('not secure enough')\n",
    "        continue\n",
    "    email = input('what is your email?')\n",
    "    # Do the signup thing\n",
    "    break\n",
    "print('Welcome to SoandSo.io')\n",
    "    "
   ]
  },
  {
   "cell_type": "markdown",
   "metadata": {
    "collapsed": true
   },
   "source": [
    "### Truthy and Falsey values\n",
    "All False values:\n",
    "- False\n",
    "- None\n",
    "- 0\n",
    "- '' (empty string)\n",
    "- (Other empty data structures)\n"
   ]
  },
  {
   "cell_type": "code",
   "execution_count": null,
   "metadata": {
    "collapsed": false,
    "scrolled": true
   },
   "outputs": [],
   "source": [
    "name = ''\n",
    "while not name:\n",
    "    print('Enter your name:')\n",
    "    name = input()\n",
    "print('How many guests will you have?')\n",
    "numOfGuests = int(input())\n",
    "if numOfGuests:\n",
    "    print('Be sure to have enough room for all your guests.') #(3)\n",
    "print('Done')"
   ]
  },
  {
   "cell_type": "code",
   "execution_count": null,
   "metadata": {
    "collapsed": false
   },
   "outputs": [],
   "source": [
    "# For loops\n",
    "# range() function\n",
    " # Maybe introduce continue/break statments here instead?"
   ]
  },
  {
   "cell_type": "markdown",
   "metadata": {},
   "source": [
    "## For Loops\n",
    "- Great for iterating over a known quantity\n",
    "- `for <variable_name> in <some_collection>:`\n",
    "- `<indented code block>`\n",
    "- `break` and `continue` work in for loops as well\n",
    "- **note:** not just for numbers. can loop over strings and other data types as well\n",
    "\n",
    "### Range Function:\n",
    "- range(number) i.e. `range(5)` generates 5 numbers (0, 1, 2, 3, 4)\n",
    "- range(start, stop): generates numbers from start up **until** stop. i.e. range(0, 5) == range(5)\n",
    "- range(start, stop, step) generates numbers from start to stop incrementing by step."
   ]
  },
  {
   "cell_type": "code",
   "execution_count": null,
   "metadata": {
    "collapsed": true
   },
   "outputs": [],
   "source": [
    "?range"
   ]
  },
  {
   "cell_type": "code",
   "execution_count": null,
   "metadata": {
    "collapsed": false
   },
   "outputs": [],
   "source": [
    "# play around with range and for loops on your own for a bit.\n",
    "for i in range(10):\n",
    "    print(i)"
   ]
  },
  {
   "cell_type": "code",
   "execution_count": null,
   "metadata": {
    "collapsed": false
   },
   "outputs": [],
   "source": [
    "total = 0\n",
    "for i in range(101):\n",
    "    total += i\n",
    "print(total)\n",
    "\n",
    "# Versus\n",
    "\n",
    "total = 0\n",
    "i = 0\n",
    "while True:\n",
    "    if i > 100:\n",
    "        break\n",
    "    total += i\n",
    "    i += 1\n",
    "print(total)\n",
    "\n",
    "# Or nicer:\n",
    "total = 0\n",
    "i = 0\n",
    "while i <= 100:\n",
    "    total += i\n",
    "    i += 1\n",
    "print(total)"
   ]
  },
  {
   "cell_type": "markdown",
   "metadata": {},
   "source": [
    "## Importing Modules\n",
    "- Not all python is available in the *global namespace*\n",
    "- Sometimes you have to import code for extra features\n",
    "- You can import code in the *Python Standard Library*, or python code written by someone else if it's installed\n",
    "- A few syntax ways to do it:\n",
    "- - `import <module> (or multiple if separated by commas)`\n",
    "- - `from <module> import <module or function>`\n",
    "- - **optional as**"
   ]
  },
  {
   "cell_type": "code",
   "execution_count": null,
   "metadata": {
    "collapsed": false
   },
   "outputs": [],
   "source": [
    "import random, math"
   ]
  },
  {
   "cell_type": "code",
   "execution_count": null,
   "metadata": {
    "collapsed": false
   },
   "outputs": [],
   "source": [
    "random_number = random.randint(1, 10)\n",
    "print(random_number)\n",
    "print(math.pi)\n",
    "print(math.ceil(1.2))"
   ]
  },
  {
   "cell_type": "markdown",
   "metadata": {
    "collapsed": true
   },
   "source": [
    "## Practice Questions\n",
    "\n",
    "1. How do you exit your program if it is stuck in an infinite loop?\n",
    "2. What is the difference between `break` and `continue`?  When can you use them?\n",
    "3. What is the difference between range(10), range(0, 10), and range(0, 10, 1) in a for loop?\n",
    "4. There is a module named 'example'.  Import the `hello` function and run it.  \n"
   ]
  },
  {
   "cell_type": "markdown",
   "metadata": {},
   "source": [
    "## Practice Problems\n",
    "1. Write a loop that sings 99 Bottles of Beer on the wall.  Last line is 'No more bottles of beer on the wall'\n",
    "2. Write another loop that does FizzBuzz for the numbers 1 to 100.\n",
    "3. Print out the letters of the alphabet along with their index (a is 1, b is 2, c is 3)"
   ]
  },
  {
   "cell_type": "markdown",
   "metadata": {},
   "source": [
    "### Bonus:\n",
    "- Write a program that takes a word (or any input) and calculates the word value according the the alphabet index created above (i.e. cat == 3 + 1 + 20 == 24)\n",
    "- What if the word has uppercase letters? Account for those in your next solution.\n",
    "- List the amount of steps the Collatz procedure takes (until it reaches 1) for every number from 1 to 10."
   ]
  },
  {
   "cell_type": "markdown",
   "metadata": {},
   "source": [
    "### Bonus solution (convert to Code cell type to run this cell)\n",
    "\n",
    "%load -r 10-20 solutions/flow_control.py"
   ]
  },
  {
   "cell_type": "code",
   "execution_count": null,
   "metadata": {
    "collapsed": true
   },
   "outputs": [],
   "source": []
  }
 ],
 "metadata": {
  "anaconda-cloud": {},
  "kernelspec": {
   "display_name": "Python [conda env:python-foundations]",
   "language": "python",
   "name": "conda-env-python-foundations-py"
  },
  "language_info": {
   "codemirror_mode": {
    "name": "ipython",
    "version": 3
   },
   "file_extension": ".py",
   "mimetype": "text/x-python",
   "name": "python",
   "nbconvert_exporter": "python",
   "pygments_lexer": "ipython3",
   "version": "3.5.2"
  }
 },
 "nbformat": 4,
 "nbformat_minor": 1
}
