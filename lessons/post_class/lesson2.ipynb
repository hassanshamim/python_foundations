{
 "cells": [
  {
   "cell_type": "markdown",
   "metadata": {
    "nbpresent": {
     "id": "d637990d-73b3-4512-9c49-4d1f95889c55"
    }
   },
   "source": [
    "# LESSON 2 - Flow Control\n",
    " - Starts [Chapter 2](https://automatetheboringstuff.com/chapter2/)\n",
    "    "
   ]
  },
  {
   "cell_type": "markdown",
   "metadata": {
    "nbpresent": {
     "id": "d04d1b70-d33f-4857-bc18-0ee3a6bab3e3"
    }
   },
   "source": [
    "# Flow Control\n",
    "- Telling your program *when* to run a line of code (not just in order)\n",
    "- Have to make decisions based on *something*\n",
    "## Example:\n",
    "![Example](https://automatetheboringstuff.com/images/000105.jpg)"
   ]
  },
  {
   "cell_type": "markdown",
   "metadata": {
    "nbpresent": {
     "id": "063b060a-658d-40d3-8924-6d13c42b67bf"
    }
   },
   "source": [
    "## Boolean Values\n",
    "- `True` and `False` (Notice the capitalization)\n",
    "\n",
    "What can we do with them?  Let's try:\n",
    "- assign to a variable\n",
    "- using as a variable\n",
    "- math operators?"
   ]
  },
  {
   "cell_type": "code",
   "execution_count": 9,
   "metadata": {
    "collapsed": false
   },
   "outputs": [],
   "source": [
    "false = False\n",
    "true = True"
   ]
  },
  {
   "cell_type": "code",
   "execution_count": null,
   "metadata": {
    "collapsed": false
   },
   "outputs": [],
   "source": [
    "false == False"
   ]
  },
  {
   "cell_type": "markdown",
   "metadata": {
    "nbpresent": {
     "id": "f7eaaae5-7214-4d78-96e8-3c6828e970b7"
    }
   },
   "source": [
    "## Comparison Operators\n",
    "Used for comparing!  Always return a Boolean Value.\n",
    "- `==` equals\n",
    "- `!=` not equals\n",
    "- `<` less than\n",
    "- `>` greater than\n",
    "- `<=` less than or equals\n",
    "- `>=` greater than or equals\n",
    "\n",
    "Let's try some!"
   ]
  },
  {
   "cell_type": "code",
   "execution_count": null,
   "metadata": {
    "collapsed": false
   },
   "outputs": [],
   "source": [
    "time_of_visit = 15\n",
    "9 < time_of_visit < 18\n",
    "9 < time_of_visit and time_of_visit < 18\n"
   ]
  },
  {
   "cell_type": "code",
   "execution_count": null,
   "metadata": {
    "collapsed": false,
    "nbpresent": {
     "id": "2d8ae656-faff-435f-8665-ecfa5f8eeb5b"
    }
   },
   "outputs": [],
   "source": [
    "5 <= 3"
   ]
  },
  {
   "cell_type": "code",
   "execution_count": null,
   "metadata": {
    "collapsed": false
   },
   "outputs": [],
   "source": [
    "4 != 3"
   ]
  },
  {
   "cell_type": "code",
   "execution_count": null,
   "metadata": {
    "collapsed": false
   },
   "outputs": [],
   "source": [
    "num_children =  0\n",
    "num_children <= 2.4"
   ]
  },
  {
   "cell_type": "code",
   "execution_count": null,
   "metadata": {
    "collapsed": false,
    "nbpresent": {
     "id": "465b49fb-8d31-4e15-b7a7-95e888b886aa"
    }
   },
   "outputs": [],
   "source": [
    "-1 != 1"
   ]
  },
  {
   "cell_type": "code",
   "execution_count": null,
   "metadata": {
    "collapsed": false,
    "nbpresent": {
     "id": "f7c518b5-5664-485e-8585-355600137783"
    }
   },
   "outputs": [],
   "source": [
    "0 >= 0"
   ]
  },
  {
   "cell_type": "code",
   "execution_count": null,
   "metadata": {
    "collapsed": true,
    "nbpresent": {
     "id": "55dac333-a04b-491a-8205-413f5a2afe34"
    }
   },
   "outputs": [],
   "source": [
    "me = 'hassan'\n",
    "other = 'bob'\n"
   ]
  },
  {
   "cell_type": "code",
   "execution_count": null,
   "metadata": {
    "collapsed": false
   },
   "outputs": [],
   "source": [
    "'Z' != 'a'"
   ]
  },
  {
   "cell_type": "code",
   "execution_count": null,
   "metadata": {
    "collapsed": false,
    "nbpresent": {
     "id": "f9f80497-29db-4593-b25c-37069cc508e2"
    }
   },
   "outputs": [],
   "source": [
    "3 == 3.0"
   ]
  },
  {
   "cell_type": "code",
   "execution_count": null,
   "metadata": {
    "collapsed": false,
    "nbpresent": {
     "id": "3e9d5396-ce36-44cf-871f-5facb130627b"
    }
   },
   "outputs": [],
   "source": [
    "3 = 3"
   ]
  },
  {
   "cell_type": "markdown",
   "metadata": {},
   "source": [
    "### Review:\n",
    "What's the difference between `=` and `==`?"
   ]
  },
  {
   "cell_type": "markdown",
   "metadata": {},
   "source": [
    "## Boolean Operators\n",
    "- **and**, **or** (Binary)\n",
    "- **not** (Unary)\n",
    "- In order of precedence: `and or not`\n",
    "\n",
    "I could explain what these do, but finding out ourselves with a truth table is just as easy."
   ]
  },
  {
   "cell_type": "code",
   "execution_count": null,
   "metadata": {
    "collapsed": false
   },
   "outputs": [],
   "source": [
    "# I'll start\n",
    "True and True"
   ]
  },
  {
   "cell_type": "code",
   "execution_count": null,
   "metadata": {
    "collapsed": false,
    "scrolled": true
   },
   "outputs": [],
   "source": [
    "False and True"
   ]
  },
  {
   "cell_type": "code",
   "execution_count": null,
   "metadata": {
    "collapsed": false
   },
   "outputs": [],
   "source": [
    "False and True"
   ]
  },
  {
   "cell_type": "raw",
   "metadata": {},
   "source": [
    "False and False"
   ]
  },
  {
   "cell_type": "code",
   "execution_count": null,
   "metadata": {
    "collapsed": false
   },
   "outputs": [],
   "source": [
    "True or True"
   ]
  },
  {
   "cell_type": "code",
   "execution_count": null,
   "metadata": {
    "collapsed": false
   },
   "outputs": [],
   "source": [
    "False or True"
   ]
  },
  {
   "cell_type": "code",
   "execution_count": null,
   "metadata": {
    "collapsed": false,
    "scrolled": true
   },
   "outputs": [],
   "source": [
    "True or False"
   ]
  },
  {
   "cell_type": "code",
   "execution_count": null,
   "metadata": {
    "collapsed": false,
    "scrolled": true
   },
   "outputs": [],
   "source": [
    "False or False"
   ]
  },
  {
   "cell_type": "code",
   "execution_count": null,
   "metadata": {
    "collapsed": false,
    "scrolled": true
   },
   "outputs": [],
   "source": [
    "not True"
   ]
  },
  {
   "cell_type": "code",
   "execution_count": null,
   "metadata": {
    "collapsed": false
   },
   "outputs": [],
   "source": [
    "not False"
   ]
  },
  {
   "cell_type": "code",
   "execution_count": null,
   "metadata": {
    "collapsed": false
   },
   "outputs": [],
   "source": [
    "age = 20\n",
    "not age > 18"
   ]
  },
  {
   "cell_type": "code",
   "execution_count": null,
   "metadata": {
    "collapsed": false
   },
   "outputs": [],
   "source": [
    "bool(3)"
   ]
  },
  {
   "cell_type": "code",
   "execution_count": null,
   "metadata": {
    "collapsed": false
   },
   "outputs": [],
   "source": [
    "bool(3.13)"
   ]
  },
  {
   "cell_type": "code",
   "execution_count": null,
   "metadata": {
    "collapsed": false
   },
   "outputs": [],
   "source": [
    "myage > 18 and len(input) != 0"
   ]
  },
  {
   "cell_type": "code",
   "execution_count": null,
   "metadata": {
    "collapsed": false
   },
   "outputs": [],
   "source": [
    "age"
   ]
  },
  {
   "cell_type": "markdown",
   "metadata": {},
   "source": [
    "### A Note on `not not` and `bool`:"
   ]
  },
  {
   "cell_type": "markdown",
   "metadata": {},
   "source": [
    "## Mixing Boolean and Comparison Operators"
   ]
  },
  {
   "cell_type": "code",
   "execution_count": 10,
   "metadata": {
    "collapsed": false
   },
   "outputs": [
    {
     "data": {
      "text/plain": [
       "True"
      ]
     },
     "execution_count": 10,
     "metadata": {},
     "output_type": "execute_result"
    }
   ],
   "source": [
    "# Abritrary example:\n",
    "(3 < 4) or (0 == 30)"
   ]
  },
  {
   "cell_type": "code",
   "execution_count": 11,
   "metadata": {
    "collapsed": false
   },
   "outputs": [
    {
     "data": {
      "text/plain": [
       "True"
      ]
     },
     "execution_count": 11,
     "metadata": {},
     "output_type": "execute_result"
    }
   ],
   "source": [
    "# Longer arbitrary example\n",
    "2 + 2 == 4 and not 2 + 2 == 5 and 2 * 2 == 2 + 2"
   ]
  },
  {
   "cell_type": "code",
   "execution_count": 12,
   "metadata": {
    "collapsed": false
   },
   "outputs": [
    {
     "data": {
      "text/plain": [
       "True"
      ]
     },
     "execution_count": 12,
     "metadata": {},
     "output_type": "execute_result"
    }
   ],
   "source": [
    "4 == 4 and  4 != 5 and 4 == 4"
   ]
  },
  {
   "cell_type": "code",
   "execution_count": 13,
   "metadata": {
    "collapsed": false
   },
   "outputs": [
    {
     "data": {
      "text/plain": [
       "True"
      ]
     },
     "execution_count": 13,
     "metadata": {},
     "output_type": "execute_result"
    }
   ],
   "source": [
    "True and not False and True"
   ]
  },
  {
   "cell_type": "code",
   "execution_count": 14,
   "metadata": {
    "collapsed": false
   },
   "outputs": [
    {
     "data": {
      "text/plain": [
       "True"
      ]
     },
     "execution_count": 14,
     "metadata": {},
     "output_type": "execute_result"
    }
   ],
   "source": [
    "True and True and True"
   ]
  },
  {
   "cell_type": "code",
   "execution_count": 16,
   "metadata": {
    "collapsed": false,
    "scrolled": true
   },
   "outputs": [
    {
     "data": {
      "text/plain": [
       "True"
      ]
     },
     "execution_count": 16,
     "metadata": {},
     "output_type": "execute_result"
    }
   ],
   "source": [
    "True and True\n"
   ]
  },
  {
   "cell_type": "code",
   "execution_count": 15,
   "metadata": {
    "collapsed": false
   },
   "outputs": [
    {
     "data": {
      "text/plain": [
       "False"
      ]
     },
     "execution_count": 15,
     "metadata": {},
     "output_type": "execute_result"
    }
   ],
   "source": [
    "(not 4) == 5"
   ]
  },
  {
   "cell_type": "code",
   "execution_count": null,
   "metadata": {
    "collapsed": false
   },
   "outputs": [],
   "source": [
    "# Longer arbitrary example\n",
    "2 + 2 == 4 and not 2 + 2 == 5 and 2 * 2 == 2 + 2"
   ]
  },
  {
   "cell_type": "code",
   "execution_count": 17,
   "metadata": {
    "collapsed": false
   },
   "outputs": [
    {
     "data": {
      "text/plain": [
       "False"
      ]
     },
     "execution_count": 17,
     "metadata": {},
     "output_type": "execute_result"
    }
   ],
   "source": [
    "# Can we eat pizza everyday?\n",
    "age_of_maturity = 18\n",
    "my_age = 9 #\n",
    "my_age >= 18 and my_age < age_of_maturity"
   ]
  },
  {
   "cell_type": "markdown",
   "metadata": {},
   "source": [
    "## Elements of Flow Control:\n",
    "1. Conditions\n",
    " - Evaluate down to a boolean (True or False)\n",
    " - One or more comparison/boolean operators\n",
    "2. Block of code\n",
    " - What gets run when condition is met\n",
    " - Separated by indentation (4 spaces by convention)\n",
    " - Can contain other conditions/blocks\n",
    " - end when indentation stops or goes back to a parent block's indendtation level"
   ]
  },
  {
   "cell_type": "code",
   "execution_count": 50,
   "metadata": {
    "collapsed": false
   },
   "outputs": [
    {
     "name": "stdout",
     "output_type": "stream",
     "text": [
      "You are not Hassan\n",
      "Almost\n"
     ]
    }
   ],
   "source": [
    "my_age = 39\n",
    "my_name = 'hassan'\n",
    "if my_name != 'Hassan':\n",
    "    print('You are not Hassan')\n",
    "    if my_age % 10 == 0:\n",
    "        print(\"But it's a big year for you eh?\")\n",
    "    elif my_age % 10 == 9:\n",
    "        print('Almost')\n",
    "    elif my_age % 10 == 8:\n",
    "        print('you are great')\n",
    "    else:\n",
    "        print(str(my_age) + \" isn't a big deal.\")\n"
   ]
  },
  {
   "cell_type": "code",
   "execution_count": 49,
   "metadata": {
    "collapsed": false
   },
   "outputs": [
    {
     "data": {
      "text/plain": [
       "5"
      ]
     },
     "execution_count": 49,
     "metadata": {},
     "output_type": "execute_result"
    }
   ],
   "source": [
    "1945 % 10"
   ]
  },
  {
   "cell_type": "code",
   "execution_count": 46,
   "metadata": {
    "collapsed": false
   },
   "outputs": [
    {
     "data": {
      "text/plain": [
       "3"
      ]
     },
     "execution_count": 46,
     "metadata": {},
     "output_type": "execute_result"
    }
   ],
   "source": [
    "1243123123223 % 10"
   ]
  },
  {
   "cell_type": "code",
   "execution_count": 35,
   "metadata": {
    "collapsed": false
   },
   "outputs": [],
   "source": [
    "if 1 == 2:\n",
    "    print('hi')"
   ]
  },
  {
   "cell_type": "markdown",
   "metadata": {},
   "source": [
    "## Flow Control Statements:\n"
   ]
  },
  {
   "cell_type": "markdown",
   "metadata": {},
   "source": [
    "- `if` - executes block when condition is `True`\n",
    "- `else` (optional) - no specific condition.  Executes if previous conditions are not met.  Is the 'fallback'\n",
    "- `elif` (optional) - follows an `if`, takes a condition.  Only checks condition if previous `if` condition was False.  Multiple `elif`s are fine."
   ]
  },
  {
   "cell_type": "markdown",
   "metadata": {},
   "source": [
    "Let's try adding an `elif` to our previous condition and output a different message if your age ends in 9"
   ]
  },
  {
   "cell_type": "code",
   "execution_count": null,
   "metadata": {
    "collapsed": true
   },
   "outputs": [],
   "source": [
    "if <expr>:\n",
    "    code_block\n",
    "elif <expr>:\n",
    "    code_block\n",
    "else:"
   ]
  },
  {
   "cell_type": "code",
   "execution_count": null,
   "metadata": {
    "collapsed": true
   },
   "outputs": [],
   "source": [
    "abababababababababa"
   ]
  },
  {
   "cell_type": "code",
   "execution_count": null,
   "metadata": {
    "collapsed": true
   },
   "outputs": [],
   "source": []
  },
  {
   "cell_type": "code",
   "execution_count": 51,
   "metadata": {
    "collapsed": false,
    "scrolled": true
   },
   "outputs": [
    {
     "name": "stdout",
     "output_type": "stream",
     "text": [
      "Guess a number between 0 and 100.\n",
      "3\n",
      "Too low!\n",
      "Guess another number\n",
      "8\n",
      "Too low!\n",
      "Guess another number\n",
      "100\n",
      "Too high!\n",
      "Guess another number\n",
      "6\n",
      "Too low!\n",
      "Guess another number\n",
      "50\n",
      "Too high!\n",
      "Guess another number\n",
      "40\n",
      "Too high!\n",
      "Guess another number\n",
      "30\n",
      "Too low!\n",
      "Guess another number\n",
      "35\n",
      "Too low!\n",
      "Guess another number\n",
      "38\n",
      "You got it!\n"
     ]
    }
   ],
   "source": [
    "import random\n",
    "guess = -1\n",
    "number = random.randrange(0, 100)\n",
    "print('Guess a number between 0 and 100.')\n",
    "guess = int(input())\n",
    "while guess != number:\n",
    "    if guess > number:\n",
    "        print('Too high!')\n",
    "        #print('The number is: ' + str(number) + '. Your guess was: ' + str(guess))\n",
    "    else:\n",
    "        print('Too low!')\n",
    "        #print('The number is' + str(number) + '. Your guess was: ' + str(guess))\n",
    "    print('Guess another number')\n",
    "    guess = int(input())\n",
    "print('You got it!')"
   ]
  },
  {
   "cell_type": "code",
   "execution_count": 52,
   "metadata": {
    "collapsed": false
   },
   "outputs": [
    {
     "name": "stdout",
     "output_type": "stream",
     "text": [
      "Too High Blake!\n"
     ]
    }
   ],
   "source": [
    "my_guese = 11\n",
    "my_number = 10\n",
    "my_name = 'Blake'\n",
    "if my_guese == my_number:\n",
    "    print('You are correct ' + str(my_name) + '!!!')\n",
    "elif my_guese > my_number:\n",
    "    print('Too High ' + str(my_name) + '!')\n",
    "elif my_guese < my_number:\n",
    "    print('Too Low ' + str(my_name) + '!')"
   ]
  },
  {
   "cell_type": "code",
   "execution_count": null,
   "metadata": {
    "collapsed": true
   },
   "outputs": [],
   "source": [
    "guess = 0\n",
    "number = 13\n",
    "# If the guess is too high\n",
    "# print 'Too high'\n",
    "# if it's too low print 'too low'\n",
    "# if it's correct, print 'Correct!'\n"
   ]
  },
  {
   "cell_type": "code",
   "execution_count": null,
   "metadata": {
    "collapsed": true
   },
   "outputs": [],
   "source": [
    "x < 3 or x > 5"
   ]
  },
  {
   "cell_type": "markdown",
   "metadata": {},
   "source": [
    "## Practice Questions\n",
    "1. Name the two types of Boolean Values\n",
    "2. Write a Truth table of the boolean operators (every possible combination of boolean values to an operator and what they evaluate to)\n",
    "3. What do the following expressions evaluate to?\n",
    "\n",
    "\n",
    "- (5 > 4) and (3 == 5)\n",
    "- not (5 > 4)\n",
    "- (5 > 4) or (3 == 5)\n",
    "- not ((5 > 4) or (3 == 5))\n",
    "- (True and True) and (True == False)\n",
    "- (not False) or (not True)\n",
    "\n",
    "\n",
    "1. Explain what a condition is and where you would use one.\n",
    "2. 8. Identify the three blocks in this code:\n",
    "\n",
    "```\n",
    "spam = 0\n",
    "if spam == 10:\n",
    "    print('eggs')\n",
    "    if spam > 5:\n",
    "        print('bacon')\n",
    "    else:\n",
    "        print('ham')\n",
    "    print('spam')\n",
    "print('spam')\n",
    "```\n",
    "\n",
    "3. What's the difference between an assignment operator and the equal operator?  Which is an expression?"
   ]
  },
  {
   "cell_type": "markdown",
   "metadata": {},
   "source": [
    "## Practice Problems"
   ]
  },
  {
   "cell_type": "markdown",
   "metadata": {},
   "source": [
    "#### Collatz Conjecture\n",
    "![relevant xkcd](https://imgs.xkcd.com/comics/collatz_conjecture.png)\n",
    "\n",
    "Actually says:\n",
    "1. If the number is even, divide it by two.\n",
    "2. If the number is odd, triple it and add one.\n",
    "3. This process will always end in the number `1`"
   ]
  },
  {
   "cell_type": "code",
   "execution_count": 58,
   "metadata": {
    "collapsed": true
   },
   "outputs": [],
   "source": [
    "x = 10"
   ]
  },
  {
   "cell_type": "code",
   "execution_count": 67,
   "metadata": {
    "collapsed": false
   },
   "outputs": [
    {
     "name": "stdout",
     "output_type": "stream",
     "text": [
      "1\n"
     ]
    }
   ],
   "source": [
    "x = x - 1\n",
    "print(x)"
   ]
  },
  {
   "cell_type": "markdown",
   "metadata": {},
   "source": [
    "#### FizzBuzz\n",
    "For the numbers 1 through 100 (we'll learn this part soon)\n",
    "- If the number is divisible by 3 print 'Fizz'\n",
    "- If the number is divisible by 5 print 'Buzz'\n",
    "- If the number is divisible by both 3 and 5 print 'FizzBuzz'\n",
    "- otherwis, print the number"
   ]
  },
  {
   "cell_type": "markdown",
   "metadata": {
    "collapsed": true
   },
   "source": [
    "#### Leap Year:\n",
    "1. Years  divisible by 4 are leap year.\n",
    "2. Years divisble by 100 are common years\n",
    "3. Years divisible by 400 are always leap years\n"
   ]
  },
  {
   "cell_type": "code",
   "execution_count": 53,
   "metadata": {
    "collapsed": true
   },
   "outputs": [],
   "source": [
    "# 2000 is a leap year\n",
    "# 1900 is NOT a leap year\n",
    "# 1999 is NOT a leap year\n",
    "# 2008 is a leap year"
   ]
  },
  {
   "cell_type": "code",
   "execution_count": null,
   "metadata": {
    "collapsed": true
   },
   "outputs": [],
   "source": [
    "year % 50 == 0"
   ]
  },
  {
   "cell_type": "code",
   "execution_count": 55,
   "metadata": {
    "collapsed": false
   },
   "outputs": [
    {
     "data": {
      "text/plain": [
       "False"
      ]
     },
     "execution_count": 55,
     "metadata": {},
     "output_type": "execute_result"
    }
   ],
   "source": [
    "1999 % 3 == 0"
   ]
  },
  {
   "cell_type": "code",
   "execution_count": null,
   "metadata": {
    "collapsed": true
   },
   "outputs": [],
   "source": [
    "# Below are two approaches to the leap year solution"
   ]
  },
  {
   "cell_type": "code",
   "execution_count": null,
   "metadata": {
    "collapsed": true
   },
   "outputs": [],
   "source": [
    "%load -r 24-34 solutions/flow_control.py "
   ]
  },
  {
   "cell_type": "code",
   "execution_count": null,
   "metadata": {
    "collapsed": true
   },
   "outputs": [],
   "source": [
    "%load -r 36-45 solutions/flow_control.py "
   ]
  }
 ],
 "metadata": {
  "anaconda-cloud": {},
  "kernelspec": {
   "display_name": "Python [conda env:python-foundations]",
   "language": "python",
   "name": "conda-env-python-foundations-py"
  },
  "language_info": {
   "codemirror_mode": {
    "name": "ipython",
    "version": 3
   },
   "file_extension": ".py",
   "mimetype": "text/x-python",
   "name": "python",
   "nbconvert_exporter": "python",
   "pygments_lexer": "ipython3",
   "version": "3.5.2"
  }
 },
 "nbformat": 4,
 "nbformat_minor": 1
}
