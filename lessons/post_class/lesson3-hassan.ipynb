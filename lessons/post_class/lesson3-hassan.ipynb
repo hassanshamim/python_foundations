{
 "cells": [
  {
   "cell_type": "markdown",
   "metadata": {},
   "source": [
    "# LESSON 3 - Flow Control (continued)\n",
    " - Continues [Chapter 2](https://automatetheboringstuff.com/chapter2/)\n",
    "    "
   ]
  },
  {
   "cell_type": "markdown",
   "metadata": {},
   "source": [
    "## While Loops:\n",
    "- One way to execute code multiple times\n",
    "- Code in the *clause* or the block, will be executed until the condition is False\n",
    "- In english, 'While this is true, do that'\n",
    "- Same syntax as previous conditionals:\n",
    "\n",
    "`while <condition>:\n",
    "    <code block>\n",
    "`"
   ]
  },
  {
   "cell_type": "code",
   "execution_count": 19,
   "metadata": {
    "collapsed": false
   },
   "outputs": [],
   "source": [
    "# Before we executed code manually multiple times\n",
    "countdown = 10"
   ]
  },
  {
   "cell_type": "code",
   "execution_count": 20,
   "metadata": {
    "collapsed": false
   },
   "outputs": [
    {
     "name": "stdout",
     "output_type": "stream",
     "text": [
      "10\n",
      "hello there\n"
     ]
    }
   ],
   "source": [
    "if countdown > 0:\n",
    "    print(countdown)\n",
    "    countdown = countdown - 1\n",
    "    print('hello there')\n",
    "else:\n",
    "    print('Blastoff!')"
   ]
  },
  {
   "cell_type": "code",
   "execution_count": 13,
   "metadata": {
    "collapsed": true
   },
   "outputs": [
    {
     "name": "stdout",
     "output_type": "stream",
     "text": [
      "10\n",
      "9\n",
      "8\n",
      "7\n",
      "6\n",
      "5\n",
      "4\n",
      "3\n",
      "2\n",
      "1\n",
      "Blastoff!\n"
     ]
    }
   ],
   "source": [
    "# %load -r 3-7 solutions/flow_control.py\n",
    "countdown = 10\n",
    "while countdown > 0:\n",
    "    print(countdown)\n",
    "    countdown = countdown - 1\n",
    "print('Blastoff!')"
   ]
  },
  {
   "cell_type": "markdown",
   "metadata": {},
   "source": [
    "The above, visualized on pythontutor.com"
   ]
  },
  {
   "cell_type": "code",
   "execution_count": 21,
   "metadata": {
    "collapsed": false
   },
   "outputs": [
    {
     "data": {
      "text/html": [
       "<iframe width=\"800\" height=\"500\" frameborder=\"0\" src=\"http://pythontutor.com/iframe-embed.html#code=countdown%20%3D%2010%0Awhile%20countdown%20%3E%200%3A%0A%20%20%20%20print(countdown%29%0A%20%20%20%20countdown%20%3D%20countdown%20-%201%0A%20%20%20%20print('Blastoff!'%29&codeDivHeight=400&codeDivWidth=350&cumulative=false&curInstr=0&heapPrimitives=false&origin=opt-frontend.js&py=3&rawInputLstJSON=%5B%5D&textReferences=false\"> </iframe>"
      ],
      "text/plain": [
       "<IPython.core.display.HTML object>"
      ]
     },
     "metadata": {},
     "output_type": "display_data"
    }
   ],
   "source": [
    "%%html\n",
    "<iframe width=\"800\" height=\"500\" frameborder=\"0\" src=\"http://pythontutor.com/iframe-embed.html#code=countdown%20%3D%2010%0Awhile%20countdown%20%3E%200%3A%0A%20%20%20%20print(countdown%29%0A%20%20%20%20countdown%20%3D%20countdown%20-%201%0A%20%20%20%20print('Blastoff!'%29&codeDivHeight=400&codeDivWidth=350&cumulative=false&curInstr=0&heapPrimitives=false&origin=opt-frontend.js&py=3&rawInputLstJSON=%5B%5D&textReferences=false\"> </iframe>"
   ]
  },
  {
   "cell_type": "markdown",
   "metadata": {},
   "source": [
    "[Thonny](http://thonny.cs.ut.ee/) is another good tool to visualize Python code execution."
   ]
  },
  {
   "cell_type": "markdown",
   "metadata": {},
   "source": [
    "Here's a rather annoying example for you to play with.  Replace the string with your name.  Before you run it ask yourelf:\n",
    "- What is this while loop doing? (what happens inside the code block, aka the indented portion)\n",
    "- When will this loop stop executing?"
   ]
  },
  {
   "cell_type": "code",
   "execution_count": 22,
   "metadata": {
    "collapsed": true
   },
   "outputs": [
    {
     "name": "stdout",
     "output_type": "stream",
     "text": [
      "Please type your name.\n",
      "bob\n",
      "Please type your name.\n",
      "bob\n",
      "Please type your name.\n",
      "stop\n",
      "Please type your name.\n",
      "no\n",
      "Please type your name.\n",
      "help\n",
      "Please type your name.\n",
      "hassan\n",
      "Thank you!\n"
     ]
    }
   ],
   "source": [
    "name = ''\n",
    "while name != 'hassan':\n",
    "    print('Please type your name.')\n",
    "    name = input()\n",
    "print('Thank you!')\n"
   ]
  },
  {
   "cell_type": "markdown",
   "metadata": {},
   "source": [
    "### Break Statement:\n",
    "- Terminates the innermost loop\n",
    "- Just a line with the word `break`"
   ]
  },
  {
   "cell_type": "markdown",
   "metadata": {},
   "source": [
    "Here's that last annoying example with a break instead."
   ]
  },
  {
   "cell_type": "code",
   "execution_count": 24,
   "metadata": {
    "collapsed": false
   },
   "outputs": [
    {
     "name": "stdout",
     "output_type": "stream",
     "text": [
      "Please type your name.\n",
      "hassan\n",
      "Thank you!\n"
     ]
    }
   ],
   "source": [
    "while True: # This is never False, and would continue looping forever without a break statement\n",
    "    print('Please type your name.')\n",
    "    name = input()\n",
    "    if name == 'hassan':\n",
    "        break\n",
    "print('Thank you!')"
   ]
  },
  {
   "cell_type": "markdown",
   "metadata": {},
   "source": [
    "#### HELP I'm caught in an ifinite loop! What do I do?\n",
    "`ctrl+c` or in Jupyter notebook: Kernal > Interrupt"
   ]
  },
  {
   "cell_type": "code",
   "execution_count": 27,
   "metadata": {
    "collapsed": false
   },
   "outputs": [
    {
     "data": {
      "text/plain": [
       "2"
      ]
     },
     "execution_count": 27,
     "metadata": {},
     "output_type": "execute_result"
    }
   ],
   "source": [
    "1+1"
   ]
  },
  {
   "cell_type": "code",
   "execution_count": 26,
   "metadata": {
    "collapsed": true
   },
   "outputs": [
    {
     "name": "stdout",
     "output_type": "stream",
     "text": [
      "hasan\n",
      "hastoen\n",
      "arsotnaroestn\n",
      "help\n",
      "stop\n"
     ]
    },
    {
     "ename": "KeyboardInterrupt",
     "evalue": "",
     "output_type": "error",
     "traceback": [
      "\u001b[0;31m---------------------------------------------------------------------------\u001b[0m",
      "\u001b[0;31mKeyboardInterrupt\u001b[0m                         Traceback (most recent call last)",
      "\u001b[0;32m/Users/avendesora/anaconda/envs/python-foundations/lib/python3.5/site-packages/ipykernel/kernelbase.py\u001b[0m in \u001b[0;36m_input_request\u001b[0;34m(self, prompt, ident, parent, password)\u001b[0m\n\u001b[1;32m    714\u001b[0m             \u001b[0;32mtry\u001b[0m\u001b[0;34m:\u001b[0m\u001b[0;34m\u001b[0m\u001b[0m\n\u001b[0;32m--> 715\u001b[0;31m                 \u001b[0mident\u001b[0m\u001b[0;34m,\u001b[0m \u001b[0mreply\u001b[0m \u001b[0;34m=\u001b[0m \u001b[0mself\u001b[0m\u001b[0;34m.\u001b[0m\u001b[0msession\u001b[0m\u001b[0;34m.\u001b[0m\u001b[0mrecv\u001b[0m\u001b[0;34m(\u001b[0m\u001b[0mself\u001b[0m\u001b[0;34m.\u001b[0m\u001b[0mstdin_socket\u001b[0m\u001b[0;34m,\u001b[0m \u001b[0;36m0\u001b[0m\u001b[0;34m)\u001b[0m\u001b[0;34m\u001b[0m\u001b[0m\n\u001b[0m\u001b[1;32m    716\u001b[0m             \u001b[0;32mexcept\u001b[0m \u001b[0mException\u001b[0m\u001b[0;34m:\u001b[0m\u001b[0;34m\u001b[0m\u001b[0m\n",
      "\u001b[0;32m/Users/avendesora/anaconda/envs/python-foundations/lib/python3.5/site-packages/jupyter_client/session.py\u001b[0m in \u001b[0;36mrecv\u001b[0;34m(self, socket, mode, content, copy)\u001b[0m\n\u001b[1;32m    738\u001b[0m         \u001b[0;32mtry\u001b[0m\u001b[0;34m:\u001b[0m\u001b[0;34m\u001b[0m\u001b[0m\n\u001b[0;32m--> 739\u001b[0;31m             \u001b[0mmsg_list\u001b[0m \u001b[0;34m=\u001b[0m \u001b[0msocket\u001b[0m\u001b[0;34m.\u001b[0m\u001b[0mrecv_multipart\u001b[0m\u001b[0;34m(\u001b[0m\u001b[0mmode\u001b[0m\u001b[0;34m,\u001b[0m \u001b[0mcopy\u001b[0m\u001b[0;34m=\u001b[0m\u001b[0mcopy\u001b[0m\u001b[0;34m)\u001b[0m\u001b[0;34m\u001b[0m\u001b[0m\n\u001b[0m\u001b[1;32m    740\u001b[0m         \u001b[0;32mexcept\u001b[0m \u001b[0mzmq\u001b[0m\u001b[0;34m.\u001b[0m\u001b[0mZMQError\u001b[0m \u001b[0;32mas\u001b[0m \u001b[0me\u001b[0m\u001b[0;34m:\u001b[0m\u001b[0;34m\u001b[0m\u001b[0m\n",
      "\u001b[0;32m/Users/avendesora/anaconda/envs/python-foundations/lib/python3.5/site-packages/zmq/sugar/socket.py\u001b[0m in \u001b[0;36mrecv_multipart\u001b[0;34m(self, flags, copy, track)\u001b[0m\n\u001b[1;32m    394\u001b[0m         \"\"\"\n\u001b[0;32m--> 395\u001b[0;31m         \u001b[0mparts\u001b[0m \u001b[0;34m=\u001b[0m \u001b[0;34m[\u001b[0m\u001b[0mself\u001b[0m\u001b[0;34m.\u001b[0m\u001b[0mrecv\u001b[0m\u001b[0;34m(\u001b[0m\u001b[0mflags\u001b[0m\u001b[0;34m,\u001b[0m \u001b[0mcopy\u001b[0m\u001b[0;34m=\u001b[0m\u001b[0mcopy\u001b[0m\u001b[0;34m,\u001b[0m \u001b[0mtrack\u001b[0m\u001b[0;34m=\u001b[0m\u001b[0mtrack\u001b[0m\u001b[0;34m)\u001b[0m\u001b[0;34m]\u001b[0m\u001b[0;34m\u001b[0m\u001b[0m\n\u001b[0m\u001b[1;32m    396\u001b[0m         \u001b[0;31m# have first part already, only loop while more to receive\u001b[0m\u001b[0;34m\u001b[0m\u001b[0;34m\u001b[0m\u001b[0m\n",
      "\u001b[0;32mzmq/backend/cython/socket.pyx\u001b[0m in \u001b[0;36mzmq.backend.cython.socket.Socket.recv (zmq/backend/cython/socket.c:7291)\u001b[0;34m()\u001b[0m\n",
      "\u001b[0;32mzmq/backend/cython/socket.pyx\u001b[0m in \u001b[0;36mzmq.backend.cython.socket.Socket.recv (zmq/backend/cython/socket.c:7089)\u001b[0;34m()\u001b[0m\n",
      "\u001b[0;32mzmq/backend/cython/socket.pyx\u001b[0m in \u001b[0;36mzmq.backend.cython.socket._recv_copy (zmq/backend/cython/socket.c:2041)\u001b[0;34m()\u001b[0m\n",
      "\u001b[0;32m/Users/avendesora/anaconda/envs/python-foundations/lib/python3.5/site-packages/zmq/backend/cython/checkrc.pxd\u001b[0m in \u001b[0;36mzmq.backend.cython.checkrc._check_rc (zmq/backend/cython/socket.c:9229)\u001b[0;34m()\u001b[0m\n",
      "\u001b[0;31mKeyboardInterrupt\u001b[0m: ",
      "\nDuring handling of the above exception, another exception occurred:\n",
      "\u001b[0;31mKeyboardInterrupt\u001b[0m                         Traceback (most recent call last)",
      "\u001b[0;32m<ipython-input-26-7ab35543864f>\u001b[0m in \u001b[0;36m<module>\u001b[0;34m()\u001b[0m\n\u001b[1;32m      1\u001b[0m \u001b[0;32mwhile\u001b[0m \u001b[0;32mTrue\u001b[0m\u001b[0;34m:\u001b[0m\u001b[0;34m\u001b[0m\u001b[0m\n\u001b[0;32m----> 2\u001b[0;31m     \u001b[0minput\u001b[0m\u001b[0;34m(\u001b[0m\u001b[0;34m)\u001b[0m\u001b[0;34m\u001b[0m\u001b[0m\n\u001b[0m",
      "\u001b[0;32m/Users/avendesora/anaconda/envs/python-foundations/lib/python3.5/site-packages/ipykernel/kernelbase.py\u001b[0m in \u001b[0;36mraw_input\u001b[0;34m(self, prompt)\u001b[0m\n\u001b[1;32m    688\u001b[0m             \u001b[0mself\u001b[0m\u001b[0;34m.\u001b[0m\u001b[0m_parent_ident\u001b[0m\u001b[0;34m,\u001b[0m\u001b[0;34m\u001b[0m\u001b[0m\n\u001b[1;32m    689\u001b[0m             \u001b[0mself\u001b[0m\u001b[0;34m.\u001b[0m\u001b[0m_parent_header\u001b[0m\u001b[0;34m,\u001b[0m\u001b[0;34m\u001b[0m\u001b[0m\n\u001b[0;32m--> 690\u001b[0;31m             \u001b[0mpassword\u001b[0m\u001b[0;34m=\u001b[0m\u001b[0;32mFalse\u001b[0m\u001b[0;34m,\u001b[0m\u001b[0;34m\u001b[0m\u001b[0m\n\u001b[0m\u001b[1;32m    691\u001b[0m         )\n\u001b[1;32m    692\u001b[0m \u001b[0;34m\u001b[0m\u001b[0m\n",
      "\u001b[0;32m/Users/avendesora/anaconda/envs/python-foundations/lib/python3.5/site-packages/ipykernel/kernelbase.py\u001b[0m in \u001b[0;36m_input_request\u001b[0;34m(self, prompt, ident, parent, password)\u001b[0m\n\u001b[1;32m    718\u001b[0m             \u001b[0;32mexcept\u001b[0m \u001b[0mKeyboardInterrupt\u001b[0m\u001b[0;34m:\u001b[0m\u001b[0;34m\u001b[0m\u001b[0m\n\u001b[1;32m    719\u001b[0m                 \u001b[0;31m# re-raise KeyboardInterrupt, to truncate traceback\u001b[0m\u001b[0;34m\u001b[0m\u001b[0;34m\u001b[0m\u001b[0m\n\u001b[0;32m--> 720\u001b[0;31m                 \u001b[0;32mraise\u001b[0m \u001b[0mKeyboardInterrupt\u001b[0m\u001b[0;34m\u001b[0m\u001b[0m\n\u001b[0m\u001b[1;32m    721\u001b[0m             \u001b[0;32melse\u001b[0m\u001b[0;34m:\u001b[0m\u001b[0;34m\u001b[0m\u001b[0m\n\u001b[1;32m    722\u001b[0m                 \u001b[0;32mbreak\u001b[0m\u001b[0;34m\u001b[0m\u001b[0m\n",
      "\u001b[0;31mKeyboardInterrupt\u001b[0m: "
     ]
    }
   ],
   "source": [
    "while True:\n",
    "    input()"
   ]
  },
  {
   "cell_type": "code",
   "execution_count": 28,
   "metadata": {
    "collapsed": false
   },
   "outputs": [
    {
     "data": {
      "text/plain": [
       "2"
      ]
     },
     "execution_count": 28,
     "metadata": {},
     "output_type": "execute_result"
    }
   ],
   "source": [
    "1+1"
   ]
  },
  {
   "cell_type": "code",
   "execution_count": null,
   "metadata": {
    "collapsed": true
   },
   "outputs": [],
   "source": []
  },
  {
   "cell_type": "code",
   "execution_count": null,
   "metadata": {
    "collapsed": true
   },
   "outputs": [],
   "source": []
  },
  {
   "cell_type": "code",
   "execution_count": null,
   "metadata": {
    "collapsed": true
   },
   "outputs": [],
   "source": []
  },
  {
   "cell_type": "code",
   "execution_count": null,
   "metadata": {
    "collapsed": true
   },
   "outputs": [],
   "source": []
  },
  {
   "cell_type": "code",
   "execution_count": null,
   "metadata": {
    "collapsed": true
   },
   "outputs": [],
   "source": []
  },
  {
   "cell_type": "markdown",
   "metadata": {},
   "source": [
    "### Continue Statement\n",
    "- Skips **remainder** of current *code block* or *conditional body*, and continues with the loop\n",
    "- just a simple `continue` statement by itself on a line (just like the break)"
   ]
  },
  {
   "cell_type": "markdown",
   "metadata": {},
   "source": [
    "Let's start listing all the even numbers"
   ]
  },
  {
   "cell_type": "code",
   "execution_count": 29,
   "metadata": {
    "collapsed": true
   },
   "outputs": [
    {
     "name": "stdout",
     "output_type": "stream",
     "text": [
      "2\n",
      "4\n",
      "6\n",
      "8\n",
      "10\n",
      "12\n",
      "14\n",
      "16\n",
      "18\n",
      "20\n",
      "22\n",
      "24\n",
      "26\n",
      "28\n",
      "30\n",
      "32\n",
      "34\n",
      "36\n",
      "38\n",
      "40\n",
      "42\n",
      "44\n",
      "46\n",
      "48\n",
      "50\n",
      "52\n",
      "54\n",
      "56\n",
      "58\n",
      "60\n",
      "62\n",
      "64\n",
      "66\n",
      "68\n",
      "70\n",
      "72\n",
      "74\n",
      "76\n",
      "78\n",
      "80\n",
      "82\n",
      "84\n",
      "86\n",
      "88\n",
      "90\n",
      "92\n",
      "94\n",
      "96\n",
      "98\n",
      "100\n"
     ]
    }
   ],
   "source": [
    "i = 0\n",
    "while i < 100:\n",
    "    i += 1\n",
    "    if i%2 != 0: # Could also be: if not i%2\n",
    "        continue       \n",
    "    print(i)"
   ]
  },
  {
   "cell_type": "code",
   "execution_count": 35,
   "metadata": {
    "collapsed": false
   },
   "outputs": [
    {
     "name": "stdout",
     "output_type": "stream",
     "text": [
      "Enter a secure password:123456789\n",
      "not secure enough\n",
      "Enter a secure password:1234567890\n",
      "what is your email?aoresnt\n",
      "Welcome to SoandSo.io\n"
     ]
    }
   ],
   "source": [
    "# Another example:\n",
    "password = ''\n",
    "while True:\n",
    "    password = input('Enter a secure password:')\n",
    "    if len(password) < 10:\n",
    "        print('not secure enough')\n",
    "        continue\n",
    "    email = input('what is your email?')\n",
    "    # Do the signup thing\n",
    "    break\n",
    "print('Welcome to SoandSo.io')"
   ]
  },
  {
   "cell_type": "code",
   "execution_count": 33,
   "metadata": {
    "collapsed": false
   },
   "outputs": [],
   "source": [
    "?input"
   ]
  },
  {
   "cell_type": "markdown",
   "metadata": {
    "collapsed": true
   },
   "source": [
    "### Truthy and Falsey values\n",
    "\n",
    "While most values (strings, numbers, etc) are True, \"empty\" values are considered False.  Why?  Because it\n",
    "makes code easier to read, as well as some more advanced reasons. (This is Python-specific, not all languages consider 0 and \"\" false)\n",
    "\n",
    "#### All False values:\n",
    "- False\n",
    "- None\n",
    "- 0\n",
    "- '' (empty string)\n",
    "- (Other empty data structures)\n",
    "\n",
    "What about 0.0?  How can you find out?\n"
   ]
  },
  {
   "cell_type": "code",
   "execution_count": 44,
   "metadata": {
    "collapsed": true
   },
   "outputs": [
    {
     "ename": "NameError",
     "evalue": "name 'arst' is not defined",
     "output_type": "error",
     "traceback": [
      "\u001b[0;31m---------------------------------------------------------------------------\u001b[0m",
      "\u001b[0;31mNameError\u001b[0m                                 Traceback (most recent call last)",
      "\u001b[0;32m<ipython-input-44-420f418206bb>\u001b[0m in \u001b[0;36m<module>\u001b[0;34m()\u001b[0m\n\u001b[0;32m----> 1\u001b[0;31m \u001b[0marst\u001b[0m\u001b[0;34m\u001b[0m\u001b[0m\n\u001b[0m",
      "\u001b[0;31mNameError\u001b[0m: name 'arst' is not defined"
     ]
    }
   ],
   "source": [
    "arst"
   ]
  },
  {
   "cell_type": "code",
   "execution_count": 43,
   "metadata": {
    "collapsed": false,
    "scrolled": true
   },
   "outputs": [
    {
     "name": "stdout",
     "output_type": "stream",
     "text": [
      "Enter your name:\n",
      "hassan\n",
      "How many guests will you have?\n",
      "100\n",
      "Be sure to have enough room for all your guests.\n",
      "Done\n",
      "42\n"
     ]
    }
   ],
   "source": [
    "name = ''\n",
    "while not name:\n",
    "    print('Enter your name:')\n",
    "    fav_number = 42\n",
    "    name = input()\n",
    "print('How many guests will you have?')\n",
    "numOfGuests = int(input())\n",
    "if numOfGuests:\n",
    "    print('Be sure to have enough room for all your guests.') #(3)\n",
    "print('Done')\n",
    "\n",
    "print(fav_number)"
   ]
  },
  {
   "cell_type": "code",
   "execution_count": 60,
   "metadata": {
    "collapsed": false
   },
   "outputs": [
    {
     "data": {
      "text/plain": [
       "3"
      ]
     },
     "execution_count": 60,
     "metadata": {},
     "output_type": "execute_result"
    }
   ],
   "source": [
    "1 + 2"
   ]
  },
  {
   "cell_type": "code",
   "execution_count": 57,
   "metadata": {
    "collapsed": false
   },
   "outputs": [
    {
     "data": {
      "text/plain": [
       "'st'"
      ]
     },
     "execution_count": 57,
     "metadata": {},
     "output_type": "execute_result"
    }
   ],
   "source": [
    "name = 'st'\n",
    "name"
   ]
  },
  {
   "cell_type": "code",
   "execution_count": 58,
   "metadata": {
    "collapsed": false
   },
   "outputs": [
    {
     "data": {
      "text/plain": [
       "False"
      ]
     },
     "execution_count": 58,
     "metadata": {},
     "output_type": "execute_result"
    }
   ],
   "source": [
    "not name"
   ]
  },
  {
   "cell_type": "markdown",
   "metadata": {},
   "source": [
    "## For Loops\n",
    "- Great for iterating over a known quantity\n",
    "- `for <variable_name> in <some_collection>:`\n",
    "- `<indented code block>`\n",
    "- `break` and `continue` work in for loops as well\n",
    "- **note:** not just for numbers. can loop over strings and other data types as well\n",
    "\n",
    "### Range Function:\n",
    "- range(number) i.e. `range(5)` generates 5 numbers (0, 1, 2, 3, 4)\n",
    "- range(start, stop): generates numbers from start up **until** stop. i.e. range(0, 5) == range(5)\n",
    "- range(start, stop, step) generates numbers from start to stop incrementing by step."
   ]
  },
  {
   "cell_type": "markdown",
   "metadata": {},
   "source": [
    "```python\n",
    "for x in <something>:\n",
    "    something\n",
    "```"
   ]
  },
  {
   "cell_type": "code",
   "execution_count": 62,
   "metadata": {
    "collapsed": false
   },
   "outputs": [
    {
     "data": {
      "text/plain": [
       "range(0, 10)"
      ]
     },
     "execution_count": 62,
     "metadata": {},
     "output_type": "execute_result"
    }
   ],
   "source": [
    "range(10)"
   ]
  },
  {
   "cell_type": "code",
   "execution_count": 63,
   "metadata": {
    "collapsed": false,
    "scrolled": true
   },
   "outputs": [
    {
     "name": "stdout",
     "output_type": "stream",
     "text": [
      "0\n",
      "1\n",
      "2\n",
      "3\n",
      "4\n",
      "5\n",
      "6\n",
      "7\n",
      "8\n",
      "9\n"
     ]
    }
   ],
   "source": [
    "# play around with range and for loops on your own for a bit.\n",
    "for i in range(0, 10):\n",
    "    print(i)"
   ]
  },
  {
   "cell_type": "code",
   "execution_count": 64,
   "metadata": {
    "collapsed": false
   },
   "outputs": [
    {
     "name": "stdout",
     "output_type": "stream",
     "text": [
      "5050\n"
     ]
    }
   ],
   "source": [
    "total = 0\n",
    "for i in range(101):\n",
    "    total += i\n",
    "print(total)"
   ]
  },
  {
   "cell_type": "code",
   "execution_count": 65,
   "metadata": {
    "collapsed": false
   },
   "outputs": [
    {
     "name": "stdout",
     "output_type": "stream",
     "text": [
      "5050\n",
      "5050\n",
      "5050\n"
     ]
    }
   ],
   "source": [
    "total = 0\n",
    "for i in range(101):\n",
    "    total += i\n",
    "print(total)\n",
    "\n",
    "# Versus\n",
    "\n",
    "total = 0\n",
    "i = 0\n",
    "while True:\n",
    "    if i > 100:\n",
    "        break\n",
    "    total += i\n",
    "    i += 1\n",
    "print(total)\n",
    "\n",
    "# Or nicer:\n",
    "total = 0\n",
    "i = 0\n",
    "while i <= 100:\n",
    "    total += i\n",
    "    i = i + 1\n",
    "print(total)"
   ]
  },
  {
   "cell_type": "code",
   "execution_count": 109,
   "metadata": {
    "collapsed": false
   },
   "outputs": [
    {
     "name": "stdout",
     "output_type": "stream",
     "text": [
      "1\n",
      "2\n",
      "3\n",
      "4\n"
     ]
    }
   ],
   "source": [
    "for something in '1234567890':\n",
    "    if something == '5':\n",
    "        break\n",
    "    print(something)\n"
   ]
  },
  {
   "cell_type": "code",
   "execution_count": 110,
   "metadata": {
    "collapsed": false
   },
   "outputs": [
    {
     "data": {
      "text/plain": [
       "'5'"
      ]
     },
     "execution_count": 110,
     "metadata": {},
     "output_type": "execute_result"
    }
   ],
   "source": [
    "something"
   ]
  },
  {
   "cell_type": "code",
   "execution_count": 100,
   "metadata": {
    "collapsed": false
   },
   "outputs": [
    {
     "data": {
      "text/plain": [
       "'456'"
      ]
     },
     "execution_count": 100,
     "metadata": {},
     "output_type": "execute_result"
    }
   ],
   "source": [
    "name = \"123456789\"\n",
    "name[3:6]"
   ]
  },
  {
   "cell_type": "code",
   "execution_count": 89,
   "metadata": {
    "collapsed": false
   },
   "outputs": [],
   "source": [
    "for i in range(0, -5):\n",
    "    print(i)"
   ]
  },
  {
   "cell_type": "markdown",
   "metadata": {},
   "source": [
    "## Importing Modules\n",
    "- Not all python is available in the *global namespace*\n",
    "- Sometimes you have to import code for extra features\n",
    "- You can import code in the *Python Standard Library*, or python code written by someone else if it's installed\n",
    "- A few syntax ways to do it:\n",
    "- - `import <module> (or multiple if separated by commas)`\n",
    "- - `from <module> import <module or function>`\n",
    "- - **optional as**"
   ]
  },
  {
   "cell_type": "code",
   "execution_count": 112,
   "metadata": {
    "collapsed": false
   },
   "outputs": [
    {
     "data": {
      "text/plain": [
       "True"
      ]
     },
     "execution_count": 112,
     "metadata": {},
     "output_type": "execute_result"
    }
   ],
   "source": []
  },
  {
   "cell_type": "code",
   "execution_count": 115,
   "metadata": {
    "collapsed": false
   },
   "outputs": [],
   "source": [
    "import random, math, csv"
   ]
  },
  {
   "cell_type": "code",
   "execution_count": 138,
   "metadata": {
    "collapsed": false
   },
   "outputs": [
    {
     "ename": "ImportError",
     "evalue": "No module named 'future'",
     "output_type": "error",
     "traceback": [
      "\u001b[0;31m---------------------------------------------------------------------------\u001b[0m",
      "\u001b[0;31mImportError\u001b[0m                               Traceback (most recent call last)",
      "\u001b[0;32m<ipython-input-138-b62c757bd17d>\u001b[0m in \u001b[0;36m<module>\u001b[0;34m()\u001b[0m\n\u001b[0;32m----> 1\u001b[0;31m \u001b[0;32mfrom\u001b[0m \u001b[0mfuture\u001b[0m \u001b[0;32mimport\u001b[0m \u001b[0mbraces\u001b[0m\u001b[0;34m\u001b[0m\u001b[0m\n\u001b[0m",
      "\u001b[0;31mImportError\u001b[0m: No module named 'future'"
     ]
    }
   ],
   "source": [
    "from future import braces"
   ]
  },
  {
   "cell_type": "code",
   "execution_count": 133,
   "metadata": {
    "collapsed": false
   },
   "outputs": [
    {
     "data": {
      "text/plain": [
       "10"
      ]
     },
     "execution_count": 133,
     "metadata": {},
     "output_type": "execute_result"
    }
   ],
   "source": [
    "some_random_number(1, 10)"
   ]
  },
  {
   "cell_type": "code",
   "execution_count": null,
   "metadata": {
    "collapsed": false
   },
   "outputs": [],
   "source": [
    "random_number = random.randint(1, 10)\n",
    "print(random_number)\n",
    "print(math.pi)\n",
    "print(math.ceil(1.2))\n",
    "\n",
    "math?"
   ]
  },
  {
   "cell_type": "code",
   "execution_count": 145,
   "metadata": {
    "collapsed": false
   },
   "outputs": [
    {
     "ename": "SyntaxError",
     "evalue": "invalid syntax (<ipython-input-145-46aaec71cd02>, line 2)",
     "output_type": "error",
     "traceback": [
      "\u001b[0;36m  File \u001b[0;32m\"<ipython-input-145-46aaec71cd02>\"\u001b[0;36m, line \u001b[0;32m2\u001b[0m\n\u001b[0;31m    random.\u001b[0m\n\u001b[0m           ^\u001b[0m\n\u001b[0;31mSyntaxError\u001b[0m\u001b[0;31m:\u001b[0m invalid syntax\n"
     ]
    }
   ],
   "source": [
    "import math\n",
    "random."
   ]
  },
  {
   "cell_type": "code",
   "execution_count": 146,
   "metadata": {
    "collapsed": true
   },
   "outputs": [],
   "source": [
    "import random"
   ]
  },
  {
   "cell_type": "code",
   "execution_count": 150,
   "metadata": {
    "collapsed": false
   },
   "outputs": [
    {
     "data": {
      "text/plain": [
       "5"
      ]
     },
     "execution_count": 150,
     "metadata": {},
     "output_type": "execute_result"
    }
   ],
   "source": [
    "x = 5\n",
    "x"
   ]
  },
  {
   "cell_type": "code",
   "execution_count": null,
   "metadata": {
    "collapsed": true
   },
   "outputs": [],
   "source": [
    "'abcdef'\n",
    " 123456"
   ]
  },
  {
   "cell_type": "code",
   "execution_count": 163,
   "metadata": {
    "collapsed": true
   },
   "outputs": [],
   "source": [
    "bottles = 99"
   ]
  },
  {
   "cell_type": "code",
   "execution_count": 164,
   "metadata": {
    "collapsed": false
   },
   "outputs": [
    {
     "name": "stdout",
     "output_type": "stream",
     "text": [
      "hello)\n",
      "hello)\n",
      "hello)\n",
      "hello)\n",
      "hello)\n"
     ]
    }
   ],
   "source": [
    "for i in range(5):\n",
    "    print('hello')"
   ]
  },
  {
   "cell_type": "code",
   "execution_count": null,
   "metadata": {
    "collapsed": true
   },
   "outputs": [],
   "source": []
  },
  {
   "cell_type": "code",
   "execution_count": 155,
   "metadata": {
    "collapsed": false
   },
   "outputs": [
    {
     "data": {
      "text/plain": [
       "range(10, 100)"
      ]
     },
     "execution_count": 155,
     "metadata": {},
     "output_type": "execute_result"
    }
   ],
   "source": [
    "range(10, 100)"
   ]
  },
  {
   "cell_type": "markdown",
   "metadata": {
    "collapsed": true
   },
   "source": [
    "## Practice Questions\n",
    "\n",
    "1. How do you exit your program if it is stuck in an infinite loop?\n",
    "2. What is the difference between `break` and `continue`?  When can you use them?\n",
    "3. What is the difference between range(10), range(0, 10), and range(0, 10, 1) when used in a for loop?\n",
    "4. There is a module named 'example'.  Import the `hello` function and run it.  \n",
    "5. Why would you ever want to use a break statement instead of adding a condition to `while`?\n"
   ]
  },
  {
   "cell_type": "markdown",
   "metadata": {},
   "source": [
    "## Practice Problems\n",
    "1. Write a loop that sings 99 Bottles of Beer on the wall.  Last line is 'No more bottles of beer on the wall'\n",
    "2. Write another loop that does FizzBuzz for the numbers 1 to 100.\n",
    "3. Print out the letters of the alphabet along with their index (a is 1, b is 2, c is 3)\n",
    "4. Write a loop that prompts the user to enter a password twice.  If both passwords are the same it prints \"Access Granted\" otherwise it reprompts them to enter their password again twice."
   ]
  },
  {
   "cell_type": "code",
   "execution_count": 162,
   "metadata": {
    "collapsed": false
   },
   "outputs": [
    {
     "name": "stdout",
     "output_type": "stream",
     "text": [
      "99 bottles of beer on the wall. 99 bottles of beer. Take one down, pass it around 98 bottles of beer on the wall. \n",
      "98 bottles of beer on the wall. 98 bottles of beer. Take one down, pass it around 97 bottles of beer on the wall. \n",
      "97 bottles of beer on the wall. 97 bottles of beer. Take one down, pass it around 96 bottles of beer on the wall. \n",
      "96 bottles of beer on the wall. 96 bottles of beer. Take one down, pass it around 95 bottles of beer on the wall. \n",
      "95 bottles of beer on the wall. 95 bottles of beer. Take one down, pass it around 94 bottles of beer on the wall. \n",
      "94 bottles of beer on the wall. 94 bottles of beer. Take one down, pass it around 93 bottles of beer on the wall. \n",
      "93 bottles of beer on the wall. 93 bottles of beer. Take one down, pass it around 92 bottles of beer on the wall. \n",
      "92 bottles of beer on the wall. 92 bottles of beer. Take one down, pass it around 91 bottles of beer on the wall. \n",
      "91 bottles of beer on the wall. 91 bottles of beer. Take one down, pass it around 90 bottles of beer on the wall. \n",
      "90 bottles of beer on the wall. 90 bottles of beer. Take one down, pass it around 89 bottles of beer on the wall. \n",
      "89 bottles of beer on the wall. 89 bottles of beer. Take one down, pass it around 88 bottles of beer on the wall. \n",
      "88 bottles of beer on the wall. 88 bottles of beer. Take one down, pass it around 87 bottles of beer on the wall. \n",
      "87 bottles of beer on the wall. 87 bottles of beer. Take one down, pass it around 86 bottles of beer on the wall. \n",
      "86 bottles of beer on the wall. 86 bottles of beer. Take one down, pass it around 85 bottles of beer on the wall. \n",
      "85 bottles of beer on the wall. 85 bottles of beer. Take one down, pass it around 84 bottles of beer on the wall. \n",
      "84 bottles of beer on the wall. 84 bottles of beer. Take one down, pass it around 83 bottles of beer on the wall. \n",
      "83 bottles of beer on the wall. 83 bottles of beer. Take one down, pass it around 82 bottles of beer on the wall. \n",
      "82 bottles of beer on the wall. 82 bottles of beer. Take one down, pass it around 81 bottles of beer on the wall. \n",
      "81 bottles of beer on the wall. 81 bottles of beer. Take one down, pass it around 80 bottles of beer on the wall. \n",
      "80 bottles of beer on the wall. 80 bottles of beer. Take one down, pass it around 79 bottles of beer on the wall. \n",
      "79 bottles of beer on the wall. 79 bottles of beer. Take one down, pass it around 78 bottles of beer on the wall. \n",
      "78 bottles of beer on the wall. 78 bottles of beer. Take one down, pass it around 77 bottles of beer on the wall. \n",
      "77 bottles of beer on the wall. 77 bottles of beer. Take one down, pass it around 76 bottles of beer on the wall. \n",
      "76 bottles of beer on the wall. 76 bottles of beer. Take one down, pass it around 75 bottles of beer on the wall. \n",
      "75 bottles of beer on the wall. 75 bottles of beer. Take one down, pass it around 74 bottles of beer on the wall. \n",
      "74 bottles of beer on the wall. 74 bottles of beer. Take one down, pass it around 73 bottles of beer on the wall. \n",
      "73 bottles of beer on the wall. 73 bottles of beer. Take one down, pass it around 72 bottles of beer on the wall. \n",
      "72 bottles of beer on the wall. 72 bottles of beer. Take one down, pass it around 71 bottles of beer on the wall. \n",
      "71 bottles of beer on the wall. 71 bottles of beer. Take one down, pass it around 70 bottles of beer on the wall. \n",
      "70 bottles of beer on the wall. 70 bottles of beer. Take one down, pass it around 69 bottles of beer on the wall. \n",
      "69 bottles of beer on the wall. 69 bottles of beer. Take one down, pass it around 68 bottles of beer on the wall. \n",
      "68 bottles of beer on the wall. 68 bottles of beer. Take one down, pass it around 67 bottles of beer on the wall. \n",
      "67 bottles of beer on the wall. 67 bottles of beer. Take one down, pass it around 66 bottles of beer on the wall. \n",
      "66 bottles of beer on the wall. 66 bottles of beer. Take one down, pass it around 65 bottles of beer on the wall. \n",
      "65 bottles of beer on the wall. 65 bottles of beer. Take one down, pass it around 64 bottles of beer on the wall. \n",
      "64 bottles of beer on the wall. 64 bottles of beer. Take one down, pass it around 63 bottles of beer on the wall. \n",
      "63 bottles of beer on the wall. 63 bottles of beer. Take one down, pass it around 62 bottles of beer on the wall. \n",
      "62 bottles of beer on the wall. 62 bottles of beer. Take one down, pass it around 61 bottles of beer on the wall. \n",
      "61 bottles of beer on the wall. 61 bottles of beer. Take one down, pass it around 60 bottles of beer on the wall. \n",
      "60 bottles of beer on the wall. 60 bottles of beer. Take one down, pass it around 59 bottles of beer on the wall. \n",
      "59 bottles of beer on the wall. 59 bottles of beer. Take one down, pass it around 58 bottles of beer on the wall. \n",
      "58 bottles of beer on the wall. 58 bottles of beer. Take one down, pass it around 57 bottles of beer on the wall. \n",
      "57 bottles of beer on the wall. 57 bottles of beer. Take one down, pass it around 56 bottles of beer on the wall. \n",
      "56 bottles of beer on the wall. 56 bottles of beer. Take one down, pass it around 55 bottles of beer on the wall. \n",
      "55 bottles of beer on the wall. 55 bottles of beer. Take one down, pass it around 54 bottles of beer on the wall. \n",
      "54 bottles of beer on the wall. 54 bottles of beer. Take one down, pass it around 53 bottles of beer on the wall. \n",
      "53 bottles of beer on the wall. 53 bottles of beer. Take one down, pass it around 52 bottles of beer on the wall. \n",
      "52 bottles of beer on the wall. 52 bottles of beer. Take one down, pass it around 51 bottles of beer on the wall. \n",
      "51 bottles of beer on the wall. 51 bottles of beer. Take one down, pass it around 50 bottles of beer on the wall. \n",
      "50 bottles of beer on the wall. 50 bottles of beer. Take one down, pass it around 49 bottles of beer on the wall. \n",
      "49 bottles of beer on the wall. 49 bottles of beer. Take one down, pass it around 48 bottles of beer on the wall. \n",
      "48 bottles of beer on the wall. 48 bottles of beer. Take one down, pass it around 47 bottles of beer on the wall. \n",
      "47 bottles of beer on the wall. 47 bottles of beer. Take one down, pass it around 46 bottles of beer on the wall. \n",
      "46 bottles of beer on the wall. 46 bottles of beer. Take one down, pass it around 45 bottles of beer on the wall. \n",
      "45 bottles of beer on the wall. 45 bottles of beer. Take one down, pass it around 44 bottles of beer on the wall. \n",
      "44 bottles of beer on the wall. 44 bottles of beer. Take one down, pass it around 43 bottles of beer on the wall. \n",
      "43 bottles of beer on the wall. 43 bottles of beer. Take one down, pass it around 42 bottles of beer on the wall. \n",
      "42 bottles of beer on the wall. 42 bottles of beer. Take one down, pass it around 41 bottles of beer on the wall. \n",
      "41 bottles of beer on the wall. 41 bottles of beer. Take one down, pass it around 40 bottles of beer on the wall. \n",
      "40 bottles of beer on the wall. 40 bottles of beer. Take one down, pass it around 39 bottles of beer on the wall. \n",
      "39 bottles of beer on the wall. 39 bottles of beer. Take one down, pass it around 38 bottles of beer on the wall. \n",
      "38 bottles of beer on the wall. 38 bottles of beer. Take one down, pass it around 37 bottles of beer on the wall. \n",
      "37 bottles of beer on the wall. 37 bottles of beer. Take one down, pass it around 36 bottles of beer on the wall. \n",
      "36 bottles of beer on the wall. 36 bottles of beer. Take one down, pass it around 35 bottles of beer on the wall. \n",
      "35 bottles of beer on the wall. 35 bottles of beer. Take one down, pass it around 34 bottles of beer on the wall. \n",
      "34 bottles of beer on the wall. 34 bottles of beer. Take one down, pass it around 33 bottles of beer on the wall. \n",
      "33 bottles of beer on the wall. 33 bottles of beer. Take one down, pass it around 32 bottles of beer on the wall. \n",
      "32 bottles of beer on the wall. 32 bottles of beer. Take one down, pass it around 31 bottles of beer on the wall. \n",
      "31 bottles of beer on the wall. 31 bottles of beer. Take one down, pass it around 30 bottles of beer on the wall. \n",
      "30 bottles of beer on the wall. 30 bottles of beer. Take one down, pass it around 29 bottles of beer on the wall. \n",
      "29 bottles of beer on the wall. 29 bottles of beer. Take one down, pass it around 28 bottles of beer on the wall. \n",
      "28 bottles of beer on the wall. 28 bottles of beer. Take one down, pass it around 27 bottles of beer on the wall. \n",
      "27 bottles of beer on the wall. 27 bottles of beer. Take one down, pass it around 26 bottles of beer on the wall. \n",
      "26 bottles of beer on the wall. 26 bottles of beer. Take one down, pass it around 25 bottles of beer on the wall. \n",
      "25 bottles of beer on the wall. 25 bottles of beer. Take one down, pass it around 24 bottles of beer on the wall. \n",
      "24 bottles of beer on the wall. 24 bottles of beer. Take one down, pass it around 23 bottles of beer on the wall. \n",
      "23 bottles of beer on the wall. 23 bottles of beer. Take one down, pass it around 22 bottles of beer on the wall. \n",
      "22 bottles of beer on the wall. 22 bottles of beer. Take one down, pass it around 21 bottles of beer on the wall. \n",
      "21 bottles of beer on the wall. 21 bottles of beer. Take one down, pass it around 20 bottles of beer on the wall. \n",
      "20 bottles of beer on the wall. 20 bottles of beer. Take one down, pass it around 19 bottles of beer on the wall. \n",
      "19 bottles of beer on the wall. 19 bottles of beer. Take one down, pass it around 18 bottles of beer on the wall. \n",
      "18 bottles of beer on the wall. 18 bottles of beer. Take one down, pass it around 17 bottles of beer on the wall. \n",
      "17 bottles of beer on the wall. 17 bottles of beer. Take one down, pass it around 16 bottles of beer on the wall. \n",
      "16 bottles of beer on the wall. 16 bottles of beer. Take one down, pass it around 15 bottles of beer on the wall. \n",
      "15 bottles of beer on the wall. 15 bottles of beer. Take one down, pass it around 14 bottles of beer on the wall. \n",
      "14 bottles of beer on the wall. 14 bottles of beer. Take one down, pass it around 13 bottles of beer on the wall. \n",
      "13 bottles of beer on the wall. 13 bottles of beer. Take one down, pass it around 12 bottles of beer on the wall. \n",
      "12 bottles of beer on the wall. 12 bottles of beer. Take one down, pass it around 11 bottles of beer on the wall. \n",
      "11 bottles of beer on the wall. 11 bottles of beer. Take one down, pass it around 10 bottles of beer on the wall. \n",
      "10 bottles of beer on the wall. 10 bottles of beer. Take one down, pass it around 9 bottles of beer on the wall. \n",
      "9 bottles of beer on the wall. 9 bottles of beer. Take one down, pass it around 8 bottles of beer on the wall. \n",
      "8 bottles of beer on the wall. 8 bottles of beer. Take one down, pass it around 7 bottles of beer on the wall. \n",
      "7 bottles of beer on the wall. 7 bottles of beer. Take one down, pass it around 6 bottles of beer on the wall. \n",
      "6 bottles of beer on the wall. 6 bottles of beer. Take one down, pass it around 5 bottles of beer on the wall. \n",
      "5 bottles of beer on the wall. 5 bottles of beer. Take one down, pass it around 4 bottles of beer on the wall. \n",
      "4 bottles of beer on the wall. 4 bottles of beer. Take one down, pass it around 3 bottles of beer on the wall. \n",
      "3 bottles of beer on the wall. 3 bottles of beer. Take one down, pass it around 2 bottles of beer on the wall. \n",
      "2 bottles of beer on the wall. 2 bottles of beer. Take one down, pass it around 1 bottles of beer on the wall. \n",
      "1 bottles of beer on the wall. 1 bottles of beer. Take one down, pass it around 0 bottles of beer on the wall. \n"
     ]
    }
   ],
   "source": [
    "# Practice Problem 1\n",
    "verse1 = \" bottles of beer on the wall. \"\n",
    "verse2 = \" bottles of beer.\"\n",
    "# /"
   ]
  },
  {
   "cell_type": "markdown",
   "metadata": {},
   "source": [
    "### Bonus:\n",
    "1. Write a program that takes a word (or any input) and calculates the word value according the the alphabet index created above (i.e. cat == 3 + 1 + 20 == 24)\n",
    "2. What if the word has uppercase letters? Account for those in your next solution.\n",
    "3. List the amount of steps the Collatz procedure takes (until it reaches 1) for every number from 1 to 10."
   ]
  },
  {
   "cell_type": "markdown",
   "metadata": {},
   "source": [
    "### Bonus solution #1 (convert to Code cell type to run this cell)\n",
    "\n",
    "%load -r 10-20 solutions/flow_control.py"
   ]
  }
 ],
 "metadata": {
  "anaconda-cloud": {},
  "kernelspec": {
   "display_name": "Python [conda env:python-foundations]",
   "language": "python",
   "name": "conda-env-python-foundations-py"
  },
  "language_info": {
   "codemirror_mode": {
    "name": "ipython",
    "version": 3
   },
   "file_extension": ".py",
   "mimetype": "text/x-python",
   "name": "python",
   "nbconvert_exporter": "python",
   "pygments_lexer": "ipython3",
   "version": "3.5.2"
  }
 },
 "nbformat": 4,
 "nbformat_minor": 1
}
