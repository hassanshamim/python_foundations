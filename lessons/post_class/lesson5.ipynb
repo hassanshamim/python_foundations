{
 "cells": [
  {
   "cell_type": "markdown",
   "metadata": {},
   "source": [
    "### Corresponds to second half of [Chapter 3](https://automatetheboringstuff.com/chapter3/)"
   ]
  },
  {
   "cell_type": "markdown",
   "metadata": {},
   "source": [
    "## Global vs Local Scope\n",
    "\n",
    "Variables defined *inside* a function are said to be *local* to that function.  They exist in the local scope. (aka local variable)\n",
    "\n",
    "Variables defined *outside* of any functions are in the *global* scope. (aka global variable)\n",
    "\n",
    "Variables must be local **or** global in scope.  They cannot be both.\n"
   ]
  },
  {
   "cell_type": "markdown",
   "metadata": {},
   "source": [
    "### Okay.. but what *is* scope?\n",
    "\n",
    "It's like a container for variables.  If that scope is destroyed, all the variables inside get deleted (aka garbage collection).\n",
    "\n",
    "When you run a python program (i.e. python some_script.py) it creates a global scope for said program.  When the program terminates, all the computer memory it takes up is freed.  Otherwise, the next time you run this program all the variables would be set to what they were previously.\n",
    "\n",
    "When you execute a function, it creates a new local scope for that function.  Any variables created inside the function are forgotten when the function returns."
   ]
  },
  {
   "cell_type": "markdown",
   "metadata": {},
   "source": [
    "### And they come with some rules:\n",
    "- Code in the global scope cannot use any local variables.\n",
    "- However, a local scope can access global variables.\n",
    "- Code in a function’s local scope cannot use variables in any other local scope.\n",
    "- You can use the same name for different variables if they are in different scopes. That is, there can be a local variable named foo and a global variable also named foo."
   ]
  },
  {
   "cell_type": "markdown",
   "metadata": {},
   "source": [
    "### Why?\n",
    "\n",
    "It's safer.  Imagine all variables are global.  Now you have to be careful not to ever name two variables the same thing.  Common variable names (like `i`, `x`, `total`, `result`, etc) would potentially get overwritten by different parts of your code (and at different times, now that we know control flow.)  Also, we wouldn't be able to safely import code to run without checking that all the variable names used are different than ours.\n",
    "\n",
    "Global variables are fine, but it's safer to use local variables when possible.\n",
    "\n",
    "#### Let's see some examples\n",
    "Before you run the examples, take a moment to guess if it works and what the output would be.  If it doesn't work - why?\n",
    "\n",
    "If you want more detail, paste the examples into [Python Visualizer](http://www.pythontutor.com/visualize.html#mode=edit) or Thonny"
   ]
  },
  {
   "cell_type": "code",
   "execution_count": 5,
   "metadata": {
    "collapsed": false
   },
   "outputs": [
    {
     "ename": "NameError",
     "evalue": "name 'baz' is not defined",
     "output_type": "error",
     "traceback": [
      "\u001b[0;31m---------------------------------------------------------------------------\u001b[0m",
      "\u001b[0;31mNameError\u001b[0m                                 Traceback (most recent call last)",
      "\u001b[0;32m<ipython-input-5-099d3b9e1bad>\u001b[0m in \u001b[0;36m<module>\u001b[0;34m()\u001b[0m\n\u001b[1;32m      9\u001b[0m \u001b[0;34m\u001b[0m\u001b[0m\n\u001b[1;32m     10\u001b[0m \u001b[0;34m\u001b[0m\u001b[0m\n\u001b[0;32m---> 11\u001b[0;31m \u001b[0mbaz\u001b[0m\u001b[0;34m(\u001b[0m\u001b[0;34m)\u001b[0m\u001b[0;34m\u001b[0m\u001b[0m\n\u001b[0m",
      "\u001b[0;31mNameError\u001b[0m: name 'baz' is not defined"
     ]
    }
   ],
   "source": [
    "# Access a local variable from global scope.  \n",
    "def foo():\n",
    "    bar = 'anything'\n",
    "    def baz():\n",
    "        print('hi')\n",
    "    baz()\n",
    "    \n",
    "    return bar\n",
    "    \n",
    "\n",
    "baz()\n"
   ]
  },
  {
   "cell_type": "code",
   "execution_count": 6,
   "metadata": {
    "collapsed": false
   },
   "outputs": [
    {
     "name": "stdout",
     "output_type": "stream",
     "text": [
      "100\n"
     ]
    }
   ],
   "source": [
    "# Access a local variable from another local scope\n",
    "def foo():\n",
    "    thing1 = 100\n",
    "    bar()\n",
    "    print(thing1)\n",
    "\n",
    "def bar():\n",
    "    thing1 = 0\n",
    "    thing2 = 0\n",
    "    \n",
    "foo()"
   ]
  },
  {
   "cell_type": "code",
   "execution_count": 8,
   "metadata": {
    "collapsed": false
   },
   "outputs": [
    {
     "ename": "NameError",
     "evalue": "name 'arst' is not defined",
     "output_type": "error",
     "traceback": [
      "\u001b[0;31m---------------------------------------------------------------------------\u001b[0m",
      "\u001b[0;31mNameError\u001b[0m                                 Traceback (most recent call last)",
      "\u001b[0;32m<ipython-input-8-d01cd72549f2>\u001b[0m in \u001b[0;36m<module>\u001b[0;34m()\u001b[0m\n\u001b[1;32m      5\u001b[0m \u001b[0mname\u001b[0m \u001b[0;34m=\u001b[0m \u001b[0;34m'Albert'\u001b[0m\u001b[0;34m\u001b[0m\u001b[0m\n\u001b[1;32m      6\u001b[0m \u001b[0;34m\u001b[0m\u001b[0m\n\u001b[0;32m----> 7\u001b[0;31m \u001b[0mintroduce\u001b[0m\u001b[0;34m(\u001b[0m\u001b[0;34m)\u001b[0m\u001b[0;34m\u001b[0m\u001b[0m\n\u001b[0m\u001b[1;32m      8\u001b[0m \u001b[0;31m#print(name)\u001b[0m\u001b[0;34m\u001b[0m\u001b[0;34m\u001b[0m\u001b[0m\n",
      "\u001b[0;32m<ipython-input-8-d01cd72549f2>\u001b[0m in \u001b[0;36mintroduce\u001b[0;34m()\u001b[0m\n\u001b[1;32m      1\u001b[0m \u001b[0;31m# Access Global variable from local scope\u001b[0m\u001b[0;34m\u001b[0m\u001b[0;34m\u001b[0m\u001b[0m\n\u001b[1;32m      2\u001b[0m \u001b[0;32mdef\u001b[0m \u001b[0mintroduce\u001b[0m\u001b[0;34m(\u001b[0m\u001b[0;34m)\u001b[0m\u001b[0;34m:\u001b[0m\u001b[0;34m\u001b[0m\u001b[0m\n\u001b[0;32m----> 3\u001b[0;31m     \u001b[0mprint\u001b[0m\u001b[0;34m(\u001b[0m\u001b[0;34m'hello, my name is'\u001b[0m\u001b[0;34m,\u001b[0m \u001b[0marst\u001b[0m\u001b[0;34m)\u001b[0m\u001b[0;34m\u001b[0m\u001b[0m\n\u001b[0m\u001b[1;32m      4\u001b[0m \u001b[0;34m\u001b[0m\u001b[0m\n\u001b[1;32m      5\u001b[0m \u001b[0mname\u001b[0m \u001b[0;34m=\u001b[0m \u001b[0;34m'Albert'\u001b[0m\u001b[0;34m\u001b[0m\u001b[0m\n",
      "\u001b[0;31mNameError\u001b[0m: name 'arst' is not defined"
     ]
    }
   ],
   "source": [
    "# Access Global variable from local scope\n",
    "def introduce():\n",
    "    print('hello, my name is', arst)\n",
    "    \n",
    "name = 'Albert'\n",
    "    \n",
    "#print(name)"
   ]
  },
  {
   "cell_type": "code",
   "execution_count": 9,
   "metadata": {
    "collapsed": false
   },
   "outputs": [
    {
     "name": "stdout",
     "output_type": "stream",
     "text": [
      "global variable\n",
      "bar variable\n",
      "foo variable\n",
      "bar variable\n",
      "global variable\n"
     ]
    }
   ],
   "source": [
    "# Local and Global variable with the same name\n",
    "var = 'global variable'\n",
    "\n",
    "def foo():\n",
    "    var = 'foo variable'\n",
    "    print(var)\n",
    "    \n",
    "def bar():\n",
    "    var = 'bar variable'\n",
    "    foo()\n",
    "    print(var)\n",
    "    \n",
    "print(var)\n"
   ]
  },
  {
   "cell_type": "code",
   "execution_count": null,
   "metadata": {
    "collapsed": true
   },
   "outputs": [],
   "source": [
    "from calendar.py import leap_year"
   ]
  },
  {
   "cell_type": "code",
   "execution_count": null,
   "metadata": {
    "collapsed": true
   },
   "outputs": [],
   "source": [
    "python calendar.py\n",
    "\n",
    "\n",
    "if __name__ == '__main__':\n",
    "    x = 3\n",
    "    leap_year(x)"
   ]
  },
  {
   "cell_type": "markdown",
   "metadata": {},
   "source": [
    "## Modifying Global variables from a local scope\n",
    "\n",
    "\"from a local scope\" == \"inside a function\"\n",
    "\n",
    "Sometimes you need to do this rather than passing in the variable as an argument and returning it.\n",
    "\n",
    "You can acheive this by using the `global` statement, followed by the variable name, inside a function.\n",
    "\n",
    "**Caveat**: This can get messy.  I don't see the pattern used often but it's useful to know."
   ]
  },
  {
   "cell_type": "code",
   "execution_count": 10,
   "metadata": {
    "collapsed": false
   },
   "outputs": [
    {
     "name": "stdout",
     "output_type": "stream",
     "text": [
      "original name: Bob\n",
      "changed name: Phillip\n"
     ]
    }
   ],
   "source": [
    "name = 'Bob'\n",
    "print('original name:', name)\n",
    "def change_name():\n",
    "    global name\n",
    "    name = 'Phillip'\n",
    "\n",
    "\n",
    "change_name(b)\n",
    "print('changed name:', name)"
   ]
  },
  {
   "cell_type": "markdown",
   "metadata": {},
   "source": [
    "## Rules for determining the scope of a variable\n",
    "1. If a variable is being used in the global scope (that is, outside of all functions), then it is always a global variable.\n",
    "\n",
    "2. If there is a global statement for that variable in a function, it is a global variable.\n",
    "\n",
    "3. Otherwise, if the variable is used in an assignment statement in the function, it is a local variable.\n",
    "\n",
    "4. But if the variable is not used in an assignment statement, it is a global variable."
   ]
  },
  {
   "cell_type": "code",
   "execution_count": null,
   "metadata": {
    "collapsed": false
   },
   "outputs": [],
   "source": [
    "def foo():\n",
    "    global thing\n",
    "    thing = 'foo' # this is the global\n",
    "\n",
    "def bar():\n",
    "    thing = 'bar' # this is a local\n",
    "\n",
    "def baz():\n",
    "    print(thing) # this is the global\n",
    "\n",
    "thing = 'global' # this is the global\n",
    "foo()\n",
    "print(thing)"
   ]
  },
  {
   "cell_type": "markdown",
   "metadata": {},
   "source": [
    "### Note\n",
    "If you try to use a local variable in a function before you assign a value to it, as in the following program, Python will give you an error."
   ]
  },
  {
   "cell_type": "code",
   "execution_count": 12,
   "metadata": {
    "collapsed": false
   },
   "outputs": [
    {
     "name": "stdout",
     "output_type": "stream",
     "text": [
      "hello from the global scope\n"
     ]
    }
   ],
   "source": [
    "def foo():\n",
    "    print(thing)\n",
    "    thing = 'hello from foo'\n",
    "    len('abc')\n",
    "\n",
    "thing = 'hello from the global scope'\n",
    "foo()"
   ]
  },
  {
   "cell_type": "markdown",
   "metadata": {},
   "source": [
    "## Confused?\n",
    "\n",
    "You can think of scopes like Russian nesting dolls.  If you're inside the smallest doll you look inside there before going to the next biggest doll, etc.\n",
    "\n",
    "Or you could think about it like rooms in a house.  House is the global scope, and each room is a local scope.  If you are in the kitchen() funtion and you are looking for the `eggs` variable, you would look in the kitchen first before looking around the house."
   ]
  },
  {
   "cell_type": "markdown",
   "metadata": {},
   "source": [
    "## Functions as 'black boxes'\n",
    "\n",
    "Because functions try to affect the rest of your program as little as possible (by introducing new scope) you can often just think of them as some black box.  You care what you put in (parameters) and what comes out (returned values), but you don't need to know what exactly goes on inside.\n",
    "\n",
    "Because of this we can use functions and code written by someone else just by knowing *what* the function does.  We don't need to know *how* it does it.\n",
    "\n",
    "Hence, when using a new package or module we read the documentation for use, not the source code's implementation."
   ]
  },
  {
   "cell_type": "markdown",
   "metadata": {},
   "source": [
    "## Exception Handling\n",
    "\n",
    "So far, if we encounter an error (aka *exception*) our entire program crashes.  This is bad for real-world programs.  Instead we can detect errors and take appropriate actions to handle them and continue with our program."
   ]
  },
  {
   "cell_type": "code",
   "execution_count": 43,
   "metadata": {
    "collapsed": false
   },
   "outputs": [
    {
     "name": "stdout",
     "output_type": "stream",
     "text": [
      "how old are you?234\n",
      "how old is your friend?cat\n"
     ]
    },
    {
     "ename": "ValueError",
     "evalue": "invalid literal for int() with base 10: 'cat'",
     "output_type": "error",
     "traceback": [
      "\u001b[0;31m---------------------------------------------------------------------------\u001b[0m",
      "\u001b[0;31mValueError\u001b[0m                                Traceback (most recent call last)",
      "\u001b[0;32m<ipython-input-43-3290141df7ed>\u001b[0m in \u001b[0;36m<module>\u001b[0;34m()\u001b[0m\n\u001b[1;32m      5\u001b[0m     \u001b[0mprint\u001b[0m\u001b[0;34m(\u001b[0m\u001b[0;34m'you are'\u001b[0m\u001b[0;34m,\u001b[0m \u001b[0mcompared\u001b[0m\u001b[0;34m,\u001b[0m \u001b[0;34m'times older than your friend'\u001b[0m\u001b[0;34m)\u001b[0m\u001b[0;34m\u001b[0m\u001b[0m\n\u001b[1;32m      6\u001b[0m \u001b[0;34m\u001b[0m\u001b[0m\n\u001b[0;32m----> 7\u001b[0;31m \u001b[0mcompare_ages\u001b[0m\u001b[0;34m(\u001b[0m\u001b[0;34m)\u001b[0m\u001b[0;34m\u001b[0m\u001b[0m\n\u001b[0m",
      "\u001b[0;32m<ipython-input-43-3290141df7ed>\u001b[0m in \u001b[0;36mcompare_ages\u001b[0;34m()\u001b[0m\n\u001b[1;32m      1\u001b[0m \u001b[0;32mdef\u001b[0m \u001b[0mcompare_ages\u001b[0m\u001b[0;34m(\u001b[0m\u001b[0;34m)\u001b[0m\u001b[0;34m:\u001b[0m\u001b[0;34m\u001b[0m\u001b[0m\n\u001b[1;32m      2\u001b[0m     \u001b[0myour_age\u001b[0m \u001b[0;34m=\u001b[0m \u001b[0mint\u001b[0m\u001b[0;34m(\u001b[0m\u001b[0minput\u001b[0m\u001b[0;34m(\u001b[0m\u001b[0;34m'how old are you?'\u001b[0m\u001b[0;34m)\u001b[0m\u001b[0;34m)\u001b[0m\u001b[0;34m\u001b[0m\u001b[0m\n\u001b[0;32m----> 3\u001b[0;31m     \u001b[0mother_age\u001b[0m \u001b[0;34m=\u001b[0m \u001b[0mint\u001b[0m\u001b[0;34m(\u001b[0m\u001b[0minput\u001b[0m\u001b[0;34m(\u001b[0m\u001b[0;34m'how old is your friend?'\u001b[0m\u001b[0;34m)\u001b[0m\u001b[0;34m)\u001b[0m\u001b[0;34m\u001b[0m\u001b[0m\n\u001b[0m\u001b[1;32m      4\u001b[0m     \u001b[0mcompared\u001b[0m \u001b[0;34m=\u001b[0m \u001b[0myour_age\u001b[0m \u001b[0;34m/\u001b[0m \u001b[0mother_age\u001b[0m\u001b[0;34m\u001b[0m\u001b[0m\n\u001b[1;32m      5\u001b[0m     \u001b[0mprint\u001b[0m\u001b[0;34m(\u001b[0m\u001b[0;34m'you are'\u001b[0m\u001b[0;34m,\u001b[0m \u001b[0mcompared\u001b[0m\u001b[0;34m,\u001b[0m \u001b[0;34m'times older than your friend'\u001b[0m\u001b[0;34m)\u001b[0m\u001b[0;34m\u001b[0m\u001b[0m\n",
      "\u001b[0;31mValueError\u001b[0m: invalid literal for int() with base 10: 'cat'"
     ]
    }
   ],
   "source": [
    "def compare_ages():\n",
    "    your_age = int(input('how old are you?'))\n",
    "    other_age = int(input('how old is your friend?'))\n",
    "    compared = your_age / other_age\n",
    "    print('you are', compared, 'times older than your friend')\n",
    "\n",
    "compare_ages()"
   ]
  },
  {
   "cell_type": "code",
   "execution_count": 7,
   "metadata": {
    "collapsed": false
   },
   "outputs": [
    {
     "name": "stdout",
     "output_type": "stream",
     "text": [
      "how old are you?123\n",
      "how old is your friend?0\n"
     ]
    },
    {
     "ename": "ZeroDivisionError",
     "evalue": "division by zero",
     "output_type": "error",
     "traceback": [
      "\u001b[0;31m---------------------------------------------------------------------------\u001b[0m",
      "\u001b[0;31mZeroDivisionError\u001b[0m                         Traceback (most recent call last)",
      "\u001b[0;32m<ipython-input-7-19f8a85bba7c>\u001b[0m in \u001b[0;36m<module>\u001b[0;34m()\u001b[0m\n\u001b[0;32m----> 1\u001b[0;31m \u001b[0mcompare_ages\u001b[0m\u001b[0;34m(\u001b[0m\u001b[0;34m)\u001b[0m \u001b[0;31m# enter a 0 this time\u001b[0m\u001b[0;34m\u001b[0m\u001b[0m\n\u001b[0m",
      "\u001b[0;32m<ipython-input-2-3290141df7ed>\u001b[0m in \u001b[0;36mcompare_ages\u001b[0;34m()\u001b[0m\n\u001b[1;32m      2\u001b[0m     \u001b[0myour_age\u001b[0m \u001b[0;34m=\u001b[0m \u001b[0mint\u001b[0m\u001b[0;34m(\u001b[0m\u001b[0minput\u001b[0m\u001b[0;34m(\u001b[0m\u001b[0;34m'how old are you?'\u001b[0m\u001b[0;34m)\u001b[0m\u001b[0;34m)\u001b[0m\u001b[0;34m\u001b[0m\u001b[0m\n\u001b[1;32m      3\u001b[0m     \u001b[0mother_age\u001b[0m \u001b[0;34m=\u001b[0m \u001b[0mint\u001b[0m\u001b[0;34m(\u001b[0m\u001b[0minput\u001b[0m\u001b[0;34m(\u001b[0m\u001b[0;34m'how old is your friend?'\u001b[0m\u001b[0;34m)\u001b[0m\u001b[0;34m)\u001b[0m\u001b[0;34m\u001b[0m\u001b[0m\n\u001b[0;32m----> 4\u001b[0;31m     \u001b[0mcompared\u001b[0m \u001b[0;34m=\u001b[0m \u001b[0myour_age\u001b[0m \u001b[0;34m/\u001b[0m \u001b[0mother_age\u001b[0m\u001b[0;34m\u001b[0m\u001b[0m\n\u001b[0m\u001b[1;32m      5\u001b[0m     \u001b[0mprint\u001b[0m\u001b[0;34m(\u001b[0m\u001b[0;34m'you are'\u001b[0m\u001b[0;34m,\u001b[0m \u001b[0mcompared\u001b[0m\u001b[0;34m,\u001b[0m \u001b[0;34m'times older than your friend'\u001b[0m\u001b[0;34m)\u001b[0m\u001b[0;34m\u001b[0m\u001b[0m\n\u001b[1;32m      6\u001b[0m \u001b[0;34m\u001b[0m\u001b[0m\n",
      "\u001b[0;31mZeroDivisionError\u001b[0m: division by zero"
     ]
    }
   ],
   "source": [
    "compare_ages() # enter a 0 this time"
   ]
  },
  {
   "cell_type": "markdown",
   "metadata": {},
   "source": [
    "Errors can be handled with `try` and `except` statements. The code that could potentially have an error is put in a try clause. The program execution moves to the start of a following except clause if an error happens."
   ]
  },
  {
   "cell_type": "code",
   "execution_count": 10,
   "metadata": {
    "collapsed": true
   },
   "outputs": [],
   "source": [
    "def compare_ages():\n",
    "    your_age = int(input('how old are you?'))\n",
    "    other_age = int(input('how old is your friend?'))\n",
    "    try:\n",
    "        compared = your_age / other_age\n",
    "    except ZeroDivisionError:\n",
    "        compared = 'infinity'\n",
    "    print('you are', compared, 'times older than your friend')\n"
   ]
  },
  {
   "cell_type": "code",
   "execution_count": 41,
   "metadata": {
    "collapsed": false
   },
   "outputs": [],
   "source": [
    "def compare_ages():\n",
    "    your_age = input('how old are you?')\n",
    "    other_age = 3\n",
    "\n",
    "    if your_age.isdigit():\n",
    "        your_age = int(your_age)\n",
    "    else:\n",
    "        #try:\n",
    "            your_age = float(your_age)\n",
    "        #except ValueError:\n",
    "           # raise AttributeError('ages must be number')\n",
    "    try:\n",
    "        compared = your_age / other_age\n",
    "    except ZeroDivisionError:\n",
    "        compared = 'infinity'\n",
    "    print('you are', compared, 'times older than your friend')\n"
   ]
  },
  {
   "cell_type": "code",
   "execution_count": 42,
   "metadata": {
    "collapsed": false
   },
   "outputs": [
    {
     "name": "stdout",
     "output_type": "stream",
     "text": [
      "how old are you?arstenarst\n"
     ]
    },
    {
     "ename": "AttributeError",
     "evalue": "ages must be number",
     "output_type": "error",
     "traceback": [
      "\u001b[0;31m---------------------------------------------------------------------------\u001b[0m",
      "\u001b[0;31mValueError\u001b[0m                                Traceback (most recent call last)",
      "\u001b[0;32m<ipython-input-41-e87fd1c1c0dc>\u001b[0m in \u001b[0;36mcompare_ages\u001b[0;34m()\u001b[0m\n\u001b[1;32m      8\u001b[0m         \u001b[0;32mtry\u001b[0m\u001b[0;34m:\u001b[0m\u001b[0;34m\u001b[0m\u001b[0m\n\u001b[0;32m----> 9\u001b[0;31m             \u001b[0myour_age\u001b[0m \u001b[0;34m=\u001b[0m \u001b[0mfloat\u001b[0m\u001b[0;34m(\u001b[0m\u001b[0myour_age\u001b[0m\u001b[0;34m)\u001b[0m\u001b[0;34m\u001b[0m\u001b[0m\n\u001b[0m\u001b[1;32m     10\u001b[0m         \u001b[0;32mexcept\u001b[0m \u001b[0mValueError\u001b[0m\u001b[0;34m:\u001b[0m\u001b[0;34m\u001b[0m\u001b[0m\n",
      "\u001b[0;31mValueError\u001b[0m: could not convert string to float: 'arstenarst'",
      "\nDuring handling of the above exception, another exception occurred:\n",
      "\u001b[0;31mAttributeError\u001b[0m                            Traceback (most recent call last)",
      "\u001b[0;32m<ipython-input-42-417c73c39cdb>\u001b[0m in \u001b[0;36m<module>\u001b[0;34m()\u001b[0m\n\u001b[0;32m----> 1\u001b[0;31m \u001b[0mcompare_ages\u001b[0m\u001b[0;34m(\u001b[0m\u001b[0;34m)\u001b[0m\u001b[0;34m\u001b[0m\u001b[0m\n\u001b[0m",
      "\u001b[0;32m<ipython-input-41-e87fd1c1c0dc>\u001b[0m in \u001b[0;36mcompare_ages\u001b[0;34m()\u001b[0m\n\u001b[1;32m      9\u001b[0m             \u001b[0myour_age\u001b[0m \u001b[0;34m=\u001b[0m \u001b[0mfloat\u001b[0m\u001b[0;34m(\u001b[0m\u001b[0myour_age\u001b[0m\u001b[0;34m)\u001b[0m\u001b[0;34m\u001b[0m\u001b[0m\n\u001b[1;32m     10\u001b[0m         \u001b[0;32mexcept\u001b[0m \u001b[0mValueError\u001b[0m\u001b[0;34m:\u001b[0m\u001b[0;34m\u001b[0m\u001b[0m\n\u001b[0;32m---> 11\u001b[0;31m             \u001b[0;32mraise\u001b[0m \u001b[0mAttributeError\u001b[0m\u001b[0;34m(\u001b[0m\u001b[0;34m'ages must be number'\u001b[0m\u001b[0;34m)\u001b[0m\u001b[0;34m\u001b[0m\u001b[0m\n\u001b[0m\u001b[1;32m     12\u001b[0m     \u001b[0;32mtry\u001b[0m\u001b[0;34m:\u001b[0m\u001b[0;34m\u001b[0m\u001b[0m\n\u001b[1;32m     13\u001b[0m         \u001b[0mcompared\u001b[0m \u001b[0;34m=\u001b[0m \u001b[0myour_age\u001b[0m \u001b[0;34m/\u001b[0m \u001b[0mother_age\u001b[0m\u001b[0;34m\u001b[0m\u001b[0m\n",
      "\u001b[0;31mAttributeError\u001b[0m: ages must be number"
     ]
    }
   ],
   "source": [
    "compare_ages()"
   ]
  },
  {
   "cell_type": "code",
   "execution_count": 25,
   "metadata": {
    "collapsed": true
   },
   "outputs": [],
   "source": [
    "s = '24324.234'"
   ]
  },
  {
   "cell_type": "code",
   "execution_count": 33,
   "metadata": {
    "collapsed": false
   },
   "outputs": [
    {
     "ename": "ValueError",
     "evalue": "could not convert string to float: 'rstasrt'",
     "output_type": "error",
     "traceback": [
      "\u001b[0;31m---------------------------------------------------------------------------\u001b[0m",
      "\u001b[0;31mValueError\u001b[0m                                Traceback (most recent call last)",
      "\u001b[0;32m<ipython-input-33-f858766b129b>\u001b[0m in \u001b[0;36m<module>\u001b[0;34m()\u001b[0m\n\u001b[0;32m----> 1\u001b[0;31m \u001b[0mfloat\u001b[0m\u001b[0;34m(\u001b[0m\u001b[0;34m'rstasrt'\u001b[0m\u001b[0;34m)\u001b[0m\u001b[0;34m\u001b[0m\u001b[0m\n\u001b[0m",
      "\u001b[0;31mValueError\u001b[0m: could not convert string to float: 'rstasrt'"
     ]
    }
   ],
   "source": [
    "float('rstasrt')"
   ]
  },
  {
   "cell_type": "code",
   "execution_count": null,
   "metadata": {
    "collapsed": true
   },
   "outputs": [],
   "source": []
  },
  {
   "cell_type": "code",
   "execution_count": 13,
   "metadata": {
    "collapsed": false
   },
   "outputs": [
    {
     "name": "stdout",
     "output_type": "stream",
     "text": [
      "how old are you?23.0\n"
     ]
    },
    {
     "ename": "ValueError",
     "evalue": "invalid literal for int() with base 10: '23.0'",
     "output_type": "error",
     "traceback": [
      "\u001b[0;31m---------------------------------------------------------------------------\u001b[0m",
      "\u001b[0;31mValueError\u001b[0m                                Traceback (most recent call last)",
      "\u001b[0;32m<ipython-input-13-417c73c39cdb>\u001b[0m in \u001b[0;36m<module>\u001b[0;34m()\u001b[0m\n\u001b[0;32m----> 1\u001b[0;31m \u001b[0mcompare_ages\u001b[0m\u001b[0;34m(\u001b[0m\u001b[0;34m)\u001b[0m\u001b[0;34m\u001b[0m\u001b[0m\n\u001b[0m",
      "\u001b[0;32m<ipython-input-10-12c93df36f42>\u001b[0m in \u001b[0;36mcompare_ages\u001b[0;34m()\u001b[0m\n\u001b[1;32m      1\u001b[0m \u001b[0;32mdef\u001b[0m \u001b[0mcompare_ages\u001b[0m\u001b[0;34m(\u001b[0m\u001b[0;34m)\u001b[0m\u001b[0;34m:\u001b[0m\u001b[0;34m\u001b[0m\u001b[0m\n\u001b[0;32m----> 2\u001b[0;31m     \u001b[0myour_age\u001b[0m \u001b[0;34m=\u001b[0m \u001b[0mint\u001b[0m\u001b[0;34m(\u001b[0m\u001b[0minput\u001b[0m\u001b[0;34m(\u001b[0m\u001b[0;34m'how old are you?'\u001b[0m\u001b[0;34m)\u001b[0m\u001b[0;34m)\u001b[0m\u001b[0;34m\u001b[0m\u001b[0m\n\u001b[0m\u001b[1;32m      3\u001b[0m     \u001b[0mother_age\u001b[0m \u001b[0;34m=\u001b[0m \u001b[0mint\u001b[0m\u001b[0;34m(\u001b[0m\u001b[0minput\u001b[0m\u001b[0;34m(\u001b[0m\u001b[0;34m'how old is your friend?'\u001b[0m\u001b[0;34m)\u001b[0m\u001b[0;34m)\u001b[0m\u001b[0;34m\u001b[0m\u001b[0m\n\u001b[1;32m      4\u001b[0m     \u001b[0;32mtry\u001b[0m\u001b[0;34m:\u001b[0m\u001b[0;34m\u001b[0m\u001b[0m\n\u001b[1;32m      5\u001b[0m         \u001b[0mcompared\u001b[0m \u001b[0;34m=\u001b[0m \u001b[0myour_age\u001b[0m \u001b[0;34m/\u001b[0m \u001b[0mother_age\u001b[0m\u001b[0;34m\u001b[0m\u001b[0m\n",
      "\u001b[0;31mValueError\u001b[0m: invalid literal for int() with base 10: '23.0'"
     ]
    }
   ],
   "source": [
    "compare_ages()"
   ]
  },
  {
   "cell_type": "code",
   "execution_count": 17,
   "metadata": {
    "collapsed": false
   },
   "outputs": [
    {
     "data": {
      "text/plain": [
       "234.0"
      ]
     },
     "execution_count": 17,
     "metadata": {},
     "output_type": "execute_result"
    }
   ],
   "source": [
    "int('234.2')\n",
    "int(12321.2)\n",
    "int('234')\n",
    "\n"
   ]
  },
  {
   "cell_type": "code",
   "execution_count": null,
   "metadata": {
    "collapsed": true
   },
   "outputs": [],
   "source": []
  },
  {
   "cell_type": "markdown",
   "metadata": {},
   "source": [
    "When code in a try clause causes an error, the program execution immediately moves to the code in the except clause. After running that code, the execution continues as normal. The output of the previous program is as follows:"
   ]
  },
  {
   "cell_type": "code",
   "execution_count": null,
   "metadata": {
    "collapsed": false
   },
   "outputs": [],
   "source": [
    "compare_ages()"
   ]
  },
  {
   "cell_type": "markdown",
   "metadata": {},
   "source": [
    "What if someone provides letters instead of a number?  What type of error do you get?\n",
    "\n",
    "Edit the `compare_ages` function to handle non-integer inputs. Print an error message when provided invalid input.\n",
    "\n",
    "**Bonus**: edit the compare_ages funciton again to reprompt the user to enter ages until both values are valid inputs."
   ]
  },
  {
   "cell_type": "markdown",
   "metadata": {},
   "source": [
    "*Hint:*\n",
    "\n",
    "2 ways to stop a while loop:\n",
    "\n",
    "The provided condition is false, i.e.:\n",
    "```\n",
    "while sometimes_true():\n",
    "    do_something()\n",
    "```\n",
    "\n",
    "Or explicitly tell it to stop\n",
    "```\n",
    "while True:\n",
    "    if sometimes_true():\n",
    "        break\n",
    "```"
   ]
  },
  {
   "cell_type": "code",
   "execution_count": null,
   "metadata": {
    "collapsed": true
   },
   "outputs": [],
   "source": []
  },
  {
   "cell_type": "code",
   "execution_count": null,
   "metadata": {
    "collapsed": true
   },
   "outputs": [],
   "source": []
  },
  {
   "cell_type": "code",
   "execution_count": null,
   "metadata": {
    "collapsed": true
   },
   "outputs": [],
   "source": [
    "# get some input\n",
    "# if i can convert that input\n",
    "#     continue my code\n",
    "# otherwise\n",
    "#     get input again"
   ]
  },
  {
   "cell_type": "code",
   "execution_count": null,
   "metadata": {
    "collapsed": true
   },
   "outputs": [],
   "source": [
    "# loop forever\n",
    "#    get some input\n",
    "#    if we can convert\n",
    "#       stop looping (aka continue to our code)\n",
    "#    otherwise\n",
    "#        keep looping\n"
   ]
  },
  {
   "cell_type": "markdown",
   "metadata": {},
   "source": [
    "Note that any errors that occur in function calls in a try block will also be caught. Consider the following program, which instead has the `compare_ages()` calls in the try block:"
   ]
  },
  {
   "cell_type": "code",
   "execution_count": 49,
   "metadata": {
    "collapsed": false
   },
   "outputs": [
    {
     "name": "stdout",
     "output_type": "stream",
     "text": [
      "you are 1.0 times older than your friend\n",
      "you are 4.0 times older than your friend\n",
      "you are 2.5 times older than your friend\n",
      "Caught an error\n",
      "hi\n"
     ]
    }
   ],
   "source": [
    "def compare_ages(age1, age2): # Using arguments instead of input() for clarity\n",
    "    compared = age1 / age2\n",
    "    print('you are', compared, 'times older than your friend')\n",
    "\n",
    "try:\n",
    "    compare_ages(10, 10)\n",
    "    compare_ages(12, 3)\n",
    "    compare_ages(5, 2)\n",
    "    compare_ages(18, 0)\n",
    "    compare_ages(100, 1) # never exe\n",
    "except ZeroDivisionError:\n",
    "    print('Caught an error')\n",
    "else:\n",
    "        compare_ages(100, 1)\n",
    "\n",
    "    \n",
    "print('hi')\n"
   ]
  },
  {
   "cell_type": "markdown",
   "metadata": {},
   "source": [
    "## Review Questions:\n",
    "1. How can you force a variable in a function to refer to the global variable?\n",
    "\n",
    "2. How many global scopes does a program have?\n",
    "\n",
    "2. What is the data type of None?\n",
    "\n",
    "3. How can you prevent a program from crashing when it gets an error?\n",
    "\n",
    "4. What goes in the try clause? What goes in the except clause?"
   ]
  },
  {
   "cell_type": "code",
   "execution_count": null,
   "metadata": {
    "collapsed": true
   },
   "outputs": [],
   "source": [
    "foo = 3\n",
    "def something():\n",
    "    global foo\n",
    "    foo = 4"
   ]
  },
  {
   "cell_type": "code",
   "execution_count": 17,
   "metadata": {
    "collapsed": false
   },
   "outputs": [
    {
     "ename": "ZeroDivisionError",
     "evalue": "division by zero",
     "output_type": "error",
     "traceback": [
      "\u001b[0;31m---------------------------------------------------------------------------\u001b[0m",
      "\u001b[0;31mZeroDivisionError\u001b[0m                         Traceback (most recent call last)",
      "\u001b[0;32m<ipython-input-17-e4373de0f472>\u001b[0m in \u001b[0;36m<module>\u001b[0;34m()\u001b[0m\n\u001b[1;32m      1\u001b[0m \u001b[0;32mtry\u001b[0m\u001b[0;34m:\u001b[0m\u001b[0;34m\u001b[0m\u001b[0m\n\u001b[0;32m----> 2\u001b[0;31m     \u001b[0;36m23\u001b[0m\u001b[0;34m/\u001b[0m\u001b[0;36m0\u001b[0m\u001b[0;34m\u001b[0m\u001b[0m\n\u001b[0m\u001b[1;32m      3\u001b[0m \u001b[0;32mexcept\u001b[0m \u001b[0mKeyError\u001b[0m\u001b[0;34m:\u001b[0m\u001b[0;34m\u001b[0m\u001b[0m\n\u001b[1;32m      4\u001b[0m     \u001b[0mprint\u001b[0m\u001b[0;34m(\u001b[0m\u001b[0;34m'we had an error'\u001b[0m\u001b[0;34m)\u001b[0m\u001b[0;34m\u001b[0m\u001b[0m\n\u001b[1;32m      5\u001b[0m \u001b[0;32mexcept\u001b[0m \u001b[0mValueError\u001b[0m\u001b[0;34m:\u001b[0m\u001b[0;34m\u001b[0m\u001b[0m\n",
      "\u001b[0;31mZeroDivisionError\u001b[0m: division by zero"
     ]
    }
   ],
   "source": [
    "try:\n",
    "    23/0\n",
    "except:\n",
    "    print('we had an error')\n",
    "except ValueError:\n",
    "    do_something_else()\n",
    "else:\n",
    "    print('hello')\n",
    "    "
   ]
  },
  {
   "cell_type": "code",
   "execution_count": 16,
   "metadata": {
    "collapsed": false
   },
   "outputs": [
    {
     "ename": "ZeroDivisionError",
     "evalue": "division by zero",
     "output_type": "error",
     "traceback": [
      "\u001b[0;31m---------------------------------------------------------------------------\u001b[0m",
      "\u001b[0;31mZeroDivisionError\u001b[0m                         Traceback (most recent call last)",
      "\u001b[0;32m<ipython-input-16-d60fbc90933f>\u001b[0m in \u001b[0;36m<module>\u001b[0;34m()\u001b[0m\n\u001b[1;32m      2\u001b[0m     \u001b[0;32mreturn\u001b[0m \u001b[0ma\u001b[0m \u001b[0;34m/\u001b[0m \u001b[0mb\u001b[0m\u001b[0;34m\u001b[0m\u001b[0m\n\u001b[1;32m      3\u001b[0m \u001b[0;34m\u001b[0m\u001b[0m\n\u001b[0;32m----> 4\u001b[0;31m \u001b[0mdivide\u001b[0m\u001b[0;34m(\u001b[0m\u001b[0;36m1\u001b[0m\u001b[0;34m,\u001b[0m \u001b[0;36m0\u001b[0m\u001b[0;34m)\u001b[0m\u001b[0;34m\u001b[0m\u001b[0m\n\u001b[0m",
      "\u001b[0;32m<ipython-input-16-d60fbc90933f>\u001b[0m in \u001b[0;36mdivide\u001b[0;34m(a, b)\u001b[0m\n\u001b[1;32m      1\u001b[0m \u001b[0;32mdef\u001b[0m \u001b[0mdivide\u001b[0m\u001b[0;34m(\u001b[0m\u001b[0ma\u001b[0m\u001b[0;34m,\u001b[0m \u001b[0mb\u001b[0m\u001b[0;34m)\u001b[0m\u001b[0;34m:\u001b[0m\u001b[0;34m\u001b[0m\u001b[0m\n\u001b[0;32m----> 2\u001b[0;31m     \u001b[0;32mreturn\u001b[0m \u001b[0ma\u001b[0m \u001b[0;34m/\u001b[0m \u001b[0mb\u001b[0m\u001b[0;34m\u001b[0m\u001b[0m\n\u001b[0m\u001b[1;32m      3\u001b[0m \u001b[0;34m\u001b[0m\u001b[0m\n\u001b[1;32m      4\u001b[0m \u001b[0mdivide\u001b[0m\u001b[0;34m(\u001b[0m\u001b[0;36m1\u001b[0m\u001b[0;34m,\u001b[0m \u001b[0;36m0\u001b[0m\u001b[0;34m)\u001b[0m\u001b[0;34m\u001b[0m\u001b[0m\n",
      "\u001b[0;31mZeroDivisionError\u001b[0m: division by zero"
     ]
    }
   ],
   "source": [
    "def divide(a, b):\n",
    "    return a / b\n",
    "\n",
    "divide(1, 0)"
   ]
  },
  {
   "cell_type": "code",
   "execution_count": 12,
   "metadata": {
    "collapsed": false
   },
   "outputs": [
    {
     "ename": "Exception",
     "evalue": "MyError",
     "output_type": "error",
     "traceback": [
      "\u001b[0;31m---------------------------------------------------------------------------\u001b[0m",
      "\u001b[0;31mException\u001b[0m                                 Traceback (most recent call last)",
      "\u001b[0;32m<ipython-input-12-d96ac87428c7>\u001b[0m in \u001b[0;36m<module>\u001b[0;34m()\u001b[0m\n\u001b[0;32m----> 1\u001b[0;31m \u001b[0;32mraise\u001b[0m \u001b[0mMyError\u001b[0m\u001b[0;34m\u001b[0m\u001b[0m\n\u001b[0m",
      "\u001b[0;31mException\u001b[0m: MyError"
     ]
    }
   ],
   "source": [
    "raise MyError"
   ]
  },
  {
   "cell_type": "markdown",
   "metadata": {
    "collapsed": true
   },
   "source": [
    "## Bonus\n",
    "\n",
    "Let's try and code a hangman game.  This would be a good time to open your text editor and make a new file.  Let's call it 'hangman.py'.\n",
    "\n",
    "### Requirements:\n",
    "- Game has the word to guess hard-coded into it.  We can make this dynamic later.\n",
    "- Player has X turns to guess letters or numbers (Also hardcoded, you can decide what you think is fair).\n",
    "- Each turn we display the word with correct letters guessed so far and ask for their next guess.  Unguessed letters are displayed as _ or ? (your choice)  i.e. P_t_on or P?t?on\n",
    "- Guesses can be a whole word (to guess the target word) or a single letter.\n",
    "- If the word is guessed or all the letters are filled in, they win.  Print a winning message.\n",
    "- If they run out of guesses the player loses.  Print a condolence.\n",
    "\n",
    "**Note:** I expect you to get stuck, but let's see how far we can get!"
   ]
  },
  {
   "cell_type": "code",
   "execution_count": 60,
   "metadata": {
    "collapsed": false
   },
   "outputs": [],
   "source": [
    "def compare_ages():\n",
    "   #loop to validate that user inputted int not string your_age, break once valide\n",
    "    your_age = intput('your age')\n",
    "    other_age = intput('your friends age')\n",
    "\n",
    "    try:\n",
    "        compared = your_age / other_age\n",
    "    except ZeroDivisionError:\n",
    "        compared = 'infinity'\n",
    "    print('you are', compared, 'times older than your friend')"
   ]
  },
  {
   "cell_type": "code",
   "execution_count": 61,
   "metadata": {
    "collapsed": false
   },
   "outputs": [
    {
     "name": "stdout",
     "output_type": "stream",
     "text": [
      "your agecat\n",
      "Please enter a number\n",
      "your age5\n",
      "your friends agecat\n",
      "Please enter a number\n",
      "your friends age17\n",
      "you are 0.29411764705882354 times older than your friend\n"
     ]
    }
   ],
   "source": [
    "compare_ages()"
   ]
  },
  {
   "cell_type": "code",
   "execution_count": 55,
   "metadata": {
    "collapsed": true
   },
   "outputs": [],
   "source": [
    "def intput(msg):\n",
    "    while True :   \n",
    "        try:\n",
    "            your_age = int(input(msg))\n",
    "            return your_age\n",
    "        except ValueError:\n",
    "            print(\"Please enter a number\")\n"
   ]
  },
  {
   "cell_type": "code",
   "execution_count": null,
   "metadata": {
    "collapsed": true
   },
   "outputs": [],
   "source": []
  }
 ],
 "metadata": {
  "anaconda-cloud": {},
  "kernelspec": {
   "display_name": "Python [conda env:python-foundations]",
   "language": "python",
   "name": "conda-env-python-foundations-py"
  },
  "language_info": {
   "codemirror_mode": {
    "name": "ipython",
    "version": 3
   },
   "file_extension": ".py",
   "mimetype": "text/x-python",
   "name": "python",
   "nbconvert_exporter": "python",
   "pygments_lexer": "ipython3",
   "version": "3.5.2"
  }
 },
 "nbformat": 4,
 "nbformat_minor": 1
}
