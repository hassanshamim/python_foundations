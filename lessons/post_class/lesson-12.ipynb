{
 "cells": [
  {
   "cell_type": "markdown",
   "metadata": {},
   "source": [
    "### High level\n",
    "What is web scraping?\n",
    "> Web scraping (web harvesting or web data extraction) is a computer software technique of extracting information from websites.\n",
    "\n",
    "What questions can you answer with web scraping?\n",
    "- What TV shows are airing tonight?\n",
    "- What is the name and price of the first 5 results for X on ebay?\n",
    "- How many words is the wiki page for X?\n",
    "- Has X been updated recently with this text?\n",
    "- is X band playing at Doug Fir any time soon?\n",
    "- is that [refurbished Baratza](http://www.baratza.com/product/encore-refurb/) in stock yet?\n",
    "- Are tickets available for sale yet?\n",
    "\n",
    "\n",
    "Ethics of web scraping\n",
    "- https://news.ycombinator.com/item?id=12345693\n"
   ]
  },
  {
   "cell_type": "markdown",
   "metadata": {},
   "source": [
    "### Tools\n",
    "name | Purpose\n",
    "-----|--------\n",
    "[Selector Gadget](http://selectorgadget.com/) | find css selectors visually\n",
    "[CSS selector cheat-sheet](http://www.cheetyr.com/css-selectors) | CSS selector reference\n",
    "[BeautifulSoup4](http://beautiful-soup-4.readthedocs.io/en/latest/) | Parse HTML webpages with selectors\n",
    "[requests](http://docs.python-requests.org/en/master/) | Connect to and download webpages (HTML)"
   ]
  },
  {
   "cell_type": "markdown",
   "metadata": {},
   "source": [
    "## HTML\n",
    "**HyperText Markup Language** \n",
    "\n",
    "It's the code that forms websites.  We won't be learning HTML today, but we'll learn enough to understand how we can navigate it.\n",
    " \n",
    "#### HTML is made up of elements as its base components\n",
    "\n",
    "Elements have structure:\n",
    "\n",
    "![element structure](https://upload.wikimedia.org/wikipedia/commons/thumb/5/55/HTML_element_structure.svg/330px-HTML_element_structure.svg.png)\n",
    "\n"
   ]
  },
  {
   "cell_type": "markdown",
   "metadata": {},
   "source": [
    "When nested inside eachother, they give the document form\n",
    "\n",
    "![html structure](http://www.htmlgoodies.com/img/2007/06/page_container.gif)\n",
    "\n",
    "\n",
    "This can also be viewed as a tree-like structure.  Here's the above when we only care about *children* and *ancestors*\n",
    "![html tree-like structure](http://www.htmlgoodies.com/img/2007/06/flowChart2.gif)\n"
   ]
  },
  {
   "cell_type": "code",
   "execution_count": 86,
   "metadata": {
    "collapsed": false
   },
   "outputs": [],
   "source": [
    "import bs4\n",
    "import requests"
   ]
  },
  {
   "cell_type": "markdown",
   "metadata": {},
   "source": [
    "## Fetching the HTML"
   ]
  },
  {
   "cell_type": "markdown",
   "metadata": {},
   "source": [
    "First step will be to actually get the website's html.  To do that, we'll be using the 3rd-party *requests*\\* module.\n",
    "This simulates:\n",
    "1. opening your browser\n",
    "2. typing in the url you want to visit\n",
    "3. selecting 'View Source'\n",
    "4. copying the text\n",
    "5. pasting it into a variable.\n",
    "\n",
    "\\* we could do this using just the std-lib, but requests is popular enough you'll encounter it often."
   ]
  },
  {
   "cell_type": "code",
   "execution_count": 14,
   "metadata": {
    "collapsed": false
   },
   "outputs": [],
   "source": [
    "url = 'https://raw.githubusercontent.com/hassanshamim/python_foundations/master/README.md'\n",
    "response = requests.get(url)"
   ]
  },
  {
   "cell_type": "code",
   "execution_count": 15,
   "metadata": {
    "collapsed": false
   },
   "outputs": [
    {
     "data": {
      "text/plain": [
       "<Response [200]>"
      ]
     },
     "execution_count": 15,
     "metadata": {},
     "output_type": "execute_result"
    }
   ],
   "source": [
    "response # If you're not familiar with HTTP codes, this output might be totally useless."
   ]
  },
  {
   "cell_type": "code",
   "execution_count": 16,
   "metadata": {
    "collapsed": true
   },
   "outputs": [
    {
     "name": "stdout",
     "output_type": "stream",
     "text": [
      "Help on Response in module requests.models object:\n",
      "\n",
      "class Response(builtins.object)\n",
      " |  The :class:`Response <Response>` object, which contains a\n",
      " |  server's response to an HTTP request.\n",
      " |  \n",
      " |  Methods defined here:\n",
      " |  \n",
      " |  __bool__(self)\n",
      " |      Returns true if :attr:`status_code` is 'OK'.\n",
      " |  \n",
      " |  __getstate__(self)\n",
      " |  \n",
      " |  __init__(self)\n",
      " |      Initialize self.  See help(type(self)) for accurate signature.\n",
      " |  \n",
      " |  __iter__(self)\n",
      " |      Allows you to use a response as an iterator.\n",
      " |  \n",
      " |  __nonzero__(self)\n",
      " |      Returns true if :attr:`status_code` is 'OK'.\n",
      " |  \n",
      " |  __repr__(self)\n",
      " |      Return repr(self).\n",
      " |  \n",
      " |  __setstate__(self, state)\n",
      " |  \n",
      " |  close(self)\n",
      " |      Releases the connection back to the pool. Once this method has been\n",
      " |      called the underlying ``raw`` object must not be accessed again.\n",
      " |      \n",
      " |      *Note: Should not normally need to be called explicitly.*\n",
      " |  \n",
      " |  iter_content(self, chunk_size=1, decode_unicode=False)\n",
      " |      Iterates over the response data.  When stream=True is set on the\n",
      " |      request, this avoids reading the content at once into memory for\n",
      " |      large responses.  The chunk size is the number of bytes it should\n",
      " |      read into memory.  This is not necessarily the length of each item\n",
      " |      returned as decoding can take place.\n",
      " |      \n",
      " |      chunk_size must be of type int or None. A value of None will\n",
      " |      function differently depending on the value of `stream`.\n",
      " |      stream=True will read data as it arrives in whatever size the\n",
      " |      chunks are received. If stream=False, data is returned as\n",
      " |      a single chunk.\n",
      " |      \n",
      " |      If decode_unicode is True, content will be decoded using the best\n",
      " |      available encoding based on the response.\n",
      " |  \n",
      " |  iter_lines(self, chunk_size=512, decode_unicode=None, delimiter=None)\n",
      " |      Iterates over the response data, one line at a time.  When\n",
      " |      stream=True is set on the request, this avoids reading the\n",
      " |      content at once into memory for large responses.\n",
      " |      \n",
      " |      .. note:: This method is not reentrant safe.\n",
      " |  \n",
      " |  json(self, **kwargs)\n",
      " |      Returns the json-encoded content of a response, if any.\n",
      " |      \n",
      " |      :param \\*\\*kwargs: Optional arguments that ``json.loads`` takes.\n",
      " |  \n",
      " |  raise_for_status(self)\n",
      " |      Raises stored :class:`HTTPError`, if one occurred.\n",
      " |  \n",
      " |  ----------------------------------------------------------------------\n",
      " |  Data descriptors defined here:\n",
      " |  \n",
      " |  __dict__\n",
      " |      dictionary for instance variables (if defined)\n",
      " |  \n",
      " |  __weakref__\n",
      " |      list of weak references to the object (if defined)\n",
      " |  \n",
      " |  apparent_encoding\n",
      " |      The apparent encoding, provided by the chardet library\n",
      " |  \n",
      " |  content\n",
      " |      Content of the response, in bytes.\n",
      " |  \n",
      " |  is_permanent_redirect\n",
      " |      True if this Response one of the permanent versions of redirect\n",
      " |  \n",
      " |  is_redirect\n",
      " |      True if this Response is a well-formed HTTP redirect that could have\n",
      " |      been processed automatically (by :meth:`Session.resolve_redirects`).\n",
      " |  \n",
      " |  links\n",
      " |      Returns the parsed header links of the response, if any.\n",
      " |  \n",
      " |  ok\n",
      " |  \n",
      " |  text\n",
      " |      Content of the response, in unicode.\n",
      " |      \n",
      " |      If Response.encoding is None, encoding will be guessed using\n",
      " |      ``chardet``.\n",
      " |      \n",
      " |      The encoding of the response content is determined based solely on HTTP\n",
      " |      headers, following RFC 2616 to the letter. If you can take advantage of\n",
      " |      non-HTTP knowledge to make a better guess at the encoding, you should\n",
      " |      set ``r.encoding`` appropriately before accessing this property.\n",
      " |  \n",
      " |  ----------------------------------------------------------------------\n",
      " |  Data and other attributes defined here:\n",
      " |  \n",
      " |  __attrs__ = ['_content', 'status_code', 'headers', 'url', 'history', '...\n",
      "\n"
     ]
    }
   ],
   "source": [
    "help(response) # let's see what this *response object* can do."
   ]
  },
  {
   "cell_type": "code",
   "execution_count": 18,
   "metadata": {
    "collapsed": false
   },
   "outputs": [
    {
     "data": {
      "text/plain": [
       "200"
      ]
     },
     "execution_count": 18,
     "metadata": {},
     "output_type": "execute_result"
    }
   ],
   "source": [
    "response.status_code"
   ]
  },
  {
   "cell_type": "code",
   "execution_count": 17,
   "metadata": {
    "collapsed": false
   },
   "outputs": [
    {
     "data": {
      "text/plain": [
       "True"
      ]
     },
     "execution_count": 17,
     "metadata": {},
     "output_type": "execute_result"
    }
   ],
   "source": [
    "response.ok # Did the website/server respond properly?"
   ]
  },
  {
   "cell_type": "markdown",
   "metadata": {},
   "source": [
    "The following result is Markup, not HTML.  Why?\n",
    "The page we requested was just plain text - not HTML."
   ]
  },
  {
   "cell_type": "code",
   "execution_count": 19,
   "metadata": {
    "collapsed": true
   },
   "outputs": [
    {
     "data": {
      "text/plain": [
       "'# [Python Foundations](http://www.hackoregon.org/beginner-ish)\\n\\n**Summer 2016**\\xa0- (Oct 11th - December 8th)\\n\\n**Falcon Building**\\xa0- 321 NW Glisan St, Portland, OR 97209\\xa0 Tuesday and Thursday evenings 6-9 PM\\n\\n**Instructor:**\\xa0Hassan Shamim\\xa0*contact info distributed in class*\\n\\n**Office Hours:**\\xa0TBD\\n\\n------\\n\\n\\n\\n## About\\n\\nThe purpose of this course is to introduce students to the Python programming language. \\xa0We will also cover general programming concepts, methodologies, tools and vocabulary. \\xa0Towards the end of the course we will apply what we’ve learned to some common, tedious tasks so we may leverage our newfound programming skills to solve real-world problems.\\n\\n**Note**: This course draws heavily from [Automate the Boring Stuff with Python](https://automatetheboringstuff.com/).  This book available for free online and for purchase in print.  While we shall follow the general outline of the book, some course content shall differ.  I\\'ll do my best to provide different examples than presented in the book, so it can be considered a supplemental material resource for those who would like additional practice or review.\\n\\n\\n## Aims and Outcomes\\n\\n1. Feel confident enough to take a more specialized Python Course, and contribute to a Hack Oregon Project.\\n\\n2. Feel comfortable putting \"[proficient in Python](https://www.reddit.com/r/Python/comments/2fkv4h/when_are_you_considered_proficient_in_python/)\" on your CV.\\n\\n3. Read, understand, and write beautiful Python code.\\n\\n4. Feel comfortable uploading and downloading code with Github and maybe contributing to open source projects.\\n\\n5. See python as a useful tool for solving repetitive tasks.\\n\\n6. Join the Hack Oregon community of professionals, students, events, and communications that will help your career and the state of Oregon.\\n\\n\\n## Core Principles\\n\\n- **Learn by doing**\\xa0- Project work and getting your hands dirty is essential to you learning to code. Each class period will be split between lecture and applying what we\\'ve learned.\\n\\n- **Learn from analogies**\\xa0- Programming concepts can be complicated. Simple relatable examples will help you understand what you need to know.\\n\\n- **Learn to “Fish”**\\xa0- Our course only lasts 8 weeks, and there’s no way to cover all of Python. I will teach you the skills to continue learning beyond “Python Foundations”\\n\\n- **80/20**\\xa0- “80% of the effect is from 20% of the causes” I’ll try to teach you the 20% that will give you 80% of the functionality of Python.\\n\\n\\n## Curriculum Outline (subject to change)\\n\\n1. Introduction, environment setup, exploring our tools\\n2. Python basics\\n3. Flow control\\n4. Flow control (contd)\\n5. Functions\\n6. Functions (contd)\\n7. Lists, tuples\\n8. Dictionaries, sets\\n9. Strings - a deep dive\\n10. Practice Problems and code review\\n\\n\\nFor the last 2-3 weeks of class, we shall choose some of the following topics depending on class interests:\\n\\n- [x] Git\\n- [x] Testing\\n- [x] Web Scraping\\n- [x] Working with APIs (json)\\n- [ ] Working with data files (csv, excel)\\n- [ ] Higher order functions\\n- [x] Object-Oriented programming\\n- [ ] Manipulating Images\\n- [ ] Visualizing Data\\n\\n\\n### Required tools\\n\\n- git (we\\'ll install in class)\\n- [A text editor](resources/text_editors.md)\\n- [Anaconda (Python 3.5 Graphical Version)](https://www.continuum.io/downloads)\\n- [Slack](https://slack.com/downloads/)\\n\\n\\n### Course Communication\\n\\nThe primary platform that we use in Hack University to communicate is Slack. If you haven\\'t been invited to slack yet or want to set it up with another email address, shoot me an email and I\\'ll get you invited. Feel free to check out any of the other channels too. It\\'s a good way to get exposure to new topics and ideas.\\n\\n\\n### Certificate of Completion\\n\\nCertificates are distributed via an open sourced badging program,\\xa0[badgr.io](http://www.badgr.io/), which is compliant with\\xa0[Mozilla Open Badges](http://openbadges.org/)\\xa0the current industry recognized leader for verifiable digital credentials.\\n\\n\\n#### Grading Policy\\n\\nBadges will be issued based upon attendance and participation in class. No more than 3 absences will be allowed, no more than 2 being unexcused. If you must miss class, please contact me, and we\\'ll schedule a time to catch you up.\\n'"
      ]
     },
     "execution_count": 19,
     "metadata": {},
     "output_type": "execute_result"
    }
   ],
   "source": [
    "response.text # the contents.  In this example it's markup, not HTML."
   ]
  },
  {
   "cell_type": "code",
   "execution_count": 20,
   "metadata": {
    "collapsed": false
   },
   "outputs": [
    {
     "data": {
      "text/plain": [
       "True"
      ]
     },
     "execution_count": 20,
     "metadata": {},
     "output_type": "execute_result"
    }
   ],
   "source": [
    "'Core Principles' in response.text"
   ]
  },
  {
   "cell_type": "markdown",
   "metadata": {},
   "source": [
    "So let's try a real web page!"
   ]
  },
  {
   "cell_type": "code",
   "execution_count": 3,
   "metadata": {
    "collapsed": false
   },
   "outputs": [
    {
     "data": {
      "text/plain": [
       "True"
      ]
     },
     "execution_count": 3,
     "metadata": {},
     "output_type": "execute_result"
    }
   ],
   "source": [
    "response2 = requests.get('http://www.hackoregon.org/upcoming-courses')\n",
    "response2.ok"
   ]
  },
  {
   "cell_type": "code",
   "execution_count": 37,
   "metadata": {
    "collapsed": false
   },
   "outputs": [
    {
     "data": {
      "text/plain": [
       "'<!doctype html>\\n<html xmlns:og=\"http://opengraphprotocol.org/schema/\" xmlns:fb=\"http://www.facebook.com/2008/fbml\" xmlns:website=\"http://ogp.me/ns/website\" lang=\"en-US\" itemscope itemtype=\"http://schema.org/WebPage\"  class=\"touch-styles\">\\n  <head>\\n    <meta http-equiv=\"X-UA-Compatible\" content=\"IE=edge,chrome=1\">\\n    \\n    <meta name=\"viewport\" content=\"width=device-width, initial-scale=1\">\\n    \\n    <!-- This is Squarespace. --><!-- catherine-nikolovski -->\\n<base href=\"\">\\n<meta charset=\"utf-8\" />\\n<title>Upcoming Courses — Hack Oregon</title>\\n<link rel=\"shortcut icon\" type=\"image/x-icon\" href=\"/favicon.ico\"/>\\n<link rel=\"canonical\" href=\"http://www.hackoregon.org/upcoming-courses/\"/>\\n<meta property=\"og:site_name\" content=\"Hack Oregon\"/>\\n<meta property=\"og:title\" content=\"Upcoming Courses\"/>\\n<meta property=\"og:url\" content=\"http://www.hackoregon.org/upcoming-courses/\"/>\\n<meta property=\"og:type\" content=\"website\"/>\\n<meta itemprop=\"name\" content=\"Upcoming Courses\"/>\\n<meta itemprop=\"url\" content=\"http://www.hackoregon.org/upcoming-courses/\"/>\\n<meta name=\"twitter:title\" content=\"Upcoming Courses\"/>\\n<meta name=\"twitter:url\" content=\"http://www.hackoregon.org/upcoming-courses/\"/>\\n<meta name=\"twitter:card\" content=\"summary\"/>\\n<meta name=\"description\" content=\"Hack Oregon is a community-powered nonprofit committed to promoting greater \\r\\ncivic awareness and engagement through data-inspired projects.\" />\\n<script type=\"text/javascript\" src=\"//use.typekit.net/ik/56bs_b30WA1w9p2Fqnyf40480jWtj9xKKcGxDbU4tIwfenC2fFHN4UJLFRbh52jhWD9kZc4R5QJtZQsKweJ3jQSX52IDZQ9XFsTaiaiaOcyyjhlzScm1dht0da41OeyyjhlzScm1dht0da41OeUzjhBC-eNDifURjWsGZW4Tdc9ldc8ndhUzi1Fn-PoDSWmyScmDSeBRZPoRdhXCHKoRjWsGZW4Tdc9ldc8ndhUzi1Fn-PoDSWmyScmDSeBRZPoRdhXK2YgkdayTdAIldcNhjPJPjAszjc9lZhBkjAuzdcblSY4zH6qJ73IbMg6gJMJ7fbKCMsMMeMC6MKG4f5J7IMMjMkMfH6qJtkGbMg6FJMJ7fbKzMsMMeMb6MKG4fOMgIMMj2KMfH6GJCwbgIMMjgPMfH6GJCSbgIMMj2kMfH6qJnbIbMg6eJMJ7fbK0MsMMegM6MKG4fJCgIMMjgkMfH6qJRMIbMg6sJMJ7fbKTMsMMeM66MKG4fHGgIMMjIKMfH6qJKbIbMg64JMJ7fbKHMsMMegw6MKG4fVwXIMIjgfMfH6qJvRbbMs65JMJ7fbRXFgMgeMj6MKG4fV9XIMIjIfMfH6qJv2bbMs6YJMJ7fbRUFgMgegI6MTMgz7ARC39.js\"></script>\\n<script type=\"text/javascript\">try{Typekit.load();}catch(e){}</script>\\n<link rel=\"stylesheet\" type=\"text/css\" href=\"//fonts.googleapis.com/css?family=Varela+Round:400,400italic,700normal,700italic\"/>\\n<script type=\"text/javascript\">SQUARESPACE_ROLLUPS = {};</script>\\n<script>(function(rollups, name) { if (!rollups[name]) { rollups[name] = {}; } rollups[name].js = [\"//static.squarespace.com/universal/scripts-compressed/common-3d18494811f09fbe543f-min.js\"]; })(SQUARESPACE_ROLLUPS, \\'squarespace-common\\');</script>\\n<script crossorigin=\"anonymous\" src=\"//static.squarespace.com/universal/scripts-compressed/common-3d18494811f09fbe543f-min.js\"></script><script>(function(rollups, name) { if (!rollups[name]) { rollups[name] = {}; } rollups[name].js = [\"//static.squarespace.com/universal/scripts-compressed/commerce-7be89cf7afca17009bde-min.js\"]; })(SQUARESPACE_ROLLUPS, \\'squarespace-commerce\\');</script>\\n<script crossorigin=\"anonymous\" src=\"//static.squarespace.com/universal/scripts-compressed/commerce-7be89cf7afca17009bde-min.js\"></script><script>(function(rollups, name) { if (!rollups[name]) { rollups[name] = {}; } rollups[name].css = [\"//static.squarespace.com/universal/styles-compressed/commerce-5ff3a810469d9b1346052dcaf72c56ae-min.css\"]; })(SQUARESPACE_ROLLUPS, \\'squarespace-commerce\\');</script>\\n<link rel=\"stylesheet\" type=\"text/css\" href=\"//static.squarespace.com/universal/styles-compressed/commerce-5ff3a810469d9b1346052dcaf72c56ae-min.css\"/><script type=\"text/javascript\" data-sqs-type=\"imageloader\">(function() {var EXCLUDED_SIZES=function(){var a=window.location.search,b=a.indexOf(\"exclude_imageloader_sizes=\");return-1<b&&(a=a.substr(b+26).split(\"&\")[0])?a.split(\",\").map(function(a){return parseInt(a,10)}):[]}(),SQUARESPACE_SIZES=[2500,1500,1E3,750,500,300,100].filter(function(a){return-1===EXCLUDED_SIZES.indexOf(a)}),IMAGE_LOADING_CLASS=\"loading\",ImageLoader=new function(){this.load=function(a,b){function d(a,b,c){var d=new Image;d.onload=b;d.onerror=c;d.src=a}a.getDOMNode&&(a=a.getDOMNode());var c=this._getDataFromNode(a,\\nb),e=!(!c.dimensions||!c.dimensions.width||!c.dimensions.height),g=c.load+\"\";if(\"false\"===g)return!1;var h=c.mode;if(e&&(\"fit\"===h||\"fill\"===h)){h=a.parentNode;if(!h)return console.error(\"Not doing anything, parentNode not found.\"),!1;if(!this.refresh(a,b,h))return!1}var n=this._intendToLoad(a,c);if(\"string\"===typeof n&&\"viewport\"!==g){var m=this.getUrl(n,c),g=a.getAttribute(\"data-image-resolution\");a.getAttribute(\"src\")!==m&&this.isValidResolution(n,g)&&(a.onload=function(){a.className=a.className.replace(IMAGE_LOADING_CLASS,\\n\" \").trim();a.setAttribute(\"data-image-resolution\",n)},!a.getAttribute(\"src\")&&-1===a.className.indexOf(IMAGE_LOADING_CLASS)&&(a.className+=(a.className?\" \":\"\")+IMAGE_LOADING_CLASS),!a.getAttribute(\"src\")&&e?(a.setAttribute(\"src\",m),c.useBgImage&&(a.parentNode.style.backgroundImage=\"url(\"+m+\")\")):d(m,function(){e?a.setAttribute(\"src\",m):(a.setAttribute(\"data-image-dimensions\",this.width+\"x\"+this.height),ImageLoader.load(a,b))},function(){a.className=a.className.replace(IMAGE_LOADING_CLASS,\" \").trim();\\na.setAttribute(\"src\",m)}));return!0}return n};this.refresh=function(a,b,d){a.getDOMNode&&(a=a.getDOMNode());d&&d.getDOMNode&&(d=d.getDOMNode());d=d||a.parentNode;if(!d)return console.error(\"Not doing anything, parentNode not found.\"),!1;var c=this._getDataFromNode(a,b),e=d.offsetWidth,g=d.offsetHeight;b=c.mode;if(\"none\"!==b){var h=c.dimensions.width,n=c.dimensions.height,m=h/n,q=e/g;if(c.useBgImage&&\"fill\"===b&&\"backgroundSize\"in document.documentElement.style)return a.style.display=\"none\",d.style.backgroundSize=\\n\"cover\",d.style.backgroundPosition=100*c.focalPoint.x+\"% \"+100*c.focalPoint.y+\"%\",!0;if(c.fixedRatio)\"fill\"==b&&q>m||\"fit\"==b&&q<m?(k=100,l=100*(q/m),r=(100-l)*c.focalPoint.y,p=0):(k=100*(m/q),l=100,r=0,p=(100-k)*c.focalPoint.x),a.style.top=r+\"%\",a.style.left=p+\"%\",a.style.width=k+\"%\",a.style.height=l+\"%\";else{var f;\"fill\"===b?f=m>q?g/n:e/h:\"fit\"===b&&(f=m<q?g/n:e/h);!c.stretch&&\"fit\"==b&&1<f&&(f=1);var k=Math.ceil(h*f),l=Math.ceil(n*f);if(0===k||0===l)return!1;var p,r;\"fill\"===b?(p=Math.min(Math.max(e/\\n2-k*c.focalPoint.x,e-k),0),r=Math.min(Math.max(g/2-l*c.focalPoint.y,g-l),0)):\"fit\"===b&&(f=c.fitAlignment,p=f.left?0:f.right?e-k:k<e?(e-k)/2:0,r=f.top?0:f.bottom?g-l:l<g?(g-l)/2:0,\"inline\"==this._getStyle(a,\"display\")&&(a.style.fontSize=\"0px\"),this._resetAlt(a,function(){k-=a.offsetHeight-a.clientHeight;l-=a.offsetWidth-a.clientWidth}));a.style.top=Math.ceil(r)+\"px\";a.style.left=Math.ceil(p)+\"px\";a.style.width=Math.ceil(k)+\"px\";a.style.height=Math.ceil(l)+\"px\"}p=this._getStyle(d,\"position\");a.style.position=\\n\"relative\"==p?\"absolute\":\"relative\";if(\"fill\"==b&&(b=this._getStyle(d,\"overflow\"),!b||\"hidden\"!=b))d.style.overflow=\"hidden\";return!0}};this._intendToLoad=function(a,b){function d(c,d){\"none\"===b.mode&&(a.style.width=null,a.style.height=null);var e=parseFloat(a.getAttribute(c)),f=parseFloat(e);if(!f||isNaN(f))e=h._getStyle(a,c),f=parseFloat(e);if(!f||isNaN(f))e=h._getStyle(a,\"max-\"+c,\"max\"+(c.substr(0,1).toUpperCase()+c.substr(1))),f=parseFloat(e);if(0===d||e)switch(h._stringType(e)){case \"percentage\":d=\\nparseInt(e,10)/100*g[\"offset\"+c.substr(0,1).toUpperCase()+c.substr(1)];break;case \"number\":d=parseInt(e,10)}!f&&0!==d&&!a.getAttribute(\"src\")&&(d=0);return d}b=b||this._getDataFromNode(a);if(!b.source)return!1;var c=a.offsetWidth,e=a.offsetHeight,g=a.parentNode,h=this;this._resetAlt(a,function(){c=d(\"width\",c);e=d(\"height\",e)});0===c&&0===e?(c=b.dimensions.width,e=b.dimensions.height):0===c?c=this.getDimensionForValue(\"width\",e,b):0===e&&(e=this.getDimensionForValue(\"height\",c,b));\"viewport\"===b.load&&\\n(a.style.width=Math.floor(c)+\"px\",a.style.height=Math.floor(e)+\"px\");return this.getSquarespaceSize(c,e,b)};this._getDataFromNode=function(a,b){b=b||{};var d={focalPoint:{x:0.5,y:0.5},dimensions:{width:null,height:null},mode:\"none\",fitAlignment:{center:!0},load:\"true\",stretch:!0,fixedRatio:!1};if(b.focalPoint)d.focalPoint=b.focalPoint;else{var c=a.getAttribute(\"data-image-focal-point\");if(c&&(c=c.split(\",\"))&&2==c.length)d.focalPoint={x:parseFloat(c[0]),y:parseFloat(c[1])}}if(b.dimensions)d.dimensions=\\nb.dimensions;else if((c=a.getAttribute(\"data-image-dimensions\"))&&(c=c.split(\"x\"))&&2==c.length)d.dimensions={width:parseInt(c[0],10),height:parseInt(c[1],10)};b.mode?d.mode=b.mode:a.parentNode&&(c=a.parentNode.className,-1!==c.indexOf(\"content-fill\")?d.mode=\"fill\":-1!==c.indexOf(\"content-fit\")&&(d.mode=\"fit\"));if(\"fit\"===d.mode&&a.parentNode&&(c=b.fitAlignment||a.getAttribute(\"data-alignment\")||a.parentNode.getAttribute(\"data-alignment\")))d.fitAlignment={top:-1!==c.indexOf(\"top\"),left:-1!==c.indexOf(\"left\"),\\ncenter:-1!==c.indexOf(\"center\"),right:-1!==c.indexOf(\"right\"),bottom:-1!==c.indexOf(\"bottom\")};b.load?d.load=b.load:(c=a.getAttribute(\"data-load\"))&&(d.load=c);if(\"undefined\"!==typeof b.stretch)d.stretch=b.stretch;else if(c=a.getAttribute(\"data-image-stretch\"))d.stretch=\"true\"===c?!0:!1;d.source=b.source?b.source:a.getAttribute(\"data-src\");d.source&&this.isSquarespaceUrl(d.source)&&(\"http:\"===d.source.substr(0,5)&&\"https\"===window.location.protocol.substr(0,5))&&(d.source=d.source.replace(\"http://\",\\n\"https://\"));if(b.fixedRatio)d.fixedRatio=b.fixedRatio;else if(c=a.getAttribute(\"data-fixed-ratio\"))d.fixedRatio=\"true\"==c;b.useBgImage?d.useBgImage=b.useBgImage:(c=a.getAttribute(\"data-use-bg-image\"),d.useBgImage=\"true\"===c||!0===c?!0:!1);return d};this._stringType=function(a){return\"string\"===typeof a&&-1!==a.indexOf(\"%\")?\"percentage\":isNaN(parseInt(a,10))?NaN:\"number\"};this._getStyle=function(a,b,d){var c;a.currentStyle?c=a.currentStyle[d||b]:window.getComputedStyle&&(c=document.defaultView.getComputedStyle(a,\\nnull).getPropertyValue(b));return c};this._isVisible=function(a){a=a.getBoundingClientRect();return 0<=a.left&&0<=a.top||0<=a.bottom&&0<=a.right||0<=a.left&&0<=a.bottom||0<=a.right&&0<=a.top};this.getSquarespaceSize=function(a,b,d){a=Math.max(b/(d.dimensions.height/d.dimensions.width),a);\"undefined\"===typeof app&&\"number\"===typeof window.devicePixelRatio&&(a*=window.devicePixelRatio);for(b=1;b<SQUARESPACE_SIZES.length&&!(a>SQUARESPACE_SIZES[b]);b++);return SQUARESPACE_SIZES[b-1]+\"w\"};this.getDimensionForValue=\\nfunction(a,b,d){var c=d.dimensions.width;d=d.dimensions.height;return\"width\"==a?c/d*b:\"height\"==a?d/c*b:NaN};this.getUrl=function(a,b){var d=b.source;return a&&(\"/\"==d[0]||this.isSquarespaceUrl(d))?(-1===d.indexOf(\"format=\"+a)&&(d=d+(-1!==d.indexOf(\"?\")?\"&\":\"?\")+\"format=\"+a),d):b.source};this.isSquarespaceUrl=function(a){return-1!==a.indexOf(\"squarespace.com\")||-1!==a.indexOf(\"squarespace.net\")||-1!==a.indexOf(\"sqsp.net\")};this.isValidResolution=function(a,b){a=parseInt(a,10);b=parseInt(b,10);return isNaN(a)||\\nisNaN(b)?!0:a>b};this._resetAlt=function(a,b){var d=a.getAttribute(\"alt\"),c=d&&0<d.length&&!a.getAttribute(\"src\");if(c){var e=a.style.display;a.removeAttribute(\"alt\");a.style.display=\"none\";a.offsetHeight+0;a.style.display=e}b.call(this);c&&a.setAttribute(\"alt\",d)};this.bootstrap=function(){var a=document.images;if(0<a.length)for(var b=0,d=a.length;b<d;b++)((a[b].hasAttribute?a[b].hasAttribute(\"data-image\"):a[b].attributes[\"data-image\"])||(a[b].hasAttribute?a[b].hasAttribute(\"data-src\"):a[b].attributes[\"data-src\"]))&&\\n\"false\"!==(a[b].getAttribute?a[b].getAttribute(\"data-load\"):a[b].attributes[\"data-load\"])+\"\"&&ImageLoader.load(a[b])}};window.ImageLoader=ImageLoader;window.YUI&&YUI.add(\"squarespace-imageloader\",function(a){},\"1.0\",{requires:[]});\\n})();</script>\\n<script>Static.SQUARESPACE_CONTEXT = {\"facebookAppId\":\"314192535267336\",\"rollups\":{\"squarespace-announcement-bar\":{\"css\":\"//static.squarespace.com/universal/styles-compressed/announcement-bar-d41d8cd98f00b204e9800998ecf8427e-min.css\",\"js\":\"//static.squarespace.com/universal/scripts-compressed/announcement-bar-255cecc1cf494d88d1ed-min.js\"},\"squarespace-audio-player\":{\"css\":\"//static.squarespace.com/universal/styles-compressed/audio-player-76e4bfcc3f9830beb388bae2002fbe6c-min.css\",\"js\":\"//static.squarespace.com/universal/scripts-compressed/audio-player-3ea6af3255a6d23d0a81-min.js\"},\"squarespace-blog-collection-list\":{\"css\":\"//static.squarespace.com/universal/styles-compressed/blog-collection-list-d41d8cd98f00b204e9800998ecf8427e-min.css\",\"js\":\"//static.squarespace.com/universal/scripts-compressed/blog-collection-list-b5d30a1c72f9aabbf44e-min.js\"},\"squarespace-calendar-block-renderer\":{\"css\":\"//static.squarespace.com/universal/styles-compressed/calendar-block-renderer-032634519fa160b1d2da6986dce0cdae-min.css\",\"js\":\"//static.squarespace.com/universal/scripts-compressed/calendar-block-renderer-5a699855af07ec227238-min.js\"},\"squarespace-chartjs-helpers\":{\"css\":\"//static.squarespace.com/universal/styles-compressed/chartjs-helpers-9935a41d63cf08ca108505d288c1712e-min.css\",\"js\":\"//static.squarespace.com/universal/scripts-compressed/chartjs-helpers-af3738629c6ec08afe3a-min.js\"},\"squarespace-comments\":{\"css\":\"//static.squarespace.com/universal/styles-compressed/comments-c1dbdfabfadb78eda284e5af702a4505-min.css\",\"js\":\"//static.squarespace.com/universal/scripts-compressed/comments-cee0bd99dbe1ae97ee79-min.js\"},\"squarespace-dialog\":{\"css\":\"//static.squarespace.com/universal/styles-compressed/dialog-41403d1f0d87846c1b05baa36a8d7c38-min.css\",\"js\":\"//static.squarespace.com/universal/scripts-compressed/dialog-a137c90ca7db429bef17-min.js\"},\"squarespace-events-collection\":{\"css\":\"//static.squarespace.com/universal/styles-compressed/events-collection-032634519fa160b1d2da6986dce0cdae-min.css\",\"js\":\"//static.squarespace.com/universal/scripts-compressed/events-collection-ef000ae08742cf220fcd-min.js\"},\"squarespace-gallery-collection-list\":{\"css\":\"//static.squarespace.com/universal/styles-compressed/gallery-collection-list-d41d8cd98f00b204e9800998ecf8427e-min.css\",\"js\":\"//static.squarespace.com/universal/scripts-compressed/gallery-collection-list-e1ed1954da9f16b56d45-min.js\"},\"squarespace-image-zoom\":{\"css\":\"//static.squarespace.com/universal/styles-compressed/image-zoom-ae974921915aeccaff8ad60c60e19c31-min.css\",\"js\":\"//static.squarespace.com/universal/scripts-compressed/image-zoom-51c8f17420ab45066403-min.js\"},\"squarespace-pinterest\":{\"css\":\"//static.squarespace.com/universal/styles-compressed/pinterest-d41d8cd98f00b204e9800998ecf8427e-min.css\",\"js\":\"//static.squarespace.com/universal/scripts-compressed/pinterest-d8da6511f2eb4de3e4bb-min.js\"},\"squarespace-product-quick-view\":{\"css\":\"//static.squarespace.com/universal/styles-compressed/product-quick-view-eb4b900ac0155bed2f175aa82e2a7c17-min.css\",\"js\":\"//static.squarespace.com/universal/scripts-compressed/product-quick-view-f47a2e1b22bc44954d6b-min.js\"},\"squarespace-products-collection-item-v2\":{\"css\":\"//static.squarespace.com/universal/styles-compressed/products-collection-item-v2-ae974921915aeccaff8ad60c60e19c31-min.css\",\"js\":\"//static.squarespace.com/universal/scripts-compressed/products-collection-item-v2-2e0088e56234d05f67a6-min.js\"},\"squarespace-products-collection-list-v2\":{\"css\":\"//static.squarespace.com/universal/styles-compressed/products-collection-list-v2-ae974921915aeccaff8ad60c60e19c31-min.css\",\"js\":\"//static.squarespace.com/universal/scripts-compressed/products-collection-list-v2-f5260cb9f989ad2d9cbe-min.js\"},\"squarespace-search-page\":{\"css\":\"//static.squarespace.com/universal/styles-compressed/search-page-9e3daa07ec7490c2f0be98a39351cb63-min.css\",\"js\":\"//static.squarespace.com/universal/scripts-compressed/search-page-15f41a4531e671a3d981-min.js\"},\"squarespace-share-buttons\":{\"js\":\"//static.squarespace.com/universal/scripts-compressed/share-buttons-8635c52fecea68b9dedc-min.js\"},\"squarespace-simple-liking\":{\"css\":\"//static.squarespace.com/universal/styles-compressed/simple-liking-09fa291ec2800c97714f0d157fd0a6ca-min.css\",\"js\":\"//static.squarespace.com/universal/scripts-compressed/simple-liking-d44ab1b0365494cdb742-min.js\"},\"squarespace-social-buttons\":{\"css\":\"//static.squarespace.com/universal/styles-compressed/social-buttons-7a696232d1cd101fd62b5f174f9ae6ff-min.css\",\"js\":\"//static.squarespace.com/universal/scripts-compressed/social-buttons-7dcb8f45203f0e6b21f7-min.js\"},\"squarespace-tourdates\":{\"css\":\"//static.squarespace.com/universal/styles-compressed/tourdates-d41d8cd98f00b204e9800998ecf8427e-min.css\",\"js\":\"//static.squarespace.com/universal/scripts-compressed/tourdates-3f33e6971c462cdde221-min.js\"}},\"pageType\":2,\"website\":{\"id\":\"52fbc928e4b0b0a74813e545\",\"identifier\":\"catherine-nikolovski\",\"websiteType\":1,\"contentModifiedOn\":1480112415784,\"cloneable\":false,\"siteStatus\":{},\"language\":\"en-US\",\"timeZone\":\"America/New_York\",\"machineTimeZoneOffset\":-18000000,\"timeZoneOffset\":-18000000,\"timeZoneAbbr\":\"EST\",\"siteTitle\":\"Hack Oregon\",\"siteTagLine\":\"MAKING PUBLIC INFORMATION, PUBLIC KNOWLEDGE.\",\"siteDescription\":\"<p>Hack Oregon is a community-powered nonprofit committed to promoting greater civic awareness and engagement through data-inspired projects.</p><p>\\\\u00A0</p>\",\"location\":{\"mapZoom\":8.0,\"mapLat\":45.4967799,\"mapLng\":-122.5691544,\"markerLat\":45.4967799,\"markerLng\":-122.5691544,\"addressTitle\":\"Hack Oregon\",\"addressLine1\":\"\",\"addressLine2\":\"Portland, Oregon\",\"addressCountry\":\"\"},\"logoImageId\":\"551709d8e4b0dfcc47bdca61\",\"shareButtonOptions\":{\"2\":true,\"4\":true,\"6\":true,\"3\":true,\"5\":true,\"1\":true,\"7\":true,\"8\":true},\"logoImageUrl\":\"//static1.squarespace.com/static/52fbc928e4b0b0a74813e545/t/551709d8e4b0dfcc47bdca61/1480112415784/\",\"authenticUrl\":\"http://www.hackoregon.org\",\"internalUrl\":\"http://catherine-nikolovski.squarespace.com\",\"baseUrl\":\"http://www.hackoregon.org\",\"primaryDomain\":\"www.hackoregon.org\",\"socialAccounts\":[{\"serviceId\":20,\"userId\":\"catherine@hackoregon.org\",\"screenname\":\"catherine@hackoregon.org\",\"addedOn\":1392316325702,\"profileUrl\":\"mailto:catherine@hackoregon.org\",\"iconEnabled\":true,\"serviceName\":\"email\"},{\"serviceId\":4,\"userId\":\"2296937029\",\"userName\":\"HackOregon\",\"screenname\":\"Hack Oregon\",\"addedOn\":1392316449911,\"profileUrl\":\"https://twitter.com/HackOregon\",\"iconUrl\":\"http://pbs.twimg.com/profile_images/424325523905331200/pw-qkMe1_normal.jpeg\",\"collectionId\":\"52fd1021e4b0649c39e14655\",\"iconEnabled\":true,\"serviceName\":\"twitter\"},{\"serviceId\":33,\"screenname\":\"Meetup\",\"addedOn\":1427571699624,\"profileUrl\":\"http://www.meetup.com/datastorytelling/\",\"iconEnabled\":true,\"serviceName\":\"meetup\"},{\"serviceId\":23,\"userId\":\"10101504\",\"userName\":\"rileyrustad\",\"screenname\":\"Riley Rustad\",\"addedOn\":1459809186076,\"profileUrl\":\"https://github.com/hackoregon\",\"iconUrl\":\"https://avatars.githubusercontent.com/u/10101504?v=3\",\"iconEnabled\":true,\"serviceName\":\"github\"}],\"typekitId\":\"\",\"statsMigrated\":false},\"websiteSettings\":{\"id\":\"52fbc928e4b0b0a74813e546\",\"websiteId\":\"52fbc928e4b0b0a74813e545\",\"type\":\"Non-Profit\",\"subject\":\"Non-Profit\",\"subjects\":[{\"systemSubject\":\"other\",\"otherSubject\":\"Non-Profit\"}],\"country\":\"US\",\"state\":\"OR\",\"markdownMode\":false,\"simpleLikingEnabled\":true,\"mobileInfoBarSettings\":{\"isContactEmailEnabled\":false,\"isContactPhoneNumberEnabled\":false,\"isLocationEnabled\":false,\"isBusinessHoursEnabled\":false},\"announcementBarSettings\":{\"style\":1,\"text\":\"<p>Check out what we\\'ve been up to lately</p>\",\"clickthroughUrl\":{\"url\":\"http://storytelling.hackoregon.com\",\"newWindow\":true}},\"lastAgreedTermsOfService\":2,\"defaultPostFormat\":\"%y/%m/%d/%t\",\"commentLikesAllowed\":true,\"commentAnonAllowed\":true,\"commentThreaded\":true,\"commentApprovalRequired\":false,\"commentAvatarsOn\":true,\"commentSortType\":2,\"commentFlagThreshold\":0,\"commentFlagsAllowed\":true,\"commentEnableByDefault\":true,\"commentDisableAfterDaysDefault\":0,\"disqusShortname\":\"\",\"homepageTitleFormat\":\"%s\",\"collectionTitleFormat\":\"%c \\\\u2014 %s\",\"itemTitleFormat\":\"%i \\\\u2014 %s\",\"commentsEnabled\":true,\"contactPhoneNumber\":\"5034072963\",\"contactEmail\":\"hello@hackoregon.org\",\"allowSquarespacePromotion\":true,\"storeSettings\":{\"returnPolicy\":\"<p>This is a thank you gift for your donation, and is not eligible for a refund.&nbsp;</p>\",\"termsOfService\":\"\",\"privacyPolicy\":\"\",\"orderRefundedSubjectFormat\":\"%s: Order #%o Refunded\",\"orderRefundedTitleFormat\":\"Order Refunded: #%o\",\"paymentSettings\":{\"stripeLivePublicApiKey\":\"pk_live_riYah4XzNY1i51AtjpT0zYwn\",\"stripeTestPublicApiKey\":\"pk_test_xAYzrOPg5whHH8kaNdAEPeNW\",\"stripeUserId\":\"acct_103Udh2uJnnrJXRd\",\"stripeAccountCountry\":\"US\"},\"expressCheckout\":false,\"useLightCart\":false,\"showNoteField\":false,\"shippingCountryDefaultValue\":\"US\",\"billToShippingDefaultValue\":false,\"showShippingPhoneNumber\":true,\"isShippingPhoneRequired\":false,\"showBillingPhoneNumber\":true,\"isBillingPhoneRequired\":false,\"currenciesSupported\":[\"USD\",\"AUD\",\"CAD\",\"EUR\",\"GBP\"],\"defaultCurrency\":\"USD\",\"selectedCurrency\":\"USD\",\"stripePublishableKey\":\"pk_live_riYah4XzNY1i51AtjpT0zYwn\",\"stripeAccountCountry\":\"US\",\"measurementStandard\":1,\"showCustomCheckoutForm\":false,\"enableMailingListOptInByDefault\":false,\"sameAsRetailLocation\":false,\"testPublishableKey\":\"pk_test_xAYzrOPg5whHH8kaNdAEPeNW\",\"stripeConnected\":true,\"isLive\":true},\"useEscapeKeyToLogin\":true,\"ssBadgeType\":1,\"ssBadgePosition\":4,\"ssBadgeVisibility\":1,\"ssBadgeDevices\":1,\"pinterestOverlayOptions\":{\"mode\":\"disabled\"},\"ampEnabled\":false},\"websiteCloneable\":false,\"collection\":{\"title\":\"Upcoming Courses\",\"id\":\"5836423e15d5db57b198eb36\",\"fullUrl\":\"/upcoming-courses/\",\"type\":10},\"subscribed\":false,\"appDomain\":\"squarespace.com\",\"templateTweakable\":true,\"tweakJSON\":{\"aspect-ratio\":\"Auto\",\"banner-slideshow-controls\":\"Arrows\",\"gallery-arrow-style\":\"No Background\",\"gallery-aspect-ratio\":\"3:2 Standard\",\"gallery-auto-crop\":\"true\",\"gallery-autoplay\":\"false\",\"gallery-design\":\"Grid\",\"gallery-info-overlay\":\"Show on Hover\",\"gallery-loop\":\"false\",\"gallery-navigation\":\"Bullets\",\"gallery-show-arrows\":\"true\",\"gallery-transitions\":\"Fade\",\"galleryArrowBackground\":\"rgba(34,34,34,1)\",\"galleryArrowColor\":\"rgba(255,255,255,1)\",\"galleryAutoplaySpeed\":\"3\",\"galleryCircleColor\":\"rgba(255,255,255,1)\",\"galleryInfoBackground\":\"rgba(0, 0, 0, .7)\",\"galleryThumbnailSize\":\"100px\",\"gridSize\":\"280px\",\"gridSpacing\":\"10px\",\"logoContainerWidth\":\"185px\",\"product-gallery-auto-crop\":\"false\",\"product-image-auto-crop\":\"true\",\"siteTitleContainerWidth\":\"495px\"},\"templateId\":\"52a74dafe4b073a80cd253c5\",\"pageFeatures\":[1,2,4],\"impersonatedSession\":false,\"demoCollections\":[{\"collectionId\":\"52a76db3e4b0dfaa507e7b18\",\"deleted\":true},{\"collectionId\":\"52b1eff5e4b0871946c207e4\",\"deleted\":true},{\"collectionId\":\"52a76dc2e4b0dfaa507e7b32\",\"deleted\":true},{\"collectionId\":\"52c71337e4b07aa29e46fa44\",\"deleted\":false},{\"collectionId\":\"52d8053ce4b0e26973428261\",\"deleted\":true},{\"collectionId\":\"52cad0a1e4b06ad2e57287af\",\"deleted\":true},{\"collectionId\":\"52d067ace4b0bd5a03cf573b\",\"deleted\":true},{\"collectionId\":\"52e18d59e4b08face9704bad\",\"deleted\":true},{\"collectionId\":\"52e175e7e4b03c845ac17314\",\"deleted\":true},{\"collectionId\":\"52d80724e4b0c692d7428ff2\",\"deleted\":true}],\"isFacebookTab\":false,\"tzData\":{\"zones\":[[-300,\"US\",\"E%sT\",null]],\"rules\":{\"US\":[[1967,2006,null,\"Oct\",\"lastSun\",\"2:00\",\"0\",\"S\"],[1987,2006,null,\"Apr\",\"Sun>=1\",\"2:00\",\"1:00\",\"D\"],[2007,\"max\",null,\"Mar\",\"Sun>=8\",\"2:00\",\"1:00\",\"D\"],[2007,\"max\",null,\"Nov\",\"Sun>=1\",\"2:00\",\"0\",\"S\"]]}}};</script><script type=\"text/javascript\"> SquarespaceFonts.loadViaContext(); Squarespace.load(window);</script><script type=\"application/ld+json\">{\"@context\":\"http://schema.org\",\"@type\":\"WebSite\",\"url\":\"http://www.hackoregon.org\",\"name\":\"Hack Oregon\",\"description\":\"<p>Hack Oregon is a community-powered nonprofit committed to promoting greater civic awareness and engagement through data-inspired projects.</p><p>\\\\u00A0</p>\",\"image\":\"//static1.squarespace.com/static/52fbc928e4b0b0a74813e545/t/551709d8e4b0dfcc47bdca61/1480112415784/\"}</script><!--[if gte IE 9]> <link rel=\"stylesheet\" type=\"text/css\" href=\"//static1.squarespace.com/static/sitecss/52fbc928e4b0b0a74813e545/71/52a74dafe4b073a80cd253c5/52fd0e1ae4b0d81b4ad2170b/974-05142015/1480036348159/site.css?&filterFeatures=false&part=1\"/><link rel=\"stylesheet\" type=\"text/css\" href=\"//static1.squarespace.com/static/sitecss/52fbc928e4b0b0a74813e545/71/52a74dafe4b073a80cd253c5/52fd0e1ae4b0d81b4ad2170b/974-05142015/1480036348159/site.css?&filterFeatures=false&part=2\"/><link rel=\"stylesheet\" type=\"text/css\" href=\"//static1.squarespace.com/static/sitecss/52fbc928e4b0b0a74813e545/71/52a74dafe4b073a80cd253c5/52fd0e1ae4b0d81b4ad2170b/974-05142015/1480036348159/site.css?&filterFeatures=false&part=3\"/><link rel=\"stylesheet\" type=\"text/css\" href=\"//static1.squarespace.com/static/sitecss/52fbc928e4b0b0a74813e545/71/52a74dafe4b073a80cd253c5/52fd0e1ae4b0d81b4ad2170b/974-05142015/1480036348159/site.css?&filterFeatures=false&part=4\"/><![endif]-->\\n<!--[if lt IE 9]><link rel=\"stylesheet\" type=\"text/css\" href=\"//static1.squarespace.com/static/sitecss/52fbc928e4b0b0a74813e545/71/52a74dafe4b073a80cd253c5/52fd0e1ae4b0d81b4ad2170b/974-05142015/1480036348159/site.css?&filterFeatures=false&noMedia=true&part=1\"/><link rel=\"stylesheet\" type=\"text/css\" href=\"//static1.squarespace.com/static/sitecss/52fbc928e4b0b0a74813e545/71/52a74dafe4b073a80cd253c5/52fd0e1ae4b0d81b4ad2170b/974-05142015/1480036348159/site.css?&filterFeatures=false&noMedia=true&part=2\"/><link rel=\"stylesheet\" type=\"text/css\" href=\"//static1.squarespace.com/static/sitecss/52fbc928e4b0b0a74813e545/71/52a74dafe4b073a80cd253c5/52fd0e1ae4b0d81b4ad2170b/974-05142015/1480036348159/site.css?&filterFeatures=false&noMedia=true&part=3\"/><link rel=\"stylesheet\" type=\"text/css\" href=\"//static1.squarespace.com/static/sitecss/52fbc928e4b0b0a74813e545/71/52a74dafe4b073a80cd253c5/52fd0e1ae4b0d81b4ad2170b/974-05142015/1480036348159/site.css?&filterFeatures=false&noMedia=true&part=4\"/><![endif]-->\\n<!--[if !IE]> --><link rel=\"stylesheet\" type=\"text/css\" href=\"//static1.squarespace.com/static/sitecss/52fbc928e4b0b0a74813e545/71/52a74dafe4b073a80cd253c5/52fd0e1ae4b0d81b4ad2170b/974-05142015/1480036348159/site.css?&filterFeatures=false\"/><!-- <![endif]-->\\n<!-- End of Squarespace Headers -->\\n    <script>/* Must be below squarespace-headers */(function(){var e=\\'ontouchstart\\'in window||navigator.msMaxTouchPoints;var t=document.documentElement;if(!e&&t){t.className=t.className.replace(/touch-styles/,\\'\\')}})()\\n    </script>\\n  </head>\\n\\n  <body id=\"collection-5836423e15d5db57b198eb36\" class=\"transparent-header enable-nav-button nav-button-style-outline nav-button-corner-style-square banner-button-style-outline banner-button-corner-style-rounded banner-slideshow-controls-arrows meta-priority-date  hide-entry-author hide-list-entry-footer    hide-blog-sidebar center-navigation--info    event-thumbnails event-thumbnail-size-32-standard event-date-label event-date-label-time event-list-show-cats event-list-date event-list-time event-list-address   event-icalgcal-links  event-excerpts  event-item-back-link     gallery-design-grid aspect-ratio-auto lightbox-style-light gallery-navigation-bullets gallery-info-overlay-show-on-hover gallery-aspect-ratio-32-standard gallery-arrow-style-no-background gallery-transitions-fade gallery-show-arrows gallery-auto-crop   product-list-titles-under product-list-alignment-center product-item-size-11-square product-image-auto-crop product-gallery-size-11-square  show-product-price show-product-item-nav product-social-sharing image-block-poster-contextual-font-sizing image-block-poster-scroll-animation-fade-in image-block-card-contextual-font-sizing image-block-card-scroll-animation-fade-in image-block-overlap-contextual-font-sizing  image-block-overlap-scroll-animation-slide-in image-block-collage-contextual-font-sizing image-block-collage-scroll-animation-slide-in image-block-stack-scroll-animation-fade-in  opentable-style-light newsletter-style-dark small-button-style-solid small-button-shape-square medium-button-style-solid medium-button-shape-rounded large-button-style-solid large-button-shape-square button-style-outline button-corner-style-square tweak-product-quick-view-button-style-floating tweak-product-quick-view-button-position-bottom tweak-product-quick-view-lightbox-excerpt-display-truncate tweak-product-quick-view-lightbox-show-arrows tweak-product-quick-view-lightbox-show-close-button tweak-product-quick-view-lightbox-controls-weight-light native-currency-code-usd collection-5836423e15d5db57b198eb36 collection-type-page collection-layout-default mobile-style-available has-banner-image general-page\">\\n    <a href=\"#\" class=\"body-overlay\"></a>\\n    <div class=\"sqs-announcement-bar-dropzone\"></div>\\n    <div id=\"sidecarNav\">\\n      <div id=\"mobileNavWrapper\" class=\"nav-wrapper\" data-content-field=\"navigation-mobileNav\">\\n  <nav id=\"mobileNavigation\">\\n    \\n      \\n        \\n\\n        \\n\\n          \\n          <div class=\"collection\">\\n            <a href=\"/join/\">\\n              Volunteer\\n            </a>\\n          </div>\\n          \\n\\n        \\n      \\n      \\n\\n    \\n      \\n        \\n\\n        \\n\\n          \\n          <div class=\"collection\">\\n            <a href=\"/hack-university/\">\\n              Courses\\n            </a>\\n          </div>\\n          \\n\\n        \\n      \\n      \\n\\n    \\n      \\n        \\n\\n        \\n\\n          \\n          <div class=\"collection\">\\n            <a href=\"/about/\">\\n              About\\n            </a>\\n          </div>\\n          \\n\\n        \\n      \\n      \\n\\n    \\n  </nav>\\n</div>\\n\\n\\n\\n    </div>\\n    <div id=\"siteWrapper\" class=\"clearfix\">\\n\\n      <div class=\"sqs-cart-dropzone\"></div>\\n\\n      <header id=\"header\" class=\"show-on-scroll\" data-offset-el=\".index-section\" data-offset-behavior=\"bottom\" role=\"banner\">\\n        <div class=\"header-inner\">\\n          <div id=\"logoWrapper\" class=\"wrapper\" data-content-field=\"site-title\">\\n            \\n              <h1 id=\"logoImage\"><a href=\"/\"><img src=\"//static1.squarespace.com/static/52fbc928e4b0b0a74813e545/t/551709d8e4b0dfcc47bdca61/1480112415784/?format=1500w\" alt=\"Hack Oregon\" /></a></h1>\\n            \\n          </div><!-- comment the linebreak between these two elements because science\\n          --><div class=\"mobile-nav-toggle\"><div class=\"top-bar\"></div><div class=\"middle-bar\"></div><div class=\"bottom-bar\"></div></div><div class=\"mobile-nav-toggle-label fixed-nav-toggle\"><div class=\"top-bar\"></div><div class=\"middle-bar\"></div><div class=\"bottom-bar\"></div></div><!-- comment the linebreak between these two elements because science\\n          --><div id=\"headerNav\"><div id=\"mainNavWrapper\" class=\"nav-wrapper\" data-content-field=\"navigation-mainNav\">\\n  <nav id=\"mainNavigation\" data-content-field=\"navigation-mainNav\">\\n    \\n      \\n        \\n\\n        \\n\\n          \\n          <div class=\"collection\">\\n            <a href=\"/join/\">\\n              Volunteer\\n            </a>\\n          </div>\\n          \\n\\n        \\n      \\n      \\n\\n    \\n      \\n        \\n\\n        \\n\\n          \\n          <div class=\"collection\">\\n            <a href=\"/hack-university/\">\\n              Courses\\n            </a>\\n          </div>\\n          \\n\\n        \\n      \\n      \\n\\n    \\n      \\n        \\n\\n        \\n\\n          \\n          <div class=\"collection\">\\n            <a href=\"/about/\">\\n              About\\n            </a>\\n          </div>\\n          \\n\\n        \\n      \\n      \\n\\n    \\n  </nav>\\n</div>\\n<!-- style below blocks out the mobile nav toggle only when nav is loaded -->\\n<style>.mobile-nav-toggle-label { display: inline-block !important; }</style>\\n\\n\\n</div>\\n        </div>\\n      </header>\\n\\n      \\n        \\n          \\n            \\n              \\n                <div id=\"promotedGalleryWrapper\" class=\"sqs-layout promoted-gallery-wrapper\"><div class=\"row\"><div class=\"col\"></div></div></div>\\n                \\n                  \\n                    <div class=\"banner-thumbnail-wrapper\" data-content-field=\"main-image\" data-collection-id=\"5836423e15d5db57b198eb36\" data-edit-main-image=\"Banner\" data-annotation-alignment=\"bottom left\">\\n                      \\n                      <div class=\"color-overlay\"></div>\\n                      <figure id=\"thumbnail\" class=\"loading content-fill\">\\n                        <img data-src=\"https://static1.squarespace.com/static/52fbc928e4b0b0a74813e545/t/58378fb26a4963bb183cec82/1480036276619/sunrisefromspace2.jpg\" data-image=\"https://static1.squarespace.com/static/52fbc928e4b0b0a74813e545/t/58378fb26a4963bb183cec82/1480036276619/sunrisefromspace2.jpg\" data-image-dimensions=\"2500x703\" data-image-focal-point=\"0.5,0.5\" alt=\"sunrisefromspace2.jpg\"  />\\n                      </figure>\\n                      \\n                      \\n                    </div>\\n                  \\n                \\n              \\n            \\n          \\n        \\n      \\n\\n\\n      \\n      \\n      \\n\\n      <main id=\"page\" role=\"main\">\\n        \\n        <!-- comment the linebreak between these two elements because science\\n        --><!-- comment the linebreak between these two elements because science\\n        --><!-- comment the linebreak between these two elements because science\\n        --><div id=\"content\" class=\"main-content\" data-content-field=\"main-content\" data-collection-id=\"5836423e15d5db57b198eb36\" data-edit-main-image=\"Banner\">\\n         <div class=\"sqs-layout sqs-grid-12 columns-12\" data-type=\"page\" data-updated-on=\"1480112415778\" id=\"page-5836423e15d5db57b198eb36\"><div class=\"row sqs-row\"><div class=\"col sqs-col-1 span-1\"><div class=\"sqs-block spacer-block sqs-block-spacer sized vsize-1\" data-block-type=\"21\" id=\"block-98a845b7fdc453e42ccc\"><div class=\"sqs-block-content\">&nbsp;</div></div></div><div class=\"col sqs-col-10 span-10\"><div class=\"sqs-block html-block sqs-block-html\" data-block-type=\"2\" id=\"block-46c8f1f883a86faf559f\"><div class=\"sqs-block-content\"><h1 class=\"text-align-center\">Upcoming Courses</h1><h2 class=\"text-align-center\">Coming January 2017</h2></div></div><div class=\"sqs-block spacer-block sqs-block-spacer sized vsize-1\" data-block-type=\"21\" id=\"block-dc262cf0a787ae5585db\"><div class=\"sqs-block-content\">&nbsp;</div></div></div><div class=\"col sqs-col-1 span-1\"><div class=\"sqs-block spacer-block sqs-block-spacer sized vsize-1\" data-block-type=\"21\" id=\"block-c8fdd20477439a9d2fad\"><div class=\"sqs-block-content\">&nbsp;</div></div></div></div><div class=\"row sqs-row\"><div class=\"col sqs-col-5 span-5\"><div class=\"sqs-block image-block sqs-block-image\" data-aspect-ratio=\"98.41688654353563\" data-block-type=\"5\" id=\"block-c22d7b485440c44ac7e4\"><div class=\"sqs-block-content\">\\n\\n  \\n\\n  \\t\\n      <div class=\"image-block-outer-wrapper layout-caption-below design-layout-inline\">\\n      \\n        <div class=\"intrinsic\" style=\"max-width:424.0px;\">\\n          \\n            <div style=\"padding-bottom:98.41688537597656%;\" class=\"image-block-wrapper   has-aspect-ratio\" data-description=\"\" >\\n              <noscript><img src=\"https://static1.squarespace.com/static/52fbc928e4b0b0a74813e545/t/58365e0ef5e231d20310cf93/1479958081209/proudunicorncat.jpg\"  alt=\"proudunicorncat.jpg\"  /></noscript><img class=\"thumb-image\" alt=\"proudunicorncat.jpg\" data-src=\"https://static1.squarespace.com/static/52fbc928e4b0b0a74813e545/t/58365e0ef5e231d20310cf93/1479958081209/proudunicorncat.jpg\" data-image=\"https://static1.squarespace.com/static/52fbc928e4b0b0a74813e545/t/58365e0ef5e231d20310cf93/1479958081209/proudunicorncat.jpg\" data-image-dimensions=\"424x424\" data-image-focal-point=\"0.5,0.5\" data-load=\"false\" data-image-id=\"58365e0ef5e231d20310cf93\" data-type=\"image\" />\\n            </div>\\n          \\n\\n          \\n\\n        </div>\\n      \\n      </div>\\n    \\n\\n  \\n\\n\\n</div></div></div><div class=\"col sqs-col-7 span-7\"><div class=\"sqs-block html-block sqs-block-html\" data-block-type=\"2\" id=\"block-57cc6569542486da642e\"><div class=\"sqs-block-content\"><h2><strong>MODERN CSS</strong></h2><h3>LEVEL: BEGINNER</h3><h3>START DATE: FEB 8TH, TUES + THURS, 6-9PM</h3><h3>DURATION: 6 WEEKS</h3><h3>COST $850</h3><h3>INSTRUCTOR: DAVID ZULAICA</h3></div></div><div class=\"sqs-block button-block sqs-block-button sqs-col-4 span-4 float float-left\" data-block-type=\"53\" id=\"block-e1b35504c549fa6b06df\"><div class=\"sqs-block-content\">\\n<div class=\"sqs-block-button-container--left\">\\n\\t<a href=\"https://docs.google.com/forms/d/e/1FAIpQLSfDQFmS2g2YbF4zQUmv8Qfg5vRYGKVbW8Xma1OsQaWdcFNNNQ/viewform\" class=\"sqs-block-button-element--small sqs-block-button-element\" target=\"_blank\">Apply Right Meow!</a>\\n</div></div></div><div class=\"sqs-block html-block sqs-block-html\" data-block-type=\"2\" id=\"block-yui_3_17_2_2_1479953308976_226902\"><div class=\"sqs-block-content\"><h3><strong></strong></h3></div></div></div></div><div class=\"row sqs-row\"><div class=\"col sqs-col-12 span-12\"><div class=\"sqs-block html-block sqs-block-html\" data-block-type=\"2\" id=\"block-yui_3_17_2_2_1479953308976_221486\"><div class=\"sqs-block-content\"><h3><strong>DESCRIPTION:&nbsp;</strong></h3><p>Many people check the box on HTML and CSS after a weekend workshop, but that\\'s just when things start to get interesting! &nbsp;CSS as a language of it\\'s own often doesn\\'t get the respect and attention it deserves when it comes to super-powering interactive web experiences.&nbsp;</p><p>JavaScript is powerful, but it doesn’t mean it’s always the answer when it comes to front-end development. Browsers and browser technologies have advanced enough for us to utilize future-facing specifications now and reap the benefits with little development time. And the best part? We can use these techniques to ensure accessibility all potential users. &nbsp;Let’s take a look at the free benefits we can get from using semantic HTML5 and exploit them to make our CSS performant,&nbsp;accessible, and magical.</p><h3><strong>WHO SHOULD TAKE IT?</strong></h3><p>If you have a basic understanding of HTML and CSS, and little-to-no fear of the terminal, you have all that’s necessary to turn your vision from interactive, animated vision to reality — all while ensuring that your users can benefit from your application.</p><p>Because there\\'s no Javascript pre-requisite, this is a great class for designers and other creatives to cultivate a unique depth in a coding language and show-worthy portfolio pieces to their resume. &nbsp;By the end of class, you\\'ll be able to do things even many front-end engineers don\\'t know how to do!&nbsp;</p></div></div><div class=\"sqs-block spacer-block sqs-block-spacer sized vsize-1\" data-block-type=\"21\" id=\"block-5e392197beecbb0db555\"><div class=\"sqs-block-content\">&nbsp;</div></div></div></div><div class=\"row sqs-row\"><div class=\"col sqs-col-5 span-5\"><div class=\"sqs-block image-block sqs-block-image\" data-aspect-ratio=\"100\" data-block-type=\"5\" id=\"block-c96b1e4756becb7ec18f\"><div class=\"sqs-block-content\">\\n\\n  \\n\\n  \\t\\n      <div class=\"image-block-outer-wrapper layout-caption-below design-layout-inline\">\\n      \\n        <div class=\"intrinsic\" style=\"max-width:403.0px;\">\\n          \\n            <div style=\"padding-bottom:100.0%;\" class=\"image-block-wrapper   has-aspect-ratio\" data-description=\"\" >\\n              <noscript><img src=\"https://static1.squarespace.com/static/52fbc928e4b0b0a74813e545/t/583670fc37c581b5d580ecbf/1479962893397/lighteningcat.jpg\"  alt=\"lighteningcat.jpg\"  /></noscript><img class=\"thumb-image\" alt=\"lighteningcat.jpg\" data-src=\"https://static1.squarespace.com/static/52fbc928e4b0b0a74813e545/t/583670fc37c581b5d580ecbf/1479962893397/lighteningcat.jpg\" data-image=\"https://static1.squarespace.com/static/52fbc928e4b0b0a74813e545/t/583670fc37c581b5d580ecbf/1479962893397/lighteningcat.jpg\" data-image-dimensions=\"403x403\" data-image-focal-point=\"0.5,0.5\" data-load=\"false\" data-image-id=\"583670fc37c581b5d580ecbf\" data-type=\"image\" />\\n            </div>\\n          \\n\\n          \\n\\n        </div>\\n      \\n      </div>\\n    \\n\\n  \\n\\n\\n</div></div></div><div class=\"col sqs-col-7 span-7\"><div class=\"sqs-block html-block sqs-block-html\" data-block-type=\"2\" id=\"block-23eb500ec3b451488d2f\"><div class=\"sqs-block-content\"><h2>ReactJS</h2><h3>LEVEL: Intermediate</h3><h3>START DATE: JAN 23rd, Mon + Wed, 6-9pm</h3><h3>DURATION: 8 WEEKS</h3><h3>COST $850</h3><h3>React Office Hours: +$250, Tues + Thurs, 6-9pm</h3><h3 dir=\"ltr\">Instructor: Andrew Brenwald</h3></div></div><div class=\"sqs-block button-block sqs-block-button sqs-col-4 span-4 float float-left\" data-block-type=\"53\" id=\"block-ebfd30e5aba4d5669063\"><div class=\"sqs-block-content\">\\n<div class=\"sqs-block-button-container--left\">\\n\\t<a href=\"https://docs.google.com/forms/d/e/1FAIpQLSfDQFmS2g2YbF4zQUmv8Qfg5vRYGKVbW8Xma1OsQaWdcFNNNQ/viewform\" class=\"sqs-block-button-element--small sqs-block-button-element\" target=\"_blank\">Apply Right Meow!</a>\\n</div></div></div><div class=\"sqs-block html-block sqs-block-html\" data-block-type=\"2\" id=\"block-yui_3_17_2_2_1479953308976_272404\"><div class=\"sqs-block-content\"><h3>\\xa0</h3><h3><strong><span style=\"font-size:14.6667px\"></span></strong></h3></div></div></div></div><div class=\"row sqs-row\"><div class=\"col sqs-col-12 span-12\"><div class=\"sqs-block html-block sqs-block-html\" data-block-type=\"2\" id=\"block-yui_3_17_2_2_1479953308976_267724\"><div class=\"sqs-block-content\"><h3><strong><span style=\"font-size:14.6667px\">DESCRIPTION</span></strong></h3><p><span style=\"font-size:14.6667px\">So you’ve gone deep into JavaScript and feel ready to put all that knowledge to good use. Perhaps React has been on your radar for a while now or you’re just now hearing about it. Regardless, it’s one of the most popular and powerful front-end technologies available right now, and this course is the place to break into it.</span></p><p><span style=\"font-size:14.6667px\">This eight week course will introduce you to powerful ES6 features and patterns that you’ll immediately apply to building robust, modular React components. You’ll learn not only the syntax of ES6, JSX, and React, but also the emerging best practices and design patterns.</span></p><p><span style=\"font-size:14.6667px\">The class format is “flipped,” meaning there will be curated video and written lecture content to watch at home on your own time and at your own pace, and class time will be dedicated to getting our hands dirty by building a portfolio of components.</span></p><h3><strong><span style=\"font-size:14.6667px\">WHO SHOULD TAKE IT?</span></strong></h3><p><span style=\"font-size:14.6667px\">We know that in order to build great open source, data-driven software for Oregon we need to have wide talent pool with specialized skills in our community. &nbsp;That means, over the past year as we’ve adjusted our technology stack at Hack Oregon, we’ve been doing a lot of training in React. &nbsp;We know React is still a bit new, can be kinda tough, and it takes an investment to learn. &nbsp;We think it’s worth it, and we hope you do too. &nbsp;&nbsp;&nbsp;</span></p><p><span style=\"font-size:14.6667px\">Beginning in the Fall Season, anyone who wants to be able to join the a web dev team with Hack Oregon will need to be willing to learn React.&nbsp;</span></p><h3><strong><span style=\"font-size:14.6667px\">HOW DO I KNOW I’M READY?</span></strong></h3><p><span style=\"font-size:14.6667px\">The ideal student for this course is very comfortable with core JavaScript principles and techniques.</span></p><h3><strong><span style=\"font-size:14.6667px\">WHAT\\'S OFFICE HOURS?</span></strong></h3><p>Office hours are strongly recommended for anyone who has been learning Javascript online for a while,&nbsp;recently graduated from a Code School, or if this is your first time learning a new front end framework.</p></div></div><div class=\"sqs-block spacer-block sqs-block-spacer sized vsize-1\" data-block-type=\"21\" id=\"block-yui_3_17_2_2_1479953308976_32126\"><div class=\"sqs-block-content\">&nbsp;</div></div></div></div><div class=\"row sqs-row\"><div class=\"col sqs-col-5 span-5\"><div class=\"sqs-block image-block sqs-block-image\" data-block-type=\"5\" id=\"block-yui_3_17_2_2_1479953308976_34678\"><div class=\"sqs-block-content\">\\n\\n  \\n\\n  \\t\\n      <div class=\"image-block-outer-wrapper layout-caption-below design-layout-inline\">\\n      \\n        <div class=\"intrinsic\" style=\"max-width:1200.0px;\">\\n          \\n            <div style=\"padding-bottom:100.0%;\" class=\"image-block-wrapper   has-aspect-ratio\" data-description=\"\" >\\n              <noscript><img src=\"https://static1.squarespace.com/static/52fbc928e4b0b0a74813e545/t/58364dc96a4963bb183174cf/1479954332562/rainbowcatglasses.jpg\"  alt=\"rainbowcatglasses.jpg\"  /></noscript><img class=\"thumb-image\" alt=\"rainbowcatglasses.jpg\" data-src=\"https://static1.squarespace.com/static/52fbc928e4b0b0a74813e545/t/58364dc96a4963bb183174cf/1479954332562/rainbowcatglasses.jpg\" data-image=\"https://static1.squarespace.com/static/52fbc928e4b0b0a74813e545/t/58364dc96a4963bb183174cf/1479954332562/rainbowcatglasses.jpg\" data-image-dimensions=\"1200x1200\" data-image-focal-point=\"0.5,0.5\" data-load=\"false\" data-image-id=\"58364dc96a4963bb183174cf\" data-type=\"image\" />\\n            </div>\\n          \\n\\n          \\n\\n        </div>\\n      \\n      </div>\\n    \\n\\n  \\n\\n\\n</div></div></div><div class=\"col sqs-col-7 span-7\"><div class=\"sqs-block html-block sqs-block-html\" data-block-type=\"2\" id=\"block-yui_3_17_2_2_1479953308976_33420\"><div class=\"sqs-block-content\"><h2>Applied Data Visualization</h2><h3>LEVEL: Advanced</h3><h3>START DATE: JAN 23RD, MON + WED, 6-9PM</h3><h3>DURATION: 8 WEEKS</h3><h3>COST $850</h3><h3>REACT OFFICE HOURS: +$250, TUES + THURS, 6-9PM</h3><h3>Instructor: David Daniel</h3></div></div><div class=\"sqs-block button-block sqs-block-button\" data-block-type=\"53\" id=\"block-yui_3_17_2_2_1479953308976_301835\"><div class=\"sqs-block-content\">\\n<div class=\"sqs-block-button-container--left\">\\n\\t<a href=\"https://docs.google.com/forms/d/e/1FAIpQLSfDQFmS2g2YbF4zQUmv8Qfg5vRYGKVbW8Xma1OsQaWdcFNNNQ/viewform\" class=\"sqs-block-button-element--small sqs-block-button-element\" target=\"_blank\">Apply Right Meow!</a>\\n</div></div></div></div></div><div class=\"row sqs-row\"><div class=\"col sqs-col-12 span-12\"><div class=\"sqs-block html-block sqs-block-html\" data-block-type=\"2\" id=\"block-yui_3_17_2_2_1479953308976_294922\"><div class=\"sqs-block-content\"><h3><strong>DESCRIPTION</strong></h3><p>This course is all about how React can be used for visualization. While our examples are geared towards data visualization, the skills you\\'ll learn will be applicable far beyond that.</p><p>We will have an ES2017 primer to build upon the current ES2016 standard, focusing where we will use it in project work. We will also cover state management via Redux, a highly recommended flux implementation. The class will go over where React &amp; D3 work best together and where they don\\'t. We will learn how to create visual elements from Hack Oregon data sources, how to use React\\'s lifecycle methods, and how to use D3 within components in a modular and performant way.</p><p>For a final project each student will create a React visualization web app, with React Redux and a couple of react visualization libraries. All components we build in class, once tested, will be used in Hack Oregon\\'s visualization component library.</p><h3><strong>Who should take this course?</strong></h3><p dir=\"ltr\">This is a course for experience front end developers who are proficient in React. &nbsp;Thi3, &nbsp;course&nbsp;</p><h3><strong>WHAT\\'S OFFICE HOURS?</strong></h3><p>React office hours are optional, but are available on off-nights for those who are less experienced with the React framework and would benefit from extra support.</p></div></div><div class=\"sqs-block spacer-block sqs-block-spacer sized vsize-1\" data-block-type=\"21\" id=\"block-ae47ffa72844383a8e5d\"><div class=\"sqs-block-content\">&nbsp;</div></div><div class=\"row sqs-row\"><div class=\"col sqs-col-4 span-4\"><div class=\"sqs-block image-block sqs-block-image\" data-aspect-ratio=\"99.16666666666667\" data-block-type=\"5\" id=\"block-yui_3_17_2_4_1479953308976_151796\"><div class=\"sqs-block-content\">\\n\\n  \\n\\n  \\t\\n      <div class=\"image-block-outer-wrapper layout-caption-below design-layout-inline\">\\n      \\n        <div class=\"intrinsic\" style=\"max-width:360.0px;\">\\n          \\n            <div style=\"padding-bottom:99.16666412353516%;\" class=\"image-block-wrapper   has-aspect-ratio\" data-description=\"\" >\\n              <noscript><img src=\"https://static1.squarespace.com/static/52fbc928e4b0b0a74813e545/t/58365641d482e9575f0163ac/1479956086555/lioncat2.jpg\"  alt=\"lioncat2.jpg\"  /></noscript><img class=\"thumb-image\" alt=\"lioncat2.jpg\" data-src=\"https://static1.squarespace.com/static/52fbc928e4b0b0a74813e545/t/58365641d482e9575f0163ac/1479956086555/lioncat2.jpg\" data-image=\"https://static1.squarespace.com/static/52fbc928e4b0b0a74813e545/t/58365641d482e9575f0163ac/1479956086555/lioncat2.jpg\" data-image-dimensions=\"360x360\" data-image-focal-point=\"0.5,0.5\" data-load=\"false\" data-image-id=\"58365641d482e9575f0163ac\" data-type=\"image\" />\\n            </div>\\n          \\n\\n          \\n\\n        </div>\\n      \\n      </div>\\n    \\n\\n  \\n\\n\\n</div></div></div><div class=\"col sqs-col-8 span-8\"><div class=\"sqs-block html-block sqs-block-html\" data-block-type=\"2\" id=\"block-yui_3_17_2_4_1479953308976_152004\"><div class=\"sqs-block-content\"><h2>Data Science in the Wild</h2><h3>LEVEL: Intermediate</h3><h3>START DATE: JAN 23RD, tues + thurs, 6-9PM</h3><h3>DURATION: 8 WEEKS</h3><h3>COST $850</h3><h3>Instructor: Lindsay Mico</h3></div></div><div class=\"sqs-block button-block sqs-block-button\" data-block-type=\"53\" id=\"block-yui_3_17_2_2_1480024246180_222817\"><div class=\"sqs-block-content\">\\n<div class=\"sqs-block-button-container--left\">\\n\\t<a href=\"https://docs.google.com/forms/d/e/1FAIpQLSfDQFmS2g2YbF4zQUmv8Qfg5vRYGKVbW8Xma1OsQaWdcFNNNQ/viewform\" class=\"sqs-block-button-element--small sqs-block-button-element\" target=\"_blank\">Apply Right Meow!</a>\\n</div></div></div><div class=\"sqs-block html-block sqs-block-html\" data-block-type=\"2\" id=\"block-yui_3_17_2_2_1480024246180_222884\"><div class=\"sqs-block-content\"><p>\\xa0</p><h3>\\xa0</h3></div></div></div></div><div class=\"sqs-block html-block sqs-block-html\" data-block-type=\"2\" id=\"block-yui_3_17_2_2_1480024246180_168106\"><div class=\"sqs-block-content\"><h3><strong>DESCRIPTION</strong></h3><p>Let\\'s be real.&nbsp;Data science is a frontier and what we think of as \"data\" is often messy and imperfect. &nbsp;This means, before you can get down to math or write a line or code, results are dependent on the ingenuity of someone to obtain and structure information from a complex environment. &nbsp;This is kind of work is a major aspect of being a data scientist, and an area of skill that deepens with experience and evolving technology tools. &nbsp;At Hack Oregon, we\\'ve seen such a need to boost practical skills in this area that we\\'ve designed a course to accelerate an experience that could take years to learn your own.&nbsp;</p><p>This is a practical course that will take you beyond learning how to \"do\" a linear regression (for example), but \"why\" you would want to do one in the first place. &nbsp;We\\'ll give you tools and strategies for translating real world problems into quantitative terms, and introduce analytical tools and techniques for generating quantitative results. &nbsp;These will include common statistical modeling approaches and basic predictive models, as well as less common (but very useful and powerful) tools such as GIS, systems analysis, and simulation environments.. &nbsp;</p><p>This class assumes basic working knowledge of Python and introductory statistics. &nbsp;Course content will be focused,&nbsp;however, on understanding the analytical process at a higher level. &nbsp;A diversity of tools and techniques will be presented, and students will complete (and present) a brief course project that explores one of these more deeply.</p><h3>Tech and topics covered:</h3></div></div><div class=\"sqs-block html-block sqs-block-html sqs-col-6 span-6 float float-right\" data-block-type=\"2\" id=\"block-yui_3_17_2_3_1480025465802_311326\"><div class=\"sqs-block-content\"><ul dir=\"ltr\"><li>Relational databases</li><li>Common local data models (eg. csv, flat files)</li><li>Semistructured data models (eg. JSON)</li><li>Exploratory Analysis &amp; Plottin</li><li>Spatial Data Analysis</li><li>Simulation fundamentals</li><li>Overview of machine learning &amp; predictive modeling</li><li>Natural language processing overview</li></ul></div></div><div class=\"sqs-block html-block sqs-block-html\" data-block-type=\"2\" id=\"block-yui_3_17_2_3_1480025465802_319499\"><div class=\"sqs-block-content\"><ul dir=\"ltr\"><li>Environment/Tech Stack setup</li><li>Python Tools/Packages</li><li>Git/GitHUB</li><li>Getting, cleaning, and documenting data</li><li>APIs/scraping</li><li>Missing values</li><li>Reproducible research best practices and tools</li><li>Statistical design</li><li>Data Structures and Model</li></ul></div></div><div class=\"sqs-block spacer-block sqs-block-spacer sized vsize-1\" data-block-type=\"21\" id=\"block-yui_3_17_2_2_1480024246180_54189\"><div class=\"sqs-block-content\">&nbsp;</div></div><div class=\"row sqs-row\"><div class=\"col sqs-col-4 span-4\"><div class=\"sqs-block image-block sqs-block-image\" data-aspect-ratio=\"99.2084432717678\" data-block-type=\"5\" id=\"block-9c4558c24f1e084b6275\"><div class=\"sqs-block-content\">\\n\\n  \\n\\n  \\t\\n      <div class=\"image-block-outer-wrapper layout-caption-below design-layout-inline\">\\n      \\n        <div class=\"intrinsic\" style=\"max-width:533.0px;\">\\n          \\n            <div style=\"padding-bottom:99.20844268798828%;\" class=\"image-block-wrapper   has-aspect-ratio\" data-description=\"\" >\\n              <noscript><img src=\"https://static1.squarespace.com/static/52fbc928e4b0b0a74813e545/t/583646ecf5e231d2030fe16e/1479956364796/1472343003351.png\"  alt=\"1472343003351.png\"  /></noscript><img class=\"thumb-image\" alt=\"1472343003351.png\" data-src=\"https://static1.squarespace.com/static/52fbc928e4b0b0a74813e545/t/583646ecf5e231d2030fe16e/1479956364796/1472343003351.png\" data-image=\"https://static1.squarespace.com/static/52fbc928e4b0b0a74813e545/t/583646ecf5e231d2030fe16e/1479956364796/1472343003351.png\" data-image-dimensions=\"533x533\" data-image-focal-point=\"0.5,0.5\" data-load=\"false\" data-image-id=\"583646ecf5e231d2030fe16e\" data-type=\"image\" />\\n            </div>\\n          \\n\\n          \\n\\n        </div>\\n      \\n      </div>\\n    \\n\\n  \\n\\n\\n</div></div></div><div class=\"col sqs-col-8 span-8\"><div class=\"sqs-block html-block sqs-block-html\" data-block-type=\"2\" id=\"block-yui_3_17_2_3_1479956976351_79112\"><div class=\"sqs-block-content\"><h2><strong>DEV OPS</strong></h2><h3>LEVEL: ADVANCED</h3><h3>START DATE: JAN 10TH, TUES +&nbsp;THURS, 6-9PM</h3><h3>DURATION: 8 WEEKS</h3><h3>COST $850</h3><h3>INSTRUCTOR: DAN CARR</h3></div></div><div class=\"sqs-block button-block sqs-block-button\" data-block-type=\"53\" id=\"block-351dbee1372733ffc51b\"><div class=\"sqs-block-content\">\\n<div class=\"sqs-block-button-container--left\">\\n\\t<a href=\"https://docs.google.com/forms/d/e/1FAIpQLSfDQFmS2g2YbF4zQUmv8Qfg5vRYGKVbW8Xma1OsQaWdcFNNNQ/viewform\" class=\"sqs-block-button-element--small sqs-block-button-element\" target=\"_blank\">Apply Right Meow!</a>\\n</div></div></div></div></div><div class=\"sqs-block html-block sqs-block-html\" data-block-type=\"2\" id=\"block-yui_3_17_2_2_1480024246180_71514\"><div class=\"sqs-block-content\"><h3><strong>DESCRIPTION</strong></h3><p><span style=\"font-size:14.6667px\">As you might imagine, Hack Oregon has a universe of distributed systems and product releases, and we need a great crew that knows how to manage and maintain seamless deployment. &nbsp;</span></p><p><span style=\"font-size:14.6667px\">We\\'ll teach you the art of building and maintaining the infrastructure powering dynamic websites, &nbsp;with a particular focus on developing scalable software and systems architecture to solve real world problems. &nbsp;Students will gain direct, hands on experience inside the Hack Oregon Dev Ops team during our active production sprint and participate in the deployment of season projects.&nbsp;</span></p><h3><strong><span style=\"font-size:14.6667px\">TECH USED</span></strong></h3><p><span style=\"font-size:14.6667px\">Hack Oregon operational stack includes AWS, Ansible, Docker and Vagrant. Applications are written in Python and NodeJs using Django and React. We\\'ll also take an overview into IBM tools, including Bluemix and Watson Analytics.&nbsp;</span></p><p><span style=\"font-size:14.66670036315918px\">Topics covered include basic network and AWS VPC architecture, Automating AWS deployments with configuration management, software install with CM tools, self-healing application stack design, and Dockerizing existing projects.</span></p><h3><strong><span style=\"font-size:14.6667px\">WHO SHOULD TAKE IT?</span></strong></h3><p><span style=\"font-size:14.6667px\">You don’t necessarily need to be senior engineer or long time IT admin to qualify, but we’re classifying this course at an advanced level given the pace, pressure, and hands on sink-or-swim ethos of a production sprint and high pressure launch date. &nbsp;</span></p><ul><li><span style=\"font-size:14.6667px\">If you survive, you’ll have earned your keys to the Kingdom of Delivery where you\\'ll be praised as a god among us. &nbsp;Not to mention, Dev Ops is a much needed industry position with great starting salaries. &nbsp;</span></li></ul></div></div><div class=\"sqs-block spacer-block sqs-block-spacer sized vsize-1\" data-block-type=\"21\" id=\"block-yui_3_17_2_2_1480024246180_83530\"><div class=\"sqs-block-content\">&nbsp;</div></div><div class=\"row sqs-row\"><div class=\"col sqs-col-4 span-4\"><div class=\"sqs-block image-block sqs-block-image\" data-block-type=\"5\" id=\"block-yui_3_17_2_4_1479953308976_90249\"><div class=\"sqs-block-content\">\\n\\n  \\n\\n  \\t\\n      <div class=\"image-block-outer-wrapper layout-caption-below design-layout-inline\">\\n      \\n        <div class=\"intrinsic\" style=\"max-width:500.0px;\">\\n          \\n            <div style=\"padding-bottom:100.0%;\" class=\"image-block-wrapper   has-aspect-ratio\" data-description=\"\" >\\n              <noscript><img src=\"https://static1.squarespace.com/static/52fbc928e4b0b0a74813e545/t/5836545d03596ef406d6a21a/1479955574488/sunglasstriocat.jpg\"  alt=\"sunglasstriocat.jpg\"  /></noscript><img class=\"thumb-image\" alt=\"sunglasstriocat.jpg\" data-src=\"https://static1.squarespace.com/static/52fbc928e4b0b0a74813e545/t/5836545d03596ef406d6a21a/1479955574488/sunglasstriocat.jpg\" data-image=\"https://static1.squarespace.com/static/52fbc928e4b0b0a74813e545/t/5836545d03596ef406d6a21a/1479955574488/sunglasstriocat.jpg\" data-image-dimensions=\"500x500\" data-image-focal-point=\"0.5,0.5\" data-load=\"false\" data-image-id=\"5836545d03596ef406d6a21a\" data-type=\"image\" />\\n            </div>\\n          \\n\\n          \\n\\n        </div>\\n      \\n      </div>\\n    \\n\\n  \\n\\n\\n</div></div></div><div class=\"col sqs-col-8 span-8\"><div class=\"sqs-block html-block sqs-block-html\" data-block-type=\"2\" id=\"block-yui_3_17_2_4_1479953308976_90457\"><div class=\"sqs-block-content\"><h2>Backend Integration</h2><h3>LEVEL: INTERMEDIATE</h3><h3>START DATE: JAN 23RD, TUES + THURS, 6-9PM</h3><h3>DURATION: 8 WEEKS</h3><h3>Cost: $850</h3></div></div><div class=\"sqs-block button-block sqs-block-button\" data-block-type=\"53\" id=\"block-yui_3_17_2_4_1480012066523_301305\"><div class=\"sqs-block-content\">\\n<div class=\"sqs-block-button-container--left\">\\n\\t<a href=\"https://docs.google.com/forms/d/e/1FAIpQLSfDQFmS2g2YbF4zQUmv8Qfg5vRYGKVbW8Xma1OsQaWdcFNNNQ/viewform\" class=\"sqs-block-button-element--small sqs-block-button-element\" target=\"_blank\">Apply Right Meow!</a>\\n</div></div></div></div></div><div class=\"sqs-block html-block sqs-block-html\" data-block-type=\"2\" id=\"block-yui_3_17_2_2_1480012066523_600133\"><div class=\"sqs-block-content\"><h3><strong>DESCRIPTION</strong></h3><p>Do you have a need to share result sets of your databases or datasets with other people? &nbsp;</p><p>Build an API to organize information and connect your data to the cloud!&nbsp;This class is a blend of our Database Programming and Web Frameworks courses that will teach you how to design and build portals that can make your internal data accessible on the web. &nbsp;It\\'s a good way to share machine readable information, and take the next steps toward building dashboards or web applications to display and investigate live, updating data. &nbsp;We\\'ll teach you how to keep information secure, so private data stays private, and how to share information you\\'d like to make available to the web or among a group of approved collaborators.&nbsp;</p><h3>Tech Used:</h3><p>PostgreSQL</p><p>Django REST Framework</p><h3>Who should take this course?</h3><p>If you\\'re proficient in any backend language (Python, Ruby, Java, etc) and/or SQL you\\'ll do great.</p><p>If you\\'re looking for your first dev job, the ability to build APIs is an incredibly marketable and in-demand skill, and we\\'re confident we can get you up and running this project season. &nbsp;If you\\'ve been learning on your own for a while or coming right out of a code school from a non-python background,&nbsp;&nbsp;building web apps through a new framework can also be a great learning exercise to ground your current knowledge and expand your systems-thinking. If you\\'re a current database admin, or drowning in excel files, you\\'ll get even more out of this course.&nbsp;</p><p>Note: This course doesn\\'t cover building databases from scratch or deployment. See Dev Ops (above), or look for our next offering of Database Programming.&nbsp;&nbsp;</p></div></div><div class=\"sqs-block spacer-block sqs-block-spacer sized vsize-1\" data-block-type=\"21\" id=\"block-yui_3_17_2_2_1480024246180_55829\"><div class=\"sqs-block-content\">&nbsp;</div></div><div class=\"row sqs-row\"><div class=\"col sqs-col-6 span-6\"><div class=\"sqs-block image-block sqs-block-image\" data-block-type=\"5\" id=\"block-yui_3_17_2_4_1479953308976_244531\"><div class=\"sqs-block-content\">\\n\\n  \\n\\n  \\t\\n      <div class=\"image-block-outer-wrapper layout-caption-below design-layout-inline\">\\n      \\n        <div class=\"intrinsic\" style=\"max-width:420.0px;\">\\n          \\n            <div style=\"padding-bottom:100.0%;\" class=\"image-block-wrapper   has-aspect-ratio\" data-description=\"\" >\\n              <noscript><img src=\"https://static1.squarespace.com/static/52fbc928e4b0b0a74813e545/t/5836594520099ed326f42811/1479956849510/newyorkcat.jpg\"  alt=\"newyorkcat.jpg\"  /></noscript><img class=\"thumb-image\" alt=\"newyorkcat.jpg\" data-src=\"https://static1.squarespace.com/static/52fbc928e4b0b0a74813e545/t/5836594520099ed326f42811/1479956849510/newyorkcat.jpg\" data-image=\"https://static1.squarespace.com/static/52fbc928e4b0b0a74813e545/t/5836594520099ed326f42811/1479956849510/newyorkcat.jpg\" data-image-dimensions=\"420x420\" data-image-focal-point=\"0.5,0.5\" data-load=\"false\" data-image-id=\"5836594520099ed326f42811\" data-type=\"image\" />\\n            </div>\\n          \\n\\n          \\n\\n        </div>\\n      \\n      </div>\\n    \\n\\n  \\n\\n\\n</div></div></div><div class=\"col sqs-col-6 span-6\"><div class=\"sqs-block html-block sqs-block-html\" data-block-type=\"2\" id=\"block-yui_3_17_2_3_1480025465802_835174\"><div class=\"sqs-block-content\"><h2>DIGITIAL MARKETING AND BRANDING</h2><h3>LEVEL: BEGINNING</h3><h3>START DATE: JAN 23RD, MON + WED, 6-9PM</h3><h3>DURATION: 8 WEEKS</h3><h3>COST $850</h3><h3>Instructor: Kari Goin + Special Guest Series&nbsp;</h3></div></div><div class=\"sqs-block button-block sqs-block-button\" data-block-type=\"53\" id=\"block-yui_3_17_2_8_1480035836825_34677\"><div class=\"sqs-block-content\">\\n<div class=\"sqs-block-button-container--left\">\\n\\t<a href=\"https://docs.google.com/forms/d/e/1FAIpQLSfDQFmS2g2YbF4zQUmv8Qfg5vRYGKVbW8Xma1OsQaWdcFNNNQ/viewform\" class=\"sqs-block-button-element--small sqs-block-button-element\" target=\"_blank\">APPLY RIGHT Meow!</a>\\n</div></div></div><div class=\"sqs-block html-block sqs-block-html\" data-block-type=\"2\" id=\"block-yui_3_17_2_8_1480035836825_34745\"><div class=\"sqs-block-content\"><p>\\xa0</p><h3>\\xa0</h3></div></div></div></div><div class=\"sqs-block html-block sqs-block-html\" data-block-type=\"2\" id=\"block-yui_3_17_2_3_1480025465802_1380640\"><div class=\"sqs-block-content\"><h3><strong>DESCRIPTION</strong></h3><p>At Hack Oregon we talk a lot of about coding, but you certainly don\\'t need to be a developer to create a powerful voice and content online. &nbsp;</p><p>The world of advertising and branding online (and IRL)&nbsp;has been rapidly evolving with social media. &nbsp;How has this changed marketing as an industry?&nbsp;How do you find a your authentic voice and let your brand stand out in a sea of internet chatter?&nbsp;&nbsp;What parts of traditional advertising principals are relevant, and how traditions being adapted?&nbsp;</p><p>Whether you\\'re looking to market yourself, a company, or a special project, we can take you inside the world of cutting edge digital strategy with experts on the front lines. &nbsp;We\\'ll also give you the real-world experience of creating a marketing campaign for the launch of Portland\\'s new open data portal--- built by Hack Oregon! &nbsp;</p><h3>Who should take this course?</h3><p>This course is great for anyone who wants to create powerful online content, and is especially relevant for those who are thinking about breaking into the creative digital field or actively building a portfolio to apply to agencies.&nbsp;</p></div></div><div class=\"sqs-block spacer-block sqs-block-spacer sized vsize-1\" data-block-type=\"21\" id=\"block-yui_3_17_2_5_1480111306117_131315\"><div class=\"sqs-block-content\">&nbsp;</div></div><div class=\"row sqs-row\"><div class=\"col sqs-col-6 span-6\"><div class=\"sqs-block image-block sqs-block-image\" data-block-type=\"5\" id=\"block-yui_3_17_2_2_1480024246180_253143\"><div class=\"sqs-block-content\">\\n\\n  \\n\\n  \\t\\n      <div class=\"image-block-outer-wrapper layout-caption-below design-layout-inline\">\\n      \\n        <div class=\"intrinsic\" style=\"max-width:500.0px;\">\\n          \\n            <div style=\"padding-bottom:100.0%;\" class=\"image-block-wrapper   has-aspect-ratio\" data-description=\"\" >\\n              <noscript><img src=\"https://static1.squarespace.com/static/52fbc928e4b0b0a74813e545/t/583764b36b8f5ba7a0da792b/1480025291914/catgod.jpeg\"  alt=\"catgod.jpeg\"  /></noscript><img class=\"thumb-image\" alt=\"catgod.jpeg\" data-src=\"https://static1.squarespace.com/static/52fbc928e4b0b0a74813e545/t/583764b36b8f5ba7a0da792b/1480025291914/catgod.jpeg\" data-image=\"https://static1.squarespace.com/static/52fbc928e4b0b0a74813e545/t/583764b36b8f5ba7a0da792b/1480025291914/catgod.jpeg\" data-image-dimensions=\"500x500\" data-image-focal-point=\"0.5,0.5\" data-load=\"false\" data-image-id=\"583764b36b8f5ba7a0da792b\" data-type=\"image\" />\\n            </div>\\n          \\n\\n          \\n\\n        </div>\\n      \\n      </div>\\n    \\n\\n  \\n\\n\\n</div></div></div><div class=\"col sqs-col-6 span-6\"><div class=\"sqs-block html-block sqs-block-html\" data-block-type=\"2\" id=\"block-yui_3_17_2_5_1480111306117_36598\"><div class=\"sqs-block-content\"><h2>3D WITH UNITY</h2><h3>START DATE: JAN 23RD, MON + WED, 6-9PM</h3><h3>LEVEL: INTERMEDIATE</h3><h3>DURATION: 8 WEEKS</h3><h3>COST: $850</h3><h3 dir=\"ltr\">Instructor: TBA</h3></div></div><div class=\"sqs-block button-block sqs-block-button\" data-block-type=\"53\" id=\"block-yui_3_17_2_5_1480111306117_59021\"><div class=\"sqs-block-content\">\\n<div class=\"sqs-block-button-container--left\">\\n\\t<a href=\"\" class=\"sqs-block-button-element--small sqs-block-button-element\" >Apply right Meow!</a>\\n</div></div></div></div></div><div class=\"sqs-block html-block sqs-block-html\" data-block-type=\"2\" id=\"block-yui_3_17_2_5_1480111306117_59088\"><div class=\"sqs-block-content\"><h3><strong>DESCRIPTION</strong></h3><p>Do you dream in 3D?</p><p>Of course you do. Why not the that dream and make it a reality? In the 3D with Unity course you can learn to create your own worlds. &nbsp;If you\\'re a complete beginner, we\\'ll teach you all the coding and game design principles you\\'ll need. &nbsp;If you\\'re an artist, we\\'ll teach you to bring your assets to life. If you\\'re a coder, get ready to make your 3D dreams a reality!&nbsp;</p><p><strong>*This course is currently still in development, and is beginning step toward Hack Oregon expanding more of our civic work into 3D experiences. &nbsp;More information to be announced soon, but you can get on the early inquiry list now.&nbsp;</strong></p></div></div></div></div></div>\\n        </div><!-- comment the linebreak between these two elements because science\\n        -->\\n        \\n      </main>\\n\\n      <div id=\"preFooter\">\\n        <div class=\"pre-footer-inner\">\\n          <div class=\"sqs-layout sqs-grid-12 columns-12 empty\" data-layout-label=\"Pre-Footer Content\" data-type=\"block-field\" data-updated-on=\"1392327307057\" id=\"preFooterBlocks\"><div class=\"row sqs-row\"><div class=\"col sqs-col-12 span-12\"></div></div></div>\\n        </div>\\n      </div>\\n\\n      <footer id=\"footer\" role=\"contentinfo\">\\n        <div class=\"footer-inner\">\\n          <div class=\"nav-wrapper back-to-top-nav\"><nav><div class=\"back-to-top\"><a href=\"#header\">Back to Top</a></div></nav></div>\\n          <div id=\"secondaryNavWrapper\" class=\"nav-wrapper\" data-content-field=\"navigation-secondaryNav\">\\n  <nav id=\"secondaryNavigation\" data-content-field=\"navigation-secondaryNav\">\\n    \\n      \\n        \\n\\n        \\n\\n          \\n          <div class=\"collection active\" id=\"id5836423e15d5db57b198eb36\">\\n            <a href=\"/upcoming-courses/\">\\n              <span>Upcoming Courses</span>\\n            </a>\\n          </div>\\n          \\n\\n        \\n      \\n      \\n\\n    \\n      \\n        \\n\\n        \\n\\n          \\n          <div class=\"collection\" id=\"id572fa72de707ebda42618754\">\\n            <a href=\"/testimonials/\">\\n              <span>Testimonials</span>\\n            </a>\\n          </div>\\n          \\n\\n        \\n      \\n      \\n\\n    \\n      \\n        \\n\\n        \\n\\n          \\n          <div class=\"collection\" id=\"id55172261e4b05c72e7f427e8\">\\n            <a href=\"/contact-1/\">\\n              <span>Leadership Team</span>\\n            </a>\\n          </div>\\n          \\n\\n        \\n      \\n      \\n\\n    \\n      \\n        \\n        <div class=\"external\">\\n          <a href=\"/join\">\\n            <span>Apply for a Team</span>\\n          </a>\\n        </div>\\n        \\n\\n      \\n\\n    \\n      \\n        \\n\\n        \\n\\n          \\n          <div class=\"collection\" id=\"id55762ce6e4b093fac0b0f46f\">\\n            <a href=\"/methodology/\">\\n              <span>Team Methodology</span>\\n            </a>\\n          </div>\\n          \\n\\n        \\n      \\n      \\n\\n    \\n      \\n        \\n\\n        \\n\\n          \\n          <div class=\"collection\" id=\"id55762c6ce4b0c0f2cf393927\">\\n            <a href=\"/what-to-expect/\">\\n              <span>Volunteer FAQ</span>\\n            </a>\\n          </div>\\n          \\n\\n        \\n      \\n      \\n\\n    \\n      \\n        \\n        <div class=\"external\">\\n          <a href=\"/hack-university\">\\n            <span>Hack University</span>\\n          </a>\\n        </div>\\n        \\n\\n      \\n\\n    \\n      \\n        \\n\\n        \\n\\n          \\n          <div class=\"collection\" id=\"id5670b97ccbced6a949f70de8\">\\n            <a href=\"/more-questions-answered/\">\\n              <span>Hack University FAQ</span>\\n            </a>\\n          </div>\\n          \\n\\n        \\n      \\n      \\n\\n    \\n      \\n        \\n\\n        \\n\\n          \\n          <div class=\"collection\" id=\"id566a3ae8c21b86abf16d72b3\">\\n            <a href=\"/donate/\">\\n              <span>\"Check Meowt\"</span>\\n            </a>\\n          </div>\\n          \\n\\n        \\n      \\n      \\n\\n    \\n      \\n        \\n\\n        \\n\\n          \\n          <div class=\"collection\" id=\"id574216981bbee0ad7c7b8f6a\">\\n            <a href=\"/code-of-conduct/\">\\n              <span>Code of Conduct</span>\\n            </a>\\n          </div>\\n          \\n\\n        \\n      \\n      \\n\\n    \\n  </nav>\\n</div>\\n\\n\\n          <div id=\"siteInfo\"><span class=\"site-address\">Hack Oregon, Portland, Oregon</span><span rel=\"tel\" class=\"site-phone\">5034072963</span><a href=\"mailto:hello@hackoregon.org\" class=\"site-email\"><span>hello@hackoregon.org</span></a></div>\\n          <div class=\"sqs-layout sqs-grid-12 columns-12 empty\" data-layout-label=\"Footer Content\" data-type=\"block-field\" data-updated-on=\"1392316525903\" id=\"footerBlocks\"><div class=\"row sqs-row\"><div class=\"col sqs-col-12 span-12\"></div></div></div>\\n        </div>\\n      </footer>\\n\\n    </div>\\n\\n    <script src=\"https://static1.squarespace.com/static/ta/52a74d9ae4b0253945d2aee9/974/scripts/site-bundle.js\" type=\"text/javascript\"></script>\\n    <script type=\"text/javascript\" data-sqs-type=\"imageloader-bootstraper\">(function() {if(window.ImageLoader) { window.ImageLoader.bootstrap(); }})();</script>\\n<script>Squarespace.afterBodyLoad(Y);</script>\\n\\n  </body>\\n</html>\\n'"
      ]
     },
     "execution_count": 37,
     "metadata": {},
     "output_type": "execute_result"
    }
   ],
   "source": [
    "response2.text"
   ]
  },
  {
   "cell_type": "code",
   "execution_count": 39,
   "metadata": {
    "collapsed": true
   },
   "outputs": [
    {
     "name": "stdout",
     "output_type": "stream",
     "text": [
      "<!DOCTYPE doctype html>\n",
      "<html class=\"touch-styles\" itemscope=\"\" itemtype=\"http://schema.org/WebPage\" lang=\"en-US\" xmlns:fb=\"http://www.facebook.com/2008/fbml\" xmlns:og=\"http://opengraphprotocol.org/schema/\" xmlns:website=\"http://ogp.me/ns/website\">\n",
      " <head>\n",
      "  <meta content=\"IE=edge,chrome=1\" http-equiv=\"X-UA-Compatible\">\n",
      "   <meta content=\"width=device-width, initial-scale=1\" name=\"viewport\">\n",
      "    <!-- This is Squarespace. -->\n",
      "    <!-- catherine-nikolovski -->\n",
      "    <base href=\"\">\n",
      "     <meta charset=\"utf-8\"/>\n",
      "     <title>\n",
      "      Upcoming Courses — Hack Oregon\n",
      "     </title>\n",
      "     <link href=\"/favicon.ico\" rel=\"shortcut icon\" type=\"image/x-icon\"/>\n",
      "     <link href=\"http://www.hackoregon.org/upcoming-courses/\" rel=\"canonical\"/>\n",
      "     <meta content=\"Hack Oregon\" property=\"og:site_name\"/>\n",
      "     <meta content=\"Upcoming Courses\" property=\"og:title\"/>\n",
      "     <meta content=\"http://www.hackoregon.org/upcoming-courses/\" property=\"og:url\"/>\n",
      "     <meta content=\"website\" property=\"og:type\"/>\n",
      "     <meta content=\"Upcoming Courses\" itemprop=\"name\"/>\n",
      "     <meta content=\"http://www.hackoregon.org/upcoming-courses/\" itemprop=\"url\"/>\n",
      "     <meta content=\"Upcoming Courses\" name=\"twitter:title\"/>\n",
      "     <meta content=\"http://www.hackoregon.org/upcoming-courses/\" name=\"twitter:url\"/>\n",
      "     <meta content=\"summary\" name=\"twitter:card\"/>\n",
      "     <meta content=\"Hack Oregon is a community-powered nonprofit committed to promoting greater \r\n",
      "civic awareness and engagement through data-inspired projects.\" name=\"description\"/>\n",
      "     <script src=\"//use.typekit.net/ik/56bs_b30WA1w9p2Fqnyf40480jWtj9xKKcGxDbU4tIwfenC2fFHN4UJLFRbh52jhWD9kZc4R5QJtZQsKweJ3jQSX52IDZQ9XFsTaiaiaOcyyjhlzScm1dht0da41OeyyjhlzScm1dht0da41OeUzjhBC-eNDifURjWsGZW4Tdc9ldc8ndhUzi1Fn-PoDSWmyScmDSeBRZPoRdhXCHKoRjWsGZW4Tdc9ldc8ndhUzi1Fn-PoDSWmyScmDSeBRZPoRdhXK2YgkdayTdAIldcNhjPJPjAszjc9lZhBkjAuzdcblSY4zH6qJ73IbMg6gJMJ7fbKCMsMMeMC6MKG4f5J7IMMjMkMfH6qJtkGbMg6FJMJ7fbKzMsMMeMb6MKG4fOMgIMMj2KMfH6GJCwbgIMMjgPMfH6GJCSbgIMMj2kMfH6qJnbIbMg6eJMJ7fbK0MsMMegM6MKG4fJCgIMMjgkMfH6qJRMIbMg6sJMJ7fbKTMsMMeM66MKG4fHGgIMMjIKMfH6qJKbIbMg64JMJ7fbKHMsMMegw6MKG4fVwXIMIjgfMfH6qJvRbbMs65JMJ7fbRXFgMgeMj6MKG4fV9XIMIjIfMfH6qJv2bbMs6YJMJ7fbRUFgMgegI6MTMgz7ARC39.js\" type=\"text/javascript\">\n",
      "     </script>\n",
      "     <script type=\"text/javascript\">\n",
      "      try{Typekit.load();}catch(e){}\n",
      "     </script>\n",
      "     <link href=\"//fonts.googleapis.com/css?family=Varela+Round:400,400italic,700normal,700italic\" rel=\"stylesheet\" type=\"text/css\"/>\n",
      "     <script type=\"text/javascript\">\n",
      "      SQUARESPACE_ROLLUPS = {};\n",
      "     </script>\n",
      "     <script>\n",
      "      (function(rollups, name) { if (!rollups[name]) { rollups[name] = {}; } rollups[name].js = [\"//static.squarespace.com/universal/scripts-compressed/common-3d18494811f09fbe543f-min.js\"]; })(SQUARESPACE_ROLLUPS, 'squarespace-common');\n",
      "     </script>\n",
      "     <script crossorigin=\"anonymous\" src=\"//static.squarespace.com/universal/scripts-compressed/common-3d18494811f09fbe543f-min.js\">\n",
      "     </script>\n",
      "     <script>\n",
      "      (function(rollups, name) { if (!rollups[name]) { rollups[name] = {}; } rollups[name].js = [\"//static.squarespace.com/universal/scripts-compressed/commerce-7be89cf7afca17009bde-min.js\"]; })(SQUARESPACE_ROLLUPS, 'squarespace-commerce');\n",
      "     </script>\n",
      "     <script crossorigin=\"anonymous\" src=\"//static.squarespace.com/universal/scripts-compressed/commerce-7be89cf7afca17009bde-min.js\">\n",
      "     </script>\n",
      "     <script>\n",
      "      (function(rollups, name) { if (!rollups[name]) { rollups[name] = {}; } rollups[name].css = [\"//static.squarespace.com/universal/styles-compressed/commerce-5ff3a810469d9b1346052dcaf72c56ae-min.css\"]; })(SQUARESPACE_ROLLUPS, 'squarespace-commerce');\n",
      "     </script>\n",
      "     <link href=\"//static.squarespace.com/universal/styles-compressed/commerce-5ff3a810469d9b1346052dcaf72c56ae-min.css\" rel=\"stylesheet\" type=\"text/css\"/>\n",
      "     <script data-sqs-type=\"imageloader\" type=\"text/javascript\">\n",
      "      (function() {var EXCLUDED_SIZES=function(){var a=window.location.search,b=a.indexOf(\"exclude_imageloader_sizes=\");return-1<b&&(a=a.substr(b+26).split(\"&\")[0])?a.split(\",\").map(function(a){return parseInt(a,10)}):[]}(),SQUARESPACE_SIZES=[2500,1500,1E3,750,500,300,100].filter(function(a){return-1===EXCLUDED_SIZES.indexOf(a)}),IMAGE_LOADING_CLASS=\"loading\",ImageLoader=new function(){this.load=function(a,b){function d(a,b,c){var d=new Image;d.onload=b;d.onerror=c;d.src=a}a.getDOMNode&&(a=a.getDOMNode());var c=this._getDataFromNode(a,\n",
      "b),e=!(!c.dimensions||!c.dimensions.width||!c.dimensions.height),g=c.load+\"\";if(\"false\"===g)return!1;var h=c.mode;if(e&&(\"fit\"===h||\"fill\"===h)){h=a.parentNode;if(!h)return console.error(\"Not doing anything, parentNode not found.\"),!1;if(!this.refresh(a,b,h))return!1}var n=this._intendToLoad(a,c);if(\"string\"===typeof n&&\"viewport\"!==g){var m=this.getUrl(n,c),g=a.getAttribute(\"data-image-resolution\");a.getAttribute(\"src\")!==m&&this.isValidResolution(n,g)&&(a.onload=function(){a.className=a.className.replace(IMAGE_LOADING_CLASS,\n",
      "\" \").trim();a.setAttribute(\"data-image-resolution\",n)},!a.getAttribute(\"src\")&&-1===a.className.indexOf(IMAGE_LOADING_CLASS)&&(a.className+=(a.className?\" \":\"\")+IMAGE_LOADING_CLASS),!a.getAttribute(\"src\")&&e?(a.setAttribute(\"src\",m),c.useBgImage&&(a.parentNode.style.backgroundImage=\"url(\"+m+\")\")):d(m,function(){e?a.setAttribute(\"src\",m):(a.setAttribute(\"data-image-dimensions\",this.width+\"x\"+this.height),ImageLoader.load(a,b))},function(){a.className=a.className.replace(IMAGE_LOADING_CLASS,\" \").trim();\n",
      "a.setAttribute(\"src\",m)}));return!0}return n};this.refresh=function(a,b,d){a.getDOMNode&&(a=a.getDOMNode());d&&d.getDOMNode&&(d=d.getDOMNode());d=d||a.parentNode;if(!d)return console.error(\"Not doing anything, parentNode not found.\"),!1;var c=this._getDataFromNode(a,b),e=d.offsetWidth,g=d.offsetHeight;b=c.mode;if(\"none\"!==b){var h=c.dimensions.width,n=c.dimensions.height,m=h/n,q=e/g;if(c.useBgImage&&\"fill\"===b&&\"backgroundSize\"in document.documentElement.style)return a.style.display=\"none\",d.style.backgroundSize=\n",
      "\"cover\",d.style.backgroundPosition=100*c.focalPoint.x+\"% \"+100*c.focalPoint.y+\"%\",!0;if(c.fixedRatio)\"fill\"==b&&q>m||\"fit\"==b&&q<m?(k=100,l=100*(q/m),r=(100-l)*c.focalPoint.y,p=0):(k=100*(m/q),l=100,r=0,p=(100-k)*c.focalPoint.x),a.style.top=r+\"%\",a.style.left=p+\"%\",a.style.width=k+\"%\",a.style.height=l+\"%\";else{var f;\"fill\"===b?f=m>q?g/n:e/h:\"fit\"===b&&(f=m<q?g/n:e/h);!c.stretch&&\"fit\"==b&&1<f&&(f=1);var k=Math.ceil(h*f),l=Math.ceil(n*f);if(0===k||0===l)return!1;var p,r;\"fill\"===b?(p=Math.min(Math.max(e/\n",
      "2-k*c.focalPoint.x,e-k),0),r=Math.min(Math.max(g/2-l*c.focalPoint.y,g-l),0)):\"fit\"===b&&(f=c.fitAlignment,p=f.left?0:f.right?e-k:k<e?(e-k)/2:0,r=f.top?0:f.bottom?g-l:l<g?(g-l)/2:0,\"inline\"==this._getStyle(a,\"display\")&&(a.style.fontSize=\"0px\"),this._resetAlt(a,function(){k-=a.offsetHeight-a.clientHeight;l-=a.offsetWidth-a.clientWidth}));a.style.top=Math.ceil(r)+\"px\";a.style.left=Math.ceil(p)+\"px\";a.style.width=Math.ceil(k)+\"px\";a.style.height=Math.ceil(l)+\"px\"}p=this._getStyle(d,\"position\");a.style.position=\n",
      "\"relative\"==p?\"absolute\":\"relative\";if(\"fill\"==b&&(b=this._getStyle(d,\"overflow\"),!b||\"hidden\"!=b))d.style.overflow=\"hidden\";return!0}};this._intendToLoad=function(a,b){function d(c,d){\"none\"===b.mode&&(a.style.width=null,a.style.height=null);var e=parseFloat(a.getAttribute(c)),f=parseFloat(e);if(!f||isNaN(f))e=h._getStyle(a,c),f=parseFloat(e);if(!f||isNaN(f))e=h._getStyle(a,\"max-\"+c,\"max\"+(c.substr(0,1).toUpperCase()+c.substr(1))),f=parseFloat(e);if(0===d||e)switch(h._stringType(e)){case \"percentage\":d=\n",
      "parseInt(e,10)/100*g[\"offset\"+c.substr(0,1).toUpperCase()+c.substr(1)];break;case \"number\":d=parseInt(e,10)}!f&&0!==d&&!a.getAttribute(\"src\")&&(d=0);return d}b=b||this._getDataFromNode(a);if(!b.source)return!1;var c=a.offsetWidth,e=a.offsetHeight,g=a.parentNode,h=this;this._resetAlt(a,function(){c=d(\"width\",c);e=d(\"height\",e)});0===c&&0===e?(c=b.dimensions.width,e=b.dimensions.height):0===c?c=this.getDimensionForValue(\"width\",e,b):0===e&&(e=this.getDimensionForValue(\"height\",c,b));\"viewport\"===b.load&&\n",
      "(a.style.width=Math.floor(c)+\"px\",a.style.height=Math.floor(e)+\"px\");return this.getSquarespaceSize(c,e,b)};this._getDataFromNode=function(a,b){b=b||{};var d={focalPoint:{x:0.5,y:0.5},dimensions:{width:null,height:null},mode:\"none\",fitAlignment:{center:!0},load:\"true\",stretch:!0,fixedRatio:!1};if(b.focalPoint)d.focalPoint=b.focalPoint;else{var c=a.getAttribute(\"data-image-focal-point\");if(c&&(c=c.split(\",\"))&&2==c.length)d.focalPoint={x:parseFloat(c[0]),y:parseFloat(c[1])}}if(b.dimensions)d.dimensions=\n",
      "b.dimensions;else if((c=a.getAttribute(\"data-image-dimensions\"))&&(c=c.split(\"x\"))&&2==c.length)d.dimensions={width:parseInt(c[0],10),height:parseInt(c[1],10)};b.mode?d.mode=b.mode:a.parentNode&&(c=a.parentNode.className,-1!==c.indexOf(\"content-fill\")?d.mode=\"fill\":-1!==c.indexOf(\"content-fit\")&&(d.mode=\"fit\"));if(\"fit\"===d.mode&&a.parentNode&&(c=b.fitAlignment||a.getAttribute(\"data-alignment\")||a.parentNode.getAttribute(\"data-alignment\")))d.fitAlignment={top:-1!==c.indexOf(\"top\"),left:-1!==c.indexOf(\"left\"),\n",
      "center:-1!==c.indexOf(\"center\"),right:-1!==c.indexOf(\"right\"),bottom:-1!==c.indexOf(\"bottom\")};b.load?d.load=b.load:(c=a.getAttribute(\"data-load\"))&&(d.load=c);if(\"undefined\"!==typeof b.stretch)d.stretch=b.stretch;else if(c=a.getAttribute(\"data-image-stretch\"))d.stretch=\"true\"===c?!0:!1;d.source=b.source?b.source:a.getAttribute(\"data-src\");d.source&&this.isSquarespaceUrl(d.source)&&(\"http:\"===d.source.substr(0,5)&&\"https\"===window.location.protocol.substr(0,5))&&(d.source=d.source.replace(\"http://\",\n",
      "\"https://\"));if(b.fixedRatio)d.fixedRatio=b.fixedRatio;else if(c=a.getAttribute(\"data-fixed-ratio\"))d.fixedRatio=\"true\"==c;b.useBgImage?d.useBgImage=b.useBgImage:(c=a.getAttribute(\"data-use-bg-image\"),d.useBgImage=\"true\"===c||!0===c?!0:!1);return d};this._stringType=function(a){return\"string\"===typeof a&&-1!==a.indexOf(\"%\")?\"percentage\":isNaN(parseInt(a,10))?NaN:\"number\"};this._getStyle=function(a,b,d){var c;a.currentStyle?c=a.currentStyle[d||b]:window.getComputedStyle&&(c=document.defaultView.getComputedStyle(a,\n",
      "null).getPropertyValue(b));return c};this._isVisible=function(a){a=a.getBoundingClientRect();return 0<=a.left&&0<=a.top||0<=a.bottom&&0<=a.right||0<=a.left&&0<=a.bottom||0<=a.right&&0<=a.top};this.getSquarespaceSize=function(a,b,d){a=Math.max(b/(d.dimensions.height/d.dimensions.width),a);\"undefined\"===typeof app&&\"number\"===typeof window.devicePixelRatio&&(a*=window.devicePixelRatio);for(b=1;b<SQUARESPACE_SIZES.length&&!(a>SQUARESPACE_SIZES[b]);b++);return SQUARESPACE_SIZES[b-1]+\"w\"};this.getDimensionForValue=\n",
      "function(a,b,d){var c=d.dimensions.width;d=d.dimensions.height;return\"width\"==a?c/d*b:\"height\"==a?d/c*b:NaN};this.getUrl=function(a,b){var d=b.source;return a&&(\"/\"==d[0]||this.isSquarespaceUrl(d))?(-1===d.indexOf(\"format=\"+a)&&(d=d+(-1!==d.indexOf(\"?\")?\"&\":\"?\")+\"format=\"+a),d):b.source};this.isSquarespaceUrl=function(a){return-1!==a.indexOf(\"squarespace.com\")||-1!==a.indexOf(\"squarespace.net\")||-1!==a.indexOf(\"sqsp.net\")};this.isValidResolution=function(a,b){a=parseInt(a,10);b=parseInt(b,10);return isNaN(a)||\n",
      "isNaN(b)?!0:a>b};this._resetAlt=function(a,b){var d=a.getAttribute(\"alt\"),c=d&&0<d.length&&!a.getAttribute(\"src\");if(c){var e=a.style.display;a.removeAttribute(\"alt\");a.style.display=\"none\";a.offsetHeight+0;a.style.display=e}b.call(this);c&&a.setAttribute(\"alt\",d)};this.bootstrap=function(){var a=document.images;if(0<a.length)for(var b=0,d=a.length;b<d;b++)((a[b].hasAttribute?a[b].hasAttribute(\"data-image\"):a[b].attributes[\"data-image\"])||(a[b].hasAttribute?a[b].hasAttribute(\"data-src\"):a[b].attributes[\"data-src\"]))&&\n",
      "\"false\"!==(a[b].getAttribute?a[b].getAttribute(\"data-load\"):a[b].attributes[\"data-load\"])+\"\"&&ImageLoader.load(a[b])}};window.ImageLoader=ImageLoader;window.YUI&&YUI.add(\"squarespace-imageloader\",function(a){},\"1.0\",{requires:[]});\n",
      "})();\n",
      "     </script>\n",
      "     <script>\n",
      "      Static.SQUARESPACE_CONTEXT = {\"facebookAppId\":\"314192535267336\",\"rollups\":{\"squarespace-announcement-bar\":{\"css\":\"//static.squarespace.com/universal/styles-compressed/announcement-bar-d41d8cd98f00b204e9800998ecf8427e-min.css\",\"js\":\"//static.squarespace.com/universal/scripts-compressed/announcement-bar-255cecc1cf494d88d1ed-min.js\"},\"squarespace-audio-player\":{\"css\":\"//static.squarespace.com/universal/styles-compressed/audio-player-76e4bfcc3f9830beb388bae2002fbe6c-min.css\",\"js\":\"//static.squarespace.com/universal/scripts-compressed/audio-player-3ea6af3255a6d23d0a81-min.js\"},\"squarespace-blog-collection-list\":{\"css\":\"//static.squarespace.com/universal/styles-compressed/blog-collection-list-d41d8cd98f00b204e9800998ecf8427e-min.css\",\"js\":\"//static.squarespace.com/universal/scripts-compressed/blog-collection-list-b5d30a1c72f9aabbf44e-min.js\"},\"squarespace-calendar-block-renderer\":{\"css\":\"//static.squarespace.com/universal/styles-compressed/calendar-block-renderer-032634519fa160b1d2da6986dce0cdae-min.css\",\"js\":\"//static.squarespace.com/universal/scripts-compressed/calendar-block-renderer-5a699855af07ec227238-min.js\"},\"squarespace-chartjs-helpers\":{\"css\":\"//static.squarespace.com/universal/styles-compressed/chartjs-helpers-9935a41d63cf08ca108505d288c1712e-min.css\",\"js\":\"//static.squarespace.com/universal/scripts-compressed/chartjs-helpers-af3738629c6ec08afe3a-min.js\"},\"squarespace-comments\":{\"css\":\"//static.squarespace.com/universal/styles-compressed/comments-c1dbdfabfadb78eda284e5af702a4505-min.css\",\"js\":\"//static.squarespace.com/universal/scripts-compressed/comments-cee0bd99dbe1ae97ee79-min.js\"},\"squarespace-dialog\":{\"css\":\"//static.squarespace.com/universal/styles-compressed/dialog-41403d1f0d87846c1b05baa36a8d7c38-min.css\",\"js\":\"//static.squarespace.com/universal/scripts-compressed/dialog-a137c90ca7db429bef17-min.js\"},\"squarespace-events-collection\":{\"css\":\"//static.squarespace.com/universal/styles-compressed/events-collection-032634519fa160b1d2da6986dce0cdae-min.css\",\"js\":\"//static.squarespace.com/universal/scripts-compressed/events-collection-ef000ae08742cf220fcd-min.js\"},\"squarespace-gallery-collection-list\":{\"css\":\"//static.squarespace.com/universal/styles-compressed/gallery-collection-list-d41d8cd98f00b204e9800998ecf8427e-min.css\",\"js\":\"//static.squarespace.com/universal/scripts-compressed/gallery-collection-list-e1ed1954da9f16b56d45-min.js\"},\"squarespace-image-zoom\":{\"css\":\"//static.squarespace.com/universal/styles-compressed/image-zoom-ae974921915aeccaff8ad60c60e19c31-min.css\",\"js\":\"//static.squarespace.com/universal/scripts-compressed/image-zoom-51c8f17420ab45066403-min.js\"},\"squarespace-pinterest\":{\"css\":\"//static.squarespace.com/universal/styles-compressed/pinterest-d41d8cd98f00b204e9800998ecf8427e-min.css\",\"js\":\"//static.squarespace.com/universal/scripts-compressed/pinterest-d8da6511f2eb4de3e4bb-min.js\"},\"squarespace-product-quick-view\":{\"css\":\"//static.squarespace.com/universal/styles-compressed/product-quick-view-eb4b900ac0155bed2f175aa82e2a7c17-min.css\",\"js\":\"//static.squarespace.com/universal/scripts-compressed/product-quick-view-f47a2e1b22bc44954d6b-min.js\"},\"squarespace-products-collection-item-v2\":{\"css\":\"//static.squarespace.com/universal/styles-compressed/products-collection-item-v2-ae974921915aeccaff8ad60c60e19c31-min.css\",\"js\":\"//static.squarespace.com/universal/scripts-compressed/products-collection-item-v2-2e0088e56234d05f67a6-min.js\"},\"squarespace-products-collection-list-v2\":{\"css\":\"//static.squarespace.com/universal/styles-compressed/products-collection-list-v2-ae974921915aeccaff8ad60c60e19c31-min.css\",\"js\":\"//static.squarespace.com/universal/scripts-compressed/products-collection-list-v2-f5260cb9f989ad2d9cbe-min.js\"},\"squarespace-search-page\":{\"css\":\"//static.squarespace.com/universal/styles-compressed/search-page-9e3daa07ec7490c2f0be98a39351cb63-min.css\",\"js\":\"//static.squarespace.com/universal/scripts-compressed/search-page-15f41a4531e671a3d981-min.js\"},\"squarespace-share-buttons\":{\"js\":\"//static.squarespace.com/universal/scripts-compressed/share-buttons-8635c52fecea68b9dedc-min.js\"},\"squarespace-simple-liking\":{\"css\":\"//static.squarespace.com/universal/styles-compressed/simple-liking-09fa291ec2800c97714f0d157fd0a6ca-min.css\",\"js\":\"//static.squarespace.com/universal/scripts-compressed/simple-liking-d44ab1b0365494cdb742-min.js\"},\"squarespace-social-buttons\":{\"css\":\"//static.squarespace.com/universal/styles-compressed/social-buttons-7a696232d1cd101fd62b5f174f9ae6ff-min.css\",\"js\":\"//static.squarespace.com/universal/scripts-compressed/social-buttons-7dcb8f45203f0e6b21f7-min.js\"},\"squarespace-tourdates\":{\"css\":\"//static.squarespace.com/universal/styles-compressed/tourdates-d41d8cd98f00b204e9800998ecf8427e-min.css\",\"js\":\"//static.squarespace.com/universal/scripts-compressed/tourdates-3f33e6971c462cdde221-min.js\"}},\"pageType\":2,\"website\":{\"id\":\"52fbc928e4b0b0a74813e545\",\"identifier\":\"catherine-nikolovski\",\"websiteType\":1,\"contentModifiedOn\":1480112415784,\"cloneable\":false,\"siteStatus\":{},\"language\":\"en-US\",\"timeZone\":\"America/New_York\",\"machineTimeZoneOffset\":-18000000,\"timeZoneOffset\":-18000000,\"timeZoneAbbr\":\"EST\",\"siteTitle\":\"Hack Oregon\",\"siteTagLine\":\"MAKING PUBLIC INFORMATION, PUBLIC KNOWLEDGE.\",\"siteDescription\":\"<p>Hack Oregon is a community-powered nonprofit committed to promoting greater civic awareness and engagement through data-inspired projects.</p><p>\\u00A0</p>\",\"location\":{\"mapZoom\":8.0,\"mapLat\":45.4967799,\"mapLng\":-122.5691544,\"markerLat\":45.4967799,\"markerLng\":-122.5691544,\"addressTitle\":\"Hack Oregon\",\"addressLine1\":\"\",\"addressLine2\":\"Portland, Oregon\",\"addressCountry\":\"\"},\"logoImageId\":\"551709d8e4b0dfcc47bdca61\",\"shareButtonOptions\":{\"2\":true,\"4\":true,\"6\":true,\"3\":true,\"5\":true,\"1\":true,\"7\":true,\"8\":true},\"logoImageUrl\":\"//static1.squarespace.com/static/52fbc928e4b0b0a74813e545/t/551709d8e4b0dfcc47bdca61/1480112415784/\",\"authenticUrl\":\"http://www.hackoregon.org\",\"internalUrl\":\"http://catherine-nikolovski.squarespace.com\",\"baseUrl\":\"http://www.hackoregon.org\",\"primaryDomain\":\"www.hackoregon.org\",\"socialAccounts\":[{\"serviceId\":20,\"userId\":\"catherine@hackoregon.org\",\"screenname\":\"catherine@hackoregon.org\",\"addedOn\":1392316325702,\"profileUrl\":\"mailto:catherine@hackoregon.org\",\"iconEnabled\":true,\"serviceName\":\"email\"},{\"serviceId\":4,\"userId\":\"2296937029\",\"userName\":\"HackOregon\",\"screenname\":\"Hack Oregon\",\"addedOn\":1392316449911,\"profileUrl\":\"https://twitter.com/HackOregon\",\"iconUrl\":\"http://pbs.twimg.com/profile_images/424325523905331200/pw-qkMe1_normal.jpeg\",\"collectionId\":\"52fd1021e4b0649c39e14655\",\"iconEnabled\":true,\"serviceName\":\"twitter\"},{\"serviceId\":33,\"screenname\":\"Meetup\",\"addedOn\":1427571699624,\"profileUrl\":\"http://www.meetup.com/datastorytelling/\",\"iconEnabled\":true,\"serviceName\":\"meetup\"},{\"serviceId\":23,\"userId\":\"10101504\",\"userName\":\"rileyrustad\",\"screenname\":\"Riley Rustad\",\"addedOn\":1459809186076,\"profileUrl\":\"https://github.com/hackoregon\",\"iconUrl\":\"https://avatars.githubusercontent.com/u/10101504?v=3\",\"iconEnabled\":true,\"serviceName\":\"github\"}],\"typekitId\":\"\",\"statsMigrated\":false},\"websiteSettings\":{\"id\":\"52fbc928e4b0b0a74813e546\",\"websiteId\":\"52fbc928e4b0b0a74813e545\",\"type\":\"Non-Profit\",\"subject\":\"Non-Profit\",\"subjects\":[{\"systemSubject\":\"other\",\"otherSubject\":\"Non-Profit\"}],\"country\":\"US\",\"state\":\"OR\",\"markdownMode\":false,\"simpleLikingEnabled\":true,\"mobileInfoBarSettings\":{\"isContactEmailEnabled\":false,\"isContactPhoneNumberEnabled\":false,\"isLocationEnabled\":false,\"isBusinessHoursEnabled\":false},\"announcementBarSettings\":{\"style\":1,\"text\":\"<p>Check out what we've been up to lately</p>\",\"clickthroughUrl\":{\"url\":\"http://storytelling.hackoregon.com\",\"newWindow\":true}},\"lastAgreedTermsOfService\":2,\"defaultPostFormat\":\"%y/%m/%d/%t\",\"commentLikesAllowed\":true,\"commentAnonAllowed\":true,\"commentThreaded\":true,\"commentApprovalRequired\":false,\"commentAvatarsOn\":true,\"commentSortType\":2,\"commentFlagThreshold\":0,\"commentFlagsAllowed\":true,\"commentEnableByDefault\":true,\"commentDisableAfterDaysDefault\":0,\"disqusShortname\":\"\",\"homepageTitleFormat\":\"%s\",\"collectionTitleFormat\":\"%c \\u2014 %s\",\"itemTitleFormat\":\"%i \\u2014 %s\",\"commentsEnabled\":true,\"contactPhoneNumber\":\"5034072963\",\"contactEmail\":\"hello@hackoregon.org\",\"allowSquarespacePromotion\":true,\"storeSettings\":{\"returnPolicy\":\"<p>This is a thank you gift for your donation, and is not eligible for a refund.&nbsp;</p>\",\"termsOfService\":\"\",\"privacyPolicy\":\"\",\"orderRefundedSubjectFormat\":\"%s: Order #%o Refunded\",\"orderRefundedTitleFormat\":\"Order Refunded: #%o\",\"paymentSettings\":{\"stripeLivePublicApiKey\":\"pk_live_riYah4XzNY1i51AtjpT0zYwn\",\"stripeTestPublicApiKey\":\"pk_test_xAYzrOPg5whHH8kaNdAEPeNW\",\"stripeUserId\":\"acct_103Udh2uJnnrJXRd\",\"stripeAccountCountry\":\"US\"},\"expressCheckout\":false,\"useLightCart\":false,\"showNoteField\":false,\"shippingCountryDefaultValue\":\"US\",\"billToShippingDefaultValue\":false,\"showShippingPhoneNumber\":true,\"isShippingPhoneRequired\":false,\"showBillingPhoneNumber\":true,\"isBillingPhoneRequired\":false,\"currenciesSupported\":[\"USD\",\"AUD\",\"CAD\",\"EUR\",\"GBP\"],\"defaultCurrency\":\"USD\",\"selectedCurrency\":\"USD\",\"stripePublishableKey\":\"pk_live_riYah4XzNY1i51AtjpT0zYwn\",\"stripeAccountCountry\":\"US\",\"measurementStandard\":1,\"showCustomCheckoutForm\":false,\"enableMailingListOptInByDefault\":false,\"sameAsRetailLocation\":false,\"testPublishableKey\":\"pk_test_xAYzrOPg5whHH8kaNdAEPeNW\",\"stripeConnected\":true,\"isLive\":true},\"useEscapeKeyToLogin\":true,\"ssBadgeType\":1,\"ssBadgePosition\":4,\"ssBadgeVisibility\":1,\"ssBadgeDevices\":1,\"pinterestOverlayOptions\":{\"mode\":\"disabled\"},\"ampEnabled\":false},\"websiteCloneable\":false,\"collection\":{\"title\":\"Upcoming Courses\",\"id\":\"5836423e15d5db57b198eb36\",\"fullUrl\":\"/upcoming-courses/\",\"type\":10},\"subscribed\":false,\"appDomain\":\"squarespace.com\",\"templateTweakable\":true,\"tweakJSON\":{\"aspect-ratio\":\"Auto\",\"banner-slideshow-controls\":\"Arrows\",\"gallery-arrow-style\":\"No Background\",\"gallery-aspect-ratio\":\"3:2 Standard\",\"gallery-auto-crop\":\"true\",\"gallery-autoplay\":\"false\",\"gallery-design\":\"Grid\",\"gallery-info-overlay\":\"Show on Hover\",\"gallery-loop\":\"false\",\"gallery-navigation\":\"Bullets\",\"gallery-show-arrows\":\"true\",\"gallery-transitions\":\"Fade\",\"galleryArrowBackground\":\"rgba(34,34,34,1)\",\"galleryArrowColor\":\"rgba(255,255,255,1)\",\"galleryAutoplaySpeed\":\"3\",\"galleryCircleColor\":\"rgba(255,255,255,1)\",\"galleryInfoBackground\":\"rgba(0, 0, 0, .7)\",\"galleryThumbnailSize\":\"100px\",\"gridSize\":\"280px\",\"gridSpacing\":\"10px\",\"logoContainerWidth\":\"185px\",\"product-gallery-auto-crop\":\"false\",\"product-image-auto-crop\":\"true\",\"siteTitleContainerWidth\":\"495px\"},\"templateId\":\"52a74dafe4b073a80cd253c5\",\"pageFeatures\":[1,2,4],\"impersonatedSession\":false,\"demoCollections\":[{\"collectionId\":\"52a76db3e4b0dfaa507e7b18\",\"deleted\":true},{\"collectionId\":\"52b1eff5e4b0871946c207e4\",\"deleted\":true},{\"collectionId\":\"52a76dc2e4b0dfaa507e7b32\",\"deleted\":true},{\"collectionId\":\"52c71337e4b07aa29e46fa44\",\"deleted\":false},{\"collectionId\":\"52d8053ce4b0e26973428261\",\"deleted\":true},{\"collectionId\":\"52cad0a1e4b06ad2e57287af\",\"deleted\":true},{\"collectionId\":\"52d067ace4b0bd5a03cf573b\",\"deleted\":true},{\"collectionId\":\"52e18d59e4b08face9704bad\",\"deleted\":true},{\"collectionId\":\"52e175e7e4b03c845ac17314\",\"deleted\":true},{\"collectionId\":\"52d80724e4b0c692d7428ff2\",\"deleted\":true}],\"isFacebookTab\":false,\"tzData\":{\"zones\":[[-300,\"US\",\"E%sT\",null]],\"rules\":{\"US\":[[1967,2006,null,\"Oct\",\"lastSun\",\"2:00\",\"0\",\"S\"],[1987,2006,null,\"Apr\",\"Sun>=1\",\"2:00\",\"1:00\",\"D\"],[2007,\"max\",null,\"Mar\",\"Sun>=8\",\"2:00\",\"1:00\",\"D\"],[2007,\"max\",null,\"Nov\",\"Sun>=1\",\"2:00\",\"0\",\"S\"]]}}};\n",
      "     </script>\n",
      "     <script type=\"text/javascript\">\n",
      "      SquarespaceFonts.loadViaContext(); Squarespace.load(window);\n",
      "     </script>\n",
      "     <script type=\"application/ld+json\">\n",
      "      {\"@context\":\"http://schema.org\",\"@type\":\"WebSite\",\"url\":\"http://www.hackoregon.org\",\"name\":\"Hack Oregon\",\"description\":\"<p>Hack Oregon is a community-powered nonprofit committed to promoting greater civic awareness and engagement through data-inspired projects.</p><p>\\u00A0</p>\",\"image\":\"//static1.squarespace.com/static/52fbc928e4b0b0a74813e545/t/551709d8e4b0dfcc47bdca61/1480112415784/\"}\n",
      "     </script>\n",
      "     <!--[if gte IE 9]> <link rel=\"stylesheet\" type=\"text/css\" href=\"//static1.squarespace.com/static/sitecss/52fbc928e4b0b0a74813e545/71/52a74dafe4b073a80cd253c5/52fd0e1ae4b0d81b4ad2170b/974-05142015/1480036348159/site.css?&filterFeatures=false&part=1\"/><link rel=\"stylesheet\" type=\"text/css\" href=\"//static1.squarespace.com/static/sitecss/52fbc928e4b0b0a74813e545/71/52a74dafe4b073a80cd253c5/52fd0e1ae4b0d81b4ad2170b/974-05142015/1480036348159/site.css?&filterFeatures=false&part=2\"/><link rel=\"stylesheet\" type=\"text/css\" href=\"//static1.squarespace.com/static/sitecss/52fbc928e4b0b0a74813e545/71/52a74dafe4b073a80cd253c5/52fd0e1ae4b0d81b4ad2170b/974-05142015/1480036348159/site.css?&filterFeatures=false&part=3\"/><link rel=\"stylesheet\" type=\"text/css\" href=\"//static1.squarespace.com/static/sitecss/52fbc928e4b0b0a74813e545/71/52a74dafe4b073a80cd253c5/52fd0e1ae4b0d81b4ad2170b/974-05142015/1480036348159/site.css?&filterFeatures=false&part=4\"/><![endif]-->\n",
      "     <!--[if lt IE 9]><link rel=\"stylesheet\" type=\"text/css\" href=\"//static1.squarespace.com/static/sitecss/52fbc928e4b0b0a74813e545/71/52a74dafe4b073a80cd253c5/52fd0e1ae4b0d81b4ad2170b/974-05142015/1480036348159/site.css?&filterFeatures=false&noMedia=true&part=1\"/><link rel=\"stylesheet\" type=\"text/css\" href=\"//static1.squarespace.com/static/sitecss/52fbc928e4b0b0a74813e545/71/52a74dafe4b073a80cd253c5/52fd0e1ae4b0d81b4ad2170b/974-05142015/1480036348159/site.css?&filterFeatures=false&noMedia=true&part=2\"/><link rel=\"stylesheet\" type=\"text/css\" href=\"//static1.squarespace.com/static/sitecss/52fbc928e4b0b0a74813e545/71/52a74dafe4b073a80cd253c5/52fd0e1ae4b0d81b4ad2170b/974-05142015/1480036348159/site.css?&filterFeatures=false&noMedia=true&part=3\"/><link rel=\"stylesheet\" type=\"text/css\" href=\"//static1.squarespace.com/static/sitecss/52fbc928e4b0b0a74813e545/71/52a74dafe4b073a80cd253c5/52fd0e1ae4b0d81b4ad2170b/974-05142015/1480036348159/site.css?&filterFeatures=false&noMedia=true&part=4\"/><![endif]-->\n",
      "     <!--[if !IE]> -->\n",
      "     <link href=\"//static1.squarespace.com/static/sitecss/52fbc928e4b0b0a74813e545/71/52a74dafe4b073a80cd253c5/52fd0e1ae4b0d81b4ad2170b/974-05142015/1480036348159/site.css?&amp;filterFeatures=false\" rel=\"stylesheet\" type=\"text/css\"/>\n",
      "     <!-- <![endif]-->\n",
      "     <!-- End of Squarespace Headers -->\n",
      "     <script>\n",
      "      /* Must be below squarespace-headers */(function(){var e='ontouchstart'in window||navigator.msMaxTouchPoints;var t=document.documentElement;if(!e&&t){t.className=t.className.replace(/touch-styles/,'')}})()\n",
      "     </script>\n",
      "    </base>\n",
      "   </meta>\n",
      "  </meta>\n",
      " </head>\n",
      " <body class=\"transparent-header enable-nav-button nav-button-style-outline nav-button-corner-style-square banner-button-style-outline banner-button-corner-style-rounded banner-slideshow-controls-arrows meta-priority-date hide-entry-author hide-list-entry-footer hide-blog-sidebar center-navigation--info event-thumbnails event-thumbnail-size-32-standard event-date-label event-date-label-time event-list-show-cats event-list-date event-list-time event-list-address event-icalgcal-links event-excerpts event-item-back-link gallery-design-grid aspect-ratio-auto lightbox-style-light gallery-navigation-bullets gallery-info-overlay-show-on-hover gallery-aspect-ratio-32-standard gallery-arrow-style-no-background gallery-transitions-fade gallery-show-arrows gallery-auto-crop product-list-titles-under product-list-alignment-center product-item-size-11-square product-image-auto-crop product-gallery-size-11-square show-product-price show-product-item-nav product-social-sharing image-block-poster-contextual-font-sizing image-block-poster-scroll-animation-fade-in image-block-card-contextual-font-sizing image-block-card-scroll-animation-fade-in image-block-overlap-contextual-font-sizing image-block-overlap-scroll-animation-slide-in image-block-collage-contextual-font-sizing image-block-collage-scroll-animation-slide-in image-block-stack-scroll-animation-fade-in opentable-style-light newsletter-style-dark small-button-style-solid small-button-shape-square medium-button-style-solid medium-button-shape-rounded large-button-style-solid large-button-shape-square button-style-outline button-corner-style-square tweak-product-quick-view-button-style-floating tweak-product-quick-view-button-position-bottom tweak-product-quick-view-lightbox-excerpt-display-truncate tweak-product-quick-view-lightbox-show-arrows tweak-product-quick-view-lightbox-show-close-button tweak-product-quick-view-lightbox-controls-weight-light native-currency-code-usd collection-5836423e15d5db57b198eb36 collection-type-page collection-layout-default mobile-style-available has-banner-image general-page\" id=\"collection-5836423e15d5db57b198eb36\">\n",
      "  <a class=\"body-overlay\" href=\"#\">\n",
      "  </a>\n",
      "  <div class=\"sqs-announcement-bar-dropzone\">\n",
      "  </div>\n",
      "  <div id=\"sidecarNav\">\n",
      "   <div class=\"nav-wrapper\" data-content-field=\"navigation-mobileNav\" id=\"mobileNavWrapper\">\n",
      "    <nav id=\"mobileNavigation\">\n",
      "     <div class=\"collection\">\n",
      "      <a href=\"/join/\">\n",
      "       Volunteer\n",
      "      </a>\n",
      "     </div>\n",
      "     <div class=\"collection\">\n",
      "      <a href=\"/hack-university/\">\n",
      "       Courses\n",
      "      </a>\n",
      "     </div>\n",
      "     <div class=\"collection\">\n",
      "      <a href=\"/about/\">\n",
      "       About\n",
      "      </a>\n",
      "     </div>\n",
      "    </nav>\n",
      "   </div>\n",
      "  </div>\n",
      "  <div class=\"clearfix\" id=\"siteWrapper\">\n",
      "   <div class=\"sqs-cart-dropzone\">\n",
      "   </div>\n",
      "   <header class=\"show-on-scroll\" data-offset-behavior=\"bottom\" data-offset-el=\".index-section\" id=\"header\" role=\"banner\">\n",
      "    <div class=\"header-inner\">\n",
      "     <div class=\"wrapper\" data-content-field=\"site-title\" id=\"logoWrapper\">\n",
      "      <h1 id=\"logoImage\">\n",
      "       <a href=\"/\">\n",
      "        <img alt=\"Hack Oregon\" src=\"//static1.squarespace.com/static/52fbc928e4b0b0a74813e545/t/551709d8e4b0dfcc47bdca61/1480112415784/?format=1500w\"/>\n",
      "       </a>\n",
      "      </h1>\n",
      "     </div>\n",
      "     <!-- comment the linebreak between these two elements because science\n",
      "          -->\n",
      "     <div class=\"mobile-nav-toggle\">\n",
      "      <div class=\"top-bar\">\n",
      "      </div>\n",
      "      <div class=\"middle-bar\">\n",
      "      </div>\n",
      "      <div class=\"bottom-bar\">\n",
      "      </div>\n",
      "     </div>\n",
      "     <div class=\"mobile-nav-toggle-label fixed-nav-toggle\">\n",
      "      <div class=\"top-bar\">\n",
      "      </div>\n",
      "      <div class=\"middle-bar\">\n",
      "      </div>\n",
      "      <div class=\"bottom-bar\">\n",
      "      </div>\n",
      "     </div>\n",
      "     <!-- comment the linebreak between these two elements because science\n",
      "          -->\n",
      "     <div id=\"headerNav\">\n",
      "      <div class=\"nav-wrapper\" data-content-field=\"navigation-mainNav\" id=\"mainNavWrapper\">\n",
      "       <nav data-content-field=\"navigation-mainNav\" id=\"mainNavigation\">\n",
      "        <div class=\"collection\">\n",
      "         <a href=\"/join/\">\n",
      "          Volunteer\n",
      "         </a>\n",
      "        </div>\n",
      "        <div class=\"collection\">\n",
      "         <a href=\"/hack-university/\">\n",
      "          Courses\n",
      "         </a>\n",
      "        </div>\n",
      "        <div class=\"collection\">\n",
      "         <a href=\"/about/\">\n",
      "          About\n",
      "         </a>\n",
      "        </div>\n",
      "       </nav>\n",
      "      </div>\n",
      "      <!-- style below blocks out the mobile nav toggle only when nav is loaded -->\n",
      "      <style>\n",
      "       .mobile-nav-toggle-label { display: inline-block !important; }\n",
      "      </style>\n",
      "     </div>\n",
      "    </div>\n",
      "   </header>\n",
      "   <div class=\"sqs-layout promoted-gallery-wrapper\" id=\"promotedGalleryWrapper\">\n",
      "    <div class=\"row\">\n",
      "     <div class=\"col\">\n",
      "     </div>\n",
      "    </div>\n",
      "   </div>\n",
      "   <div class=\"banner-thumbnail-wrapper\" data-annotation-alignment=\"bottom left\" data-collection-id=\"5836423e15d5db57b198eb36\" data-content-field=\"main-image\" data-edit-main-image=\"Banner\">\n",
      "    <div class=\"color-overlay\">\n",
      "    </div>\n",
      "    <figure class=\"loading content-fill\" id=\"thumbnail\">\n",
      "     <img alt=\"sunrisefromspace2.jpg\" data-image=\"https://static1.squarespace.com/static/52fbc928e4b0b0a74813e545/t/58378fb26a4963bb183cec82/1480036276619/sunrisefromspace2.jpg\" data-image-dimensions=\"2500x703\" data-image-focal-point=\"0.5,0.5\" data-src=\"https://static1.squarespace.com/static/52fbc928e4b0b0a74813e545/t/58378fb26a4963bb183cec82/1480036276619/sunrisefromspace2.jpg\"/>\n",
      "    </figure>\n",
      "   </div>\n",
      "   <main id=\"page\" role=\"main\">\n",
      "    <!-- comment the linebreak between these two elements because science\n",
      "        -->\n",
      "    <!-- comment the linebreak between these two elements because science\n",
      "        -->\n",
      "    <!-- comment the linebreak between these two elements because science\n",
      "        -->\n",
      "    <div class=\"main-content\" data-collection-id=\"5836423e15d5db57b198eb36\" data-content-field=\"main-content\" data-edit-main-image=\"Banner\" id=\"content\">\n",
      "     <div class=\"sqs-layout sqs-grid-12 columns-12\" data-type=\"page\" data-updated-on=\"1480112415778\" id=\"page-5836423e15d5db57b198eb36\">\n",
      "      <div class=\"row sqs-row\">\n",
      "       <div class=\"col sqs-col-1 span-1\">\n",
      "        <div class=\"sqs-block spacer-block sqs-block-spacer sized vsize-1\" data-block-type=\"21\" id=\"block-98a845b7fdc453e42ccc\">\n",
      "         <div class=\"sqs-block-content\">\n",
      "         </div>\n",
      "        </div>\n",
      "       </div>\n",
      "       <div class=\"col sqs-col-10 span-10\">\n",
      "        <div class=\"sqs-block html-block sqs-block-html\" data-block-type=\"2\" id=\"block-46c8f1f883a86faf559f\">\n",
      "         <div class=\"sqs-block-content\">\n",
      "          <h1 class=\"text-align-center\">\n",
      "           Upcoming Courses\n",
      "          </h1>\n",
      "          <h2 class=\"text-align-center\">\n",
      "           Coming January 2017\n",
      "          </h2>\n",
      "         </div>\n",
      "        </div>\n",
      "        <div class=\"sqs-block spacer-block sqs-block-spacer sized vsize-1\" data-block-type=\"21\" id=\"block-dc262cf0a787ae5585db\">\n",
      "         <div class=\"sqs-block-content\">\n",
      "         </div>\n",
      "        </div>\n",
      "       </div>\n",
      "       <div class=\"col sqs-col-1 span-1\">\n",
      "        <div class=\"sqs-block spacer-block sqs-block-spacer sized vsize-1\" data-block-type=\"21\" id=\"block-c8fdd20477439a9d2fad\">\n",
      "         <div class=\"sqs-block-content\">\n",
      "         </div>\n",
      "        </div>\n",
      "       </div>\n",
      "      </div>\n",
      "      <div class=\"row sqs-row\">\n",
      "       <div class=\"col sqs-col-5 span-5\">\n",
      "        <div class=\"sqs-block image-block sqs-block-image\" data-aspect-ratio=\"98.41688654353563\" data-block-type=\"5\" id=\"block-c22d7b485440c44ac7e4\">\n",
      "         <div class=\"sqs-block-content\">\n",
      "          <div class=\"image-block-outer-wrapper layout-caption-below design-layout-inline\">\n",
      "           <div class=\"intrinsic\" style=\"max-width:424.0px;\">\n",
      "            <div class=\"image-block-wrapper has-aspect-ratio\" data-description=\"\" style=\"padding-bottom:98.41688537597656%;\">\n",
      "             <noscript>\n",
      "              <img alt=\"proudunicorncat.jpg\" src=\"https://static1.squarespace.com/static/52fbc928e4b0b0a74813e545/t/58365e0ef5e231d20310cf93/1479958081209/proudunicorncat.jpg\"/>\n",
      "             </noscript>\n",
      "             <img alt=\"proudunicorncat.jpg\" class=\"thumb-image\" data-image=\"https://static1.squarespace.com/static/52fbc928e4b0b0a74813e545/t/58365e0ef5e231d20310cf93/1479958081209/proudunicorncat.jpg\" data-image-dimensions=\"424x424\" data-image-focal-point=\"0.5,0.5\" data-image-id=\"58365e0ef5e231d20310cf93\" data-load=\"false\" data-src=\"https://static1.squarespace.com/static/52fbc928e4b0b0a74813e545/t/58365e0ef5e231d20310cf93/1479958081209/proudunicorncat.jpg\" data-type=\"image\"/>\n",
      "            </div>\n",
      "           </div>\n",
      "          </div>\n",
      "         </div>\n",
      "        </div>\n",
      "       </div>\n",
      "       <div class=\"col sqs-col-7 span-7\">\n",
      "        <div class=\"sqs-block html-block sqs-block-html\" data-block-type=\"2\" id=\"block-57cc6569542486da642e\">\n",
      "         <div class=\"sqs-block-content\">\n",
      "          <h2>\n",
      "           <strong>\n",
      "            MODERN CSS\n",
      "           </strong>\n",
      "          </h2>\n",
      "          <h3>\n",
      "           LEVEL: BEGINNER\n",
      "          </h3>\n",
      "          <h3>\n",
      "           START DATE: FEB 8TH, TUES + THURS, 6-9PM\n",
      "          </h3>\n",
      "          <h3>\n",
      "           DURATION: 6 WEEKS\n",
      "          </h3>\n",
      "          <h3>\n",
      "           COST $850\n",
      "          </h3>\n",
      "          <h3>\n",
      "           INSTRUCTOR: DAVID ZULAICA\n",
      "          </h3>\n",
      "         </div>\n",
      "        </div>\n",
      "        <div class=\"sqs-block button-block sqs-block-button sqs-col-4 span-4 float float-left\" data-block-type=\"53\" id=\"block-e1b35504c549fa6b06df\">\n",
      "         <div class=\"sqs-block-content\">\n",
      "          <div class=\"sqs-block-button-container--left\">\n",
      "           <a class=\"sqs-block-button-element--small sqs-block-button-element\" href=\"https://docs.google.com/forms/d/e/1FAIpQLSfDQFmS2g2YbF4zQUmv8Qfg5vRYGKVbW8Xma1OsQaWdcFNNNQ/viewform\" target=\"_blank\">\n",
      "            Apply Right Meow!\n",
      "           </a>\n",
      "          </div>\n",
      "         </div>\n",
      "        </div>\n",
      "        <div class=\"sqs-block html-block sqs-block-html\" data-block-type=\"2\" id=\"block-yui_3_17_2_2_1479953308976_226902\">\n",
      "         <div class=\"sqs-block-content\">\n",
      "          <h3>\n",
      "           <strong>\n",
      "           </strong>\n",
      "          </h3>\n",
      "         </div>\n",
      "        </div>\n",
      "       </div>\n",
      "      </div>\n",
      "      <div class=\"row sqs-row\">\n",
      "       <div class=\"col sqs-col-12 span-12\">\n",
      "        <div class=\"sqs-block html-block sqs-block-html\" data-block-type=\"2\" id=\"block-yui_3_17_2_2_1479953308976_221486\">\n",
      "         <div class=\"sqs-block-content\">\n",
      "          <h3>\n",
      "           <strong>\n",
      "            DESCRIPTION:\n",
      "           </strong>\n",
      "          </h3>\n",
      "          <p>\n",
      "           Many people check the box on HTML and CSS after a weekend workshop, but that's just when things start to get interesting!  CSS as a language of it's own often doesn't get the respect and attention it deserves when it comes to super-powering interactive web experiences.\n",
      "          </p>\n",
      "          <p>\n",
      "           JavaScript is powerful, but it doesn’t mean it’s always the answer when it comes to front-end development. Browsers and browser technologies have advanced enough for us to utilize future-facing specifications now and reap the benefits with little development time. And the best part? We can use these techniques to ensure accessibility all potential users.  Let’s take a look at the free benefits we can get from using semantic HTML5 and exploit them to make our CSS performant, accessible, and magical.\n",
      "          </p>\n",
      "          <h3>\n",
      "           <strong>\n",
      "            WHO SHOULD TAKE IT?\n",
      "           </strong>\n",
      "          </h3>\n",
      "          <p>\n",
      "           If you have a basic understanding of HTML and CSS, and little-to-no fear of the terminal, you have all that’s necessary to turn your vision from interactive, animated vision to reality — all while ensuring that your users can benefit from your application.\n",
      "          </p>\n",
      "          <p>\n",
      "           Because there's no Javascript pre-requisite, this is a great class for designers and other creatives to cultivate a unique depth in a coding language and show-worthy portfolio pieces to their resume.  By the end of class, you'll be able to do things even many front-end engineers don't know how to do!\n",
      "          </p>\n",
      "         </div>\n",
      "        </div>\n",
      "        <div class=\"sqs-block spacer-block sqs-block-spacer sized vsize-1\" data-block-type=\"21\" id=\"block-5e392197beecbb0db555\">\n",
      "         <div class=\"sqs-block-content\">\n",
      "         </div>\n",
      "        </div>\n",
      "       </div>\n",
      "      </div>\n",
      "      <div class=\"row sqs-row\">\n",
      "       <div class=\"col sqs-col-5 span-5\">\n",
      "        <div class=\"sqs-block image-block sqs-block-image\" data-aspect-ratio=\"100\" data-block-type=\"5\" id=\"block-c96b1e4756becb7ec18f\">\n",
      "         <div class=\"sqs-block-content\">\n",
      "          <div class=\"image-block-outer-wrapper layout-caption-below design-layout-inline\">\n",
      "           <div class=\"intrinsic\" style=\"max-width:403.0px;\">\n",
      "            <div class=\"image-block-wrapper has-aspect-ratio\" data-description=\"\" style=\"padding-bottom:100.0%;\">\n",
      "             <noscript>\n",
      "              <img alt=\"lighteningcat.jpg\" src=\"https://static1.squarespace.com/static/52fbc928e4b0b0a74813e545/t/583670fc37c581b5d580ecbf/1479962893397/lighteningcat.jpg\"/>\n",
      "             </noscript>\n",
      "             <img alt=\"lighteningcat.jpg\" class=\"thumb-image\" data-image=\"https://static1.squarespace.com/static/52fbc928e4b0b0a74813e545/t/583670fc37c581b5d580ecbf/1479962893397/lighteningcat.jpg\" data-image-dimensions=\"403x403\" data-image-focal-point=\"0.5,0.5\" data-image-id=\"583670fc37c581b5d580ecbf\" data-load=\"false\" data-src=\"https://static1.squarespace.com/static/52fbc928e4b0b0a74813e545/t/583670fc37c581b5d580ecbf/1479962893397/lighteningcat.jpg\" data-type=\"image\"/>\n",
      "            </div>\n",
      "           </div>\n",
      "          </div>\n",
      "         </div>\n",
      "        </div>\n",
      "       </div>\n",
      "       <div class=\"col sqs-col-7 span-7\">\n",
      "        <div class=\"sqs-block html-block sqs-block-html\" data-block-type=\"2\" id=\"block-23eb500ec3b451488d2f\">\n",
      "         <div class=\"sqs-block-content\">\n",
      "          <h2>\n",
      "           ReactJS\n",
      "          </h2>\n",
      "          <h3>\n",
      "           LEVEL: Intermediate\n",
      "          </h3>\n",
      "          <h3>\n",
      "           START DATE: JAN 23rd, Mon + Wed, 6-9pm\n",
      "          </h3>\n",
      "          <h3>\n",
      "           DURATION: 8 WEEKS\n",
      "          </h3>\n",
      "          <h3>\n",
      "           COST $850\n",
      "          </h3>\n",
      "          <h3>\n",
      "           React Office Hours: +$250, Tues + Thurs, 6-9pm\n",
      "          </h3>\n",
      "          <h3 dir=\"ltr\">\n",
      "           Instructor: Andrew Brenwald\n",
      "          </h3>\n",
      "         </div>\n",
      "        </div>\n",
      "        <div class=\"sqs-block button-block sqs-block-button sqs-col-4 span-4 float float-left\" data-block-type=\"53\" id=\"block-ebfd30e5aba4d5669063\">\n",
      "         <div class=\"sqs-block-content\">\n",
      "          <div class=\"sqs-block-button-container--left\">\n",
      "           <a class=\"sqs-block-button-element--small sqs-block-button-element\" href=\"https://docs.google.com/forms/d/e/1FAIpQLSfDQFmS2g2YbF4zQUmv8Qfg5vRYGKVbW8Xma1OsQaWdcFNNNQ/viewform\" target=\"_blank\">\n",
      "            Apply Right Meow!\n",
      "           </a>\n",
      "          </div>\n",
      "         </div>\n",
      "        </div>\n",
      "        <div class=\"sqs-block html-block sqs-block-html\" data-block-type=\"2\" id=\"block-yui_3_17_2_2_1479953308976_272404\">\n",
      "         <div class=\"sqs-block-content\">\n",
      "          <h3>\n",
      "          </h3>\n",
      "          <h3>\n",
      "           <strong>\n",
      "            <span style=\"font-size:14.6667px\">\n",
      "            </span>\n",
      "           </strong>\n",
      "          </h3>\n",
      "         </div>\n",
      "        </div>\n",
      "       </div>\n",
      "      </div>\n",
      "      <div class=\"row sqs-row\">\n",
      "       <div class=\"col sqs-col-12 span-12\">\n",
      "        <div class=\"sqs-block html-block sqs-block-html\" data-block-type=\"2\" id=\"block-yui_3_17_2_2_1479953308976_267724\">\n",
      "         <div class=\"sqs-block-content\">\n",
      "          <h3>\n",
      "           <strong>\n",
      "            <span style=\"font-size:14.6667px\">\n",
      "             DESCRIPTION\n",
      "            </span>\n",
      "           </strong>\n",
      "          </h3>\n",
      "          <p>\n",
      "           <span style=\"font-size:14.6667px\">\n",
      "            So you’ve gone deep into JavaScript and feel ready to put all that knowledge to good use. Perhaps React has been on your radar for a while now or you’re just now hearing about it. Regardless, it’s one of the most popular and powerful front-end technologies available right now, and this course is the place to break into it.\n",
      "           </span>\n",
      "          </p>\n",
      "          <p>\n",
      "           <span style=\"font-size:14.6667px\">\n",
      "            This eight week course will introduce you to powerful ES6 features and patterns that you’ll immediately apply to building robust, modular React components. You’ll learn not only the syntax of ES6, JSX, and React, but also the emerging best practices and design patterns.\n",
      "           </span>\n",
      "          </p>\n",
      "          <p>\n",
      "           <span style=\"font-size:14.6667px\">\n",
      "            The class format is “flipped,” meaning there will be curated video and written lecture content to watch at home on your own time and at your own pace, and class time will be dedicated to getting our hands dirty by building a portfolio of components.\n",
      "           </span>\n",
      "          </p>\n",
      "          <h3>\n",
      "           <strong>\n",
      "            <span style=\"font-size:14.6667px\">\n",
      "             WHO SHOULD TAKE IT?\n",
      "            </span>\n",
      "           </strong>\n",
      "          </h3>\n",
      "          <p>\n",
      "           <span style=\"font-size:14.6667px\">\n",
      "            We know that in order to build great open source, data-driven software for Oregon we need to have wide talent pool with specialized skills in our community.  That means, over the past year as we’ve adjusted our technology stack at Hack Oregon, we’ve been doing a lot of training in React.  We know React is still a bit new, can be kinda tough, and it takes an investment to learn.  We think it’s worth it, and we hope you do too.\n",
      "           </span>\n",
      "          </p>\n",
      "          <p>\n",
      "           <span style=\"font-size:14.6667px\">\n",
      "            Beginning in the Fall Season, anyone who wants to be able to join the a web dev team with Hack Oregon will need to be willing to learn React.\n",
      "           </span>\n",
      "          </p>\n",
      "          <h3>\n",
      "           <strong>\n",
      "            <span style=\"font-size:14.6667px\">\n",
      "             HOW DO I KNOW I’M READY?\n",
      "            </span>\n",
      "           </strong>\n",
      "          </h3>\n",
      "          <p>\n",
      "           <span style=\"font-size:14.6667px\">\n",
      "            The ideal student for this course is very comfortable with core JavaScript principles and techniques.\n",
      "           </span>\n",
      "          </p>\n",
      "          <h3>\n",
      "           <strong>\n",
      "            <span style=\"font-size:14.6667px\">\n",
      "             WHAT'S OFFICE HOURS?\n",
      "            </span>\n",
      "           </strong>\n",
      "          </h3>\n",
      "          <p>\n",
      "           Office hours are strongly recommended for anyone who has been learning Javascript online for a while, recently graduated from a Code School, or if this is your first time learning a new front end framework.\n",
      "          </p>\n",
      "         </div>\n",
      "        </div>\n",
      "        <div class=\"sqs-block spacer-block sqs-block-spacer sized vsize-1\" data-block-type=\"21\" id=\"block-yui_3_17_2_2_1479953308976_32126\">\n",
      "         <div class=\"sqs-block-content\">\n",
      "         </div>\n",
      "        </div>\n",
      "       </div>\n",
      "      </div>\n",
      "      <div class=\"row sqs-row\">\n",
      "       <div class=\"col sqs-col-5 span-5\">\n",
      "        <div class=\"sqs-block image-block sqs-block-image\" data-block-type=\"5\" id=\"block-yui_3_17_2_2_1479953308976_34678\">\n",
      "         <div class=\"sqs-block-content\">\n",
      "          <div class=\"image-block-outer-wrapper layout-caption-below design-layout-inline\">\n",
      "           <div class=\"intrinsic\" style=\"max-width:1200.0px;\">\n",
      "            <div class=\"image-block-wrapper has-aspect-ratio\" data-description=\"\" style=\"padding-bottom:100.0%;\">\n",
      "             <noscript>\n",
      "              <img alt=\"rainbowcatglasses.jpg\" src=\"https://static1.squarespace.com/static/52fbc928e4b0b0a74813e545/t/58364dc96a4963bb183174cf/1479954332562/rainbowcatglasses.jpg\"/>\n",
      "             </noscript>\n",
      "             <img alt=\"rainbowcatglasses.jpg\" class=\"thumb-image\" data-image=\"https://static1.squarespace.com/static/52fbc928e4b0b0a74813e545/t/58364dc96a4963bb183174cf/1479954332562/rainbowcatglasses.jpg\" data-image-dimensions=\"1200x1200\" data-image-focal-point=\"0.5,0.5\" data-image-id=\"58364dc96a4963bb183174cf\" data-load=\"false\" data-src=\"https://static1.squarespace.com/static/52fbc928e4b0b0a74813e545/t/58364dc96a4963bb183174cf/1479954332562/rainbowcatglasses.jpg\" data-type=\"image\"/>\n",
      "            </div>\n",
      "           </div>\n",
      "          </div>\n",
      "         </div>\n",
      "        </div>\n",
      "       </div>\n",
      "       <div class=\"col sqs-col-7 span-7\">\n",
      "        <div class=\"sqs-block html-block sqs-block-html\" data-block-type=\"2\" id=\"block-yui_3_17_2_2_1479953308976_33420\">\n",
      "         <div class=\"sqs-block-content\">\n",
      "          <h2>\n",
      "           Applied Data Visualization\n",
      "          </h2>\n",
      "          <h3>\n",
      "           LEVEL: Advanced\n",
      "          </h3>\n",
      "          <h3>\n",
      "           START DATE: JAN 23RD, MON + WED, 6-9PM\n",
      "          </h3>\n",
      "          <h3>\n",
      "           DURATION: 8 WEEKS\n",
      "          </h3>\n",
      "          <h3>\n",
      "           COST $850\n",
      "          </h3>\n",
      "          <h3>\n",
      "           REACT OFFICE HOURS: +$250, TUES + THURS, 6-9PM\n",
      "          </h3>\n",
      "          <h3>\n",
      "           Instructor: David Daniel\n",
      "          </h3>\n",
      "         </div>\n",
      "        </div>\n",
      "        <div class=\"sqs-block button-block sqs-block-button\" data-block-type=\"53\" id=\"block-yui_3_17_2_2_1479953308976_301835\">\n",
      "         <div class=\"sqs-block-content\">\n",
      "          <div class=\"sqs-block-button-container--left\">\n",
      "           <a class=\"sqs-block-button-element--small sqs-block-button-element\" href=\"https://docs.google.com/forms/d/e/1FAIpQLSfDQFmS2g2YbF4zQUmv8Qfg5vRYGKVbW8Xma1OsQaWdcFNNNQ/viewform\" target=\"_blank\">\n",
      "            Apply Right Meow!\n",
      "           </a>\n",
      "          </div>\n",
      "         </div>\n",
      "        </div>\n",
      "       </div>\n",
      "      </div>\n",
      "      <div class=\"row sqs-row\">\n",
      "       <div class=\"col sqs-col-12 span-12\">\n",
      "        <div class=\"sqs-block html-block sqs-block-html\" data-block-type=\"2\" id=\"block-yui_3_17_2_2_1479953308976_294922\">\n",
      "         <div class=\"sqs-block-content\">\n",
      "          <h3>\n",
      "           <strong>\n",
      "            DESCRIPTION\n",
      "           </strong>\n",
      "          </h3>\n",
      "          <p>\n",
      "           This course is all about how React can be used for visualization. While our examples are geared towards data visualization, the skills you'll learn will be applicable far beyond that.\n",
      "          </p>\n",
      "          <p>\n",
      "           We will have an ES2017 primer to build upon the current ES2016 standard, focusing where we will use it in project work. We will also cover state management via Redux, a highly recommended flux implementation. The class will go over where React &amp; D3 work best together and where they don't. We will learn how to create visual elements from Hack Oregon data sources, how to use React's lifecycle methods, and how to use D3 within components in a modular and performant way.\n",
      "          </p>\n",
      "          <p>\n",
      "           For a final project each student will create a React visualization web app, with React Redux and a couple of react visualization libraries. All components we build in class, once tested, will be used in Hack Oregon's visualization component library.\n",
      "          </p>\n",
      "          <h3>\n",
      "           <strong>\n",
      "            Who should take this course?\n",
      "           </strong>\n",
      "          </h3>\n",
      "          <p dir=\"ltr\">\n",
      "           This is a course for experience front end developers who are proficient in React.  Thi3,  course\n",
      "          </p>\n",
      "          <h3>\n",
      "           <strong>\n",
      "            WHAT'S OFFICE HOURS?\n",
      "           </strong>\n",
      "          </h3>\n",
      "          <p>\n",
      "           React office hours are optional, but are available on off-nights for those who are less experienced with the React framework and would benefit from extra support.\n",
      "          </p>\n",
      "         </div>\n",
      "        </div>\n",
      "        <div class=\"sqs-block spacer-block sqs-block-spacer sized vsize-1\" data-block-type=\"21\" id=\"block-ae47ffa72844383a8e5d\">\n",
      "         <div class=\"sqs-block-content\">\n",
      "         </div>\n",
      "        </div>\n",
      "        <div class=\"row sqs-row\">\n",
      "         <div class=\"col sqs-col-4 span-4\">\n",
      "          <div class=\"sqs-block image-block sqs-block-image\" data-aspect-ratio=\"99.16666666666667\" data-block-type=\"5\" id=\"block-yui_3_17_2_4_1479953308976_151796\">\n",
      "           <div class=\"sqs-block-content\">\n",
      "            <div class=\"image-block-outer-wrapper layout-caption-below design-layout-inline\">\n",
      "             <div class=\"intrinsic\" style=\"max-width:360.0px;\">\n",
      "              <div class=\"image-block-wrapper has-aspect-ratio\" data-description=\"\" style=\"padding-bottom:99.16666412353516%;\">\n",
      "               <noscript>\n",
      "                <img alt=\"lioncat2.jpg\" src=\"https://static1.squarespace.com/static/52fbc928e4b0b0a74813e545/t/58365641d482e9575f0163ac/1479956086555/lioncat2.jpg\"/>\n",
      "               </noscript>\n",
      "               <img alt=\"lioncat2.jpg\" class=\"thumb-image\" data-image=\"https://static1.squarespace.com/static/52fbc928e4b0b0a74813e545/t/58365641d482e9575f0163ac/1479956086555/lioncat2.jpg\" data-image-dimensions=\"360x360\" data-image-focal-point=\"0.5,0.5\" data-image-id=\"58365641d482e9575f0163ac\" data-load=\"false\" data-src=\"https://static1.squarespace.com/static/52fbc928e4b0b0a74813e545/t/58365641d482e9575f0163ac/1479956086555/lioncat2.jpg\" data-type=\"image\"/>\n",
      "              </div>\n",
      "             </div>\n",
      "            </div>\n",
      "           </div>\n",
      "          </div>\n",
      "         </div>\n",
      "         <div class=\"col sqs-col-8 span-8\">\n",
      "          <div class=\"sqs-block html-block sqs-block-html\" data-block-type=\"2\" id=\"block-yui_3_17_2_4_1479953308976_152004\">\n",
      "           <div class=\"sqs-block-content\">\n",
      "            <h2>\n",
      "             Data Science in the Wild\n",
      "            </h2>\n",
      "            <h3>\n",
      "             LEVEL: Intermediate\n",
      "            </h3>\n",
      "            <h3>\n",
      "             START DATE: JAN 23RD, tues + thurs, 6-9PM\n",
      "            </h3>\n",
      "            <h3>\n",
      "             DURATION: 8 WEEKS\n",
      "            </h3>\n",
      "            <h3>\n",
      "             COST $850\n",
      "            </h3>\n",
      "            <h3>\n",
      "             Instructor: Lindsay Mico\n",
      "            </h3>\n",
      "           </div>\n",
      "          </div>\n",
      "          <div class=\"sqs-block button-block sqs-block-button\" data-block-type=\"53\" id=\"block-yui_3_17_2_2_1480024246180_222817\">\n",
      "           <div class=\"sqs-block-content\">\n",
      "            <div class=\"sqs-block-button-container--left\">\n",
      "             <a class=\"sqs-block-button-element--small sqs-block-button-element\" href=\"https://docs.google.com/forms/d/e/1FAIpQLSfDQFmS2g2YbF4zQUmv8Qfg5vRYGKVbW8Xma1OsQaWdcFNNNQ/viewform\" target=\"_blank\">\n",
      "              Apply Right Meow!\n",
      "             </a>\n",
      "            </div>\n",
      "           </div>\n",
      "          </div>\n",
      "          <div class=\"sqs-block html-block sqs-block-html\" data-block-type=\"2\" id=\"block-yui_3_17_2_2_1480024246180_222884\">\n",
      "           <div class=\"sqs-block-content\">\n",
      "            <p>\n",
      "            </p>\n",
      "            <h3>\n",
      "            </h3>\n",
      "           </div>\n",
      "          </div>\n",
      "         </div>\n",
      "        </div>\n",
      "        <div class=\"sqs-block html-block sqs-block-html\" data-block-type=\"2\" id=\"block-yui_3_17_2_2_1480024246180_168106\">\n",
      "         <div class=\"sqs-block-content\">\n",
      "          <h3>\n",
      "           <strong>\n",
      "            DESCRIPTION\n",
      "           </strong>\n",
      "          </h3>\n",
      "          <p>\n",
      "           Let's be real. Data science is a frontier and what we think of as \"data\" is often messy and imperfect.  This means, before you can get down to math or write a line or code, results are dependent on the ingenuity of someone to obtain and structure information from a complex environment.  This is kind of work is a major aspect of being a data scientist, and an area of skill that deepens with experience and evolving technology tools.  At Hack Oregon, we've seen such a need to boost practical skills in this area that we've designed a course to accelerate an experience that could take years to learn your own.\n",
      "          </p>\n",
      "          <p>\n",
      "           This is a practical course that will take you beyond learning how to \"do\" a linear regression (for example), but \"why\" you would want to do one in the first place.  We'll give you tools and strategies for translating real world problems into quantitative terms, and introduce analytical tools and techniques for generating quantitative results.  These will include common statistical modeling approaches and basic predictive models, as well as less common (but very useful and powerful) tools such as GIS, systems analysis, and simulation environments..\n",
      "          </p>\n",
      "          <p>\n",
      "           This class assumes basic working knowledge of Python and introductory statistics.  Course content will be focused, however, on understanding the analytical process at a higher level.  A diversity of tools and techniques will be presented, and students will complete (and present) a brief course project that explores one of these more deeply.\n",
      "          </p>\n",
      "          <h3>\n",
      "           Tech and topics covered:\n",
      "          </h3>\n",
      "         </div>\n",
      "        </div>\n",
      "        <div class=\"sqs-block html-block sqs-block-html sqs-col-6 span-6 float float-right\" data-block-type=\"2\" id=\"block-yui_3_17_2_3_1480025465802_311326\">\n",
      "         <div class=\"sqs-block-content\">\n",
      "          <ul dir=\"ltr\">\n",
      "           <li>\n",
      "            Relational databases\n",
      "           </li>\n",
      "           <li>\n",
      "            Common local data models (eg. csv, flat files)\n",
      "           </li>\n",
      "           <li>\n",
      "            Semistructured data models (eg. JSON)\n",
      "           </li>\n",
      "           <li>\n",
      "            Exploratory Analysis &amp; Plottin\n",
      "           </li>\n",
      "           <li>\n",
      "            Spatial Data Analysis\n",
      "           </li>\n",
      "           <li>\n",
      "            Simulation fundamentals\n",
      "           </li>\n",
      "           <li>\n",
      "            Overview of machine learning &amp; predictive modeling\n",
      "           </li>\n",
      "           <li>\n",
      "            Natural language processing overview\n",
      "           </li>\n",
      "          </ul>\n",
      "         </div>\n",
      "        </div>\n",
      "        <div class=\"sqs-block html-block sqs-block-html\" data-block-type=\"2\" id=\"block-yui_3_17_2_3_1480025465802_319499\">\n",
      "         <div class=\"sqs-block-content\">\n",
      "          <ul dir=\"ltr\">\n",
      "           <li>\n",
      "            Environment/Tech Stack setup\n",
      "           </li>\n",
      "           <li>\n",
      "            Python Tools/Packages\n",
      "           </li>\n",
      "           <li>\n",
      "            Git/GitHUB\n",
      "           </li>\n",
      "           <li>\n",
      "            Getting, cleaning, and documenting data\n",
      "           </li>\n",
      "           <li>\n",
      "            APIs/scraping\n",
      "           </li>\n",
      "           <li>\n",
      "            Missing values\n",
      "           </li>\n",
      "           <li>\n",
      "            Reproducible research best practices and tools\n",
      "           </li>\n",
      "           <li>\n",
      "            Statistical design\n",
      "           </li>\n",
      "           <li>\n",
      "            Data Structures and Model\n",
      "           </li>\n",
      "          </ul>\n",
      "         </div>\n",
      "        </div>\n",
      "        <div class=\"sqs-block spacer-block sqs-block-spacer sized vsize-1\" data-block-type=\"21\" id=\"block-yui_3_17_2_2_1480024246180_54189\">\n",
      "         <div class=\"sqs-block-content\">\n",
      "         </div>\n",
      "        </div>\n",
      "        <div class=\"row sqs-row\">\n",
      "         <div class=\"col sqs-col-4 span-4\">\n",
      "          <div class=\"sqs-block image-block sqs-block-image\" data-aspect-ratio=\"99.2084432717678\" data-block-type=\"5\" id=\"block-9c4558c24f1e084b6275\">\n",
      "           <div class=\"sqs-block-content\">\n",
      "            <div class=\"image-block-outer-wrapper layout-caption-below design-layout-inline\">\n",
      "             <div class=\"intrinsic\" style=\"max-width:533.0px;\">\n",
      "              <div class=\"image-block-wrapper has-aspect-ratio\" data-description=\"\" style=\"padding-bottom:99.20844268798828%;\">\n",
      "               <noscript>\n",
      "                <img alt=\"1472343003351.png\" src=\"https://static1.squarespace.com/static/52fbc928e4b0b0a74813e545/t/583646ecf5e231d2030fe16e/1479956364796/1472343003351.png\"/>\n",
      "               </noscript>\n",
      "               <img alt=\"1472343003351.png\" class=\"thumb-image\" data-image=\"https://static1.squarespace.com/static/52fbc928e4b0b0a74813e545/t/583646ecf5e231d2030fe16e/1479956364796/1472343003351.png\" data-image-dimensions=\"533x533\" data-image-focal-point=\"0.5,0.5\" data-image-id=\"583646ecf5e231d2030fe16e\" data-load=\"false\" data-src=\"https://static1.squarespace.com/static/52fbc928e4b0b0a74813e545/t/583646ecf5e231d2030fe16e/1479956364796/1472343003351.png\" data-type=\"image\"/>\n",
      "              </div>\n",
      "             </div>\n",
      "            </div>\n",
      "           </div>\n",
      "          </div>\n",
      "         </div>\n",
      "         <div class=\"col sqs-col-8 span-8\">\n",
      "          <div class=\"sqs-block html-block sqs-block-html\" data-block-type=\"2\" id=\"block-yui_3_17_2_3_1479956976351_79112\">\n",
      "           <div class=\"sqs-block-content\">\n",
      "            <h2>\n",
      "             <strong>\n",
      "              DEV OPS\n",
      "             </strong>\n",
      "            </h2>\n",
      "            <h3>\n",
      "             LEVEL: ADVANCED\n",
      "            </h3>\n",
      "            <h3>\n",
      "             START DATE: JAN 10TH, TUES + THURS, 6-9PM\n",
      "            </h3>\n",
      "            <h3>\n",
      "             DURATION: 8 WEEKS\n",
      "            </h3>\n",
      "            <h3>\n",
      "             COST $850\n",
      "            </h3>\n",
      "            <h3>\n",
      "             INSTRUCTOR: DAN CARR\n",
      "            </h3>\n",
      "           </div>\n",
      "          </div>\n",
      "          <div class=\"sqs-block button-block sqs-block-button\" data-block-type=\"53\" id=\"block-351dbee1372733ffc51b\">\n",
      "           <div class=\"sqs-block-content\">\n",
      "            <div class=\"sqs-block-button-container--left\">\n",
      "             <a class=\"sqs-block-button-element--small sqs-block-button-element\" href=\"https://docs.google.com/forms/d/e/1FAIpQLSfDQFmS2g2YbF4zQUmv8Qfg5vRYGKVbW8Xma1OsQaWdcFNNNQ/viewform\" target=\"_blank\">\n",
      "              Apply Right Meow!\n",
      "             </a>\n",
      "            </div>\n",
      "           </div>\n",
      "          </div>\n",
      "         </div>\n",
      "        </div>\n",
      "        <div class=\"sqs-block html-block sqs-block-html\" data-block-type=\"2\" id=\"block-yui_3_17_2_2_1480024246180_71514\">\n",
      "         <div class=\"sqs-block-content\">\n",
      "          <h3>\n",
      "           <strong>\n",
      "            DESCRIPTION\n",
      "           </strong>\n",
      "          </h3>\n",
      "          <p>\n",
      "           <span style=\"font-size:14.6667px\">\n",
      "            As you might imagine, Hack Oregon has a universe of distributed systems and product releases, and we need a great crew that knows how to manage and maintain seamless deployment.\n",
      "           </span>\n",
      "          </p>\n",
      "          <p>\n",
      "           <span style=\"font-size:14.6667px\">\n",
      "            We'll teach you the art of building and maintaining the infrastructure powering dynamic websites,  with a particular focus on developing scalable software and systems architecture to solve real world problems.  Students will gain direct, hands on experience inside the Hack Oregon Dev Ops team during our active production sprint and participate in the deployment of season projects.\n",
      "           </span>\n",
      "          </p>\n",
      "          <h3>\n",
      "           <strong>\n",
      "            <span style=\"font-size:14.6667px\">\n",
      "             TECH USED\n",
      "            </span>\n",
      "           </strong>\n",
      "          </h3>\n",
      "          <p>\n",
      "           <span style=\"font-size:14.6667px\">\n",
      "            Hack Oregon operational stack includes AWS, Ansible, Docker and Vagrant. Applications are written in Python and NodeJs using Django and React. We'll also take an overview into IBM tools, including Bluemix and Watson Analytics.\n",
      "           </span>\n",
      "          </p>\n",
      "          <p>\n",
      "           <span style=\"font-size:14.66670036315918px\">\n",
      "            Topics covered include basic network and AWS VPC architecture, Automating AWS deployments with configuration management, software install with CM tools, self-healing application stack design, and Dockerizing existing projects.\n",
      "           </span>\n",
      "          </p>\n",
      "          <h3>\n",
      "           <strong>\n",
      "            <span style=\"font-size:14.6667px\">\n",
      "             WHO SHOULD TAKE IT?\n",
      "            </span>\n",
      "           </strong>\n",
      "          </h3>\n",
      "          <p>\n",
      "           <span style=\"font-size:14.6667px\">\n",
      "            You don’t necessarily need to be senior engineer or long time IT admin to qualify, but we’re classifying this course at an advanced level given the pace, pressure, and hands on sink-or-swim ethos of a production sprint and high pressure launch date.\n",
      "           </span>\n",
      "          </p>\n",
      "          <ul>\n",
      "           <li>\n",
      "            <span style=\"font-size:14.6667px\">\n",
      "             If you survive, you’ll have earned your keys to the Kingdom of Delivery where you'll be praised as a god among us.  Not to mention, Dev Ops is a much needed industry position with great starting salaries.\n",
      "            </span>\n",
      "           </li>\n",
      "          </ul>\n",
      "         </div>\n",
      "        </div>\n",
      "        <div class=\"sqs-block spacer-block sqs-block-spacer sized vsize-1\" data-block-type=\"21\" id=\"block-yui_3_17_2_2_1480024246180_83530\">\n",
      "         <div class=\"sqs-block-content\">\n",
      "         </div>\n",
      "        </div>\n",
      "        <div class=\"row sqs-row\">\n",
      "         <div class=\"col sqs-col-4 span-4\">\n",
      "          <div class=\"sqs-block image-block sqs-block-image\" data-block-type=\"5\" id=\"block-yui_3_17_2_4_1479953308976_90249\">\n",
      "           <div class=\"sqs-block-content\">\n",
      "            <div class=\"image-block-outer-wrapper layout-caption-below design-layout-inline\">\n",
      "             <div class=\"intrinsic\" style=\"max-width:500.0px;\">\n",
      "              <div class=\"image-block-wrapper has-aspect-ratio\" data-description=\"\" style=\"padding-bottom:100.0%;\">\n",
      "               <noscript>\n",
      "                <img alt=\"sunglasstriocat.jpg\" src=\"https://static1.squarespace.com/static/52fbc928e4b0b0a74813e545/t/5836545d03596ef406d6a21a/1479955574488/sunglasstriocat.jpg\"/>\n",
      "               </noscript>\n",
      "               <img alt=\"sunglasstriocat.jpg\" class=\"thumb-image\" data-image=\"https://static1.squarespace.com/static/52fbc928e4b0b0a74813e545/t/5836545d03596ef406d6a21a/1479955574488/sunglasstriocat.jpg\" data-image-dimensions=\"500x500\" data-image-focal-point=\"0.5,0.5\" data-image-id=\"5836545d03596ef406d6a21a\" data-load=\"false\" data-src=\"https://static1.squarespace.com/static/52fbc928e4b0b0a74813e545/t/5836545d03596ef406d6a21a/1479955574488/sunglasstriocat.jpg\" data-type=\"image\"/>\n",
      "              </div>\n",
      "             </div>\n",
      "            </div>\n",
      "           </div>\n",
      "          </div>\n",
      "         </div>\n",
      "         <div class=\"col sqs-col-8 span-8\">\n",
      "          <div class=\"sqs-block html-block sqs-block-html\" data-block-type=\"2\" id=\"block-yui_3_17_2_4_1479953308976_90457\">\n",
      "           <div class=\"sqs-block-content\">\n",
      "            <h2>\n",
      "             Backend Integration\n",
      "            </h2>\n",
      "            <h3>\n",
      "             LEVEL: INTERMEDIATE\n",
      "            </h3>\n",
      "            <h3>\n",
      "             START DATE: JAN 23RD, TUES + THURS, 6-9PM\n",
      "            </h3>\n",
      "            <h3>\n",
      "             DURATION: 8 WEEKS\n",
      "            </h3>\n",
      "            <h3>\n",
      "             Cost: $850\n",
      "            </h3>\n",
      "           </div>\n",
      "          </div>\n",
      "          <div class=\"sqs-block button-block sqs-block-button\" data-block-type=\"53\" id=\"block-yui_3_17_2_4_1480012066523_301305\">\n",
      "           <div class=\"sqs-block-content\">\n",
      "            <div class=\"sqs-block-button-container--left\">\n",
      "             <a class=\"sqs-block-button-element--small sqs-block-button-element\" href=\"https://docs.google.com/forms/d/e/1FAIpQLSfDQFmS2g2YbF4zQUmv8Qfg5vRYGKVbW8Xma1OsQaWdcFNNNQ/viewform\" target=\"_blank\">\n",
      "              Apply Right Meow!\n",
      "             </a>\n",
      "            </div>\n",
      "           </div>\n",
      "          </div>\n",
      "         </div>\n",
      "        </div>\n",
      "        <div class=\"sqs-block html-block sqs-block-html\" data-block-type=\"2\" id=\"block-yui_3_17_2_2_1480012066523_600133\">\n",
      "         <div class=\"sqs-block-content\">\n",
      "          <h3>\n",
      "           <strong>\n",
      "            DESCRIPTION\n",
      "           </strong>\n",
      "          </h3>\n",
      "          <p>\n",
      "           Do you have a need to share result sets of your databases or datasets with other people?\n",
      "          </p>\n",
      "          <p>\n",
      "           Build an API to organize information and connect your data to the cloud! This class is a blend of our Database Programming and Web Frameworks courses that will teach you how to design and build portals that can make your internal data accessible on the web.  It's a good way to share machine readable information, and take the next steps toward building dashboards or web applications to display and investigate live, updating data.  We'll teach you how to keep information secure, so private data stays private, and how to share information you'd like to make available to the web or among a group of approved collaborators.\n",
      "          </p>\n",
      "          <h3>\n",
      "           Tech Used:\n",
      "          </h3>\n",
      "          <p>\n",
      "           PostgreSQL\n",
      "          </p>\n",
      "          <p>\n",
      "           Django REST Framework\n",
      "          </p>\n",
      "          <h3>\n",
      "           Who should take this course?\n",
      "          </h3>\n",
      "          <p>\n",
      "           If you're proficient in any backend language (Python, Ruby, Java, etc) and/or SQL you'll do great.\n",
      "          </p>\n",
      "          <p>\n",
      "           If you're looking for your first dev job, the ability to build APIs is an incredibly marketable and in-demand skill, and we're confident we can get you up and running this project season.  If you've been learning on your own for a while or coming right out of a code school from a non-python background,  building web apps through a new framework can also be a great learning exercise to ground your current knowledge and expand your systems-thinking. If you're a current database admin, or drowning in excel files, you'll get even more out of this course.\n",
      "          </p>\n",
      "          <p>\n",
      "           Note: This course doesn't cover building databases from scratch or deployment. See Dev Ops (above), or look for our next offering of Database Programming.\n",
      "          </p>\n",
      "         </div>\n",
      "        </div>\n",
      "        <div class=\"sqs-block spacer-block sqs-block-spacer sized vsize-1\" data-block-type=\"21\" id=\"block-yui_3_17_2_2_1480024246180_55829\">\n",
      "         <div class=\"sqs-block-content\">\n",
      "         </div>\n",
      "        </div>\n",
      "        <div class=\"row sqs-row\">\n",
      "         <div class=\"col sqs-col-6 span-6\">\n",
      "          <div class=\"sqs-block image-block sqs-block-image\" data-block-type=\"5\" id=\"block-yui_3_17_2_4_1479953308976_244531\">\n",
      "           <div class=\"sqs-block-content\">\n",
      "            <div class=\"image-block-outer-wrapper layout-caption-below design-layout-inline\">\n",
      "             <div class=\"intrinsic\" style=\"max-width:420.0px;\">\n",
      "              <div class=\"image-block-wrapper has-aspect-ratio\" data-description=\"\" style=\"padding-bottom:100.0%;\">\n",
      "               <noscript>\n",
      "                <img alt=\"newyorkcat.jpg\" src=\"https://static1.squarespace.com/static/52fbc928e4b0b0a74813e545/t/5836594520099ed326f42811/1479956849510/newyorkcat.jpg\"/>\n",
      "               </noscript>\n",
      "               <img alt=\"newyorkcat.jpg\" class=\"thumb-image\" data-image=\"https://static1.squarespace.com/static/52fbc928e4b0b0a74813e545/t/5836594520099ed326f42811/1479956849510/newyorkcat.jpg\" data-image-dimensions=\"420x420\" data-image-focal-point=\"0.5,0.5\" data-image-id=\"5836594520099ed326f42811\" data-load=\"false\" data-src=\"https://static1.squarespace.com/static/52fbc928e4b0b0a74813e545/t/5836594520099ed326f42811/1479956849510/newyorkcat.jpg\" data-type=\"image\"/>\n",
      "              </div>\n",
      "             </div>\n",
      "            </div>\n",
      "           </div>\n",
      "          </div>\n",
      "         </div>\n",
      "         <div class=\"col sqs-col-6 span-6\">\n",
      "          <div class=\"sqs-block html-block sqs-block-html\" data-block-type=\"2\" id=\"block-yui_3_17_2_3_1480025465802_835174\">\n",
      "           <div class=\"sqs-block-content\">\n",
      "            <h2>\n",
      "             DIGITIAL MARKETING AND BRANDING\n",
      "            </h2>\n",
      "            <h3>\n",
      "             LEVEL: BEGINNING\n",
      "            </h3>\n",
      "            <h3>\n",
      "             START DATE: JAN 23RD, MON + WED, 6-9PM\n",
      "            </h3>\n",
      "            <h3>\n",
      "             DURATION: 8 WEEKS\n",
      "            </h3>\n",
      "            <h3>\n",
      "             COST $850\n",
      "            </h3>\n",
      "            <h3>\n",
      "             Instructor: Kari Goin + Special Guest Series\n",
      "            </h3>\n",
      "           </div>\n",
      "          </div>\n",
      "          <div class=\"sqs-block button-block sqs-block-button\" data-block-type=\"53\" id=\"block-yui_3_17_2_8_1480035836825_34677\">\n",
      "           <div class=\"sqs-block-content\">\n",
      "            <div class=\"sqs-block-button-container--left\">\n",
      "             <a class=\"sqs-block-button-element--small sqs-block-button-element\" href=\"https://docs.google.com/forms/d/e/1FAIpQLSfDQFmS2g2YbF4zQUmv8Qfg5vRYGKVbW8Xma1OsQaWdcFNNNQ/viewform\" target=\"_blank\">\n",
      "              APPLY RIGHT Meow!\n",
      "             </a>\n",
      "            </div>\n",
      "           </div>\n",
      "          </div>\n",
      "          <div class=\"sqs-block html-block sqs-block-html\" data-block-type=\"2\" id=\"block-yui_3_17_2_8_1480035836825_34745\">\n",
      "           <div class=\"sqs-block-content\">\n",
      "            <p>\n",
      "            </p>\n",
      "            <h3>\n",
      "            </h3>\n",
      "           </div>\n",
      "          </div>\n",
      "         </div>\n",
      "        </div>\n",
      "        <div class=\"sqs-block html-block sqs-block-html\" data-block-type=\"2\" id=\"block-yui_3_17_2_3_1480025465802_1380640\">\n",
      "         <div class=\"sqs-block-content\">\n",
      "          <h3>\n",
      "           <strong>\n",
      "            DESCRIPTION\n",
      "           </strong>\n",
      "          </h3>\n",
      "          <p>\n",
      "           At Hack Oregon we talk a lot of about coding, but you certainly don't need to be a developer to create a powerful voice and content online.\n",
      "          </p>\n",
      "          <p>\n",
      "           The world of advertising and branding online (and IRL) has been rapidly evolving with social media.  How has this changed marketing as an industry? How do you find a your authentic voice and let your brand stand out in a sea of internet chatter?  What parts of traditional advertising principals are relevant, and how traditions being adapted?\n",
      "          </p>\n",
      "          <p>\n",
      "           Whether you're looking to market yourself, a company, or a special project, we can take you inside the world of cutting edge digital strategy with experts on the front lines.  We'll also give you the real-world experience of creating a marketing campaign for the launch of Portland's new open data portal--- built by Hack Oregon!\n",
      "          </p>\n",
      "          <h3>\n",
      "           Who should take this course?\n",
      "          </h3>\n",
      "          <p>\n",
      "           This course is great for anyone who wants to create powerful online content, and is especially relevant for those who are thinking about breaking into the creative digital field or actively building a portfolio to apply to agencies.\n",
      "          </p>\n",
      "         </div>\n",
      "        </div>\n",
      "        <div class=\"sqs-block spacer-block sqs-block-spacer sized vsize-1\" data-block-type=\"21\" id=\"block-yui_3_17_2_5_1480111306117_131315\">\n",
      "         <div class=\"sqs-block-content\">\n",
      "         </div>\n",
      "        </div>\n",
      "        <div class=\"row sqs-row\">\n",
      "         <div class=\"col sqs-col-6 span-6\">\n",
      "          <div class=\"sqs-block image-block sqs-block-image\" data-block-type=\"5\" id=\"block-yui_3_17_2_2_1480024246180_253143\">\n",
      "           <div class=\"sqs-block-content\">\n",
      "            <div class=\"image-block-outer-wrapper layout-caption-below design-layout-inline\">\n",
      "             <div class=\"intrinsic\" style=\"max-width:500.0px;\">\n",
      "              <div class=\"image-block-wrapper has-aspect-ratio\" data-description=\"\" style=\"padding-bottom:100.0%;\">\n",
      "               <noscript>\n",
      "                <img alt=\"catgod.jpeg\" src=\"https://static1.squarespace.com/static/52fbc928e4b0b0a74813e545/t/583764b36b8f5ba7a0da792b/1480025291914/catgod.jpeg\"/>\n",
      "               </noscript>\n",
      "               <img alt=\"catgod.jpeg\" class=\"thumb-image\" data-image=\"https://static1.squarespace.com/static/52fbc928e4b0b0a74813e545/t/583764b36b8f5ba7a0da792b/1480025291914/catgod.jpeg\" data-image-dimensions=\"500x500\" data-image-focal-point=\"0.5,0.5\" data-image-id=\"583764b36b8f5ba7a0da792b\" data-load=\"false\" data-src=\"https://static1.squarespace.com/static/52fbc928e4b0b0a74813e545/t/583764b36b8f5ba7a0da792b/1480025291914/catgod.jpeg\" data-type=\"image\"/>\n",
      "              </div>\n",
      "             </div>\n",
      "            </div>\n",
      "           </div>\n",
      "          </div>\n",
      "         </div>\n",
      "         <div class=\"col sqs-col-6 span-6\">\n",
      "          <div class=\"sqs-block html-block sqs-block-html\" data-block-type=\"2\" id=\"block-yui_3_17_2_5_1480111306117_36598\">\n",
      "           <div class=\"sqs-block-content\">\n",
      "            <h2>\n",
      "             3D WITH UNITY\n",
      "            </h2>\n",
      "            <h3>\n",
      "             START DATE: JAN 23RD, MON + WED, 6-9PM\n",
      "            </h3>\n",
      "            <h3>\n",
      "             LEVEL: INTERMEDIATE\n",
      "            </h3>\n",
      "            <h3>\n",
      "             DURATION: 8 WEEKS\n",
      "            </h3>\n",
      "            <h3>\n",
      "             COST: $850\n",
      "            </h3>\n",
      "            <h3 dir=\"ltr\">\n",
      "             Instructor: TBA\n",
      "            </h3>\n",
      "           </div>\n",
      "          </div>\n",
      "          <div class=\"sqs-block button-block sqs-block-button\" data-block-type=\"53\" id=\"block-yui_3_17_2_5_1480111306117_59021\">\n",
      "           <div class=\"sqs-block-content\">\n",
      "            <div class=\"sqs-block-button-container--left\">\n",
      "             <a class=\"sqs-block-button-element--small sqs-block-button-element\" href=\"\">\n",
      "              Apply right Meow!\n",
      "             </a>\n",
      "            </div>\n",
      "           </div>\n",
      "          </div>\n",
      "         </div>\n",
      "        </div>\n",
      "        <div class=\"sqs-block html-block sqs-block-html\" data-block-type=\"2\" id=\"block-yui_3_17_2_5_1480111306117_59088\">\n",
      "         <div class=\"sqs-block-content\">\n",
      "          <h3>\n",
      "           <strong>\n",
      "            DESCRIPTION\n",
      "           </strong>\n",
      "          </h3>\n",
      "          <p>\n",
      "           Do you dream in 3D?\n",
      "          </p>\n",
      "          <p>\n",
      "           Of course you do. Why not the that dream and make it a reality? In the 3D with Unity course you can learn to create your own worlds.  If you're a complete beginner, we'll teach you all the coding and game design principles you'll need.  If you're an artist, we'll teach you to bring your assets to life. If you're a coder, get ready to make your 3D dreams a reality!\n",
      "          </p>\n",
      "          <p>\n",
      "           <strong>\n",
      "            *This course is currently still in development, and is beginning step toward Hack Oregon expanding more of our civic work into 3D experiences.  More information to be announced soon, but you can get on the early inquiry list now.\n",
      "           </strong>\n",
      "          </p>\n",
      "         </div>\n",
      "        </div>\n",
      "       </div>\n",
      "      </div>\n",
      "     </div>\n",
      "    </div>\n",
      "    <!-- comment the linebreak between these two elements because science\n",
      "        -->\n",
      "   </main>\n",
      "   <div id=\"preFooter\">\n",
      "    <div class=\"pre-footer-inner\">\n",
      "     <div class=\"sqs-layout sqs-grid-12 columns-12 empty\" data-layout-label=\"Pre-Footer Content\" data-type=\"block-field\" data-updated-on=\"1392327307057\" id=\"preFooterBlocks\">\n",
      "      <div class=\"row sqs-row\">\n",
      "       <div class=\"col sqs-col-12 span-12\">\n",
      "       </div>\n",
      "      </div>\n",
      "     </div>\n",
      "    </div>\n",
      "   </div>\n",
      "   <footer id=\"footer\" role=\"contentinfo\">\n",
      "    <div class=\"footer-inner\">\n",
      "     <div class=\"nav-wrapper back-to-top-nav\">\n",
      "      <nav>\n",
      "       <div class=\"back-to-top\">\n",
      "        <a href=\"#header\">\n",
      "         Back to Top\n",
      "        </a>\n",
      "       </div>\n",
      "      </nav>\n",
      "     </div>\n",
      "     <div class=\"nav-wrapper\" data-content-field=\"navigation-secondaryNav\" id=\"secondaryNavWrapper\">\n",
      "      <nav data-content-field=\"navigation-secondaryNav\" id=\"secondaryNavigation\">\n",
      "       <div class=\"collection active\" id=\"id5836423e15d5db57b198eb36\">\n",
      "        <a href=\"/upcoming-courses/\">\n",
      "         <span>\n",
      "          Upcoming Courses\n",
      "         </span>\n",
      "        </a>\n",
      "       </div>\n",
      "       <div class=\"collection\" id=\"id572fa72de707ebda42618754\">\n",
      "        <a href=\"/testimonials/\">\n",
      "         <span>\n",
      "          Testimonials\n",
      "         </span>\n",
      "        </a>\n",
      "       </div>\n",
      "       <div class=\"collection\" id=\"id55172261e4b05c72e7f427e8\">\n",
      "        <a href=\"/contact-1/\">\n",
      "         <span>\n",
      "          Leadership Team\n",
      "         </span>\n",
      "        </a>\n",
      "       </div>\n",
      "       <div class=\"external\">\n",
      "        <a href=\"/join\">\n",
      "         <span>\n",
      "          Apply for a Team\n",
      "         </span>\n",
      "        </a>\n",
      "       </div>\n",
      "       <div class=\"collection\" id=\"id55762ce6e4b093fac0b0f46f\">\n",
      "        <a href=\"/methodology/\">\n",
      "         <span>\n",
      "          Team Methodology\n",
      "         </span>\n",
      "        </a>\n",
      "       </div>\n",
      "       <div class=\"collection\" id=\"id55762c6ce4b0c0f2cf393927\">\n",
      "        <a href=\"/what-to-expect/\">\n",
      "         <span>\n",
      "          Volunteer FAQ\n",
      "         </span>\n",
      "        </a>\n",
      "       </div>\n",
      "       <div class=\"external\">\n",
      "        <a href=\"/hack-university\">\n",
      "         <span>\n",
      "          Hack University\n",
      "         </span>\n",
      "        </a>\n",
      "       </div>\n",
      "       <div class=\"collection\" id=\"id5670b97ccbced6a949f70de8\">\n",
      "        <a href=\"/more-questions-answered/\">\n",
      "         <span>\n",
      "          Hack University FAQ\n",
      "         </span>\n",
      "        </a>\n",
      "       </div>\n",
      "       <div class=\"collection\" id=\"id566a3ae8c21b86abf16d72b3\">\n",
      "        <a href=\"/donate/\">\n",
      "         <span>\n",
      "          \"Check Meowt\"\n",
      "         </span>\n",
      "        </a>\n",
      "       </div>\n",
      "       <div class=\"collection\" id=\"id574216981bbee0ad7c7b8f6a\">\n",
      "        <a href=\"/code-of-conduct/\">\n",
      "         <span>\n",
      "          Code of Conduct\n",
      "         </span>\n",
      "        </a>\n",
      "       </div>\n",
      "      </nav>\n",
      "     </div>\n",
      "     <div id=\"siteInfo\">\n",
      "      <span class=\"site-address\">\n",
      "       Hack Oregon, Portland, Oregon\n",
      "      </span>\n",
      "      <span class=\"site-phone\" rel=\"tel\">\n",
      "       5034072963\n",
      "      </span>\n",
      "      <a class=\"site-email\" href=\"mailto:hello@hackoregon.org\">\n",
      "       <span>\n",
      "        hello@hackoregon.org\n",
      "       </span>\n",
      "      </a>\n",
      "     </div>\n",
      "     <div class=\"sqs-layout sqs-grid-12 columns-12 empty\" data-layout-label=\"Footer Content\" data-type=\"block-field\" data-updated-on=\"1392316525903\" id=\"footerBlocks\">\n",
      "      <div class=\"row sqs-row\">\n",
      "       <div class=\"col sqs-col-12 span-12\">\n",
      "       </div>\n",
      "      </div>\n",
      "     </div>\n",
      "    </div>\n",
      "   </footer>\n",
      "  </div>\n",
      "  <script src=\"https://static1.squarespace.com/static/ta/52a74d9ae4b0253945d2aee9/974/scripts/site-bundle.js\" type=\"text/javascript\">\n",
      "  </script>\n",
      "  <script data-sqs-type=\"imageloader-bootstraper\" type=\"text/javascript\">\n",
      "   (function() {if(window.ImageLoader) { window.ImageLoader.bootstrap(); }})();\n",
      "  </script>\n",
      "  <script>\n",
      "   Squarespace.afterBodyLoad(Y);\n",
      "  </script>\n",
      " </body>\n",
      "</html>\n",
      "\n"
     ]
    }
   ],
   "source": [
    "print(soup.prettify())"
   ]
  },
  {
   "cell_type": "code",
   "execution_count": 22,
   "metadata": {
    "collapsed": true
   },
   "outputs": [
    {
     "data": {
      "text/plain": [
       "'<!doctype html>\\n<html xmlns:og=\"http://opengraphprotocol.org/schema/\" xmlns:fb=\"http://www.facebook.com/2008/fbml\" xmlns:website=\"http://ogp.me/ns/website\" lang=\"en-US\" itemscope itemtype=\"http://schema.org/WebPage\"  class=\"touch-styles\">\\n  <head>\\n    <meta http-equiv=\"X-UA-Compatible\" content=\"IE=edge,chrome=1\">\\n    \\n    <meta name=\"viewport\" content=\"width=device-width, initial-scale=1\">\\n    \\n    <!-- This is Squarespace. --><!-- catherine-nikolovski -->\\n<base href=\"\">\\n<meta charset=\"utf-8\" />\\n<title>Upcoming Courses — Hack Oregon</title>\\n<link rel=\"shortcut icon\" type=\"image/x-icon\" href=\"/favicon.ico\"/>\\n<link rel=\"canonical\" href=\"http://www.hackoregon.org/upcoming-courses/\"/>\\n<meta property=\"og:site_name\" content=\"Hack Oregon\"/>\\n<meta property=\"og:title\" content=\"Upcoming Courses\"/>\\n<meta property=\"og:url\" content=\"http://www.hackoregon.org/upcoming-courses/\"/>\\n<meta property=\"og:type\" content=\"website\"/>\\n<meta itemprop=\"name\" content=\"Upcoming Courses\"/>\\n<meta itemprop=\"url\" content=\"http://www.hackoregon.org/upcoming-courses/\"/>\\n<meta name=\"twitter:title\" content=\"Upcoming Courses\"/>\\n<meta name=\"twitter:url\" content=\"http://www.hackoregon.org/upcoming-courses/\"/>\\n<meta name=\"twitter:card\" content=\"summary\"/>\\n<meta name=\"description\" content=\"Hack Oregon is a community-powered nonprofit committed to promoting greater \\r\\ncivic awareness and engagement through data-inspired projects.\" />\\n<script type=\"text/javascript\" src=\"//use.typekit.net/ik/56bs_b30WA1w9p2Fqnyf40480jWtj9xKKcGxDbU4tIwfenC2fFHN4UJLFRbh52jhWD9kZc4R5QJtZQsKweJ3jQSX52IDZQ9XFsTaiaiaOcyyjhlzScm1dht0da41OeyyjhlzScm1dht0da41OeUzjhBC-eNDifURjWsGZW4Tdc9ldc8ndhUzi1Fn-PoDSWmyScmDSeBRZPoRdhXCHKoRjWsGZW4Tdc9ldc8ndhUzi1Fn-PoDSWmyScmDSeBRZPoRdhXK2YgkdayTdAIldcNhjPJPjAszjc9lZhBkjAuzdcblSY4zH6qJ73IbMg6gJMJ7fbKCMsMMeMC6MKG4f5J7IMMjMkMfH6qJtkGbMg6FJMJ7fbKzMsMMeMb6MKG4fOMgIMMj2KMfH6GJCwbgIMMjgPMfH6GJCSbgIMMj2kMfH6qJnbIbMg6eJMJ7fbK0MsMMegM6MKG4fJCgIMMjgkMfH6qJRMIbMg6sJMJ7fbKTMsMMeM66MKG4fHGgIMMjIKMfH6qJKbIbMg64JMJ7fbKHMsMMegw6MKG4fVwXIMIjgfMfH6qJvRbbMs65JMJ7fbRXFgMgeMj6MKG4fV9XIMIjIfMfH6qJv2bbMs6YJMJ7fbRUFgMgegI6MTMgz7ARC39.js\"></script>\\n<script type=\"text/javascript\">try{Typekit.load();}catch(e){}</script>\\n<link rel=\"stylesheet\" type=\"text/css\" href=\"//fonts.googleapis.com/css?family=Varela+Round:400,400italic,700normal,700italic\"/>\\n<script type=\"text/javascript\">SQUARESPACE_ROLLUPS = {};</script>\\n<script>(function(rollups, name) { if (!rollups[name]) { rollups[name] = {}; } rollups[name].js = [\"//static.squarespace.com/universal/scripts-compressed/common-3d18494811f09fbe543f-min.js\"]; })(SQUARESPACE_ROLLUPS, \\'squarespace-common\\');</script>\\n<script crossorigin=\"anonymous\" src=\"//static.squarespace.com/universal/scripts-compressed/common-3d18494811f09fbe543f-min.js\"></script><script>(function(rollups, name) { if (!rollups[name]) { rollups[name] = {}; } rollups[name].js = [\"//static.squarespace.com/universal/scripts-compressed/commerce-7be89cf7afca17009bde-min.js\"]; })(SQUARESPACE_ROLLUPS, \\'squarespace-commerce\\');</script>\\n<script crossorigin=\"anonymous\" src=\"//static.squarespace.com/universal/scripts-compressed/commerce-7be89cf7afca17009bde-min.js\"></script><script>(function(rollups, name) { if (!rollups[name]) { rollups[name] = {}; } rollups[name].css = [\"//static.squarespace.com/universal/styles-compressed/commerce-5ff3a810469d9b1346052dcaf72c56ae-min.css\"]; })(SQUARESPACE_ROLLUPS, \\'squarespace-commerce\\');</script>\\n<link rel=\"stylesheet\" type=\"text/css\" href=\"//static.squarespace.com/universal/styles-compressed/commerce-5ff3a810469d9b1346052dcaf72c56ae-min.css\"/><script type=\"text/javascript\" data-sqs-type=\"imageloader\">(function() {var EXCLUDED_SIZES=function(){var a=window.location.search,b=a.indexOf(\"exclude_imageloader_sizes=\");return-1<b&&(a=a.substr(b+26).split(\"&\")[0])?a.split(\",\").map(function(a){return parseInt(a,10)}):[]}(),SQUARESPACE_SIZES=[2500,1500,1E3,750,500,300,100].filter(function(a){return-1===EXCLUDED_SIZES.indexOf(a)}),IMAGE_LOADING_CLASS=\"loading\",ImageLoader=new function(){this.load=function(a,b){function d(a,b,c){var d=new Image;d.onload=b;d.onerror=c;d.src=a}a.getDOMNode&&(a=a.getDOMNode());var c=this._getDataFromNode(a,\\nb),e=!(!c.dimensions||!c.dimensions.width||!c.dimensions.height),g=c.load+\"\";if(\"false\"===g)return!1;var h=c.mode;if(e&&(\"fit\"===h||\"fill\"===h)){h=a.parentNode;if(!h)return console.error(\"Not doing anything, parentNode not found.\"),!1;if(!this.refresh(a,b,h))return!1}var n=this._intendToLoad(a,c);if(\"string\"===typeof n&&\"viewport\"!==g){var m=this.getUrl(n,c),g=a.getAttribute(\"data-image-resolution\");a.getAttribute(\"src\")!==m&&this.isValidResolution(n,g)&&(a.onload=function(){a.className=a.className.replace(IMAGE_LOADING_CLASS,\\n\" \").trim();a.setAttribute(\"data-image-resolution\",n)},!a.getAttribute(\"src\")&&-1===a.className.indexOf(IMAGE_LOADING_CLASS)&&(a.className+=(a.className?\" \":\"\")+IMAGE_LOADING_CLASS),!a.getAttribute(\"src\")&&e?(a.setAttribute(\"src\",m),c.useBgImage&&(a.parentNode.style.backgroundImage=\"url(\"+m+\")\")):d(m,function(){e?a.setAttribute(\"src\",m):(a.setAttribute(\"data-image-dimensions\",this.width+\"x\"+this.height),ImageLoader.load(a,b))},function(){a.className=a.className.replace(IMAGE_LOADING_CLASS,\" \").trim();\\na.setAttribute(\"src\",m)}));return!0}return n};this.refresh=function(a,b,d){a.getDOMNode&&(a=a.getDOMNode());d&&d.getDOMNode&&(d=d.getDOMNode());d=d||a.parentNode;if(!d)return console.error(\"Not doing anything, parentNode not found.\"),!1;var c=this._getDataFromNode(a,b),e=d.offsetWidth,g=d.offsetHeight;b=c.mode;if(\"none\"!==b){var h=c.dimensions.width,n=c.dimensions.height,m=h/n,q=e/g;if(c.useBgImage&&\"fill\"===b&&\"backgroundSize\"in document.documentElement.style)return a.style.display=\"none\",d.style.backgroundSize=\\n\"cover\",d.style.backgroundPosition=100*c.focalPoint.x+\"% \"+100*c.focalPoint.y+\"%\",!0;if(c.fixedRatio)\"fill\"==b&&q>m||\"fit\"==b&&q<m?(k=100,l=100*(q/m),r=(100-l)*c.focalPoint.y,p=0):(k=100*(m/q),l=100,r=0,p=(100-k)*c.focalPoint.x),a.style.top=r+\"%\",a.style.left=p+\"%\",a.style.width=k+\"%\",a.style.height=l+\"%\";else{var f;\"fill\"===b?f=m>q?g/n:e/h:\"fit\"===b&&(f=m<q?g/n:e/h);!c.stretch&&\"fit\"==b&&1<f&&(f=1);var k=Math.ceil(h*f),l=Math.ceil(n*f);if(0===k||0===l)return!1;var p,r;\"fill\"===b?(p=Math.min(Math.max(e/\\n2-k*c.focalPoint.x,e-k),0),r=Math.min(Math.max(g/2-l*c.focalPoint.y,g-l),0)):\"fit\"===b&&(f=c.fitAlignment,p=f.left?0:f.right?e-k:k<e?(e-k)/2:0,r=f.top?0:f.bottom?g-l:l<g?(g-l)/2:0,\"inline\"==this._getStyle(a,\"display\")&&(a.style.fontSize=\"0px\"),this._resetAlt(a,function(){k-=a.offsetHeight-a.clientHeight;l-=a.offsetWidth-a.clientWidth}));a.style.top=Math.ceil(r)+\"px\";a.style.left=Math.ceil(p)+\"px\";a.style.width=Math.ceil(k)+\"px\";a.style.height=Math.ceil(l)+\"px\"}p=this._getStyle(d,\"position\");a.style.position=\\n\"relative\"==p?\"absolute\":\"relative\";if(\"fill\"==b&&(b=this._getStyle(d,\"overflow\"),!b||\"hidden\"!=b))d.style.overflow=\"hidden\";return!0}};this._intendToLoad=function(a,b){function d(c,d){\"none\"===b.mode&&(a.style.width=null,a.style.height=null);var e=parseFloat(a.getAttribute(c)),f=parseFloat(e);if(!f||isNaN(f))e=h._getStyle(a,c),f=parseFloat(e);if(!f||isNaN(f))e=h._getStyle(a,\"max-\"+c,\"max\"+(c.substr(0,1).toUpperCase()+c.substr(1))),f=parseFloat(e);if(0===d||e)switch(h._stringType(e)){case \"percentage\":d=\\nparseInt(e,10)/100*g[\"offset\"+c.substr(0,1).toUpperCase()+c.substr(1)];break;case \"number\":d=parseInt(e,10)}!f&&0!==d&&!a.getAttribute(\"src\")&&(d=0);return d}b=b||this._getDataFromNode(a);if(!b.source)return!1;var c=a.offsetWidth,e=a.offsetHeight,g=a.parentNode,h=this;this._resetAlt(a,function(){c=d(\"width\",c);e=d(\"height\",e)});0===c&&0===e?(c=b.dimensions.width,e=b.dimensions.height):0===c?c=this.getDimensionForValue(\"width\",e,b):0===e&&(e=this.getDimensionForValue(\"height\",c,b));\"viewport\"===b.load&&\\n(a.style.width=Math.floor(c)+\"px\",a.style.height=Math.floor(e)+\"px\");return this.getSquarespaceSize(c,e,b)};this._getDataFromNode=function(a,b){b=b||{};var d={focalPoint:{x:0.5,y:0.5},dimensions:{width:null,height:null},mode:\"none\",fitAlignment:{center:!0},load:\"true\",stretch:!0,fixedRatio:!1};if(b.focalPoint)d.focalPoint=b.focalPoint;else{var c=a.getAttribute(\"data-image-focal-point\");if(c&&(c=c.split(\",\"))&&2==c.length)d.focalPoint={x:parseFloat(c[0]),y:parseFloat(c[1])}}if(b.dimensions)d.dimensions=\\nb.dimensions;else if((c=a.getAttribute(\"data-image-dimensions\"))&&(c=c.split(\"x\"))&&2==c.length)d.dimensions={width:parseInt(c[0],10),height:parseInt(c[1],10)};b.mode?d.mode=b.mode:a.parentNode&&(c=a.parentNode.className,-1!==c.indexOf(\"content-fill\")?d.mode=\"fill\":-1!==c.indexOf(\"content-fit\")&&(d.mode=\"fit\"));if(\"fit\"===d.mode&&a.parentNode&&(c=b.fitAlignment||a.getAttribute(\"data-alignment\")||a.parentNode.getAttribute(\"data-alignment\")))d.fitAlignment={top:-1!==c.indexOf(\"top\"),left:-1!==c.indexOf(\"left\"),\\ncenter:-1!==c.indexOf(\"center\"),right:-1!==c.indexOf(\"right\"),bottom:-1!==c.indexOf(\"bottom\")};b.load?d.load=b.load:(c=a.getAttribute(\"data-load\"))&&(d.load=c);if(\"undefined\"!==typeof b.stretch)d.stretch=b.stretch;else if(c=a.getAttribute(\"data-image-stretch\"))d.stretch=\"true\"===c?!0:!1;d.source=b.source?b.source:a.getAttribute(\"data-src\");d.source&&this.isSquarespaceUrl(d.source)&&(\"http:\"===d.source.substr(0,5)&&\"https\"===window.location.protocol.substr(0,5))&&(d.source=d.source.replace(\"http://\",\\n\"https://\"));if(b.fixedRatio)d.fixedRatio=b.fixedRatio;else if(c=a.getAttribute(\"data-fixed-ratio\"))d.fixedRatio=\"true\"==c;b.useBgImage?d.useBgImage=b.useBgImage:(c=a.getAttribute(\"data-use-bg-image\"),d.useBgImage=\"true\"===c||!0===c?!0:!1);return d};this._stringType=function(a){return\"string\"===typeof a&&-1!==a.indexOf(\"%\")?\"percentage\":isNaN(parseInt(a,10))?NaN:\"number\"};this._getStyle=function(a,b,d){var c;a.currentStyle?c=a.currentStyle[d||b]:window.getComputedStyle&&(c=document.defaultView.getComputedStyle(a,\\nnull).getPropertyValue(b));return c};this._isVisible=function(a){a=a.getBoundingClientRect();return 0<=a.left&&0<=a.top||0<=a.bottom&&0<=a.right||0<=a.left&&0<=a.bottom||0<=a.right&&0<=a.top};this.getSquarespaceSize=function(a,b,d){a=Math.max(b/(d.dimensions.height/d.dimensions.width),a);\"undefined\"===typeof app&&\"number\"===typeof window.devicePixelRatio&&(a*=window.devicePixelRatio);for(b=1;b<SQUARESPACE_SIZES.length&&!(a>SQUARESPACE_SIZES[b]);b++);return SQUARESPACE_SIZES[b-1]+\"w\"};this.getDimensionForValue=\\nfunction(a,b,d){var c=d.dimensions.width;d=d.dimensions.height;return\"width\"==a?c/d*b:\"height\"==a?d/c*b:NaN};this.getUrl=function(a,b){var d=b.source;return a&&(\"/\"==d[0]||this.isSquarespaceUrl(d))?(-1===d.indexOf(\"format=\"+a)&&(d=d+(-1!==d.indexOf(\"?\")?\"&\":\"?\")+\"format=\"+a),d):b.source};this.isSquarespaceUrl=function(a){return-1!==a.indexOf(\"squarespace.com\")||-1!==a.indexOf(\"squarespace.net\")||-1!==a.indexOf(\"sqsp.net\")};this.isValidResolution=function(a,b){a=parseInt(a,10);b=parseInt(b,10);return isNaN(a)||\\nisNaN(b)?!0:a>b};this._resetAlt=function(a,b){var d=a.getAttribute(\"alt\"),c=d&&0<d.length&&!a.getAttribute(\"src\");if(c){var e=a.style.display;a.removeAttribute(\"alt\");a.style.display=\"none\";a.offsetHeight+0;a.style.display=e}b.call(this);c&&a.setAttribute(\"alt\",d)};this.bootstrap=function(){var a=document.images;if(0<a.length)for(var b=0,d=a.length;b<d;b++)((a[b].hasAttribute?a[b].hasAttribute(\"data-image\"):a[b].attributes[\"data-image\"])||(a[b].hasAttribute?a[b].hasAttribute(\"data-src\"):a[b].attributes[\"data-src\"]))&&\\n\"false\"!==(a[b].getAttribute?a[b].getAttribute(\"data-load\"):a[b].attributes[\"data-load\"])+\"\"&&ImageLoader.load(a[b])}};window.ImageLoader=ImageLoader;window.YUI&&YUI.add(\"squarespace-imageloader\",function(a){},\"1.0\",{requires:[]});\\n})();</script>\\n<script>Static.SQUARESPACE_CONTEXT = {\"facebookAppId\":\"314192535267336\",\"rollups\":{\"squarespace-announcement-bar\":{\"css\":\"//static.squarespace.com/universal/styles-compressed/announcement-bar-d41d8cd98f00b204e9800998ecf8427e-min.css\",\"js\":\"//static.squarespace.com/universal/scripts-compressed/announcement-bar-255cecc1cf494d88d1ed-min.js\"},\"squarespace-audio-player\":{\"css\":\"//static.squarespace.com/universal/styles-compressed/audio-player-76e4bfcc3f9830beb388bae2002fbe6c-min.css\",\"js\":\"//static.squarespace.com/universal/scripts-compressed/audio-player-3ea6af3255a6d23d0a81-min.js\"},\"squarespace-blog-collection-list\":{\"css\":\"//static.squarespace.com/universal/styles-compressed/blog-collection-list-d41d8cd98f00b204e9800998ecf8427e-min.css\",\"js\":\"//static.squarespace.com/universal/scripts-compressed/blog-collection-list-b5d30a1c72f9aabbf44e-min.js\"},\"squarespace-calendar-block-renderer\":{\"css\":\"//static.squarespace.com/universal/styles-compressed/calendar-block-renderer-032634519fa160b1d2da6986dce0cdae-min.css\",\"js\":\"//static.squarespace.com/universal/scripts-compressed/calendar-block-renderer-5a699855af07ec227238-min.js\"},\"squarespace-chartjs-helpers\":{\"css\":\"//static.squarespace.com/universal/styles-compressed/chartjs-helpers-9935a41d63cf08ca108505d288c1712e-min.css\",\"js\":\"//static.squarespace.com/universal/scripts-compressed/chartjs-helpers-af3738629c6ec08afe3a-min.js\"},\"squarespace-comments\":{\"css\":\"//static.squarespace.com/universal/styles-compressed/comments-c1dbdfabfadb78eda284e5af702a4505-min.css\",\"js\":\"//static.squarespace.com/universal/scripts-compressed/comments-cee0bd99dbe1ae97ee79-min.js\"},\"squarespace-dialog\":{\"css\":\"//static.squarespace.com/universal/styles-compressed/dialog-41403d1f0d87846c1b05baa36a8d7c38-min.css\",\"js\":\"//static.squarespace.com/universal/scripts-compressed/dialog-a137c90ca7db429bef17-min.js\"},\"squarespace-events-collection\":{\"css\":\"//static.squarespace.com/universal/styles-compressed/events-collection-032634519fa160b1d2da6986dce0cdae-min.css\",\"js\":\"//static.squarespace.com/universal/scripts-compressed/events-collection-ef000ae08742cf220fcd-min.js\"},\"squarespace-gallery-collection-list\":{\"css\":\"//static.squarespace.com/universal/styles-compressed/gallery-collection-list-d41d8cd98f00b204e9800998ecf8427e-min.css\",\"js\":\"//static.squarespace.com/universal/scripts-compressed/gallery-collection-list-e1ed1954da9f16b56d45-min.js\"},\"squarespace-image-zoom\":{\"css\":\"//static.squarespace.com/universal/styles-compressed/image-zoom-ae974921915aeccaff8ad60c60e19c31-min.css\",\"js\":\"//static.squarespace.com/universal/scripts-compressed/image-zoom-51c8f17420ab45066403-min.js\"},\"squarespace-pinterest\":{\"css\":\"//static.squarespace.com/universal/styles-compressed/pinterest-d41d8cd98f00b204e9800998ecf8427e-min.css\",\"js\":\"//static.squarespace.com/universal/scripts-compressed/pinterest-d8da6511f2eb4de3e4bb-min.js\"},\"squarespace-product-quick-view\":{\"css\":\"//static.squarespace.com/universal/styles-compressed/product-quick-view-eb4b900ac0155bed2f175aa82e2a7c17-min.css\",\"js\":\"//static.squarespace.com/universal/scripts-compressed/product-quick-view-f47a2e1b22bc44954d6b-min.js\"},\"squarespace-products-collection-item-v2\":{\"css\":\"//static.squarespace.com/universal/styles-compressed/products-collection-item-v2-ae974921915aeccaff8ad60c60e19c31-min.css\",\"js\":\"//static.squarespace.com/universal/scripts-compressed/products-collection-item-v2-2e0088e56234d05f67a6-min.js\"},\"squarespace-products-collection-list-v2\":{\"css\":\"//static.squarespace.com/universal/styles-compressed/products-collection-list-v2-ae974921915aeccaff8ad60c60e19c31-min.css\",\"js\":\"//static.squarespace.com/universal/scripts-compressed/products-collection-list-v2-f5260cb9f989ad2d9cbe-min.js\"},\"squarespace-search-page\":{\"css\":\"//static.squarespace.com/universal/styles-compressed/search-page-9e3daa07ec7490c2f0be98a39351cb63-min.css\",\"js\":\"//static.squarespace.com/universal/scripts-compressed/search-page-15f41a4531e671a3d981-min.js\"},\"squarespace-share-buttons\":{\"js\":\"//static.squarespace.com/universal/scripts-compressed/share-buttons-8635c52fecea68b9dedc-min.js\"},\"squarespace-simple-liking\":{\"css\":\"//static.squarespace.com/universal/styles-compressed/simple-liking-09fa291ec2800c97714f0d157fd0a6ca-min.css\",\"js\":\"//static.squarespace.com/universal/scripts-compressed/simple-liking-d44ab1b0365494cdb742-min.js\"},\"squarespace-social-buttons\":{\"css\":\"//static.squarespace.com/universal/styles-compressed/social-buttons-7a696232d1cd101fd62b5f174f9ae6ff-min.css\",\"js\":\"//static.squarespace.com/universal/scripts-compressed/social-buttons-7dcb8f45203f0e6b21f7-min.js\"},\"squarespace-tourdates\":{\"css\":\"//static.squarespace.com/universal/styles-compressed/tourdates-d41d8cd98f00b204e9800998ecf8427e-min.css\",\"js\":\"//static.squarespace.com/universal/scripts-compressed/tourdates-3f33e6971c462cdde221-min.js\"}},\"pageType\":2,\"website\":{\"id\":\"52fbc928e4b0b0a74813e545\",\"identifier\":\"catherine-nikolovski\",\"websiteType\":1,\"contentModifiedOn\":1480112415784,\"cloneable\":false,\"siteStatus\":{},\"language\":\"en-US\",\"timeZone\":\"America/New_York\",\"machineTimeZoneOffset\":-18000000,\"timeZoneOffset\":-18000000,\"timeZoneAbbr\":\"EST\",\"siteTitle\":\"Hack Oregon\",\"siteTagLine\":\"MAKING PUBLIC INFORMATION, PUBLIC KNOWLEDGE.\",\"siteDescription\":\"<p>Hack Oregon is a community-powered nonprofit committed to promoting greater civic awareness and engagement through data-inspired projects.</p><p>\\\\u00A0</p>\",\"location\":{\"mapZoom\":8.0,\"mapLat\":45.4967799,\"mapLng\":-122.5691544,\"markerLat\":45.4967799,\"markerLng\":-122.5691544,\"addressTitle\":\"Hack Oregon\",\"addressLine1\":\"\",\"addressLine2\":\"Portland, Oregon\",\"addressCountry\":\"\"},\"logoImageId\":\"551709d8e4b0dfcc47bdca61\",\"shareButtonOptions\":{\"2\":true,\"4\":true,\"6\":true,\"3\":true,\"5\":true,\"1\":true,\"7\":true,\"8\":true},\"logoImageUrl\":\"//static1.squarespace.com/static/52fbc928e4b0b0a74813e545/t/551709d8e4b0dfcc47bdca61/1480112415784/\",\"authenticUrl\":\"http://www.hackoregon.org\",\"internalUrl\":\"http://catherine-nikolovski.squarespace.com\",\"baseUrl\":\"http://www.hackoregon.org\",\"primaryDomain\":\"www.hackoregon.org\",\"socialAccounts\":[{\"serviceId\":20,\"userId\":\"catherine@hackoregon.org\",\"screenname\":\"catherine@hackoregon.org\",\"addedOn\":1392316325702,\"profileUrl\":\"mailto:catherine@hackoregon.org\",\"iconEnabled\":true,\"serviceName\":\"email\"},{\"serviceId\":4,\"userId\":\"2296937029\",\"userName\":\"HackOregon\",\"screenname\":\"Hack Oregon\",\"addedOn\":1392316449911,\"profileUrl\":\"https://twitter.com/HackOregon\",\"iconUrl\":\"http://pbs.twimg.com/profile_images/424325523905331200/pw-qkMe1_normal.jpeg\",\"collectionId\":\"52fd1021e4b0649c39e14655\",\"iconEnabled\":true,\"serviceName\":\"twitter\"},{\"serviceId\":33,\"screenname\":\"Meetup\",\"addedOn\":1427571699624,\"profileUrl\":\"http://www.meetup.com/datastorytelling/\",\"iconEnabled\":true,\"serviceName\":\"meetup\"},{\"serviceId\":23,\"userId\":\"10101504\",\"userName\":\"rileyrustad\",\"screenname\":\"Riley Rustad\",\"addedOn\":1459809186076,\"profileUrl\":\"https://github.com/hackoregon\",\"iconUrl\":\"https://avatars.githubusercontent.com/u/10101504?v=3\",\"iconEnabled\":true,\"serviceName\":\"github\"}],\"typekitId\":\"\",\"statsMigrated\":false},\"websiteSettings\":{\"id\":\"52fbc928e4b0b0a74813e546\",\"websiteId\":\"52fbc928e4b0b0a74813e545\",\"type\":\"Non-Profit\",\"subject\":\"Non-Profit\",\"subjects\":[{\"systemSubject\":\"other\",\"otherSubject\":\"Non-Profit\"}],\"country\":\"US\",\"state\":\"OR\",\"markdownMode\":false,\"simpleLikingEnabled\":true,\"mobileInfoBarSettings\":{\"isContactEmailEnabled\":false,\"isContactPhoneNumberEnabled\":false,\"isLocationEnabled\":false,\"isBusinessHoursEnabled\":false},\"announcementBarSettings\":{\"style\":1,\"text\":\"<p>Check out what we\\'ve been up to lately</p>\",\"clickthroughUrl\":{\"url\":\"http://storytelling.hackoregon.com\",\"newWindow\":true}},\"lastAgreedTermsOfService\":2,\"defaultPostFormat\":\"%y/%m/%d/%t\",\"commentLikesAllowed\":true,\"commentAnonAllowed\":true,\"commentThreaded\":true,\"commentApprovalRequired\":false,\"commentAvatarsOn\":true,\"commentSortType\":2,\"commentFlagThreshold\":0,\"commentFlagsAllowed\":true,\"commentEnableByDefault\":true,\"commentDisableAfterDaysDefault\":0,\"disqusShortname\":\"\",\"homepageTitleFormat\":\"%s\",\"collectionTitleFormat\":\"%c \\\\u2014 %s\",\"itemTitleFormat\":\"%i \\\\u2014 %s\",\"commentsEnabled\":true,\"contactPhoneNumber\":\"5034072963\",\"contactEmail\":\"hello@hackoregon.org\",\"allowSquarespacePromotion\":true,\"storeSettings\":{\"returnPolicy\":\"<p>This is a thank you gift for your donation, and is not eligible for a refund.&nbsp;</p>\",\"termsOfService\":\"\",\"privacyPolicy\":\"\",\"orderRefundedSubjectFormat\":\"%s: Order #%o Refunded\",\"orderRefundedTitleFormat\":\"Order Refunded: #%o\",\"paymentSettings\":{\"stripeLivePublicApiKey\":\"pk_live_riYah4XzNY1i51AtjpT0zYwn\",\"stripeTestPublicApiKey\":\"pk_test_xAYzrOPg5whHH8kaNdAEPeNW\",\"stripeUserId\":\"acct_103Udh2uJnnrJXRd\",\"stripeAccountCountry\":\"US\"},\"expressCheckout\":false,\"useLightCart\":false,\"showNoteField\":false,\"shippingCountryDefaultValue\":\"US\",\"billToShippingDefaultValue\":false,\"showShippingPhoneNumber\":true,\"isShippingPhoneRequired\":false,\"showBillingPhoneNumber\":true,\"isBillingPhoneRequired\":false,\"currenciesSupported\":[\"USD\",\"AUD\",\"CAD\",\"EUR\",\"GBP\"],\"defaultCurrency\":\"USD\",\"selectedCurrency\":\"USD\",\"stripePublishableKey\":\"pk_live_riYah4XzNY1i51AtjpT0zYwn\",\"stripeAccountCountry\":\"US\",\"measurementStandard\":1,\"showCustomCheckoutForm\":false,\"enableMailingListOptInByDefault\":false,\"sameAsRetailLocation\":false,\"testPublishableKey\":\"pk_test_xAYzrOPg5whHH8kaNdAEPeNW\",\"stripeConnected\":true,\"isLive\":true},\"useEscapeKeyToLogin\":true,\"ssBadgeType\":1,\"ssBadgePosition\":4,\"ssBadgeVisibility\":1,\"ssBadgeDevices\":1,\"pinterestOverlayOptions\":{\"mode\":\"disabled\"},\"ampEnabled\":false},\"websiteCloneable\":false,\"collection\":{\"title\":\"Upcoming Courses\",\"id\":\"5836423e15d5db57b198eb36\",\"fullUrl\":\"/upcoming-courses/\",\"type\":10},\"subscribed\":false,\"appDomain\":\"squarespace.com\",\"templateTweakable\":true,\"tweakJSON\":{\"aspect-ratio\":\"Auto\",\"banner-slideshow-controls\":\"Arrows\",\"gallery-arrow-style\":\"No Background\",\"gallery-aspect-ratio\":\"3:2 Standard\",\"gallery-auto-crop\":\"true\",\"gallery-autoplay\":\"false\",\"gallery-design\":\"Grid\",\"gallery-info-overlay\":\"Show on Hover\",\"gallery-loop\":\"false\",\"gallery-navigation\":\"Bullets\",\"gallery-show-arrows\":\"true\",\"gallery-transitions\":\"Fade\",\"galleryArrowBackground\":\"rgba(34,34,34,1)\",\"galleryArrowColor\":\"rgba(255,255,255,1)\",\"galleryAutoplaySpeed\":\"3\",\"galleryCircleColor\":\"rgba(255,255,255,1)\",\"galleryInfoBackground\":\"rgba(0, 0, 0, .7)\",\"galleryThumbnailSize\":\"100px\",\"gridSize\":\"280px\",\"gridSpacing\":\"10px\",\"logoContainerWidth\":\"185px\",\"product-gallery-auto-crop\":\"false\",\"product-image-auto-crop\":\"true\",\"siteTitleContainerWidth\":\"495px\"},\"templateId\":\"52a74dafe4b073a80cd253c5\",\"pageFeatures\":[1,2,4],\"impersonatedSession\":false,\"demoCollections\":[{\"collectionId\":\"52a76db3e4b0dfaa507e7b18\",\"deleted\":true},{\"collectionId\":\"52b1eff5e4b0871946c207e4\",\"deleted\":true},{\"collectionId\":\"52a76dc2e4b0dfaa507e7b32\",\"deleted\":true},{\"collectionId\":\"52c71337e4b07aa29e46fa44\",\"deleted\":false},{\"collectionId\":\"52d8053ce4b0e26973428261\",\"deleted\":true},{\"collectionId\":\"52cad0a1e4b06ad2e57287af\",\"deleted\":true},{\"collectionId\":\"52d067ace4b0bd5a03cf573b\",\"deleted\":true},{\"collectionId\":\"52e18d59e4b08face9704bad\",\"deleted\":true},{\"collectionId\":\"52e175e7e4b03c845ac17314\",\"deleted\":true},{\"collectionId\":\"52d80724e4b0c692d7428ff2\",\"deleted\":true}],\"isFacebookTab\":false,\"tzData\":{\"zones\":[[-300,\"US\",\"E%sT\",null]],\"rules\":{\"US\":[[1967,2006,null,\"Oct\",\"lastSun\",\"2:00\",\"0\",\"S\"],[1987,2006,null,\"Apr\",\"Sun>=1\",\"2:00\",\"1:00\",\"D\"],[2007,\"max\",null,\"Mar\",\"Sun>=8\",\"2:00\",\"1:00\",\"D\"],[2007,\"max\",null,\"Nov\",\"Sun>=1\",\"2:00\",\"0\",\"S\"]]}}};</script><script type=\"text/javascript\"> SquarespaceFonts.loadViaContext(); Squarespace.load(window);</script><script type=\"application/ld+json\">{\"@context\":\"http://schema.org\",\"@type\":\"WebSite\",\"url\":\"http://www.hackoregon.org\",\"name\":\"Hack Oregon\",\"description\":\"<p>Hack Oregon is a community-powered nonprofit committed to promoting greater civic awareness and engagement through data-inspired projects.</p><p>\\\\u00A0</p>\",\"image\":\"//static1.squarespace.com/static/52fbc928e4b0b0a74813e545/t/551709d8e4b0dfcc47bdca61/1480112415784/\"}</script><!--[if gte IE 9]> <link rel=\"stylesheet\" type=\"text/css\" href=\"//static1.squarespace.com/static/sitecss/52fbc928e4b0b0a74813e545/71/52a74dafe4b073a80cd253c5/52fd0e1ae4b0d81b4ad2170b/974-05142015/1480036348159/site.css?&filterFeatures=false&part=1\"/><link rel=\"stylesheet\" type=\"text/css\" href=\"//static1.squarespace.com/static/sitecss/52fbc928e4b0b0a74813e545/71/52a74dafe4b073a80cd253c5/52fd0e1ae4b0d81b4ad2170b/974-05142015/1480036348159/site.css?&filterFeatures=false&part=2\"/><link rel=\"stylesheet\" type=\"text/css\" href=\"//static1.squarespace.com/static/sitecss/52fbc928e4b0b0a74813e545/71/52a74dafe4b073a80cd253c5/52fd0e1ae4b0d81b4ad2170b/974-05142015/1480036348159/site.css?&filterFeatures=false&part=3\"/><link rel=\"stylesheet\" type=\"text/css\" href=\"//static1.squarespace.com/static/sitecss/52fbc928e4b0b0a74813e545/71/52a74dafe4b073a80cd253c5/52fd0e1ae4b0d81b4ad2170b/974-05142015/1480036348159/site.css?&filterFeatures=false&part=4\"/><![endif]-->\\n<!--[if lt IE 9]><link rel=\"stylesheet\" type=\"text/css\" href=\"//static1.squarespace.com/static/sitecss/52fbc928e4b0b0a74813e545/71/52a74dafe4b073a80cd253c5/52fd0e1ae4b0d81b4ad2170b/974-05142015/1480036348159/site.css?&filterFeatures=false&noMedia=true&part=1\"/><link rel=\"stylesheet\" type=\"text/css\" href=\"//static1.squarespace.com/static/sitecss/52fbc928e4b0b0a74813e545/71/52a74dafe4b073a80cd253c5/52fd0e1ae4b0d81b4ad2170b/974-05142015/1480036348159/site.css?&filterFeatures=false&noMedia=true&part=2\"/><link rel=\"stylesheet\" type=\"text/css\" href=\"//static1.squarespace.com/static/sitecss/52fbc928e4b0b0a74813e545/71/52a74dafe4b073a80cd253c5/52fd0e1ae4b0d81b4ad2170b/974-05142015/1480036348159/site.css?&filterFeatures=false&noMedia=true&part=3\"/><link rel=\"stylesheet\" type=\"text/css\" href=\"//static1.squarespace.com/static/sitecss/52fbc928e4b0b0a74813e545/71/52a74dafe4b073a80cd253c5/52fd0e1ae4b0d81b4ad2170b/974-05142015/1480036348159/site.css?&filterFeatures=false&noMedia=true&part=4\"/><![endif]-->\\n<!--[if !IE]> --><link rel=\"stylesheet\" type=\"text/css\" href=\"//static1.squarespace.com/static/sitecss/52fbc928e4b0b0a74813e545/71/52a74dafe4b073a80cd253c5/52fd0e1ae4b0d81b4ad2170b/974-05142015/1480036348159/site.css?&filterFeatures=false\"/><!-- <![endif]-->\\n<!-- End of Squarespace Headers -->\\n    <script>/* Must be below squarespace-headers */(function(){var e=\\'ontouchstart\\'in window||navigator.msMaxTouchPoints;var t=document.documentElement;if(!e&&t){t.className=t.className.replace(/touch-styles/,\\'\\')}})()\\n    </script>\\n  </head>\\n\\n  <body id=\"collection-5836423e15d5db57b198eb36\" class=\"transparent-header enable-nav-button nav-button-style-outline nav-button-corner-style-square banner-button-style-outline banner-button-corner-style-rounded banner-slideshow-controls-arrows meta-priority-date  hide-entry-author hide-list-entry-footer    hide-blog-sidebar center-navigation--info    event-thumbnails event-thumbnail-size-32-standard event-date-label event-date-label-time event-list-show-cats event-list-date event-list-time event-list-address   event-icalgcal-links  event-excerpts  event-item-back-link     gallery-design-grid aspect-ratio-auto lightbox-style-light gallery-navigation-bullets gallery-info-overlay-show-on-hover gallery-aspect-ratio-32-standard gallery-arrow-style-no-background gallery-transitions-fade gallery-show-arrows gallery-auto-crop   product-list-titles-under product-list-alignment-center product-item-size-11-square product-image-auto-crop product-gallery-size-11-square  show-product-price show-product-item-nav product-social-sharing image-block-poster-contextual-font-sizing image-block-poster-scroll-animation-fade-in image-block-card-contextual-font-sizing image-block-card-scroll-animation-fade-in image-block-overlap-contextual-font-sizing  image-block-overlap-scroll-animation-slide-in image-block-collage-contextual-font-sizing image-block-collage-scroll-animation-slide-in image-block-stack-scroll-animation-fade-in  opentable-style-light newsletter-style-dark small-button-style-solid small-button-shape-square medium-button-style-solid medium-button-shape-rounded large-button-style-solid large-button-shape-square button-style-outline button-corner-style-square tweak-product-quick-view-button-style-floating tweak-product-quick-view-button-position-bottom tweak-product-quick-view-lightbox-excerpt-display-truncate tweak-product-quick-view-lightbox-show-arrows tweak-product-quick-view-lightbox-show-close-button tweak-product-quick-view-lightbox-controls-weight-light native-currency-code-usd collection-5836423e15d5db57b198eb36 collection-type-page collection-layout-default mobile-style-available has-banner-image general-page\">\\n    <a href=\"#\" class=\"body-overlay\"></a>\\n    <div class=\"sqs-announcement-bar-dropzone\"></div>\\n    <div id=\"sidecarNav\">\\n      <div id=\"mobileNavWrapper\" class=\"nav-wrapper\" data-content-field=\"navigation-mobileNav\">\\n  <nav id=\"mobileNavigation\">\\n    \\n      \\n        \\n\\n        \\n\\n          \\n          <div class=\"collection\">\\n            <a href=\"/join/\">\\n              Volunteer\\n            </a>\\n          </div>\\n          \\n\\n        \\n      \\n      \\n\\n    \\n      \\n        \\n\\n        \\n\\n          \\n          <div class=\"collection\">\\n            <a href=\"/hack-university/\">\\n              Courses\\n            </a>\\n          </div>\\n          \\n\\n        \\n      \\n      \\n\\n    \\n      \\n        \\n\\n        \\n\\n          \\n          <div class=\"collection\">\\n            <a href=\"/about/\">\\n              About\\n            </a>\\n          </div>\\n          \\n\\n        \\n      \\n      \\n\\n    \\n  </nav>\\n</div>\\n\\n\\n\\n    </div>\\n    <div id=\"siteWrapper\" class=\"clearfix\">\\n\\n      <div class=\"sqs-cart-dropzone\"></div>\\n\\n      <header id=\"header\" class=\"show-on-scroll\" data-offset-el=\".index-section\" data-offset-behavior=\"bottom\" role=\"banner\">\\n        <div class=\"header-inner\">\\n          <div id=\"logoWrapper\" class=\"wrapper\" data-content-field=\"site-title\">\\n            \\n              <h1 id=\"logoImage\"><a href=\"/\"><img src=\"//static1.squarespace.com/static/52fbc928e4b0b0a74813e545/t/551709d8e4b0dfcc47bdca61/1480112415784/?format=1500w\" alt=\"Hack Oregon\" /></a></h1>\\n            \\n          </div><!-- comment the linebreak between these two elements because science\\n          --><div class=\"mobile-nav-toggle\"><div class=\"top-bar\"></div><div class=\"middle-bar\"></div><div class=\"bottom-bar\"></div></div><div class=\"mobile-nav-toggle-label fixed-nav-toggle\"><div class=\"top-bar\"></div><div class=\"middle-bar\"></div><div class=\"bottom-bar\"></div></div><!-- comment the linebreak between these two elements because science\\n          --><div id=\"headerNav\"><div id=\"mainNavWrapper\" class=\"nav-wrapper\" data-content-field=\"navigation-mainNav\">\\n  <nav id=\"mainNavigation\" data-content-field=\"navigation-mainNav\">\\n    \\n      \\n        \\n\\n        \\n\\n          \\n          <div class=\"collection\">\\n            <a href=\"/join/\">\\n              Volunteer\\n            </a>\\n          </div>\\n          \\n\\n        \\n      \\n      \\n\\n    \\n      \\n        \\n\\n        \\n\\n          \\n          <div class=\"collection\">\\n            <a href=\"/hack-university/\">\\n              Courses\\n            </a>\\n          </div>\\n          \\n\\n        \\n      \\n      \\n\\n    \\n      \\n        \\n\\n        \\n\\n          \\n          <div class=\"collection\">\\n            <a href=\"/about/\">\\n              About\\n            </a>\\n          </div>\\n          \\n\\n        \\n      \\n      \\n\\n    \\n  </nav>\\n</div>\\n<!-- style below blocks out the mobile nav toggle only when nav is loaded -->\\n<style>.mobile-nav-toggle-label { display: inline-block !important; }</style>\\n\\n\\n</div>\\n        </div>\\n      </header>\\n\\n      \\n        \\n          \\n            \\n              \\n                <div id=\"promotedGalleryWrapper\" class=\"sqs-layout promoted-gallery-wrapper\"><div class=\"row\"><div class=\"col\"></div></div></div>\\n                \\n                  \\n                    <div class=\"banner-thumbnail-wrapper\" data-content-field=\"main-image\" data-collection-id=\"5836423e15d5db57b198eb36\" data-edit-main-image=\"Banner\" data-annotation-alignment=\"bottom left\">\\n                      \\n                      <div class=\"color-overlay\"></div>\\n                      <figure id=\"thumbnail\" class=\"loading content-fill\">\\n                        <img data-src=\"https://static1.squarespace.com/static/52fbc928e4b0b0a74813e545/t/58378fb26a4963bb183cec82/1480036276619/sunrisefromspace2.jpg\" data-image=\"https://static1.squarespace.com/static/52fbc928e4b0b0a74813e545/t/58378fb26a4963bb183cec82/1480036276619/sunrisefromspace2.jpg\" data-image-dimensions=\"2500x703\" data-image-focal-point=\"0.5,0.5\" alt=\"sunrisefromspace2.jpg\"  />\\n                      </figure>\\n                      \\n                      \\n                    </div>\\n                  \\n                \\n              \\n            \\n          \\n        \\n      \\n\\n\\n      \\n      \\n      \\n\\n      <main id=\"page\" role=\"main\">\\n        \\n        <!-- comment the linebreak between these two elements because science\\n        --><!-- comment the linebreak between these two elements because science\\n        --><!-- comment the linebreak between these two elements because science\\n        --><div id=\"content\" class=\"main-content\" data-content-field=\"main-content\" data-collection-id=\"5836423e15d5db57b198eb36\" data-edit-main-image=\"Banner\">\\n         <div class=\"sqs-layout sqs-grid-12 columns-12\" data-type=\"page\" data-updated-on=\"1480112415778\" id=\"page-5836423e15d5db57b198eb36\"><div class=\"row sqs-row\"><div class=\"col sqs-col-1 span-1\"><div class=\"sqs-block spacer-block sqs-block-spacer sized vsize-1\" data-block-type=\"21\" id=\"block-98a845b7fdc453e42ccc\"><div class=\"sqs-block-content\">&nbsp;</div></div></div><div class=\"col sqs-col-10 span-10\"><div class=\"sqs-block html-block sqs-block-html\" data-block-type=\"2\" id=\"block-46c8f1f883a86faf559f\"><div class=\"sqs-block-content\"><h1 class=\"text-align-center\">Upcoming Courses</h1><h2 class=\"text-align-center\">Coming January 2017</h2></div></div><div class=\"sqs-block spacer-block sqs-block-spacer sized vsize-1\" data-block-type=\"21\" id=\"block-dc262cf0a787ae5585db\"><div class=\"sqs-block-content\">&nbsp;</div></div></div><div class=\"col sqs-col-1 span-1\"><div class=\"sqs-block spacer-block sqs-block-spacer sized vsize-1\" data-block-type=\"21\" id=\"block-c8fdd20477439a9d2fad\"><div class=\"sqs-block-content\">&nbsp;</div></div></div></div><div class=\"row sqs-row\"><div class=\"col sqs-col-5 span-5\"><div class=\"sqs-block image-block sqs-block-image\" data-aspect-ratio=\"98.41688654353563\" data-block-type=\"5\" id=\"block-c22d7b485440c44ac7e4\"><div class=\"sqs-block-content\">\\n\\n  \\n\\n  \\t\\n      <div class=\"image-block-outer-wrapper layout-caption-below design-layout-inline\">\\n      \\n        <div class=\"intrinsic\" style=\"max-width:424.0px;\">\\n          \\n            <div style=\"padding-bottom:98.41688537597656%;\" class=\"image-block-wrapper   has-aspect-ratio\" data-description=\"\" >\\n              <noscript><img src=\"https://static1.squarespace.com/static/52fbc928e4b0b0a74813e545/t/58365e0ef5e231d20310cf93/1479958081209/proudunicorncat.jpg\"  alt=\"proudunicorncat.jpg\"  /></noscript><img class=\"thumb-image\" alt=\"proudunicorncat.jpg\" data-src=\"https://static1.squarespace.com/static/52fbc928e4b0b0a74813e545/t/58365e0ef5e231d20310cf93/1479958081209/proudunicorncat.jpg\" data-image=\"https://static1.squarespace.com/static/52fbc928e4b0b0a74813e545/t/58365e0ef5e231d20310cf93/1479958081209/proudunicorncat.jpg\" data-image-dimensions=\"424x424\" data-image-focal-point=\"0.5,0.5\" data-load=\"false\" data-image-id=\"58365e0ef5e231d20310cf93\" data-type=\"image\" />\\n            </div>\\n          \\n\\n          \\n\\n        </div>\\n      \\n      </div>\\n    \\n\\n  \\n\\n\\n</div></div></div><div class=\"col sqs-col-7 span-7\"><div class=\"sqs-block html-block sqs-block-html\" data-block-type=\"2\" id=\"block-57cc6569542486da642e\"><div class=\"sqs-block-content\"><h2><strong>MODERN CSS</strong></h2><h3>LEVEL: BEGINNER</h3><h3>START DATE: FEB 8TH, TUES + THURS, 6-9PM</h3><h3>DURATION: 6 WEEKS</h3><h3>COST $850</h3><h3>INSTRUCTOR: DAVID ZULAICA</h3></div></div><div class=\"sqs-block button-block sqs-block-button sqs-col-4 span-4 float float-left\" data-block-type=\"53\" id=\"block-e1b35504c549fa6b06df\"><div class=\"sqs-block-content\">\\n<div class=\"sqs-block-button-container--left\">\\n\\t<a href=\"https://docs.google.com/forms/d/e/1FAIpQLSfDQFmS2g2YbF4zQUmv8Qfg5vRYGKVbW8Xma1OsQaWdcFNNNQ/viewform\" class=\"sqs-block-button-element--small sqs-block-button-element\" target=\"_blank\">Apply Right Meow!</a>\\n</div></div></div><div class=\"sqs-block html-block sqs-block-html\" data-block-type=\"2\" id=\"block-yui_3_17_2_2_1479953308976_226902\"><div class=\"sqs-block-content\"><h3><strong></strong></h3></div></div></div></div><div class=\"row sqs-row\"><div class=\"col sqs-col-12 span-12\"><div class=\"sqs-block html-block sqs-block-html\" data-block-type=\"2\" id=\"block-yui_3_17_2_2_1479953308976_221486\"><div class=\"sqs-block-content\"><h3><strong>DESCRIPTION:&nbsp;</strong></h3><p>Many people check the box on HTML and CSS after a weekend workshop, but that\\'s just when things start to get interesting! &nbsp;CSS as a language of it\\'s own often doesn\\'t get the respect and attention it deserves when it comes to super-powering interactive web experiences.&nbsp;</p><p>JavaScript is powerful, but it doesn’t mean it’s always the answer when it comes to front-end development. Browsers and browser technologies have advanced enough for us to utilize future-facing specifications now and reap the benefits with little development time. And the best part? We can use these techniques to ensure accessibility all potential users. &nbsp;Let’s take a look at the free benefits we can get from using semantic HTML5 and exploit them to make our CSS performant,&nbsp;accessible, and magical.</p><h3><strong>WHO SHOULD TAKE IT?</strong></h3><p>If you have a basic understanding of HTML and CSS, and little-to-no fear of the terminal, you have all that’s necessary to turn your vision from interactive, animated vision to reality — all while ensuring that your users can benefit from your application.</p><p>Because there\\'s no Javascript pre-requisite, this is a great class for designers and other creatives to cultivate a unique depth in a coding language and show-worthy portfolio pieces to their resume. &nbsp;By the end of class, you\\'ll be able to do things even many front-end engineers don\\'t know how to do!&nbsp;</p></div></div><div class=\"sqs-block spacer-block sqs-block-spacer sized vsize-1\" data-block-type=\"21\" id=\"block-5e392197beecbb0db555\"><div class=\"sqs-block-content\">&nbsp;</div></div></div></div><div class=\"row sqs-row\"><div class=\"col sqs-col-5 span-5\"><div class=\"sqs-block image-block sqs-block-image\" data-aspect-ratio=\"100\" data-block-type=\"5\" id=\"block-c96b1e4756becb7ec18f\"><div class=\"sqs-block-content\">\\n\\n  \\n\\n  \\t\\n      <div class=\"image-block-outer-wrapper layout-caption-below design-layout-inline\">\\n      \\n        <div class=\"intrinsic\" style=\"max-width:403.0px;\">\\n          \\n            <div style=\"padding-bottom:100.0%;\" class=\"image-block-wrapper   has-aspect-ratio\" data-description=\"\" >\\n              <noscript><img src=\"https://static1.squarespace.com/static/52fbc928e4b0b0a74813e545/t/583670fc37c581b5d580ecbf/1479962893397/lighteningcat.jpg\"  alt=\"lighteningcat.jpg\"  /></noscript><img class=\"thumb-image\" alt=\"lighteningcat.jpg\" data-src=\"https://static1.squarespace.com/static/52fbc928e4b0b0a74813e545/t/583670fc37c581b5d580ecbf/1479962893397/lighteningcat.jpg\" data-image=\"https://static1.squarespace.com/static/52fbc928e4b0b0a74813e545/t/583670fc37c581b5d580ecbf/1479962893397/lighteningcat.jpg\" data-image-dimensions=\"403x403\" data-image-focal-point=\"0.5,0.5\" data-load=\"false\" data-image-id=\"583670fc37c581b5d580ecbf\" data-type=\"image\" />\\n            </div>\\n          \\n\\n          \\n\\n        </div>\\n      \\n      </div>\\n    \\n\\n  \\n\\n\\n</div></div></div><div class=\"col sqs-col-7 span-7\"><div class=\"sqs-block html-block sqs-block-html\" data-block-type=\"2\" id=\"block-23eb500ec3b451488d2f\"><div class=\"sqs-block-content\"><h2>ReactJS</h2><h3>LEVEL: Intermediate</h3><h3>START DATE: JAN 23rd, Mon + Wed, 6-9pm</h3><h3>DURATION: 8 WEEKS</h3><h3>COST $850</h3><h3>React Office Hours: +$250, Tues + Thurs, 6-9pm</h3><h3 dir=\"ltr\">Instructor: Andrew Brenwald</h3></div></div><div class=\"sqs-block button-block sqs-block-button sqs-col-4 span-4 float float-left\" data-block-type=\"53\" id=\"block-ebfd30e5aba4d5669063\"><div class=\"sqs-block-content\">\\n<div class=\"sqs-block-button-container--left\">\\n\\t<a href=\"https://docs.google.com/forms/d/e/1FAIpQLSfDQFmS2g2YbF4zQUmv8Qfg5vRYGKVbW8Xma1OsQaWdcFNNNQ/viewform\" class=\"sqs-block-button-element--small sqs-block-button-element\" target=\"_blank\">Apply Right Meow!</a>\\n</div></div></div><div class=\"sqs-block html-block sqs-block-html\" data-block-type=\"2\" id=\"block-yui_3_17_2_2_1479953308976_272404\"><div class=\"sqs-block-content\"><h3>\\xa0</h3><h3><strong><span style=\"font-size:14.6667px\"></span></strong></h3></div></div></div></div><div class=\"row sqs-row\"><div class=\"col sqs-col-12 span-12\"><div class=\"sqs-block html-block sqs-block-html\" data-block-type=\"2\" id=\"block-yui_3_17_2_2_1479953308976_267724\"><div class=\"sqs-block-content\"><h3><strong><span style=\"font-size:14.6667px\">DESCRIPTION</span></strong></h3><p><span style=\"font-size:14.6667px\">So you’ve gone deep into JavaScript and feel ready to put all that knowledge to good use. Perhaps React has been on your radar for a while now or you’re just now hearing about it. Regardless, it’s one of the most popular and powerful front-end technologies available right now, and this course is the place to break into it.</span></p><p><span style=\"font-size:14.6667px\">This eight week course will introduce you to powerful ES6 features and patterns that you’ll immediately apply to building robust, modular React components. You’ll learn not only the syntax of ES6, JSX, and React, but also the emerging best practices and design patterns.</span></p><p><span style=\"font-size:14.6667px\">The class format is “flipped,” meaning there will be curated video and written lecture content to watch at home on your own time and at your own pace, and class time will be dedicated to getting our hands dirty by building a portfolio of components.</span></p><h3><strong><span style=\"font-size:14.6667px\">WHO SHOULD TAKE IT?</span></strong></h3><p><span style=\"font-size:14.6667px\">We know that in order to build great open source, data-driven software for Oregon we need to have wide talent pool with specialized skills in our community. &nbsp;That means, over the past year as we’ve adjusted our technology stack at Hack Oregon, we’ve been doing a lot of training in React. &nbsp;We know React is still a bit new, can be kinda tough, and it takes an investment to learn. &nbsp;We think it’s worth it, and we hope you do too. &nbsp;&nbsp;&nbsp;</span></p><p><span style=\"font-size:14.6667px\">Beginning in the Fall Season, anyone who wants to be able to join the a web dev team with Hack Oregon will need to be willing to learn React.&nbsp;</span></p><h3><strong><span style=\"font-size:14.6667px\">HOW DO I KNOW I’M READY?</span></strong></h3><p><span style=\"font-size:14.6667px\">The ideal student for this course is very comfortable with core JavaScript principles and techniques.</span></p><h3><strong><span style=\"font-size:14.6667px\">WHAT\\'S OFFICE HOURS?</span></strong></h3><p>Office hours are strongly recommended for anyone who has been learning Javascript online for a while,&nbsp;recently graduated from a Code School, or if this is your first time learning a new front end framework.</p></div></div><div class=\"sqs-block spacer-block sqs-block-spacer sized vsize-1\" data-block-type=\"21\" id=\"block-yui_3_17_2_2_1479953308976_32126\"><div class=\"sqs-block-content\">&nbsp;</div></div></div></div><div class=\"row sqs-row\"><div class=\"col sqs-col-5 span-5\"><div class=\"sqs-block image-block sqs-block-image\" data-block-type=\"5\" id=\"block-yui_3_17_2_2_1479953308976_34678\"><div class=\"sqs-block-content\">\\n\\n  \\n\\n  \\t\\n      <div class=\"image-block-outer-wrapper layout-caption-below design-layout-inline\">\\n      \\n        <div class=\"intrinsic\" style=\"max-width:1200.0px;\">\\n          \\n            <div style=\"padding-bottom:100.0%;\" class=\"image-block-wrapper   has-aspect-ratio\" data-description=\"\" >\\n              <noscript><img src=\"https://static1.squarespace.com/static/52fbc928e4b0b0a74813e545/t/58364dc96a4963bb183174cf/1479954332562/rainbowcatglasses.jpg\"  alt=\"rainbowcatglasses.jpg\"  /></noscript><img class=\"thumb-image\" alt=\"rainbowcatglasses.jpg\" data-src=\"https://static1.squarespace.com/static/52fbc928e4b0b0a74813e545/t/58364dc96a4963bb183174cf/1479954332562/rainbowcatglasses.jpg\" data-image=\"https://static1.squarespace.com/static/52fbc928e4b0b0a74813e545/t/58364dc96a4963bb183174cf/1479954332562/rainbowcatglasses.jpg\" data-image-dimensions=\"1200x1200\" data-image-focal-point=\"0.5,0.5\" data-load=\"false\" data-image-id=\"58364dc96a4963bb183174cf\" data-type=\"image\" />\\n            </div>\\n          \\n\\n          \\n\\n        </div>\\n      \\n      </div>\\n    \\n\\n  \\n\\n\\n</div></div></div><div class=\"col sqs-col-7 span-7\"><div class=\"sqs-block html-block sqs-block-html\" data-block-type=\"2\" id=\"block-yui_3_17_2_2_1479953308976_33420\"><div class=\"sqs-block-content\"><h2>Applied Data Visualization</h2><h3>LEVEL: Advanced</h3><h3>START DATE: JAN 23RD, MON + WED, 6-9PM</h3><h3>DURATION: 8 WEEKS</h3><h3>COST $850</h3><h3>REACT OFFICE HOURS: +$250, TUES + THURS, 6-9PM</h3><h3>Instructor: David Daniel</h3></div></div><div class=\"sqs-block button-block sqs-block-button\" data-block-type=\"53\" id=\"block-yui_3_17_2_2_1479953308976_301835\"><div class=\"sqs-block-content\">\\n<div class=\"sqs-block-button-container--left\">\\n\\t<a href=\"https://docs.google.com/forms/d/e/1FAIpQLSfDQFmS2g2YbF4zQUmv8Qfg5vRYGKVbW8Xma1OsQaWdcFNNNQ/viewform\" class=\"sqs-block-button-element--small sqs-block-button-element\" target=\"_blank\">Apply Right Meow!</a>\\n</div></div></div></div></div><div class=\"row sqs-row\"><div class=\"col sqs-col-12 span-12\"><div class=\"sqs-block html-block sqs-block-html\" data-block-type=\"2\" id=\"block-yui_3_17_2_2_1479953308976_294922\"><div class=\"sqs-block-content\"><h3><strong>DESCRIPTION</strong></h3><p>This course is all about how React can be used for visualization. While our examples are geared towards data visualization, the skills you\\'ll learn will be applicable far beyond that.</p><p>We will have an ES2017 primer to build upon the current ES2016 standard, focusing where we will use it in project work. We will also cover state management via Redux, a highly recommended flux implementation. The class will go over where React &amp; D3 work best together and where they don\\'t. We will learn how to create visual elements from Hack Oregon data sources, how to use React\\'s lifecycle methods, and how to use D3 within components in a modular and performant way.</p><p>For a final project each student will create a React visualization web app, with React Redux and a couple of react visualization libraries. All components we build in class, once tested, will be used in Hack Oregon\\'s visualization component library.</p><h3><strong>Who should take this course?</strong></h3><p dir=\"ltr\">This is a course for experience front end developers who are proficient in React. &nbsp;Thi3, &nbsp;course&nbsp;</p><h3><strong>WHAT\\'S OFFICE HOURS?</strong></h3><p>React office hours are optional, but are available on off-nights for those who are less experienced with the React framework and would benefit from extra support.</p></div></div><div class=\"sqs-block spacer-block sqs-block-spacer sized vsize-1\" data-block-type=\"21\" id=\"block-ae47ffa72844383a8e5d\"><div class=\"sqs-block-content\">&nbsp;</div></div><div class=\"row sqs-row\"><div class=\"col sqs-col-4 span-4\"><div class=\"sqs-block image-block sqs-block-image\" data-aspect-ratio=\"99.16666666666667\" data-block-type=\"5\" id=\"block-yui_3_17_2_4_1479953308976_151796\"><div class=\"sqs-block-content\">\\n\\n  \\n\\n  \\t\\n      <div class=\"image-block-outer-wrapper layout-caption-below design-layout-inline\">\\n      \\n        <div class=\"intrinsic\" style=\"max-width:360.0px;\">\\n          \\n            <div style=\"padding-bottom:99.16666412353516%;\" class=\"image-block-wrapper   has-aspect-ratio\" data-description=\"\" >\\n              <noscript><img src=\"https://static1.squarespace.com/static/52fbc928e4b0b0a74813e545/t/58365641d482e9575f0163ac/1479956086555/lioncat2.jpg\"  alt=\"lioncat2.jpg\"  /></noscript><img class=\"thumb-image\" alt=\"lioncat2.jpg\" data-src=\"https://static1.squarespace.com/static/52fbc928e4b0b0a74813e545/t/58365641d482e9575f0163ac/1479956086555/lioncat2.jpg\" data-image=\"https://static1.squarespace.com/static/52fbc928e4b0b0a74813e545/t/58365641d482e9575f0163ac/1479956086555/lioncat2.jpg\" data-image-dimensions=\"360x360\" data-image-focal-point=\"0.5,0.5\" data-load=\"false\" data-image-id=\"58365641d482e9575f0163ac\" data-type=\"image\" />\\n            </div>\\n          \\n\\n          \\n\\n        </div>\\n      \\n      </div>\\n    \\n\\n  \\n\\n\\n</div></div></div><div class=\"col sqs-col-8 span-8\"><div class=\"sqs-block html-block sqs-block-html\" data-block-type=\"2\" id=\"block-yui_3_17_2_4_1479953308976_152004\"><div class=\"sqs-block-content\"><h2>Data Science in the Wild</h2><h3>LEVEL: Intermediate</h3><h3>START DATE: JAN 23RD, tues + thurs, 6-9PM</h3><h3>DURATION: 8 WEEKS</h3><h3>COST $850</h3><h3>Instructor: Lindsay Mico</h3></div></div><div class=\"sqs-block button-block sqs-block-button\" data-block-type=\"53\" id=\"block-yui_3_17_2_2_1480024246180_222817\"><div class=\"sqs-block-content\">\\n<div class=\"sqs-block-button-container--left\">\\n\\t<a href=\"https://docs.google.com/forms/d/e/1FAIpQLSfDQFmS2g2YbF4zQUmv8Qfg5vRYGKVbW8Xma1OsQaWdcFNNNQ/viewform\" class=\"sqs-block-button-element--small sqs-block-button-element\" target=\"_blank\">Apply Right Meow!</a>\\n</div></div></div><div class=\"sqs-block html-block sqs-block-html\" data-block-type=\"2\" id=\"block-yui_3_17_2_2_1480024246180_222884\"><div class=\"sqs-block-content\"><p>\\xa0</p><h3>\\xa0</h3></div></div></div></div><div class=\"sqs-block html-block sqs-block-html\" data-block-type=\"2\" id=\"block-yui_3_17_2_2_1480024246180_168106\"><div class=\"sqs-block-content\"><h3><strong>DESCRIPTION</strong></h3><p>Let\\'s be real.&nbsp;Data science is a frontier and what we think of as \"data\" is often messy and imperfect. &nbsp;This means, before you can get down to math or write a line or code, results are dependent on the ingenuity of someone to obtain and structure information from a complex environment. &nbsp;This is kind of work is a major aspect of being a data scientist, and an area of skill that deepens with experience and evolving technology tools. &nbsp;At Hack Oregon, we\\'ve seen such a need to boost practical skills in this area that we\\'ve designed a course to accelerate an experience that could take years to learn your own.&nbsp;</p><p>This is a practical course that will take you beyond learning how to \"do\" a linear regression (for example), but \"why\" you would want to do one in the first place. &nbsp;We\\'ll give you tools and strategies for translating real world problems into quantitative terms, and introduce analytical tools and techniques for generating quantitative results. &nbsp;These will include common statistical modeling approaches and basic predictive models, as well as less common (but very useful and powerful) tools such as GIS, systems analysis, and simulation environments.. &nbsp;</p><p>This class assumes basic working knowledge of Python and introductory statistics. &nbsp;Course content will be focused,&nbsp;however, on understanding the analytical process at a higher level. &nbsp;A diversity of tools and techniques will be presented, and students will complete (and present) a brief course project that explores one of these more deeply.</p><h3>Tech and topics covered:</h3></div></div><div class=\"sqs-block html-block sqs-block-html sqs-col-6 span-6 float float-right\" data-block-type=\"2\" id=\"block-yui_3_17_2_3_1480025465802_311326\"><div class=\"sqs-block-content\"><ul dir=\"ltr\"><li>Relational databases</li><li>Common local data models (eg. csv, flat files)</li><li>Semistructured data models (eg. JSON)</li><li>Exploratory Analysis &amp; Plottin</li><li>Spatial Data Analysis</li><li>Simulation fundamentals</li><li>Overview of machine learning &amp; predictive modeling</li><li>Natural language processing overview</li></ul></div></div><div class=\"sqs-block html-block sqs-block-html\" data-block-type=\"2\" id=\"block-yui_3_17_2_3_1480025465802_319499\"><div class=\"sqs-block-content\"><ul dir=\"ltr\"><li>Environment/Tech Stack setup</li><li>Python Tools/Packages</li><li>Git/GitHUB</li><li>Getting, cleaning, and documenting data</li><li>APIs/scraping</li><li>Missing values</li><li>Reproducible research best practices and tools</li><li>Statistical design</li><li>Data Structures and Model</li></ul></div></div><div class=\"sqs-block spacer-block sqs-block-spacer sized vsize-1\" data-block-type=\"21\" id=\"block-yui_3_17_2_2_1480024246180_54189\"><div class=\"sqs-block-content\">&nbsp;</div></div><div class=\"row sqs-row\"><div class=\"col sqs-col-4 span-4\"><div class=\"sqs-block image-block sqs-block-image\" data-aspect-ratio=\"99.2084432717678\" data-block-type=\"5\" id=\"block-9c4558c24f1e084b6275\"><div class=\"sqs-block-content\">\\n\\n  \\n\\n  \\t\\n      <div class=\"image-block-outer-wrapper layout-caption-below design-layout-inline\">\\n      \\n        <div class=\"intrinsic\" style=\"max-width:533.0px;\">\\n          \\n            <div style=\"padding-bottom:99.20844268798828%;\" class=\"image-block-wrapper   has-aspect-ratio\" data-description=\"\" >\\n              <noscript><img src=\"https://static1.squarespace.com/static/52fbc928e4b0b0a74813e545/t/583646ecf5e231d2030fe16e/1479956364796/1472343003351.png\"  alt=\"1472343003351.png\"  /></noscript><img class=\"thumb-image\" alt=\"1472343003351.png\" data-src=\"https://static1.squarespace.com/static/52fbc928e4b0b0a74813e545/t/583646ecf5e231d2030fe16e/1479956364796/1472343003351.png\" data-image=\"https://static1.squarespace.com/static/52fbc928e4b0b0a74813e545/t/583646ecf5e231d2030fe16e/1479956364796/1472343003351.png\" data-image-dimensions=\"533x533\" data-image-focal-point=\"0.5,0.5\" data-load=\"false\" data-image-id=\"583646ecf5e231d2030fe16e\" data-type=\"image\" />\\n            </div>\\n          \\n\\n          \\n\\n        </div>\\n      \\n      </div>\\n    \\n\\n  \\n\\n\\n</div></div></div><div class=\"col sqs-col-8 span-8\"><div class=\"sqs-block html-block sqs-block-html\" data-block-type=\"2\" id=\"block-yui_3_17_2_3_1479956976351_79112\"><div class=\"sqs-block-content\"><h2><strong>DEV OPS</strong></h2><h3>LEVEL: ADVANCED</h3><h3>START DATE: JAN 10TH, TUES +&nbsp;THURS, 6-9PM</h3><h3>DURATION: 8 WEEKS</h3><h3>COST $850</h3><h3>INSTRUCTOR: DAN CARR</h3></div></div><div class=\"sqs-block button-block sqs-block-button\" data-block-type=\"53\" id=\"block-351dbee1372733ffc51b\"><div class=\"sqs-block-content\">\\n<div class=\"sqs-block-button-container--left\">\\n\\t<a href=\"https://docs.google.com/forms/d/e/1FAIpQLSfDQFmS2g2YbF4zQUmv8Qfg5vRYGKVbW8Xma1OsQaWdcFNNNQ/viewform\" class=\"sqs-block-button-element--small sqs-block-button-element\" target=\"_blank\">Apply Right Meow!</a>\\n</div></div></div></div></div><div class=\"sqs-block html-block sqs-block-html\" data-block-type=\"2\" id=\"block-yui_3_17_2_2_1480024246180_71514\"><div class=\"sqs-block-content\"><h3><strong>DESCRIPTION</strong></h3><p><span style=\"font-size:14.6667px\">As you might imagine, Hack Oregon has a universe of distributed systems and product releases, and we need a great crew that knows how to manage and maintain seamless deployment. &nbsp;</span></p><p><span style=\"font-size:14.6667px\">We\\'ll teach you the art of building and maintaining the infrastructure powering dynamic websites, &nbsp;with a particular focus on developing scalable software and systems architecture to solve real world problems. &nbsp;Students will gain direct, hands on experience inside the Hack Oregon Dev Ops team during our active production sprint and participate in the deployment of season projects.&nbsp;</span></p><h3><strong><span style=\"font-size:14.6667px\">TECH USED</span></strong></h3><p><span style=\"font-size:14.6667px\">Hack Oregon operational stack includes AWS, Ansible, Docker and Vagrant. Applications are written in Python and NodeJs using Django and React. We\\'ll also take an overview into IBM tools, including Bluemix and Watson Analytics.&nbsp;</span></p><p><span style=\"font-size:14.66670036315918px\">Topics covered include basic network and AWS VPC architecture, Automating AWS deployments with configuration management, software install with CM tools, self-healing application stack design, and Dockerizing existing projects.</span></p><h3><strong><span style=\"font-size:14.6667px\">WHO SHOULD TAKE IT?</span></strong></h3><p><span style=\"font-size:14.6667px\">You don’t necessarily need to be senior engineer or long time IT admin to qualify, but we’re classifying this course at an advanced level given the pace, pressure, and hands on sink-or-swim ethos of a production sprint and high pressure launch date. &nbsp;</span></p><ul><li><span style=\"font-size:14.6667px\">If you survive, you’ll have earned your keys to the Kingdom of Delivery where you\\'ll be praised as a god among us. &nbsp;Not to mention, Dev Ops is a much needed industry position with great starting salaries. &nbsp;</span></li></ul></div></div><div class=\"sqs-block spacer-block sqs-block-spacer sized vsize-1\" data-block-type=\"21\" id=\"block-yui_3_17_2_2_1480024246180_83530\"><div class=\"sqs-block-content\">&nbsp;</div></div><div class=\"row sqs-row\"><div class=\"col sqs-col-4 span-4\"><div class=\"sqs-block image-block sqs-block-image\" data-block-type=\"5\" id=\"block-yui_3_17_2_4_1479953308976_90249\"><div class=\"sqs-block-content\">\\n\\n  \\n\\n  \\t\\n      <div class=\"image-block-outer-wrapper layout-caption-below design-layout-inline\">\\n      \\n        <div class=\"intrinsic\" style=\"max-width:500.0px;\">\\n          \\n            <div style=\"padding-bottom:100.0%;\" class=\"image-block-wrapper   has-aspect-ratio\" data-description=\"\" >\\n              <noscript><img src=\"https://static1.squarespace.com/static/52fbc928e4b0b0a74813e545/t/5836545d03596ef406d6a21a/1479955574488/sunglasstriocat.jpg\"  alt=\"sunglasstriocat.jpg\"  /></noscript><img class=\"thumb-image\" alt=\"sunglasstriocat.jpg\" data-src=\"https://static1.squarespace.com/static/52fbc928e4b0b0a74813e545/t/5836545d03596ef406d6a21a/1479955574488/sunglasstriocat.jpg\" data-image=\"https://static1.squarespace.com/static/52fbc928e4b0b0a74813e545/t/5836545d03596ef406d6a21a/1479955574488/sunglasstriocat.jpg\" data-image-dimensions=\"500x500\" data-image-focal-point=\"0.5,0.5\" data-load=\"false\" data-image-id=\"5836545d03596ef406d6a21a\" data-type=\"image\" />\\n            </div>\\n          \\n\\n          \\n\\n        </div>\\n      \\n      </div>\\n    \\n\\n  \\n\\n\\n</div></div></div><div class=\"col sqs-col-8 span-8\"><div class=\"sqs-block html-block sqs-block-html\" data-block-type=\"2\" id=\"block-yui_3_17_2_4_1479953308976_90457\"><div class=\"sqs-block-content\"><h2>Backend Integration</h2><h3>LEVEL: INTERMEDIATE</h3><h3>START DATE: JAN 23RD, TUES + THURS, 6-9PM</h3><h3>DURATION: 8 WEEKS</h3><h3>Cost: $850</h3></div></div><div class=\"sqs-block button-block sqs-block-button\" data-block-type=\"53\" id=\"block-yui_3_17_2_4_1480012066523_301305\"><div class=\"sqs-block-content\">\\n<div class=\"sqs-block-button-container--left\">\\n\\t<a href=\"https://docs.google.com/forms/d/e/1FAIpQLSfDQFmS2g2YbF4zQUmv8Qfg5vRYGKVbW8Xma1OsQaWdcFNNNQ/viewform\" class=\"sqs-block-button-element--small sqs-block-button-element\" target=\"_blank\">Apply Right Meow!</a>\\n</div></div></div></div></div><div class=\"sqs-block html-block sqs-block-html\" data-block-type=\"2\" id=\"block-yui_3_17_2_2_1480012066523_600133\"><div class=\"sqs-block-content\"><h3><strong>DESCRIPTION</strong></h3><p>Do you have a need to share result sets of your databases or datasets with other people? &nbsp;</p><p>Build an API to organize information and connect your data to the cloud!&nbsp;This class is a blend of our Database Programming and Web Frameworks courses that will teach you how to design and build portals that can make your internal data accessible on the web. &nbsp;It\\'s a good way to share machine readable information, and take the next steps toward building dashboards or web applications to display and investigate live, updating data. &nbsp;We\\'ll teach you how to keep information secure, so private data stays private, and how to share information you\\'d like to make available to the web or among a group of approved collaborators.&nbsp;</p><h3>Tech Used:</h3><p>PostgreSQL</p><p>Django REST Framework</p><h3>Who should take this course?</h3><p>If you\\'re proficient in any backend language (Python, Ruby, Java, etc) and/or SQL you\\'ll do great.</p><p>If you\\'re looking for your first dev job, the ability to build APIs is an incredibly marketable and in-demand skill, and we\\'re confident we can get you up and running this project season. &nbsp;If you\\'ve been learning on your own for a while or coming right out of a code school from a non-python background,&nbsp;&nbsp;building web apps through a new framework can also be a great learning exercise to ground your current knowledge and expand your systems-thinking. If you\\'re a current database admin, or drowning in excel files, you\\'ll get even more out of this course.&nbsp;</p><p>Note: This course doesn\\'t cover building databases from scratch or deployment. See Dev Ops (above), or look for our next offering of Database Programming.&nbsp;&nbsp;</p></div></div><div class=\"sqs-block spacer-block sqs-block-spacer sized vsize-1\" data-block-type=\"21\" id=\"block-yui_3_17_2_2_1480024246180_55829\"><div class=\"sqs-block-content\">&nbsp;</div></div><div class=\"row sqs-row\"><div class=\"col sqs-col-6 span-6\"><div class=\"sqs-block image-block sqs-block-image\" data-block-type=\"5\" id=\"block-yui_3_17_2_4_1479953308976_244531\"><div class=\"sqs-block-content\">\\n\\n  \\n\\n  \\t\\n      <div class=\"image-block-outer-wrapper layout-caption-below design-layout-inline\">\\n      \\n        <div class=\"intrinsic\" style=\"max-width:420.0px;\">\\n          \\n            <div style=\"padding-bottom:100.0%;\" class=\"image-block-wrapper   has-aspect-ratio\" data-description=\"\" >\\n              <noscript><img src=\"https://static1.squarespace.com/static/52fbc928e4b0b0a74813e545/t/5836594520099ed326f42811/1479956849510/newyorkcat.jpg\"  alt=\"newyorkcat.jpg\"  /></noscript><img class=\"thumb-image\" alt=\"newyorkcat.jpg\" data-src=\"https://static1.squarespace.com/static/52fbc928e4b0b0a74813e545/t/5836594520099ed326f42811/1479956849510/newyorkcat.jpg\" data-image=\"https://static1.squarespace.com/static/52fbc928e4b0b0a74813e545/t/5836594520099ed326f42811/1479956849510/newyorkcat.jpg\" data-image-dimensions=\"420x420\" data-image-focal-point=\"0.5,0.5\" data-load=\"false\" data-image-id=\"5836594520099ed326f42811\" data-type=\"image\" />\\n            </div>\\n          \\n\\n          \\n\\n        </div>\\n      \\n      </div>\\n    \\n\\n  \\n\\n\\n</div></div></div><div class=\"col sqs-col-6 span-6\"><div class=\"sqs-block html-block sqs-block-html\" data-block-type=\"2\" id=\"block-yui_3_17_2_3_1480025465802_835174\"><div class=\"sqs-block-content\"><h2>DIGITIAL MARKETING AND BRANDING</h2><h3>LEVEL: BEGINNING</h3><h3>START DATE: JAN 23RD, MON + WED, 6-9PM</h3><h3>DURATION: 8 WEEKS</h3><h3>COST $850</h3><h3>Instructor: Kari Goin + Special Guest Series&nbsp;</h3></div></div><div class=\"sqs-block button-block sqs-block-button\" data-block-type=\"53\" id=\"block-yui_3_17_2_8_1480035836825_34677\"><div class=\"sqs-block-content\">\\n<div class=\"sqs-block-button-container--left\">\\n\\t<a href=\"https://docs.google.com/forms/d/e/1FAIpQLSfDQFmS2g2YbF4zQUmv8Qfg5vRYGKVbW8Xma1OsQaWdcFNNNQ/viewform\" class=\"sqs-block-button-element--small sqs-block-button-element\" target=\"_blank\">APPLY RIGHT Meow!</a>\\n</div></div></div><div class=\"sqs-block html-block sqs-block-html\" data-block-type=\"2\" id=\"block-yui_3_17_2_8_1480035836825_34745\"><div class=\"sqs-block-content\"><p>\\xa0</p><h3>\\xa0</h3></div></div></div></div><div class=\"sqs-block html-block sqs-block-html\" data-block-type=\"2\" id=\"block-yui_3_17_2_3_1480025465802_1380640\"><div class=\"sqs-block-content\"><h3><strong>DESCRIPTION</strong></h3><p>At Hack Oregon we talk a lot of about coding, but you certainly don\\'t need to be a developer to create a powerful voice and content online. &nbsp;</p><p>The world of advertising and branding online (and IRL)&nbsp;has been rapidly evolving with social media. &nbsp;How has this changed marketing as an industry?&nbsp;How do you find a your authentic voice and let your brand stand out in a sea of internet chatter?&nbsp;&nbsp;What parts of traditional advertising principals are relevant, and how traditions being adapted?&nbsp;</p><p>Whether you\\'re looking to market yourself, a company, or a special project, we can take you inside the world of cutting edge digital strategy with experts on the front lines. &nbsp;We\\'ll also give you the real-world experience of creating a marketing campaign for the launch of Portland\\'s new open data portal--- built by Hack Oregon! &nbsp;</p><h3>Who should take this course?</h3><p>This course is great for anyone who wants to create powerful online content, and is especially relevant for those who are thinking about breaking into the creative digital field or actively building a portfolio to apply to agencies.&nbsp;</p></div></div><div class=\"sqs-block spacer-block sqs-block-spacer sized vsize-1\" data-block-type=\"21\" id=\"block-yui_3_17_2_5_1480111306117_131315\"><div class=\"sqs-block-content\">&nbsp;</div></div><div class=\"row sqs-row\"><div class=\"col sqs-col-6 span-6\"><div class=\"sqs-block image-block sqs-block-image\" data-block-type=\"5\" id=\"block-yui_3_17_2_2_1480024246180_253143\"><div class=\"sqs-block-content\">\\n\\n  \\n\\n  \\t\\n      <div class=\"image-block-outer-wrapper layout-caption-below design-layout-inline\">\\n      \\n        <div class=\"intrinsic\" style=\"max-width:500.0px;\">\\n          \\n            <div style=\"padding-bottom:100.0%;\" class=\"image-block-wrapper   has-aspect-ratio\" data-description=\"\" >\\n              <noscript><img src=\"https://static1.squarespace.com/static/52fbc928e4b0b0a74813e545/t/583764b36b8f5ba7a0da792b/1480025291914/catgod.jpeg\"  alt=\"catgod.jpeg\"  /></noscript><img class=\"thumb-image\" alt=\"catgod.jpeg\" data-src=\"https://static1.squarespace.com/static/52fbc928e4b0b0a74813e545/t/583764b36b8f5ba7a0da792b/1480025291914/catgod.jpeg\" data-image=\"https://static1.squarespace.com/static/52fbc928e4b0b0a74813e545/t/583764b36b8f5ba7a0da792b/1480025291914/catgod.jpeg\" data-image-dimensions=\"500x500\" data-image-focal-point=\"0.5,0.5\" data-load=\"false\" data-image-id=\"583764b36b8f5ba7a0da792b\" data-type=\"image\" />\\n            </div>\\n          \\n\\n          \\n\\n        </div>\\n      \\n      </div>\\n    \\n\\n  \\n\\n\\n</div></div></div><div class=\"col sqs-col-6 span-6\"><div class=\"sqs-block html-block sqs-block-html\" data-block-type=\"2\" id=\"block-yui_3_17_2_5_1480111306117_36598\"><div class=\"sqs-block-content\"><h2>3D WITH UNITY</h2><h3>START DATE: JAN 23RD, MON + WED, 6-9PM</h3><h3>LEVEL: INTERMEDIATE</h3><h3>DURATION: 8 WEEKS</h3><h3>COST: $850</h3><h3 dir=\"ltr\">Instructor: TBA</h3></div></div><div class=\"sqs-block button-block sqs-block-button\" data-block-type=\"53\" id=\"block-yui_3_17_2_5_1480111306117_59021\"><div class=\"sqs-block-content\">\\n<div class=\"sqs-block-button-container--left\">\\n\\t<a href=\"\" class=\"sqs-block-button-element--small sqs-block-button-element\" >Apply right Meow!</a>\\n</div></div></div></div></div><div class=\"sqs-block html-block sqs-block-html\" data-block-type=\"2\" id=\"block-yui_3_17_2_5_1480111306117_59088\"><div class=\"sqs-block-content\"><h3><strong>DESCRIPTION</strong></h3><p>Do you dream in 3D?</p><p>Of course you do. Why not the that dream and make it a reality? In the 3D with Unity course you can learn to create your own worlds. &nbsp;If you\\'re a complete beginner, we\\'ll teach you all the coding and game design principles you\\'ll need. &nbsp;If you\\'re an artist, we\\'ll teach you to bring your assets to life. If you\\'re a coder, get ready to make your 3D dreams a reality!&nbsp;</p><p><strong>*This course is currently still in development, and is beginning step toward Hack Oregon expanding more of our civic work into 3D experiences. &nbsp;More information to be announced soon, but you can get on the early inquiry list now.&nbsp;</strong></p></div></div></div></div></div>\\n        </div><!-- comment the linebreak between these two elements because science\\n        -->\\n        \\n      </main>\\n\\n      <div id=\"preFooter\">\\n        <div class=\"pre-footer-inner\">\\n          <div class=\"sqs-layout sqs-grid-12 columns-12 empty\" data-layout-label=\"Pre-Footer Content\" data-type=\"block-field\" data-updated-on=\"1392327307057\" id=\"preFooterBlocks\"><div class=\"row sqs-row\"><div class=\"col sqs-col-12 span-12\"></div></div></div>\\n        </div>\\n      </div>\\n\\n      <footer id=\"footer\" role=\"contentinfo\">\\n        <div class=\"footer-inner\">\\n          <div class=\"nav-wrapper back-to-top-nav\"><nav><div class=\"back-to-top\"><a href=\"#header\">Back to Top</a></div></nav></div>\\n          <div id=\"secondaryNavWrapper\" class=\"nav-wrapper\" data-content-field=\"navigation-secondaryNav\">\\n  <nav id=\"secondaryNavigation\" data-content-field=\"navigation-secondaryNav\">\\n    \\n      \\n        \\n\\n        \\n\\n          \\n          <div class=\"collection active\" id=\"id5836423e15d5db57b198eb36\">\\n            <a href=\"/upcoming-courses/\">\\n              <span>Upcoming Courses</span>\\n            </a>\\n          </div>\\n          \\n\\n        \\n      \\n      \\n\\n    \\n      \\n        \\n\\n        \\n\\n          \\n          <div class=\"collection\" id=\"id572fa72de707ebda42618754\">\\n            <a href=\"/testimonials/\">\\n              <span>Testimonials</span>\\n            </a>\\n          </div>\\n          \\n\\n        \\n      \\n      \\n\\n    \\n      \\n        \\n\\n        \\n\\n          \\n          <div class=\"collection\" id=\"id55172261e4b05c72e7f427e8\">\\n            <a href=\"/contact-1/\">\\n              <span>Leadership Team</span>\\n            </a>\\n          </div>\\n          \\n\\n        \\n      \\n      \\n\\n    \\n      \\n        \\n        <div class=\"external\">\\n          <a href=\"/join\">\\n            <span>Apply for a Team</span>\\n          </a>\\n        </div>\\n        \\n\\n      \\n\\n    \\n      \\n        \\n\\n        \\n\\n          \\n          <div class=\"collection\" id=\"id55762ce6e4b093fac0b0f46f\">\\n            <a href=\"/methodology/\">\\n              <span>Team Methodology</span>\\n            </a>\\n          </div>\\n          \\n\\n        \\n      \\n      \\n\\n    \\n      \\n        \\n\\n        \\n\\n          \\n          <div class=\"collection\" id=\"id55762c6ce4b0c0f2cf393927\">\\n            <a href=\"/what-to-expect/\">\\n              <span>Volunteer FAQ</span>\\n            </a>\\n          </div>\\n          \\n\\n        \\n      \\n      \\n\\n    \\n      \\n        \\n        <div class=\"external\">\\n          <a href=\"/hack-university\">\\n            <span>Hack University</span>\\n          </a>\\n        </div>\\n        \\n\\n      \\n\\n    \\n      \\n        \\n\\n        \\n\\n          \\n          <div class=\"collection\" id=\"id5670b97ccbced6a949f70de8\">\\n            <a href=\"/more-questions-answered/\">\\n              <span>Hack University FAQ</span>\\n            </a>\\n          </div>\\n          \\n\\n        \\n      \\n      \\n\\n    \\n      \\n        \\n\\n        \\n\\n          \\n          <div class=\"collection\" id=\"id566a3ae8c21b86abf16d72b3\">\\n            <a href=\"/donate/\">\\n              <span>\"Check Meowt\"</span>\\n            </a>\\n          </div>\\n          \\n\\n        \\n      \\n      \\n\\n    \\n      \\n        \\n\\n        \\n\\n          \\n          <div class=\"collection\" id=\"id574216981bbee0ad7c7b8f6a\">\\n            <a href=\"/code-of-conduct/\">\\n              <span>Code of Conduct</span>\\n            </a>\\n          </div>\\n          \\n\\n        \\n      \\n      \\n\\n    \\n  </nav>\\n</div>\\n\\n\\n          <div id=\"siteInfo\"><span class=\"site-address\">Hack Oregon, Portland, Oregon</span><span rel=\"tel\" class=\"site-phone\">5034072963</span><a href=\"mailto:hello@hackoregon.org\" class=\"site-email\"><span>hello@hackoregon.org</span></a></div>\\n          <div class=\"sqs-layout sqs-grid-12 columns-12 empty\" data-layout-label=\"Footer Content\" data-type=\"block-field\" data-updated-on=\"1392316525903\" id=\"footerBlocks\"><div class=\"row sqs-row\"><div class=\"col sqs-col-12 span-12\"></div></div></div>\\n        </div>\\n      </footer>\\n\\n    </div>\\n\\n    <script src=\"https://static1.squarespace.com/static/ta/52a74d9ae4b0253945d2aee9/974/scripts/site-bundle.js\" type=\"text/javascript\"></script>\\n    <script type=\"text/javascript\" data-sqs-type=\"imageloader-bootstraper\">(function() {if(window.ImageLoader) { window.ImageLoader.bootstrap(); }})();</script>\\n<script>Squarespace.afterBodyLoad(Y);</script>\\n\\n  </body>\\n</html>\\n'"
      ]
     },
     "execution_count": 22,
     "metadata": {},
     "output_type": "execute_result"
    }
   ],
   "source": [
    "response2.text"
   ]
  },
  {
   "cell_type": "markdown",
   "metadata": {},
   "source": [
    "YAY! It's working.  But what if the thing we're getting isn't text?  What if it's an image?\n",
    "\n",
    "Well, that's out of scope for today, but the general process is:\n",
    "- get response from image url - `requests.get('http://www.website.com/file/image.jpeg')`\n",
    "- get the binary data out, **not** the text - `response.content`\n",
    "- save it to a file or render it as in image in python"
   ]
  },
  {
   "cell_type": "markdown",
   "metadata": {},
   "source": [
    "## Finding the Data we want\n",
    "If we want all the dates on a webpage, we can't just search for 'dates'\n",
    "We either:\n",
    "- have to know **where the dates occur** consistently in the webpage (structurally)\n",
    "- have to know **how the dates are marked** (are they all in an element with a certain keyword? like 'arrival-date')\n",
    "- or we have to **know how dates are formatted**, and look for everything that follows that format (i.e. some slashes then numbers then slashes then more numbers - this is what regular expressiosn do)\n",
    "\n",
    "We'll be using a combination of the first two, with some help from Selector Gadget\n",
    "\n",
    "\n",
    "\n",
    "### Beautiful Soup cheatsheet\n",
    "\n",
    "**NOTE**: the traversal methods (select, find, .h3) can be used on tags as well as the whole soup\n",
    "\n",
    "command | what it does\n",
    "--------|------------\n",
    "bs4.BeautifulSoup(data, 'html.parser') | creates our soup object that we use to scan the document\n",
    "soup.find_all | return a *list* of tag objects that match our query\n",
    "soup.find | returns the *first* tag object that matches our query\n",
    "soup.select | uses **css selectors** to query our data.  returns the first\n",
    "soup.select_all | same as above, but returns a list\n",
    "soup.h3 | returns the first h3 tag matched.  same as `soup.find('h3')`  Works for any tag name\n",
    "tag.text | returns text inside\n",
    "tag.get_text() | fetches inner text ignoring any tags\n",
    "tag.stripped_strings | returns a *generator* of component strings with whitespace removed.  Pass to `list()` to get a list object from the generator\n"
   ]
  },
  {
   "cell_type": "markdown",
   "metadata": {},
   "source": [
    "### Hack University Example"
   ]
  },
  {
   "cell_type": "code",
   "execution_count": 11,
   "metadata": {
    "collapsed": false
   },
   "outputs": [],
   "source": [
    "#selector = '.span-6 h2 , .span-8 h2 , .span-7 h2 , .span-7 strong'\n",
    "selector = 'h3, #block-yui_3_17_2_5_1480111306117_36598 h3'\n",
    "\n",
    "soup = bs4.BeautifulSoup(response2.text, 'html.parser')"
   ]
  },
  {
   "cell_type": "code",
   "execution_count": 34,
   "metadata": {
    "collapsed": false
   },
   "outputs": [
    {
     "data": {
      "text/plain": [
       "[<h3>LEVEL: BEGINNER</h3>,\n",
       " <h3>START DATE: FEB 8TH, TUES + THURS, 6-9PM</h3>,\n",
       " <h3>DURATION: 6 WEEKS</h3>,\n",
       " <h3>COST $850</h3>,\n",
       " <h3>INSTRUCTOR: DAVID ZULAICA</h3>,\n",
       " <h3><strong></strong></h3>,\n",
       " <h3><strong>DESCRIPTION: </strong></h3>,\n",
       " <h3><strong>WHO SHOULD TAKE IT?</strong></h3>,\n",
       " <h3>LEVEL: Intermediate</h3>,\n",
       " <h3>START DATE: JAN 23rd, Mon + Wed, 6-9pm</h3>,\n",
       " <h3>DURATION: 8 WEEKS</h3>,\n",
       " <h3>React Office Hours: +$250, Tues + Thurs, 6-9pm</h3>,\n",
       " <h3 dir=\"ltr\">Instructor: Andrew Brenwald</h3>,\n",
       " <h3> </h3>,\n",
       " <h3><strong><span style=\"font-size:14.6667px\"></span></strong></h3>,\n",
       " <h3><strong><span style=\"font-size:14.6667px\">DESCRIPTION</span></strong></h3>,\n",
       " <h3><strong><span style=\"font-size:14.6667px\">WHO SHOULD TAKE IT?</span></strong></h3>,\n",
       " <h3><strong><span style=\"font-size:14.6667px\">HOW DO I KNOW I’M READY?</span></strong></h3>,\n",
       " <h3><strong><span style=\"font-size:14.6667px\">WHAT'S OFFICE HOURS?</span></strong></h3>,\n",
       " <h3>LEVEL: Advanced</h3>,\n",
       " <h3>START DATE: JAN 23RD, MON + WED, 6-9PM</h3>,\n",
       " <h3>REACT OFFICE HOURS: +$250, TUES + THURS, 6-9PM</h3>,\n",
       " <h3>Instructor: David Daniel</h3>,\n",
       " <h3><strong>DESCRIPTION</strong></h3>,\n",
       " <h3><strong>Who should take this course?</strong></h3>,\n",
       " <h3><strong>WHAT'S OFFICE HOURS?</strong></h3>,\n",
       " <h3>START DATE: JAN 23RD, tues + thurs, 6-9PM</h3>,\n",
       " <h3>Instructor: Lindsay Mico</h3>,\n",
       " <h3>Tech and topics covered:</h3>,\n",
       " <h3>LEVEL: ADVANCED</h3>,\n",
       " <h3>START DATE: JAN 10TH, TUES + THURS, 6-9PM</h3>,\n",
       " <h3>INSTRUCTOR: DAN CARR</h3>,\n",
       " <h3><strong><span style=\"font-size:14.6667px\">TECH USED</span></strong></h3>,\n",
       " <h3>LEVEL: INTERMEDIATE</h3>,\n",
       " <h3>START DATE: JAN 23RD, TUES + THURS, 6-9PM</h3>,\n",
       " <h3>Cost: $850</h3>,\n",
       " <h3>Tech Used:</h3>,\n",
       " <h3>Who should take this course?</h3>,\n",
       " <h3>LEVEL: BEGINNING</h3>,\n",
       " <h3>Instructor: Kari Goin + Special Guest Series </h3>,\n",
       " <h3>COST: $850</h3>,\n",
       " <h3 dir=\"ltr\">Instructor: TBA</h3>]"
      ]
     },
     "execution_count": 34,
     "metadata": {},
     "output_type": "execute_result"
    }
   ],
   "source": [
    "result = soup.select(selector)\n",
    "result = result\n",
    "result"
   ]
  },
  {
   "cell_type": "code",
   "execution_count": 15,
   "metadata": {
    "collapsed": false
   },
   "outputs": [
    {
     "data": {
      "text/plain": [
       "[<h3>LEVEL: BEGINNER</h3>,\n",
       " <h3>START DATE: FEB 8TH, TUES + THURS, 6-9PM</h3>,\n",
       " <h3>DURATION: 6 WEEKS</h3>,\n",
       " <h3>COST $850</h3>,\n",
       " <h3>INSTRUCTOR: DAVID ZULAICA</h3>,\n",
       " <h3><strong></strong></h3>,\n",
       " <h3><strong>DESCRIPTION: </strong></h3>,\n",
       " <h3><strong>WHO SHOULD TAKE IT?</strong></h3>,\n",
       " <h3>LEVEL: Intermediate</h3>,\n",
       " <h3>START DATE: JAN 23rd, Mon + Wed, 6-9pm</h3>]"
      ]
     },
     "execution_count": 15,
     "metadata": {},
     "output_type": "execute_result"
    }
   ],
   "source": [
    "result"
   ]
  },
  {
   "cell_type": "code",
   "execution_count": 17,
   "metadata": {
    "collapsed": false
   },
   "outputs": [
    {
     "name": "stdout",
     "output_type": "stream",
     "text": [
      "<class 'bs4.element.Tag'>,  h3,  LEVEL: BEGINNER\n",
      "<class 'bs4.element.Tag'>,  h3,  START DATE: FEB 8TH, TUES + THURS, 6-9PM\n",
      "<class 'bs4.element.Tag'>,  h3,  DURATION: 6 WEEKS\n",
      "<class 'bs4.element.Tag'>,  h3,  COST $850\n",
      "<class 'bs4.element.Tag'>,  h3,  INSTRUCTOR: DAVID ZULAICA\n",
      "<class 'bs4.element.Tag'>,  h3,  \n",
      "<class 'bs4.element.Tag'>,  h3,  DESCRIPTION: \n",
      "<class 'bs4.element.Tag'>,  h3,  WHO SHOULD TAKE IT?\n",
      "<class 'bs4.element.Tag'>,  h3,  LEVEL: Intermediate\n",
      "<class 'bs4.element.Tag'>,  h3,  START DATE: JAN 23rd, Mon + Wed, 6-9pm\n"
     ]
    }
   ],
   "source": [
    "for tag in result:\n",
    "    print(type(tag), tag.name, tag.get_text(), sep=',  ')"
   ]
  },
  {
   "cell_type": "code",
   "execution_count": 18,
   "metadata": {
    "collapsed": false
   },
   "outputs": [],
   "source": [
    "t = result[0]"
   ]
  },
  {
   "cell_type": "code",
   "execution_count": 19,
   "metadata": {
    "collapsed": false
   },
   "outputs": [
    {
     "data": {
      "text/plain": [
       "bs4.element.Tag"
      ]
     },
     "execution_count": 19,
     "metadata": {},
     "output_type": "execute_result"
    }
   ],
   "source": [
    "type(t)"
   ]
  },
  {
   "cell_type": "code",
   "execution_count": 23,
   "metadata": {
    "collapsed": false
   },
   "outputs": [
    {
     "data": {
      "text/plain": [
       "<h3>LEVEL: BEGINNER</h3>"
      ]
     },
     "execution_count": 23,
     "metadata": {},
     "output_type": "execute_result"
    }
   ],
   "source": [
    "t"
   ]
  },
  {
   "cell_type": "code",
   "execution_count": 24,
   "metadata": {
    "collapsed": false,
    "scrolled": true
   },
   "outputs": [
    {
     "data": {
      "text/plain": [
       "['LEVEL: BEGINNER']"
      ]
     },
     "execution_count": 24,
     "metadata": {},
     "output_type": "execute_result"
    }
   ],
   "source": [
    "list(t.stripped_strings)"
   ]
  },
  {
   "cell_type": "code",
   "execution_count": 26,
   "metadata": {
    "collapsed": false
   },
   "outputs": [
    {
     "data": {
      "text/plain": [
       "[<h3>LEVEL: BEGINNER</h3>,\n",
       " <h3>START DATE: FEB 8TH, TUES + THURS, 6-9PM</h3>,\n",
       " <h3>DURATION: 6 WEEKS</h3>,\n",
       " <h3>COST $850</h3>,\n",
       " <h3>INSTRUCTOR: DAVID ZULAICA</h3>,\n",
       " <h3><strong></strong></h3>,\n",
       " <h3><strong>DESCRIPTION: </strong></h3>,\n",
       " <h3><strong>WHO SHOULD TAKE IT?</strong></h3>,\n",
       " <h3>LEVEL: Intermediate</h3>,\n",
       " <h3>START DATE: JAN 23rd, Mon + Wed, 6-9pm</h3>]"
      ]
     },
     "execution_count": 26,
     "metadata": {},
     "output_type": "execute_result"
    }
   ],
   "source": [
    "result"
   ]
  },
  {
   "cell_type": "code",
   "execution_count": 29,
   "metadata": {
    "collapsed": false
   },
   "outputs": [
    {
     "data": {
      "text/plain": [
       "['START DATE: FEB 8TH, TUES + THURS, 6-9PM',\n",
       " 'START DATE: JAN 23rd, Mon + Wed, 6-9pm']"
      ]
     },
     "execution_count": 29,
     "metadata": {},
     "output_type": "execute_result"
    }
   ],
   "source": [
    "[r.get_text() for r in result if r.get_text().startswith('START DATE:')]"
   ]
  },
  {
   "cell_type": "code",
   "execution_count": 35,
   "metadata": {
    "collapsed": false
   },
   "outputs": [
    {
     "name": "stdout",
     "output_type": "stream",
     "text": [
      "START DATE: FEB 8TH, TUES + THURS, 6-9PM\n",
      "START DATE: JAN 23rd, Mon + Wed, 6-9pm\n",
      "START DATE: JAN 23RD, MON + WED, 6-9PM\n",
      "START DATE: JAN 23RD, tues + thurs, 6-9PM\n",
      "START DATE: JAN 10TH, TUES + THURS, 6-9PM\n",
      "START DATE: JAN 23RD, TUES + THURS, 6-9PM\n"
     ]
    }
   ],
   "source": [
    "for tag in result:\n",
    "    text = tag.get_text()\n",
    "    if text.startswith('START DATE:'):\n",
    "        print(text)"
   ]
  },
  {
   "cell_type": "code",
   "execution_count": 31,
   "metadata": {
    "collapsed": false
   },
   "outputs": [
    {
     "data": {
      "text/plain": [
       "[<h3>LEVEL: BEGINNER</h3>,\n",
       " <h3>START DATE: FEB 8TH, TUES + THURS, 6-9PM</h3>,\n",
       " <h3>DURATION: 6 WEEKS</h3>,\n",
       " <h3>COST $850</h3>,\n",
       " <h3>INSTRUCTOR: DAVID ZULAICA</h3>,\n",
       " <h3><strong></strong></h3>,\n",
       " <h3><strong>DESCRIPTION: </strong></h3>,\n",
       " <h3><strong>WHO SHOULD TAKE IT?</strong></h3>,\n",
       " <h3>LEVEL: Intermediate</h3>,\n",
       " <h3>START DATE: JAN 23rd, Mon + Wed, 6-9pm</h3>]"
      ]
     },
     "execution_count": 31,
     "metadata": {},
     "output_type": "execute_result"
    }
   ],
   "source": [
    "result"
   ]
  },
  {
   "cell_type": "code",
   "execution_count": 40,
   "metadata": {
    "collapsed": false
   },
   "outputs": [],
   "source": [
    "test = bs4.BeautifulSoup('<div class=\"sqs-block-content\" id=\"yui_3_17_2_1_1480579287682_383\"><h2 id=\"yui_3_17_2_1_1480579287682_382\">Applied Data Visualization</h2><h3>LEVEL: Advanced</h3><h3>START DATE: JAN 23RD, MON + WED, 6-9PM</h3><h3>DURATION: 8 WEEKS</h3><h3>COST $850</h3><h3>REACT OFFICE HOURS: +$250, TUES + THURS, 6-9PM</h3><h3>Instructor: David Daniel</h3></div>', 'html.parser')"
   ]
  },
  {
   "cell_type": "code",
   "execution_count": 42,
   "metadata": {
    "collapsed": false
   },
   "outputs": [
    {
     "name": "stdout",
     "output_type": "stream",
     "text": [
      "<div class=\"sqs-block-content\" id=\"yui_3_17_2_1_1480579287682_383\">\n",
      " <h2 id=\"yui_3_17_2_1_1480579287682_382\">\n",
      "  Applied Data Visualization\n",
      " </h2>\n",
      " <h3>\n",
      "  LEVEL: Advanced\n",
      " </h3>\n",
      " <h3>\n",
      "  START DATE: JAN 23RD, MON + WED, 6-9PM\n",
      " </h3>\n",
      " <h3>\n",
      "  DURATION: 8 WEEKS\n",
      " </h3>\n",
      " <h3>\n",
      "  COST $850\n",
      " </h3>\n",
      " <h3>\n",
      "  REACT OFFICE HOURS: +$250, TUES + THURS, 6-9PM\n",
      " </h3>\n",
      " <h3>\n",
      "  Instructor: David Daniel\n",
      " </h3>\n",
      "</div>\n"
     ]
    }
   ],
   "source": [
    "print(test.prettify())"
   ]
  },
  {
   "cell_type": "code",
   "execution_count": 47,
   "metadata": {
    "collapsed": false
   },
   "outputs": [
    {
     "data": {
      "text/plain": [
       "<h2 id=\"yui_3_17_2_1_1480579287682_382\">Applied Data Visualization</h2>"
      ]
     },
     "execution_count": 47,
     "metadata": {},
     "output_type": "execute_result"
    }
   ],
   "source": [
    "test.h2"
   ]
  },
  {
   "cell_type": "code",
   "execution_count": 50,
   "metadata": {
    "collapsed": false
   },
   "outputs": [
    {
     "data": {
      "text/plain": [
       "[<h3>LEVEL: Advanced</h3>,\n",
       " <h3>START DATE: JAN 23RD, MON + WED, 6-9PM</h3>,\n",
       " <h3>DURATION: 8 WEEKS</h3>,\n",
       " <h3>COST $850</h3>,\n",
       " <h3>REACT OFFICE HOURS: +$250, TUES + THURS, 6-9PM</h3>,\n",
       " <h3>Instructor: David Daniel</h3>]"
      ]
     },
     "execution_count": 50,
     "metadata": {},
     "output_type": "execute_result"
    }
   ],
   "source": [
    "test.find_all('h3')"
   ]
  },
  {
   "cell_type": "code",
   "execution_count": null,
   "metadata": {
    "collapsed": false
   },
   "outputs": [],
   "source": [
    "test.find_all('h3')"
   ]
  },
  {
   "cell_type": "code",
   "execution_count": 58,
   "metadata": {
    "collapsed": false
   },
   "outputs": [],
   "source": [
    "res = test.find(['h2'])"
   ]
  },
  {
   "cell_type": "code",
   "execution_count": 59,
   "metadata": {
    "collapsed": false
   },
   "outputs": [
    {
     "data": {
      "text/plain": [
       "[<h2 id=\"yui_3_17_2_1_1480579287682_382\">Applied Data Visualization</h2>]"
      ]
     },
     "execution_count": 59,
     "metadata": {},
     "output_type": "execute_result"
    }
   ],
   "source": [
    "test.select('#yui_3_17_2_1_1480579287682_382')"
   ]
  },
  {
   "cell_type": "code",
   "execution_count": 60,
   "metadata": {
    "collapsed": false
   },
   "outputs": [
    {
     "data": {
      "text/plain": [
       "['DIGITIAL MARKETING AND BRANDING',\n",
       " '3D WITH UNITY',\n",
       " 'Data Science in the Wild',\n",
       " 'DEV OPS',\n",
       " 'Backend Integration',\n",
       " 'MODERN CSS',\n",
       " 'ReactJS',\n",
       " 'Applied Data Visualization',\n",
       " 'MODERN CSS']"
      ]
     },
     "execution_count": 60,
     "metadata": {},
     "output_type": "execute_result"
    }
   ],
   "source": [
    "result = soup.select('.span-6 h2 , .span-8 h2 , .span-7 h2 , .span-7 strong')\n",
    "[tag.text for tag in result if tag.text]"
   ]
  },
  {
   "cell_type": "code",
   "execution_count": 63,
   "metadata": {
    "collapsed": false
   },
   "outputs": [
    {
     "data": {
      "text/plain": [
       "<h2 id=\"yui_3_17_2_1_1480579287682_382\">Applied Data Visualization</h2>"
      ]
     },
     "execution_count": 63,
     "metadata": {},
     "output_type": "execute_result"
    }
   ],
   "source": [
    "res"
   ]
  },
  {
   "cell_type": "code",
   "execution_count": 68,
   "metadata": {
    "collapsed": false
   },
   "outputs": [
    {
     "data": {
      "text/plain": [
       "<h3>LEVEL: Advanced</h3>"
      ]
     },
     "execution_count": 68,
     "metadata": {},
     "output_type": "execute_result"
    }
   ],
   "source": [
    "res.next_sibling"
   ]
  },
  {
   "cell_type": "markdown",
   "metadata": {},
   "source": [
    "### Yelp Example"
   ]
  },
  {
   "cell_type": "code",
   "execution_count": 94,
   "metadata": {
    "collapsed": true
   },
   "outputs": [],
   "source": [
    "yelp_url = 'https://www.yelp.com/search?find_desc=poodles&find_loc=Paris'"
   ]
  },
  {
   "cell_type": "code",
   "execution_count": 70,
   "metadata": {
    "collapsed": true
   },
   "outputs": [],
   "source": [
    "yelp_page = requests.get(yelp_url)"
   ]
  },
  {
   "cell_type": "code",
   "execution_count": 71,
   "metadata": {
    "collapsed": false
   },
   "outputs": [
    {
     "data": {
      "text/plain": [
       "200"
      ]
     },
     "execution_count": 71,
     "metadata": {},
     "output_type": "execute_result"
    }
   ],
   "source": [
    "yelp_page.status_code"
   ]
  },
  {
   "cell_type": "code",
   "execution_count": 72,
   "metadata": {
    "collapsed": true
   },
   "outputs": [],
   "source": [
    "selector = '.js-analytics-click span'"
   ]
  },
  {
   "cell_type": "code",
   "execution_count": 73,
   "metadata": {
    "collapsed": false,
    "scrolled": true
   },
   "outputs": [
    {
     "name": "stderr",
     "output_type": "stream",
     "text": [
      "/Users/avendesora/anaconda/envs/python-foundations/lib/python3.5/site-packages/bs4/__init__.py:181: UserWarning: No parser was explicitly specified, so I'm using the best available HTML parser for this system (\"html.parser\"). This usually isn't a problem, but if you run this code on another system, or in a different virtual environment, it may use a different parser and behave differently.\n",
      "\n",
      "The code that caused this warning is on line 184 of the file /Users/avendesora/anaconda/envs/python-foundations/lib/python3.5/runpy.py. To get rid of this warning, change code that looks like this:\n",
      "\n",
      " BeautifulSoup([your markup])\n",
      "\n",
      "to this:\n",
      "\n",
      " BeautifulSoup([your markup], \"html.parser\")\n",
      "\n",
      "  markup_type=markup_type))\n"
     ]
    }
   ],
   "source": [
    "yelp_soup = bs4.BeautifulSoup(yelp_page.text)"
   ]
  },
  {
   "cell_type": "code",
   "execution_count": 79,
   "metadata": {
    "collapsed": false
   },
   "outputs": [
    {
     "data": {
      "text/plain": [
       "[<span>Pizza Factory</span>,\n",
       " <span>Life of Pie Pizza</span>,\n",
       " <span>Apizza Scholls</span>,\n",
       " <span>Scottie’s Pizza Parlor</span>,\n",
       " <span>Sizzle Pie</span>,\n",
       " <span>Baby Doll Pizza</span>,\n",
       " <span>Red Sauce Pizza</span>,\n",
       " <span>East Glisan Pizza Lounge</span>,\n",
       " <span>Escape From New York Pizza</span>,\n",
       " <span>The Pocket Pub</span>,\n",
       " <span>Giants NY Pizza &amp; Subs</span>]"
      ]
     },
     "execution_count": 79,
     "metadata": {},
     "output_type": "execute_result"
    }
   ],
   "source": [
    "result = yelp_soup.select(selector)\n",
    "result"
   ]
  },
  {
   "cell_type": "code",
   "execution_count": 84,
   "metadata": {
    "collapsed": false
   },
   "outputs": [
    {
     "data": {
      "text/plain": [
       "'Pizza Factory'"
      ]
     },
     "execution_count": 84,
     "metadata": {},
     "output_type": "execute_result"
    }
   ],
   "source": [
    "t = result[0]\n",
    "t.get_text()"
   ]
  },
  {
   "cell_type": "code",
   "execution_count": 85,
   "metadata": {
    "collapsed": false,
    "scrolled": true
   },
   "outputs": [
    {
     "data": {
      "text/plain": [
       "['Pizza Factory',\n",
       " 'Life of Pie Pizza',\n",
       " 'Apizza Scholls',\n",
       " 'Scottie’s Pizza Parlor',\n",
       " 'Sizzle Pie',\n",
       " 'Baby Doll Pizza',\n",
       " 'Red Sauce Pizza',\n",
       " 'East Glisan Pizza Lounge',\n",
       " 'Escape From New York Pizza',\n",
       " 'The Pocket Pub',\n",
       " 'Giants NY Pizza & Subs']"
      ]
     },
     "execution_count": 85,
     "metadata": {},
     "output_type": "execute_result"
    }
   ],
   "source": [
    "all_pizza_names = [pizza.get_text() for pizza in result]\n",
    "all_pizza_names"
   ]
  },
  {
   "cell_type": "code",
   "execution_count": 92,
   "metadata": {
    "collapsed": false
   },
   "outputs": [
    {
     "data": {
      "text/plain": [
       "'https://www.yelp.com/search?find_desc=pizza&find_loc=Portland'"
      ]
     },
     "execution_count": 92,
     "metadata": {},
     "output_type": "execute_result"
    }
   ],
   "source": [
    "def get_biznames(url):\n",
    "    page = requests.get(url)\n",
    "    soup = bs4.BeautifulSoup(page.text, 'html.parser')\n",
    "    selector = '.biz-name'\n",
    "    results = soup.select(selector)\n",
    "    names = [tag.get_text() for tag in results]\n",
    "    return names\n",
    "yelp_url"
   ]
  },
  {
   "cell_type": "code",
   "execution_count": 93,
   "metadata": {
    "collapsed": false,
    "scrolled": true
   },
   "outputs": [
    {
     "data": {
      "text/plain": [
       "['Au Paradis Canin',\n",
       " 'Animalis',\n",
       " 'Salon Pluche',\n",
       " 'Toilettage Au Poil !',\n",
       " 'Dog in the City',\n",
       " 'Dog’s Store',\n",
       " 'Chats Comme Chiens',\n",
       " 'Canicrèche',\n",
       " 'Prima Toilettage',\n",
       " 'MiaouWaou']"
      ]
     },
     "execution_count": 93,
     "metadata": {},
     "output_type": "execute_result"
    }
   ],
   "source": [
    "get_biznames('https://www.yelp.com/search?find_desc=poodles&find_loc=Paris')"
   ]
  },
  {
   "cell_type": "code",
   "execution_count": 95,
   "metadata": {
    "collapsed": true
   },
   "outputs": [],
   "source": [
    "def get_soup(url):\n",
    "    page = requests.get(url)\n",
    "    soup = bs4.BeautifulSoup(page.text, 'html.parser')\n",
    "    return soup\n"
   ]
  },
  {
   "cell_type": "code",
   "execution_count": 96,
   "metadata": {
    "collapsed": true
   },
   "outputs": [],
   "source": [
    "soup = get_soup(yelp_url)"
   ]
  },
  {
   "cell_type": "code",
   "execution_count": 124,
   "metadata": {
    "collapsed": false
   },
   "outputs": [],
   "source": [
    "result = soup.select('a.biz-name')\n",
    "t = result[0]"
   ]
  },
  {
   "cell_type": "code",
   "execution_count": 111,
   "metadata": {
    "collapsed": false
   },
   "outputs": [
    {
     "name": "stdout",
     "output_type": "stream",
     "text": [
      "<a class=\"biz-name js-analytics-click\" data-analytics-label=\"biz-name\" data-hovercard-id=\"pQKVA8h_bZReyUlvtnyQwA\" href=\"/biz/au-paradis-canin-paris?osq=poodles\">\n",
      " <span>\n",
      "  Au Paradis Canin\n",
      " </span>\n",
      "</a>\n",
      "\n"
     ]
    }
   ],
   "source": [
    "print(t.prettify())"
   ]
  },
  {
   "cell_type": "code",
   "execution_count": 121,
   "metadata": {
    "collapsed": false
   },
   "outputs": [
    {
     "data": {
      "text/plain": [
       "'http://www.yelp.com/biz/au-paradis-canin-paris?osq=poodles'"
      ]
     },
     "execution_count": 121,
     "metadata": {},
     "output_type": "execute_result"
    }
   ],
   "source": [
    "'http://www.yelp.com' + t.get('href')"
   ]
  },
  {
   "cell_type": "code",
   "execution_count": 122,
   "metadata": {
    "collapsed": true
   },
   "outputs": [
    {
     "data": {
      "text/plain": [
       "[<li class=\"regular-search-result\">\n",
       " <div class=\"search-result natural-search-result\" data-key=\"1\">\n",
       " <div class=\"biz-listing-large\">\n",
       " <div class=\"main-attributes\">\n",
       " <div class=\"media-block media-block--12\">\n",
       " <div class=\"media-avatar\">\n",
       " <div class=\"photo-box pb-90s\">\n",
       " <a class=\"js-analytics-click\" data-analytics-label=\"biz-photo\" href=\"/biz/life-of-pie-pizza-portland?osq=pizza\">\n",
       " <img alt=\"Life of Pie Pizza\" class=\"photo-box-img\" height=\"90\" src=\"https://s3-media4.fl.yelpcdn.com/bphoto/vCRvwVkKB26ud3BfqnnJUQ/90s.jpg\" width=\"90\">\n",
       " </img></a>\n",
       " </div>\n",
       " </div>\n",
       " <div class=\"media-story\">\n",
       " <h3 class=\"search-result-title\">\n",
       " <span class=\"indexed-biz-name\">1.         <a class=\"biz-name js-analytics-click\" data-analytics-label=\"biz-name\" data-hovercard-id=\"E_gJtcdekNi8vLI3-XcI_Q\" href=\"/biz/life-of-pie-pizza-portland?osq=pizza\"><span>Life of Pie Pizza</span></a>\n",
       " </span>\n",
       " </h3>\n",
       " <div class=\"biz-rating biz-rating-large clearfix\">\n",
       " <div class=\"i-stars i-stars--regular-4-half rating-large\" title=\"4.5 star rating\">\n",
       " <img alt=\"4.5 star rating\" class=\"offscreen\" height=\"303\" src=\"https://s3-media1.fl.yelpcdn.com/assets/srv0/yelp_design_web/8a6fc2d74183/assets/img/stars/stars.png\" width=\"84\">\n",
       " </img></div>\n",
       " <span class=\"review-count rating-qualifier\">\n",
       "             377 reviews\n",
       "     </span>\n",
       " </div>\n",
       " <div class=\"price-category\">\n",
       " <span class=\"bullet-after\">\n",
       " <span class=\"business-attribute price-range\">$$</span>\n",
       " </span>\n",
       " <span class=\"category-str-list\">\n",
       " <a href=\"/search?find_desc=pizza&amp;find_loc=Portland&amp;cflt=pizza\">Pizza</a>\n",
       " </span>\n",
       " </div>\n",
       " <ul class=\"search-result_tags\">\n",
       " </ul>\n",
       " </div>\n",
       " </div>\n",
       " </div>\n",
       " <div class=\"secondary-attributes\">\n",
       " <span class=\"neighborhood-str-list\">\n",
       "             North Portland, Northeast Portland, Boise, Mississippi        </span>\n",
       " <address>\n",
       "         3632 N Williams Ave<br>Portland, OR 97227\n",
       "     </br></address>\n",
       " <span class=\"offscreen\">Phone number</span>\n",
       " <span class=\"biz-phone\">\n",
       "         (503) 719-7321\n",
       "     </span>\n",
       " </div>\n",
       " </div>\n",
       " <div class=\"snippet-block media-block\">\n",
       " <div class=\"media-avatar\">\n",
       " <div class=\"photo-box pb-30s\" data-hovercard-id=\"7U3rQCBiFDMcLa3H-oFUbg\">\n",
       " <a href=\"/user_details?userid=UviXsa_BtrvB-R-TiNfHVg\">\n",
       " <img alt=\"Sharon W.\" class=\"photo-box-img\" height=\"30\" src=\"https://s3-media4.fl.yelpcdn.com/photo/VSrbl2SP6CsGJuCdzxMLPg/30s.jpg\" width=\"30\">\n",
       " </img></a>\n",
       " </div>\n",
       " </div>\n",
       " <div class=\"media-story\">\n",
       " <p class=\"snippet\">\n",
       "                         They have amazing pizza! I had the margarita. I wish I would have went to happy hour because it's only $5. My friends had some meat pizza and pizza with arugula...not sure the names…\n",
       "                         <a class=\"nowrap\" href=\"/biz/life-of-pie-pizza-portland?hrid=oum3gssLyB0lQ4-wgFu8Qw&amp;osq=pizza\">read more</a>\n",
       " </p>\n",
       " </div>\n",
       " </div>\n",
       " </div>\n",
       " </li>, <li class=\"regular-search-result\">\n",
       " <div class=\"search-result natural-search-result\" data-key=\"2\">\n",
       " <div class=\"biz-listing-large\">\n",
       " <div class=\"main-attributes\">\n",
       " <div class=\"media-block media-block--12\">\n",
       " <div class=\"media-avatar\">\n",
       " <div class=\"photo-box pb-90s\">\n",
       " <a class=\"js-analytics-click\" data-analytics-label=\"biz-photo\" href=\"/biz/apizza-scholls-portland?osq=pizza\">\n",
       " <img alt=\"Apizza Scholls\" class=\"photo-box-img\" height=\"90\" src=\"https://s3-media3.fl.yelpcdn.com/bphoto/3N22ZgpooOK2Cors62W2Cg/90s.jpg\" width=\"90\">\n",
       " </img></a>\n",
       " </div>\n",
       " </div>\n",
       " <div class=\"media-story\">\n",
       " <h3 class=\"search-result-title\">\n",
       " <span class=\"indexed-biz-name\">2.         <a class=\"biz-name js-analytics-click\" data-analytics-label=\"biz-name\" data-hovercard-id=\"PoxvQ6llAlGOA4k3bqGeEg\" href=\"/biz/apizza-scholls-portland?osq=pizza\"><span>Apizza Scholls</span></a>\n",
       " </span>\n",
       " </h3>\n",
       " <div class=\"biz-rating biz-rating-large clearfix\">\n",
       " <div class=\"i-stars i-stars--regular-4 rating-large\" title=\"4.0 star rating\">\n",
       " <img alt=\"4.0 star rating\" class=\"offscreen\" height=\"303\" src=\"https://s3-media1.fl.yelpcdn.com/assets/srv0/yelp_design_web/8a6fc2d74183/assets/img/stars/stars.png\" width=\"84\">\n",
       " </img></div>\n",
       " <span class=\"review-count rating-qualifier\">\n",
       "             1114 reviews\n",
       "     </span>\n",
       " </div>\n",
       " <div class=\"price-category\">\n",
       " <span class=\"bullet-after\">\n",
       " <span class=\"business-attribute price-range\">$$</span>\n",
       " </span>\n",
       " <span class=\"category-str-list\">\n",
       " <a href=\"/search?find_desc=pizza&amp;find_loc=Portland&amp;cflt=pizza\">Pizza</a>\n",
       " </span>\n",
       " </div>\n",
       " <ul class=\"search-result_tags\">\n",
       " </ul>\n",
       " </div>\n",
       " </div>\n",
       " </div>\n",
       " <div class=\"secondary-attributes\">\n",
       " <span class=\"neighborhood-str-list\">\n",
       "             Southeast Portland, Hawthorne, Sunnyside        </span>\n",
       " <address>\n",
       "         4741 SE Hawthorne Blvd<br>Portland, OR 97215\n",
       "     </br></address>\n",
       " <span class=\"offscreen\">Phone number</span>\n",
       " <span class=\"biz-phone\">\n",
       "         (503) 233-1286\n",
       "     </span>\n",
       " </div>\n",
       " </div>\n",
       " <div class=\"search-result-ctas u-space-t1\">\n",
       " <div class=\"search-avatar-offset js-reservation\">\n",
       " <div class=\"island island--slim search-result-cta\">\n",
       " <div class=\"arrange arrange--middle arrange--6\">\n",
       " <div class=\"arrange_unit\">\n",
       " <span aria-hidden=\"true\" class=\"icon icon--18-reservation icon--size-18 icon--black\" style=\"width: 18px; height: 18px;\">\n",
       " <svg class=\"icon_svg\">\n",
       " <use xlink:href=\"#18x18_reservation\"></use>\n",
       " </svg>\n",
       " </span>\n",
       " </div>\n",
       " <div class=\"arrange_unit--fill arrange_unit cta-text\">\n",
       " <span class=\"\">\n",
       "             This restaurant takes reservations\n",
       "         </span>\n",
       " </div>\n",
       " <div class=\"arrange_unit nowrap js-tag-action\" data-business-id=\"iaOWsQlhHTkHMTThpB1UNQ\" data-popup-title=\"\" data-search-action-uri=\"/reservations/iaOWsQlhHTkHMTThpB1UNQ/reservation_availability_search_widget\">\n",
       " <a class=\"ybtn ybtn--small low-intent-search-action-button\" href=\"javascript:;\">Find a Table</a>\n",
       " </div>\n",
       " </div>\n",
       " </div>\n",
       " <div class=\"search-result-cta-error-row\">\n",
       " <div class=\"platform-vsearch-error-message text-error\">\n",
       " </div>\n",
       " </div>\n",
       " </div>\n",
       " </div>\n",
       " <div class=\"snippet-block media-block\">\n",
       " <div class=\"media-avatar\">\n",
       " <div class=\"photo-box pb-30s\" data-hovercard-id=\"-bO1GD4CYKpw5LwbNWaiMw\">\n",
       " <a href=\"/user_details?userid=OrELs30Et6KG-KgKfhkzYw\">\n",
       " <img alt=\"Jody J.\" class=\"photo-box-img\" height=\"30\" src=\"https://s3-media3.fl.yelpcdn.com/photo/hlnp3L4DLpcBu-jBJq7gtg/30s.jpg\" width=\"30\">\n",
       " </img></a>\n",
       " </div>\n",
       " </div>\n",
       " <div class=\"media-story\">\n",
       " <p class=\"snippet\">\n",
       "                         Ok so The first thing you should know... Is if you choose to eat here you will have a wait to be seated and sometimes it's a long wait. Even with a reservation do not expect to walk…\n",
       "                         <a class=\"nowrap\" href=\"/biz/apizza-scholls-portland?hrid=LdLJLXnGSnnG_o52RJRNQw&amp;osq=pizza\">read more</a>\n",
       " </p>\n",
       " </div>\n",
       " </div>\n",
       " </div>\n",
       " </li>, <li class=\"regular-search-result\">\n",
       " <div class=\"search-result natural-search-result\" data-key=\"3\">\n",
       " <div class=\"biz-listing-large\">\n",
       " <div class=\"main-attributes\">\n",
       " <div class=\"media-block media-block--12\">\n",
       " <div class=\"media-avatar\">\n",
       " <div class=\"photo-box pb-90s\">\n",
       " <a class=\"js-analytics-click\" data-analytics-label=\"biz-photo\" href=\"/biz/scotties-pizza-parlor-portland?osq=pizza\">\n",
       " <img alt=\"Scottie's Pizza Parlor\" class=\"photo-box-img\" height=\"90\" src=\"https://s3-media4.fl.yelpcdn.com/bphoto/ZMq-CAHYvuXFrC6rn5_GWg/90s.jpg\" width=\"90\">\n",
       " </img></a>\n",
       " </div>\n",
       " </div>\n",
       " <div class=\"media-story\">\n",
       " <h3 class=\"search-result-title\">\n",
       " <span class=\"indexed-biz-name\">3.         <a class=\"biz-name js-analytics-click\" data-analytics-label=\"biz-name\" data-hovercard-id=\"UAzNY66o39kAfgZSweUQPw\" href=\"/biz/scotties-pizza-parlor-portland?osq=pizza\"><span>Scottie’s Pizza Parlor</span></a>\n",
       " </span>\n",
       " </h3>\n",
       " <div class=\"biz-rating biz-rating-large clearfix\">\n",
       " <div class=\"i-stars i-stars--regular-4-half rating-large\" title=\"4.5 star rating\">\n",
       " <img alt=\"4.5 star rating\" class=\"offscreen\" height=\"303\" src=\"https://s3-media1.fl.yelpcdn.com/assets/srv0/yelp_design_web/8a6fc2d74183/assets/img/stars/stars.png\" width=\"84\">\n",
       " </img></div>\n",
       " <span class=\"review-count rating-qualifier\">\n",
       "             99 reviews\n",
       "     </span>\n",
       " </div>\n",
       " <div class=\"price-category\">\n",
       " <span class=\"bullet-after\">\n",
       " <span class=\"business-attribute price-range\">$</span>\n",
       " </span>\n",
       " <span class=\"category-str-list\">\n",
       " <a href=\"/search?find_desc=pizza&amp;find_loc=Portland&amp;cflt=pizza\">Pizza</a>,\n",
       "                     <a href=\"/search?find_desc=pizza&amp;find_loc=Portland&amp;cflt=desserts\">Desserts</a>,\n",
       "                     <a href=\"/search?find_desc=pizza&amp;find_loc=Portland&amp;cflt=beerbar\">Beer Bar</a>\n",
       " </span>\n",
       " </div>\n",
       " <ul class=\"search-result_tags\">\n",
       " </ul>\n",
       " </div>\n",
       " </div>\n",
       " </div>\n",
       " <div class=\"secondary-attributes\">\n",
       " <span class=\"neighborhood-str-list\">\n",
       "             Southeast Portland, Clinton, Hosford-Abernethy        </span>\n",
       " <address>\n",
       "         2128 SE Division St<br>Portland, OR 97202\n",
       "     </br></address>\n",
       " <span class=\"offscreen\">Phone number</span>\n",
       " <span class=\"biz-phone\">\n",
       "         (971) 544-7878\n",
       "     </span>\n",
       " </div>\n",
       " </div>\n",
       " <div class=\"snippet-block media-block\">\n",
       " <div class=\"media-avatar\">\n",
       " <div class=\"photo-box pb-30s\" data-hovercard-id=\"csKzOy0m-ACHGIw9SRapdw\">\n",
       " <a href=\"/user_details?userid=MwP2lftJIsb0uA_hDTvZJA\">\n",
       " <img alt=\"Joel D.\" class=\"photo-box-img\" height=\"30\" src=\"https://s3-media4.fl.yelpcdn.com/photo/rhXwzAagXYZTJY9lLB0t_Q/30s.jpg\" width=\"30\">\n",
       " </img></a>\n",
       " </div>\n",
       " </div>\n",
       " <div class=\"media-story\">\n",
       " <p class=\"snippet\">\n",
       "                         Great slice!  They use a hard wheat flour, so the crust is super crisp on the outside and is still nice and tender inside.   I had a Bianca slice and added mushrooms, olives and…\n",
       "                         <a class=\"nowrap\" href=\"/biz/scotties-pizza-parlor-portland?hrid=dUyZSNj1W3b64NBZg1V1Aw&amp;osq=pizza\">read more</a>\n",
       " </p>\n",
       " </div>\n",
       " </div>\n",
       " </div>\n",
       " </li>, <li class=\"regular-search-result\">\n",
       " <div class=\"search-result natural-search-result\" data-key=\"4\">\n",
       " <div class=\"biz-listing-large\">\n",
       " <div class=\"main-attributes\">\n",
       " <div class=\"media-block media-block--12\">\n",
       " <div class=\"media-avatar\">\n",
       " <div class=\"photo-box pb-90s\">\n",
       " <a class=\"js-analytics-click\" data-analytics-label=\"biz-photo\" href=\"/biz/sizzle-pie-portland?osq=pizza\">\n",
       " <img alt=\"Sizzle Pie\" class=\"photo-box-img\" height=\"90\" src=\"https://s3-media4.fl.yelpcdn.com/bphoto/GrcYTweMrjj50rJawrzkdw/90s.jpg\" width=\"90\">\n",
       " </img></a>\n",
       " </div>\n",
       " </div>\n",
       " <div class=\"media-story\">\n",
       " <h3 class=\"search-result-title\">\n",
       " <span class=\"indexed-biz-name\">4.         <a class=\"biz-name js-analytics-click\" data-analytics-label=\"biz-name\" data-hovercard-id=\"JtmQKHqzI_Qd5ZuFVm9L9g\" href=\"/biz/sizzle-pie-portland?osq=pizza\"><span>Sizzle Pie</span></a>\n",
       " </span>\n",
       " </h3>\n",
       " <div class=\"biz-rating biz-rating-large clearfix\">\n",
       " <div class=\"i-stars i-stars--regular-4 rating-large\" title=\"4.0 star rating\">\n",
       " <img alt=\"4.0 star rating\" class=\"offscreen\" height=\"303\" src=\"https://s3-media1.fl.yelpcdn.com/assets/srv0/yelp_design_web/8a6fc2d74183/assets/img/stars/stars.png\" width=\"84\">\n",
       " </img></div>\n",
       " <span class=\"review-count rating-qualifier\">\n",
       "             708 reviews\n",
       "     </span>\n",
       " </div>\n",
       " <div class=\"price-category\">\n",
       " <span class=\"bullet-after\">\n",
       " <span class=\"business-attribute price-range\">$</span>\n",
       " </span>\n",
       " <span class=\"category-str-list\">\n",
       " <a href=\"/search?find_desc=pizza&amp;find_loc=Portland&amp;cflt=pizza\">Pizza</a>,\n",
       "                     <a href=\"/search?find_desc=pizza&amp;find_loc=Portland&amp;cflt=salad\">Salad</a>,\n",
       "                     <a href=\"/search?find_desc=pizza&amp;find_loc=Portland&amp;cflt=sandwiches\">Sandwiches</a>\n",
       " </span>\n",
       " </div>\n",
       " <ul class=\"search-result_tags\">\n",
       " </ul>\n",
       " </div>\n",
       " </div>\n",
       " </div>\n",
       " <div class=\"secondary-attributes\">\n",
       " <span class=\"neighborhood-str-list\">\n",
       "             Central Eastside, Industrial District, Lower Burnside, Buckman        </span>\n",
       " <address>\n",
       "         624 E Burnside<br>Portland, OR 97214\n",
       "     </br></address>\n",
       " <span class=\"offscreen\">Phone number</span>\n",
       " <span class=\"biz-phone\">\n",
       "         (503) 234-7437\n",
       "     </span>\n",
       " </div>\n",
       " </div>\n",
       " <div class=\"snippet-block media-block\">\n",
       " <div class=\"media-avatar\">\n",
       " <div class=\"photo-box pb-30s\" data-hovercard-id=\"8bhRwTQFN5igM8MIHLcmGw\">\n",
       " <a href=\"/user_details?userid=JRC30SRBNjXE-4MmoGSrCg\">\n",
       " <img alt=\"Christian P.\" class=\"photo-box-img\" height=\"30\" src=\"https://s3-media2.fl.yelpcdn.com/photo/mzTWlSTSRK74y5B8pS2EFg/30s.jpg\" width=\"30\">\n",
       " </img></a>\n",
       " </div>\n",
       " </div>\n",
       " <div class=\"media-story\">\n",
       " <p class=\"snippet\">\n",
       "                         I'm a pizza snob, but for a Pac NW take on the New York slice, it's one of the better options in town. My wife enjoys it because she can get vegan cheese, and my kids can custom…\n",
       "                         <a class=\"nowrap\" href=\"/biz/sizzle-pie-portland?hrid=4ncJ7GQr_Nb2DQoxWODteA&amp;osq=pizza\">read more</a>\n",
       " </p>\n",
       " </div>\n",
       " </div>\n",
       " </div>\n",
       " </li>, <li class=\"regular-search-result\">\n",
       " <div class=\"search-result natural-search-result\" data-key=\"5\">\n",
       " <div class=\"biz-listing-large\">\n",
       " <div class=\"main-attributes\">\n",
       " <div class=\"media-block media-block--12\">\n",
       " <div class=\"media-avatar\">\n",
       " <div class=\"photo-box pb-90s\">\n",
       " <a class=\"js-analytics-click\" data-analytics-label=\"biz-photo\" href=\"/biz/baby-doll-pizza-portland?osq=pizza\">\n",
       " <img alt=\"Baby Doll Pizza\" class=\"photo-box-img\" height=\"90\" src=\"https://s3-media3.fl.yelpcdn.com/bphoto/699IwvKQqLVo-1KN3Xu0FQ/90s.jpg\" width=\"90\">\n",
       " </img></a>\n",
       " </div>\n",
       " </div>\n",
       " <div class=\"media-story\">\n",
       " <h3 class=\"search-result-title\">\n",
       " <span class=\"indexed-biz-name\">5.         <a class=\"biz-name js-analytics-click\" data-analytics-label=\"biz-name\" data-hovercard-id=\"dZEIV6RY0MVYOtB1fVnmgg\" href=\"/biz/baby-doll-pizza-portland?osq=pizza\"><span>Baby Doll Pizza</span></a>\n",
       " </span>\n",
       " </h3>\n",
       " <div class=\"biz-rating biz-rating-large clearfix\">\n",
       " <div class=\"i-stars i-stars--regular-4-half rating-large\" title=\"4.5 star rating\">\n",
       " <img alt=\"4.5 star rating\" class=\"offscreen\" height=\"303\" src=\"https://s3-media1.fl.yelpcdn.com/assets/srv0/yelp_design_web/8a6fc2d74183/assets/img/stars/stars.png\" width=\"84\">\n",
       " </img></div>\n",
       " <span class=\"review-count rating-qualifier\">\n",
       "             176 reviews\n",
       "     </span>\n",
       " </div>\n",
       " <div class=\"price-category\">\n",
       " <span class=\"bullet-after\">\n",
       " <span class=\"business-attribute price-range\">$</span>\n",
       " </span>\n",
       " <span class=\"category-str-list\">\n",
       " <a href=\"/search?find_desc=pizza&amp;find_loc=Portland&amp;cflt=pizza\">Pizza</a>\n",
       " </span>\n",
       " </div>\n",
       " <ul class=\"search-result_tags\">\n",
       " </ul>\n",
       " </div>\n",
       " </div>\n",
       " </div>\n",
       " <div class=\"secondary-attributes\">\n",
       " <span class=\"neighborhood-str-list\">\n",
       "             Kerns, Southeast Portland        </span>\n",
       " <address>\n",
       "         2835 SE Stark St<br>Portland, OR 97214\n",
       "     </br></address>\n",
       " <span class=\"offscreen\">Phone number</span>\n",
       " <span class=\"biz-phone\">\n",
       "         (503) 459-4450\n",
       "     </span>\n",
       " </div>\n",
       " </div>\n",
       " <div class=\"snippet-block media-block\">\n",
       " <div class=\"media-avatar\">\n",
       " <div class=\"photo-box pb-30s\" data-hovercard-id=\"zIBtjiUSOOVwd5QNMxELyA\">\n",
       " <a href=\"/user_details?userid=XFBZ6qCujuJgxokw3nClzg\">\n",
       " <img alt=\"Jonathan R.\" class=\"photo-box-img\" height=\"30\" src=\"https://s3-media1.fl.yelpcdn.com/photo/Rx8PmvHYFmYPKfllwmH-9A/30s.jpg\" width=\"30\">\n",
       " </img></a>\n",
       " </div>\n",
       " </div>\n",
       " <div class=\"media-story\">\n",
       " <p class=\"snippet\">\n",
       "                         Thanks to Rylan Monteith I was finally able to sample the real deal pizza from BDP.  I am a huge foodie guy who is looking for quality fresh ingredients and am completely sold.  The…\n",
       "                         <a class=\"nowrap\" href=\"/biz/baby-doll-pizza-portland?hrid=_vxZwNBv0OgfYdoLX9UNQQ&amp;osq=pizza\">read more</a>\n",
       " </p>\n",
       " </div>\n",
       " </div>\n",
       " </div>\n",
       " </li>, <li class=\"regular-search-result\">\n",
       " <div class=\"search-result natural-search-result\" data-key=\"6\">\n",
       " <div class=\"biz-listing-large\">\n",
       " <div class=\"main-attributes\">\n",
       " <div class=\"media-block media-block--12\">\n",
       " <div class=\"media-avatar\">\n",
       " <div class=\"photo-box pb-90s\">\n",
       " <a class=\"js-analytics-click\" data-analytics-label=\"biz-photo\" href=\"/biz/red-sauce-pizza-portland?osq=pizza\">\n",
       " <img alt=\"Red Sauce Pizza\" class=\"photo-box-img\" height=\"90\" src=\"https://s3-media3.fl.yelpcdn.com/bphoto/kNIMcEcRmZH8KHMKV8o2Jw/90s.jpg\" width=\"90\">\n",
       " </img></a>\n",
       " </div>\n",
       " </div>\n",
       " <div class=\"media-story\">\n",
       " <h3 class=\"search-result-title\">\n",
       " <span class=\"indexed-biz-name\">6.         <a class=\"biz-name js-analytics-click\" data-analytics-label=\"biz-name\" data-hovercard-id=\"DKg2k4djam8190Unt93L0Q\" href=\"/biz/red-sauce-pizza-portland?osq=pizza\"><span>Red Sauce Pizza</span></a>\n",
       " </span>\n",
       " </h3>\n",
       " <div class=\"biz-rating biz-rating-large clearfix\">\n",
       " <div class=\"i-stars i-stars--regular-4-half rating-large\" title=\"4.5 star rating\">\n",
       " <img alt=\"4.5 star rating\" class=\"offscreen\" height=\"303\" src=\"https://s3-media1.fl.yelpcdn.com/assets/srv0/yelp_design_web/8a6fc2d74183/assets/img/stars/stars.png\" width=\"84\">\n",
       " </img></div>\n",
       " <span class=\"review-count rating-qualifier\">\n",
       "             82 reviews\n",
       "     </span>\n",
       " </div>\n",
       " <div class=\"price-category\">\n",
       " <span class=\"bullet-after\">\n",
       " <span class=\"business-attribute price-range\">$$</span>\n",
       " </span>\n",
       " <span class=\"category-str-list\">\n",
       " <a href=\"/search?find_desc=pizza&amp;find_loc=Portland&amp;cflt=pizza\">Pizza</a>\n",
       " </span>\n",
       " </div>\n",
       " <ul class=\"search-result_tags\">\n",
       " </ul>\n",
       " </div>\n",
       " </div>\n",
       " </div>\n",
       " <div class=\"secondary-attributes\">\n",
       " <span class=\"neighborhood-str-list\">\n",
       "             Northeast Portland, Concordia        </span>\n",
       " <address>\n",
       "         4935 NE 42nd Ave<br>Portland, OR 97218\n",
       "     </br></address>\n",
       " <span class=\"offscreen\">Phone number</span>\n",
       " <span class=\"biz-phone\">\n",
       "         (503) 288-4899\n",
       "     </span>\n",
       " </div>\n",
       " </div>\n",
       " <div class=\"snippet-block media-block\">\n",
       " <div class=\"media-avatar\">\n",
       " <div class=\"photo-box pb-30s\" data-hovercard-id=\"HW_i7Ja-wYcj1jTJ5tqwkw\">\n",
       " <a href=\"/user_details?userid=L66BABtCg_iS6XMYdeUOEg\">\n",
       " <img alt=\"Morgan W.\" class=\"photo-box-img\" height=\"30\" src=\"https://s3-media4.fl.yelpcdn.com/photo/l1wAcVPiIrzfyH9CmHQw0A/30s.jpg\" width=\"30\">\n",
       " </img></a>\n",
       " </div>\n",
       " </div>\n",
       " <div class=\"media-story\">\n",
       " <p class=\"snippet\">\n",
       "                         I usually don't like thin-crust wood-fired fancy pizza, but this pizza is made so well and with such fresh ingredients, I would gladly eat an entire pie. The Jack Dekovich is really…\n",
       "                         <a class=\"nowrap\" href=\"/biz/red-sauce-pizza-portland?hrid=7m7_8UH0-mX3bYTbJoLqiw&amp;osq=pizza\">read more</a>\n",
       " </p>\n",
       " </div>\n",
       " </div>\n",
       " </div>\n",
       " </li>, <li class=\"regular-search-result\">\n",
       " <div class=\"search-result natural-search-result\" data-key=\"7\">\n",
       " <div class=\"biz-listing-large\">\n",
       " <div class=\"main-attributes\">\n",
       " <div class=\"media-block media-block--12\">\n",
       " <div class=\"media-avatar\">\n",
       " <div class=\"photo-box pb-90s\">\n",
       " <a class=\"js-analytics-click\" data-analytics-label=\"biz-photo\" href=\"/biz/east-glisan-pizza-lounge-portland?osq=pizza\">\n",
       " <img alt=\"East Glisan Pizza Lounge\" class=\"photo-box-img\" height=\"90\" src=\"https://s3-media4.fl.yelpcdn.com/bphoto/LwvM5Z2pdsvyloj1z-pM9w/90s.jpg\" width=\"90\">\n",
       " </img></a>\n",
       " </div>\n",
       " </div>\n",
       " <div class=\"media-story\">\n",
       " <h3 class=\"search-result-title\">\n",
       " <span class=\"indexed-biz-name\">7.         <a class=\"biz-name js-analytics-click\" data-analytics-label=\"biz-name\" data-hovercard-id=\"NgcgP2TGn8XKXbzl96Buyw\" href=\"/biz/east-glisan-pizza-lounge-portland?osq=pizza\"><span>East Glisan Pizza Lounge</span></a>\n",
       " </span>\n",
       " </h3>\n",
       " <div class=\"biz-rating biz-rating-large clearfix\">\n",
       " <div class=\"i-stars i-stars--regular-4-half rating-large\" title=\"4.5 star rating\">\n",
       " <img alt=\"4.5 star rating\" class=\"offscreen\" height=\"303\" src=\"https://s3-media1.fl.yelpcdn.com/assets/srv0/yelp_design_web/8a6fc2d74183/assets/img/stars/stars.png\" width=\"84\">\n",
       " </img></div>\n",
       " <span class=\"review-count rating-qualifier\">\n",
       "             206 reviews\n",
       "     </span>\n",
       " </div>\n",
       " <div class=\"price-category\">\n",
       " <span class=\"bullet-after\">\n",
       " <span class=\"business-attribute price-range\">$$</span>\n",
       " </span>\n",
       " <span class=\"category-str-list\">\n",
       " <a href=\"/search?find_desc=pizza&amp;find_loc=Portland&amp;cflt=lounges\">Lounges</a>,\n",
       "                     <a href=\"/search?find_desc=pizza&amp;find_loc=Portland&amp;cflt=pizza\">Pizza</a>\n",
       " </span>\n",
       " </div>\n",
       " <ul class=\"search-result_tags\">\n",
       " </ul>\n",
       " </div>\n",
       " </div>\n",
       " </div>\n",
       " <div class=\"secondary-attributes\">\n",
       " <span class=\"neighborhood-str-list\">\n",
       "             Northeast Portland, Montavilla        </span>\n",
       " <address>\n",
       "         8001 NE Glisan St<br>Portland, OR 97213\n",
       "     </br></address>\n",
       " <span class=\"offscreen\">Phone number</span>\n",
       " <span class=\"biz-phone\">\n",
       "         (971) 279-4273\n",
       "     </span>\n",
       " </div>\n",
       " </div>\n",
       " <div class=\"snippet-block media-block\">\n",
       " <div class=\"media-avatar\">\n",
       " <div class=\"photo-box pb-30s\" data-hovercard-id=\"e68gcB-mXGgZDdwUkpY6jA\">\n",
       " <a href=\"/user_details?userid=SHqNVh1VXVdPS0voRRvV6A\">\n",
       " <img alt=\"Paul C.\" class=\"photo-box-img\" height=\"30\" src=\"https://s3-media3.fl.yelpcdn.com/photo/rATZox0kQ9vJppL-RY1mXA/30s.jpg\" width=\"30\">\n",
       " </img></a>\n",
       " </div>\n",
       " </div>\n",
       " <div class=\"media-story\">\n",
       " <p class=\"snippet\">\n",
       "                         My friend Eddie and I came to Portland to do some traveling, and our Airbnb house was about four blocks away from the restaurant. We passed by this place twice, and since we got…\n",
       "                         <a class=\"nowrap\" href=\"/biz/east-glisan-pizza-lounge-portland?hrid=b29V8rGAqfUeQbI5bSBm0Q&amp;osq=pizza\">read more</a>\n",
       " </p>\n",
       " </div>\n",
       " </div>\n",
       " </div>\n",
       " </li>, <li class=\"regular-search-result\">\n",
       " <div class=\"search-result natural-search-result\" data-key=\"8\">\n",
       " <div class=\"biz-listing-large\">\n",
       " <div class=\"main-attributes\">\n",
       " <div class=\"media-block media-block--12\">\n",
       " <div class=\"media-avatar\">\n",
       " <div class=\"photo-box pb-90s\">\n",
       " <a class=\"js-analytics-click\" data-analytics-label=\"biz-photo\" href=\"/biz/escape-from-new-york-pizza-portland?osq=pizza\">\n",
       " <img alt=\"Escape From New York Pizza\" class=\"photo-box-img\" height=\"90\" src=\"https://s3-media1.fl.yelpcdn.com/bphoto/_zCRHdYiIwJjpBuEi5qLjw/90s.jpg\" width=\"90\">\n",
       " </img></a>\n",
       " </div>\n",
       " </div>\n",
       " <div class=\"media-story\">\n",
       " <h3 class=\"search-result-title\">\n",
       " <span class=\"indexed-biz-name\">8.         <a class=\"biz-name js-analytics-click\" data-analytics-label=\"biz-name\" data-hovercard-id=\"7mIY-6RaW4O6ihkw41GvLg\" href=\"/biz/escape-from-new-york-pizza-portland?osq=pizza\"><span>Escape From New York Pizza</span></a>\n",
       " </span>\n",
       " </h3>\n",
       " <div class=\"biz-rating biz-rating-large clearfix\">\n",
       " <div class=\"i-stars i-stars--regular-4 rating-large\" title=\"4.0 star rating\">\n",
       " <img alt=\"4.0 star rating\" class=\"offscreen\" height=\"303\" src=\"https://s3-media1.fl.yelpcdn.com/assets/srv0/yelp_design_web/8a6fc2d74183/assets/img/stars/stars.png\" width=\"84\">\n",
       " </img></div>\n",
       " <span class=\"review-count rating-qualifier\">\n",
       "             384 reviews\n",
       "     </span>\n",
       " </div>\n",
       " <div class=\"price-category\">\n",
       " <span class=\"bullet-after\">\n",
       " <span class=\"business-attribute price-range\">$</span>\n",
       " </span>\n",
       " <span class=\"category-str-list\">\n",
       " <a href=\"/search?find_desc=pizza&amp;find_loc=Portland&amp;cflt=pizza\">Pizza</a>\n",
       " </span>\n",
       " </div>\n",
       " <ul class=\"search-result_tags\">\n",
       " </ul>\n",
       " </div>\n",
       " </div>\n",
       " </div>\n",
       " <div class=\"secondary-attributes\">\n",
       " <span class=\"neighborhood-str-list\">\n",
       "             Alphabet District, Northwest        </span>\n",
       " <address>\n",
       "         622 NW 23rd Ave<br>Portland, OR 97210\n",
       "     </br></address>\n",
       " <span class=\"offscreen\">Phone number</span>\n",
       " <span class=\"biz-phone\">\n",
       "         (503) 227-5423\n",
       "     </span>\n",
       " </div>\n",
       " </div>\n",
       " <div class=\"snippet-block media-block\">\n",
       " <div class=\"media-avatar\">\n",
       " <div class=\"photo-box pb-30s\" data-hovercard-id=\"Rw3TwC3ymOOnqBMu1xyyMw\">\n",
       " <a href=\"/user_details?userid=x8lmZVsXl-Nw9Mt3JR0BUw\">\n",
       " <img alt=\"Erica T.\" class=\"photo-box-img\" height=\"30\" src=\"https://s3-media3.fl.yelpcdn.com/photo/ky1j41ez3BTE9TRxhMAPsg/30s.jpg\" width=\"30\">\n",
       " </img></a>\n",
       " </div>\n",
       " </div>\n",
       " <div class=\"media-story\">\n",
       " <p class=\"snippet\">\n",
       "                         Pizza by the slice was high on my list of necessary foods when I first moved to Portland. I discovered Escape from New York Pizza at 10 PM on a Sunday night and I couldn't have been…\n",
       "                         <a class=\"nowrap\" href=\"/biz/escape-from-new-york-pizza-portland?hrid=CQS7iHJGiwi7bhBmoDCbAw&amp;osq=pizza\">read more</a>\n",
       " </p>\n",
       " </div>\n",
       " </div>\n",
       " </div>\n",
       " </li>, <li class=\"regular-search-result\">\n",
       " <div class=\"search-result natural-search-result\" data-key=\"9\">\n",
       " <div class=\"biz-listing-large\">\n",
       " <div class=\"main-attributes\">\n",
       " <div class=\"media-block media-block--12\">\n",
       " <div class=\"media-avatar\">\n",
       " <div class=\"photo-box pb-90s\">\n",
       " <a class=\"js-analytics-click\" data-analytics-label=\"biz-photo\" href=\"/biz/the-pocket-pub-portland?osq=pizza\">\n",
       " <img alt=\"The Pocket Pub\" class=\"photo-box-img\" height=\"90\" src=\"https://s3-media3.fl.yelpcdn.com/bphoto/aBuU5YB-iaumy2jGVtPPow/90s.jpg\" width=\"90\">\n",
       " </img></a>\n",
       " </div>\n",
       " </div>\n",
       " <div class=\"media-story\">\n",
       " <h3 class=\"search-result-title\">\n",
       " <span class=\"indexed-biz-name\">9.         <a class=\"biz-name js-analytics-click\" data-analytics-label=\"biz-name\" data-hovercard-id=\"1hZNPv2IFtXp7cTr7IQ7cg\" href=\"/biz/the-pocket-pub-portland?osq=pizza\"><span>The Pocket Pub</span></a>\n",
       " </span>\n",
       " </h3>\n",
       " <div class=\"biz-rating biz-rating-large clearfix\">\n",
       " <div class=\"i-stars i-stars--regular-5 rating-large\" title=\"5.0 star rating\">\n",
       " <img alt=\"5.0 star rating\" class=\"offscreen\" height=\"303\" src=\"https://s3-media1.fl.yelpcdn.com/assets/srv0/yelp_design_web/8a6fc2d74183/assets/img/stars/stars.png\" width=\"84\">\n",
       " </img></div>\n",
       " <span class=\"review-count rating-qualifier\">\n",
       "             47 reviews\n",
       "     </span>\n",
       " </div>\n",
       " <div class=\"price-category\">\n",
       " <span class=\"bullet-after\">\n",
       " <span class=\"business-attribute price-range\">$$</span>\n",
       " </span>\n",
       " <span class=\"category-str-list\">\n",
       " <a href=\"/search?find_desc=pizza&amp;find_loc=Portland&amp;cflt=pubs\">Pubs</a>,\n",
       "                     <a href=\"/search?find_desc=pizza&amp;find_loc=Portland&amp;cflt=pizza\">Pizza</a>\n",
       " </span>\n",
       " </div>\n",
       " <ul class=\"search-result_tags\">\n",
       " </ul>\n",
       " </div>\n",
       " </div>\n",
       " </div>\n",
       " <div class=\"secondary-attributes\">\n",
       " <span class=\"neighborhood-str-list\">\n",
       "             Northeast Portland, Eliot        </span>\n",
       " <address>\n",
       "         2719 NE 7th Ave<br>Portland, OR 97212\n",
       "     </br></address>\n",
       " <span class=\"offscreen\">Phone number</span>\n",
       " <span class=\"biz-phone\">\n",
       "         (503) 287-3645\n",
       "     </span>\n",
       " </div>\n",
       " </div>\n",
       " <div class=\"snippet-block media-block\">\n",
       " <div class=\"media-avatar\">\n",
       " <div class=\"photo-box pb-30s\" data-hovercard-id=\"569PlDEvLvM8dBI0LkckeA\">\n",
       " <a href=\"/user_details?userid=42gnqCPYcSiLSZIu7Es3cg\">\n",
       " <img alt=\"Bryan G.\" class=\"photo-box-img\" height=\"30\" src=\"https://s3-media1.fl.yelpcdn.com/photo/0JVIl57CMsokI9OHQtpJOQ/30s.jpg\" width=\"30\">\n",
       " </img></a>\n",
       " </div>\n",
       " </div>\n",
       " <div class=\"media-story\">\n",
       " <p class=\"snippet\">\n",
       "                         I stumbled into this perfect little neighborhood restaurant in the Irvington neighborhood today, what a treat!  Funky music playing quietly in the background, comfortable seating,…\n",
       "                         <a class=\"nowrap\" href=\"/biz/the-pocket-pub-portland?hrid=2d32EHWwzsJnBAG3zm10Ig&amp;osq=pizza\">read more</a>\n",
       " </p>\n",
       " </div>\n",
       " </div>\n",
       " </div>\n",
       " </li>, <li class=\"regular-search-result\">\n",
       " <div class=\"search-result natural-search-result\" data-key=\"10\">\n",
       " <div class=\"biz-listing-large\">\n",
       " <div class=\"main-attributes\">\n",
       " <div class=\"media-block media-block--12\">\n",
       " <div class=\"media-avatar\">\n",
       " <div class=\"photo-box pb-90s\">\n",
       " <a class=\"js-analytics-click\" data-analytics-label=\"biz-photo\" href=\"/biz/giants-ny-pizza-and-subs-portland-2?osq=pizza\">\n",
       " <img alt=\"Giants NY Pizza &amp; Subs\" class=\"photo-box-img\" height=\"90\" src=\"https://s3-media2.fl.yelpcdn.com/bphoto/xV2dqwHk5ecAuT4fG6ri2g/90s.jpg\" width=\"90\">\n",
       " </img></a>\n",
       " </div>\n",
       " </div>\n",
       " <div class=\"media-story\">\n",
       " <h3 class=\"search-result-title\">\n",
       " <span class=\"indexed-biz-name\">10.         <a class=\"biz-name js-analytics-click\" data-analytics-label=\"biz-name\" data-hovercard-id=\"4xAQHlY7hQkzdR-89PxOUA\" href=\"/biz/giants-ny-pizza-and-subs-portland-2?osq=pizza\"><span>Giants NY Pizza &amp; Subs</span></a>\n",
       " </span>\n",
       " </h3>\n",
       " <div class=\"biz-rating biz-rating-large clearfix\">\n",
       " <div class=\"i-stars i-stars--regular-4-half rating-large\" title=\"4.5 star rating\">\n",
       " <img alt=\"4.5 star rating\" class=\"offscreen\" height=\"303\" src=\"https://s3-media1.fl.yelpcdn.com/assets/srv0/yelp_design_web/8a6fc2d74183/assets/img/stars/stars.png\" width=\"84\">\n",
       " </img></div>\n",
       " <span class=\"review-count rating-qualifier\">\n",
       "             180 reviews\n",
       "     </span>\n",
       " </div>\n",
       " <div class=\"price-category\">\n",
       " <span class=\"bullet-after\">\n",
       " <span class=\"business-attribute price-range\">$</span>\n",
       " </span>\n",
       " <span class=\"category-str-list\">\n",
       " <a href=\"/search?find_desc=pizza&amp;find_loc=Portland&amp;cflt=pizza\">Pizza</a>,\n",
       "                     <a href=\"/search?find_desc=pizza&amp;find_loc=Portland&amp;cflt=sandwiches\">Sandwiches</a>\n",
       " </span>\n",
       " </div>\n",
       " <ul class=\"search-result_tags\">\n",
       " <li class=\"tag-18x18_menu-black\">\n",
       " <small>\n",
       " <span aria-hidden=\"true\" class=\"icon icon--18-menu icon--size-18 icon--black\" style=\"width: 18px; height: 18px;\">\n",
       " <svg class=\"icon_svg\">\n",
       " <use xlink:href=\"#18x18_menu\"></use>\n",
       " </svg>\n",
       " </span>\n",
       " \n",
       "                     On the menu: White Cheese <span class=\"highlighted\">Pizza</span>\n",
       " </small>\n",
       " </li>\n",
       " </ul>\n",
       " </div>\n",
       " </div>\n",
       " </div>\n",
       " <div class=\"secondary-attributes\">\n",
       " <span class=\"neighborhood-str-list\">\n",
       "             Lents, Southeast Portland        </span>\n",
       " <address>\n",
       "         8218 Se Holgate Blvd<br>Portland, OR 97266\n",
       "     </br></address>\n",
       " <span class=\"offscreen\">Phone number</span>\n",
       " <span class=\"biz-phone\">\n",
       "         (503) 774-5336\n",
       "     </span>\n",
       " </div>\n",
       " </div>\n",
       " <div class=\"snippet-block media-block\">\n",
       " <div class=\"media-avatar\">\n",
       " <div class=\"photo-box pb-30s\" data-hovercard-id=\"cfGj65DfZRGS6kffRAqovQ\">\n",
       " <a href=\"/user_details?userid=4wueGllF5tP1ZKdpdt2W6w\">\n",
       " <img alt=\"Julie M.\" class=\"photo-box-img\" height=\"30\" src=\"https://s3-media1.fl.yelpcdn.com/photo/eNRQAYryHs8D13_A1YOflA/30s.jpg\" width=\"30\">\n",
       " </img></a>\n",
       " </div>\n",
       " </div>\n",
       " <div class=\"media-story\">\n",
       " <p class=\"snippet\">\n",
       "                         My father wanted to go to Subway for lunch, which I really don't like because they give you hardly any meat and even less cheese, so with the help of Yelp I decided we would give…\n",
       "                         <a class=\"nowrap\" href=\"/biz/giants-ny-pizza-and-subs-portland-2?hrid=xdlqkdTDp3Ign4mCVspkrA&amp;osq=pizza\">read more</a>\n",
       " </p>\n",
       " </div>\n",
       " </div>\n",
       " </div>\n",
       " </li>]"
      ]
     },
     "execution_count": 122,
     "metadata": {},
     "output_type": "execute_result"
    }
   ],
   "source": [
    "yelp_soup.body.find_all('li', {'class': 'regular-search-result'})"
   ]
  },
  {
   "cell_type": "code",
   "execution_count": null,
   "metadata": {
    "collapsed": false
   },
   "outputs": [],
   "source": [
    "yelp_soup.body.find_all('li', class_='regular-search-result')"
   ]
  },
  {
   "cell_type": "code",
   "execution_count": null,
   "metadata": {
    "collapsed": false
   },
   "outputs": [],
   "source": [
    "result = yelp_soup.body.select('li.regular-search-result')"
   ]
  },
  {
   "cell_type": "code",
   "execution_count": null,
   "metadata": {
    "collapsed": true
   },
   "outputs": [],
   "source": [
    "r = result[0]"
   ]
  },
  {
   "cell_type": "code",
   "execution_count": null,
   "metadata": {
    "collapsed": false
   },
   "outputs": [],
   "source": [
    "r.find('a', class_='biz-name').span.text"
   ]
  },
  {
   "cell_type": "code",
   "execution_count": null,
   "metadata": {
    "collapsed": false
   },
   "outputs": [],
   "source": [
    "r.select_one('a.biz-name span').text"
   ]
  },
  {
   "cell_type": "code",
   "execution_count": null,
   "metadata": {
    "collapsed": false
   },
   "outputs": [],
   "source": [
    "r.select_one('div.i-stars').get('title').split()"
   ]
  },
  {
   "cell_type": "code",
   "execution_count": 123,
   "metadata": {
    "collapsed": false
   },
   "outputs": [
    {
     "ename": "NameError",
     "evalue": "name 'r' is not defined",
     "output_type": "error",
     "traceback": [
      "\u001b[0;31m---------------------------------------------------------------------------\u001b[0m",
      "\u001b[0;31mNameError\u001b[0m                                 Traceback (most recent call last)",
      "\u001b[0;32m<ipython-input-123-51e2b34a6aed>\u001b[0m in \u001b[0;36m<module>\u001b[0;34m()\u001b[0m\n\u001b[0;32m----> 1\u001b[0;31m \u001b[0mlist\u001b[0m\u001b[0;34m(\u001b[0m\u001b[0mr\u001b[0m\u001b[0;34m.\u001b[0m\u001b[0maddress\u001b[0m\u001b[0;34m.\u001b[0m\u001b[0mstripped_strings\u001b[0m\u001b[0;34m)\u001b[0m\u001b[0;34m\u001b[0m\u001b[0m\n\u001b[0m",
      "\u001b[0;31mNameError\u001b[0m: name 'r' is not defined"
     ]
    }
   ],
   "source": [
    "list(r.address.stripped_strings)"
   ]
  },
  {
   "cell_type": "markdown",
   "metadata": {},
   "source": [
    "#### Pagination\n",
    "\n",
    "After we hit 'next' in the yelp search page, we get the second page of results.  the url looks like this:\n",
    "\n",
    "`https://www.yelp.com/search?find_desc=pizza&find_loc=Portland&start=10`\n",
    "\n",
    "Same as our original URL, but notice the **&start=10**  This is called a **query parameter**.  It's a key/value pair (in this case *start* and *10* respectively) that yelp uses to find and create the page we're looking for.\n",
    "\n",
    "We can manually or programmatically adjust this to get the page we want.  Alternatively, we could find the 'next' button every time and follow that link."
   ]
  },
  {
   "cell_type": "code",
   "execution_count": null,
   "metadata": {
    "collapsed": true
   },
   "outputs": [],
   "source": [
    "hundreth_page = requests.get('https://www.yelp.com/search?find_desc=pizza&find_loc=Portland&start=1000')"
   ]
  },
  {
   "cell_type": "code",
   "execution_count": null,
   "metadata": {
    "collapsed": false
   },
   "outputs": [],
   "source": [
    "# Same as the above\n",
    "params = {'find_desc': 'pizza', 'find_loc': 'Portland OR', 'start': 100}\n",
    "hundreth_page = requests.get('https://www.yelp.com/search', params=params)"
   ]
  },
  {
   "cell_type": "code",
   "execution_count": null,
   "metadata": {
    "collapsed": false
   },
   "outputs": [],
   "source": [
    "hundreth_page.url"
   ]
  },
  {
   "cell_type": "code",
   "execution_count": null,
   "metadata": {
    "collapsed": false
   },
   "outputs": [],
   "source": [
    "requests.utils.urlparse('https://www.yelp.com/search?find_desc=pizza&start=100&find_loc=Portland+OR').query"
   ]
  },
  {
   "cell_type": "code",
   "execution_count": null,
   "metadata": {
    "collapsed": false
   },
   "outputs": [],
   "source": [
    "hundreth_page.ok\n",
    "soup = bs4.BeautifulSoup(hundreth_page.text, 'html.parser')"
   ]
  },
  {
   "cell_type": "code",
   "execution_count": null,
   "metadata": {
    "collapsed": false
   },
   "outputs": [],
   "source": [
    "soup.select('li.regular-search-result')"
   ]
  },
  {
   "cell_type": "code",
   "execution_count": null,
   "metadata": {
    "collapsed": false
   },
   "outputs": [],
   "source": [
    "soup.select('#super-container > div > div > div > div > h3')"
   ]
  },
  {
   "cell_type": "markdown",
   "metadata": {},
   "source": [
    "### Wikipedia Example"
   ]
  },
  {
   "cell_type": "code",
   "execution_count": null,
   "metadata": {
    "collapsed": false
   },
   "outputs": [],
   "source": [
    "wiki_page_url = 'https://en.wikipedia.org/wiki/ISO_4217'\n",
    "wiki_html = requests.get(wiki_page_url).text\n",
    "wsoup = bs4.BeautifulSoup(wiki_html, 'html.parser')"
   ]
  },
  {
   "cell_type": "code",
   "execution_count": null,
   "metadata": {
    "collapsed": false
   },
   "outputs": [],
   "source": [
    "wsoup.find_all('table')"
   ]
  },
  {
   "cell_type": "code",
   "execution_count": null,
   "metadata": {
    "collapsed": false,
    "scrolled": true
   },
   "outputs": [],
   "source": [
    "wsoup.select_one('#Active_codes').parent.next_sibling.next_sibling.next_sibling.next_sibling"
   ]
  },
  {
   "cell_type": "code",
   "execution_count": null,
   "metadata": {
    "collapsed": false
   },
   "outputs": [],
   "source": [
    "currency_table = wsoup.select_one('h2 + p + table')"
   ]
  },
  {
   "cell_type": "code",
   "execution_count": null,
   "metadata": {
    "collapsed": false
   },
   "outputs": [],
   "source": [
    "row = currency_table.select('tr')[1]\n",
    "row"
   ]
  },
  {
   "cell_type": "code",
   "execution_count": null,
   "metadata": {
    "collapsed": false
   },
   "outputs": [],
   "source": [
    "wsoup.select('h2 + p + table tr')[1]"
   ]
  },
  {
   "cell_type": "code",
   "execution_count": null,
   "metadata": {
    "collapsed": false
   },
   "outputs": [],
   "source": [
    "row.find_all('td')"
   ]
  },
  {
   "cell_type": "code",
   "execution_count": null,
   "metadata": {
    "collapsed": false
   },
   "outputs": [],
   "source": [
    "requests.utils.quote('Portland, OR')"
   ]
  },
  {
   "cell_type": "markdown",
   "metadata": {},
   "source": [
    "## Practice:\n",
    "- write a script to play the wikipedia game.\n",
    "- write a script to download all the comics from xkcd.\n",
    "- Write a function that pulls the current weather\n",
    "- Just think of a website you use often and play around."
   ]
  },
  {
   "cell_type": "markdown",
   "metadata": {},
   "source": [
    "### Additional References:\n",
    "- https://automatetheboringstuff.com/chapter11/\n",
    "- [HTTP Status Codes](http://www.restapitutorial.com/httpstatuscodes.html)"
   ]
  }
 ],
 "metadata": {
  "anaconda-cloud": {},
  "kernelspec": {
   "display_name": "Python [conda env:python-foundations]",
   "language": "python",
   "name": "conda-env-python-foundations-py"
  },
  "language_info": {
   "codemirror_mode": {
    "name": "ipython",
    "version": 3
   },
   "file_extension": ".py",
   "mimetype": "text/x-python",
   "name": "python",
   "nbconvert_exporter": "python",
   "pygments_lexer": "ipython3",
   "version": "3.5.2"
  }
 },
 "nbformat": 4,
 "nbformat_minor": 1
}
