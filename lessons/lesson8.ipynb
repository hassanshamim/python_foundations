{
 "cells": [
  {
   "cell_type": "markdown",
   "metadata": {},
   "source": [
    "### Corresponds to first half of [Chapter 5](https://automatetheboringstuff.com/chapter5/) (up to ???)"
   ]
  },
  {
   "cell_type": "markdown",
   "metadata": {},
   "source": [
    "# Dictionary data type\n",
    "\n",
    "- `dict` in python\n",
    "- also called `associative array` and `hash` in other languages.\n",
    "- accessed with a `key`, not an index.\n",
    "- keys are unique, immutable.\n",
    "- keys can be: strings, tuples, numbers\n",
    "- values can be anything.\n",
    "- represented with curly braces in python. `{}`\n",
    "\n",
    "A dictionary is a data structure which associates (or maps) a `key` to a `value`.  The keys of a dictionary are analogous to the variables we use in our code.  They are simply a reference to a value.  A dictionary is a collection of these references."
   ]
  },
  {
   "cell_type": "code",
   "execution_count": null,
   "metadata": {
    "collapsed": false
   },
   "outputs": [],
   "source": [
    "# Creating a dict with braces literal\n",
    "example_literal = {'vowels': 'aeiouy', 'date': '11-8-2016'}\n",
    "example_literal"
   ]
  },
  {
   "cell_type": "code",
   "execution_count": null,
   "metadata": {
    "collapsed": false
   },
   "outputs": [],
   "source": [
    "# Creating a dict with the dict function\n",
    "example_from_function = dict(vowels='aeiouy', date='11-8-2016')\n",
    "example_from_function"
   ]
  },
  {
   "cell_type": "code",
   "execution_count": null,
   "metadata": {
    "collapsed": false
   },
   "outputs": [],
   "source": [
    "# Accessing a value with its key\n",
    "print(example_from_function['vowels'])\n",
    "print(\"Today's date is\", example_literal['date'])"
   ]
  },
  {
   "cell_type": "code",
   "execution_count": null,
   "metadata": {
    "collapsed": false
   },
   "outputs": [],
   "source": [
    "# what happens when we try accessing a key thats not there?\n",
    "example_from_function['not a key']"
   ]
  },
  {
   "cell_type": "code",
   "execution_count": null,
   "metadata": {
    "collapsed": false
   },
   "outputs": [],
   "source": [
    "# Setting a value with a key\n",
    "example_from_function['pi'] = 3.14\n",
    "example_from_function"
   ]
  },
  {
   "cell_type": "markdown",
   "metadata": {},
   "source": [
    "## Dictionary vs lists\n",
    "\n",
    "#### The differences:\n",
    "- dicts are unordered (therefore cant be sliced)\n",
    "- lists only accessed with index\n",
    "- KeyError vs IndexError\n",
    "\n",
    "#### The similarities:\n",
    "- both are mutable\n",
    "- both can contain *multiple* values\n",
    "- both can be iterated over"
   ]
  },
  {
   "cell_type": "markdown",
   "metadata": {},
   "source": [
    "To be equal, two lists must have the same **items** in the same **order**.\n",
    "\n",
    "To be equal, two dicts must have the same **keys** with the same **value**"
   ]
  },
  {
   "cell_type": "markdown",
   "metadata": {},
   "source": [
    "##### Adjust the following comparisons to make them true. Keep the `==`"
   ]
  },
  {
   "cell_type": "code",
   "execution_count": null,
   "metadata": {
    "collapsed": false
   },
   "outputs": [],
   "source": [
    "[3, 2, 1] == [1, 2, 3]"
   ]
  },
  {
   "cell_type": "code",
   "execution_count": null,
   "metadata": {
    "collapsed": false
   },
   "outputs": [],
   "source": [
    "{3:'b', 1:'a', 2:'c'} == {1:'a', 2:'b', 3:'c'}"
   ]
  },
  {
   "cell_type": "markdown",
   "metadata": {},
   "source": [
    "## keys(), values(), and items()\n",
    "- dict methods\n",
    "- used to access dict information in a list-like way"
   ]
  },
  {
   "cell_type": "code",
   "execution_count": null,
   "metadata": {
    "collapsed": false
   },
   "outputs": [],
   "source": [
    "state_abbreviations = {'AK': 'Alaska',\n",
    " 'AL': 'Alabama',\n",
    " 'AR': 'Arkansas',\n",
    " 'AZ': 'Arizona',\n",
    " 'CA': 'California',\n",
    " 'CO': 'Colorado',\n",
    " 'CT': 'Connecticut',\n",
    " 'DE': 'Delaware',\n",
    " 'FL': 'Florida',\n",
    " 'GA': 'Georgia',\n",
    " 'HI': 'Hawaii',\n",
    " 'IA': 'Iowa',\n",
    " 'ID': 'Idaho',\n",
    " 'IL': 'Illinois',\n",
    " 'IN': 'Indiana',\n",
    " 'KS': 'Kansas',\n",
    " 'KY': 'Kentucky',\n",
    " 'LA': 'Louisiana',\n",
    " 'MA': 'Massachusetts',\n",
    " 'MD': 'Maryland',\n",
    " 'ME': 'Maine',\n",
    " 'MI': 'Michigan',\n",
    " 'MN': 'Minnesota',\n",
    " 'MO': 'Missouri',\n",
    " 'MS': 'Mississippi',\n",
    " 'MT': 'Montana',\n",
    " 'NC': 'North Carolina',\n",
    " 'ND': 'North Dakota',\n",
    " 'NE': 'Nebraska',\n",
    " 'NH': 'New Hampshire',\n",
    " 'NJ': 'New Jersey',\n",
    " 'NM': 'New Mexico',\n",
    " 'NV': 'Nevada',\n",
    " 'NY': 'New York',\n",
    " 'OH': 'Ohio',\n",
    " 'OK': 'Oklahoma',\n",
    " 'OR': 'Oregon',\n",
    " 'PA': 'Pennsylvania',\n",
    " 'RI': 'Rhode Island',\n",
    " 'SC': 'South Carolina',\n",
    " 'SD': 'South Dakota',\n",
    " 'TN': 'Tennessee',\n",
    " 'TX': 'Texas',\n",
    " 'UT': 'Utah',\n",
    " 'VA': 'Virginia',\n",
    " 'VT': 'Vermont',\n",
    " 'WA': 'Washington',\n",
    " 'WI': 'Wisconsin',\n",
    " 'WV': 'West Virginia',\n",
    " 'WY': 'Wyoming'}"
   ]
  },
  {
   "cell_type": "code",
   "execution_count": null,
   "metadata": {
    "collapsed": false
   },
   "outputs": [],
   "source": [
    "len(state_abbreviations)"
   ]
  },
  {
   "cell_type": "code",
   "execution_count": null,
   "metadata": {
    "collapsed": false
   },
   "outputs": [],
   "source": [
    "state_abbreviations.keys()"
   ]
  },
  {
   "cell_type": "code",
   "execution_count": null,
   "metadata": {
    "collapsed": false,
    "scrolled": true
   },
   "outputs": [],
   "source": [
    "state_abbreviations.values()"
   ]
  },
  {
   "cell_type": "code",
   "execution_count": null,
   "metadata": {
    "collapsed": false,
    "scrolled": true
   },
   "outputs": [],
   "source": [
    "# A demsonstration loop.\n",
    "for key, value in state_abbreviations.items():\n",
    "    print('The addreviation for', value, 'is:', key)\n",
    "    "
   ]
  },
  {
   "cell_type": "code",
   "execution_count": null,
   "metadata": {
    "collapsed": false
   },
   "outputs": [],
   "source": [
    "# That was verbose. Let's just get 5 items out of the dict\n",
    "state_abbreviations.items()[:5]"
   ]
  },
  {
   "cell_type": "markdown",
   "metadata": {},
   "source": [
    "The results if items(), keys(), and values() are not lists.  They look and act mostly like lists, but if we want the other functionality (accessing by index, mutability) we must convert them to lists."
   ]
  },
  {
   "cell_type": "code",
   "execution_count": null,
   "metadata": {
    "collapsed": false
   },
   "outputs": [],
   "source": [
    "state_items = state_abbreviations.items()\n",
    "list(state_items)[:5]"
   ]
  },
  {
   "cell_type": "code",
   "execution_count": null,
   "metadata": {
    "collapsed": false
   },
   "outputs": [],
   "source": [
    "for abbrev, name in list(state_abbreviations.items())[:5]:\n",
    "    print(abbrev, 'is short for', name)"
   ]
  },
  {
   "cell_type": "markdown",
   "metadata": {},
   "source": [
    "## the 'in' keyword with dicts\n",
    "\n",
    "`in` and `not in` worked with lists.  They also work with dictionaries. (looks in keys by default)"
   ]
  },
  {
   "cell_type": "code",
   "execution_count": null,
   "metadata": {
    "collapsed": false
   },
   "outputs": [],
   "source": [
    "'CA' in state_abbreviations"
   ]
  },
  {
   "cell_type": "code",
   "execution_count": null,
   "metadata": {
    "collapsed": false
   },
   "outputs": [],
   "source": [
    "'CA' in state_abbreviations.keys()"
   ]
  },
  {
   "cell_type": "code",
   "execution_count": null,
   "metadata": {
    "collapsed": false
   },
   "outputs": [],
   "source": [
    "'Oregon' in state_abbreviations"
   ]
  },
  {
   "cell_type": "code",
   "execution_count": null,
   "metadata": {
    "collapsed": false,
    "scrolled": true
   },
   "outputs": [],
   "source": [
    "'Oregon' in state_abbreviations.values()"
   ]
  },
  {
   "cell_type": "code",
   "execution_count": null,
   "metadata": {
    "collapsed": true
   },
   "outputs": [],
   "source": [
    "if not 'PR' in state_abbreviations:\n",
    "    state_abbreviations['PR'] = 'Puerto Rico'"
   ]
  },
  {
   "cell_type": "markdown",
   "metadata": {},
   "source": [
    "## Safely accessing dictionary with get() and setdefault()\n",
    "\n",
    "Sometimes you don't know if a key is set in a dictionary. If we try to access a key that isn't set we get a `KeyError`\n",
    "```python\n",
    "if some_key in some_dict:\n",
    "    result = some_dict[some_key]\n",
    " else:\n",
    "    result = default_value\n",
    "```\n",
    "\n",
    "This can get a little verbose, so we have the `get` method.\n",
    "\n",
    "```python\n",
    "result = some_dict.get(some_key, default_value)\n",
    "```"
   ]
  },
  {
   "cell_type": "code",
   "execution_count": null,
   "metadata": {
    "collapsed": false
   },
   "outputs": [],
   "source": [
    "state_abbreviations['DC']"
   ]
  },
  {
   "cell_type": "code",
   "execution_count": null,
   "metadata": {
    "collapsed": false
   },
   "outputs": [],
   "source": [
    "state_abbreviations.get('DC', 'District of Columbia') # not a great example because we know the answer already."
   ]
  },
  {
   "cell_type": "code",
   "execution_count": null,
   "metadata": {
    "collapsed": true
   },
   "outputs": [],
   "source": [
    "import data.states\n",
    "votes = data.states.ELECTORAL_VOTES"
   ]
  },
  {
   "cell_type": "code",
   "execution_count": null,
   "metadata": {
    "collapsed": false,
    "scrolled": true
   },
   "outputs": [],
   "source": [
    "sorted(votes.keys())"
   ]
  },
  {
   "cell_type": "code",
   "execution_count": null,
   "metadata": {
    "collapsed": false
   },
   "outputs": [],
   "source": [
    "votes.get('District of Columbia', 1)"
   ]
  },
  {
   "cell_type": "code",
   "execution_count": null,
   "metadata": {
    "collapsed": false
   },
   "outputs": [],
   "source": [
    "votes.get('Guam', 0)"
   ]
  },
  {
   "cell_type": "markdown",
   "metadata": {},
   "source": [
    "`setdefault` is like `get`, but sets the key to the default if it's not already set."
   ]
  },
  {
   "cell_type": "code",
   "execution_count": null,
   "metadata": {
    "collapsed": true
   },
   "outputs": [],
   "source": [
    "profile = {'name': 'Bob', 'age': 32}"
   ]
  },
  {
   "cell_type": "code",
   "execution_count": null,
   "metadata": {
    "collapsed": false
   },
   "outputs": [],
   "source": [
    "profile.setdefault('country', 'USA')"
   ]
  },
  {
   "cell_type": "code",
   "execution_count": null,
   "metadata": {
    "collapsed": false
   },
   "outputs": [],
   "source": [
    "profile.setdefault('name', 'Anonymous')"
   ]
  },
  {
   "cell_type": "code",
   "execution_count": null,
   "metadata": {
    "collapsed": false
   },
   "outputs": [],
   "source": [
    "profile"
   ]
  },
  {
   "cell_type": "markdown",
   "metadata": {},
   "source": [
    "`get` and `setdefault` are great to use when you want to assume the value is of a certain type and a default value makes sense.  An example:"
   ]
  },
  {
   "cell_type": "code",
   "execution_count": null,
   "metadata": {
    "collapsed": true
   },
   "outputs": [],
   "source": [
    "# Get the character count in the following string\n",
    "speech = 'Four score and seven years ago our forefathers brought forth upon this continent a new nation'\n",
    "char_count = {} # empty dict"
   ]
  },
  {
   "cell_type": "code",
   "execution_count": null,
   "metadata": {
    "collapsed": false
   },
   "outputs": [],
   "source": [
    "for char in speech:\n",
    "    char_count.setdefault(char, 0)\n",
    "    char_count[char] += 1\n",
    "print(char_count)"
   ]
  },
  {
   "cell_type": "code",
   "execution_count": null,
   "metadata": {
    "collapsed": false
   },
   "outputs": [],
   "source": [
    "# or with get\n",
    "for char in speech:\n",
    "    char_count[char] = char_count.get(char, 0) + 1\n",
    "print(char_count)"
   ]
  },
  {
   "cell_type": "markdown",
   "metadata": {},
   "source": [
    "### Pretty printing\n",
    "Sometimes when you're working with long or complex data structures it helps to format them more cleanly. The `pprint` modules does this."
   ]
  },
  {
   "cell_type": "code",
   "execution_count": null,
   "metadata": {
    "collapsed": true
   },
   "outputs": [],
   "source": [
    "from pprint import pprint\n",
    "\n",
    "# or as I like to do it:\n",
    "from pprint import pprint as pp"
   ]
  },
  {
   "cell_type": "code",
   "execution_count": null,
   "metadata": {
    "collapsed": false,
    "scrolled": true
   },
   "outputs": [],
   "source": [
    "pp(char_count) # automatically sorts keys"
   ]
  },
  {
   "cell_type": "code",
   "execution_count": null,
   "metadata": {
    "collapsed": false
   },
   "outputs": [],
   "source": [
    "pprint(votes)"
   ]
  },
  {
   "cell_type": "markdown",
   "metadata": {},
   "source": [
    "## Nested Dictionaries and Lists\n",
    "\n",
    "Often when modeling real world data, it makes sense to compose lists and dicts within eachother.  i.e. a list of dicts or a dict where the values are lists.  This also applies to list of lists and dicts where the values are dicts."
   ]
  },
  {
   "cell_type": "markdown",
   "metadata": {},
   "source": [
    "Example: You are having a picnic. You have a guest list and want to keep track of who's bringing what.  There are several ways to structure your data depending on what information you have and how you want to use it."
   ]
  },
  {
   "cell_type": "code",
   "execution_count": null,
   "metadata": {
    "collapsed": true
   },
   "outputs": [],
   "source": [
    "# In this example, we only care about who's bringing what.\n",
    "potluck1 = {'Jim': ['apples', 'bananas'], 'Sally': ['pears', 'bacon'], 'Hassan': ['cups']}"
   ]
  },
  {
   "cell_type": "code",
   "execution_count": null,
   "metadata": {
    "collapsed": false
   },
   "outputs": [],
   "source": [
    "potluck1.keys() # our guests"
   ]
  },
  {
   "cell_type": "code",
   "execution_count": null,
   "metadata": {
    "collapsed": false
   },
   "outputs": [],
   "source": [
    "potluck1.values() # a list of lists representing the foods being brought"
   ]
  },
  {
   "cell_type": "code",
   "execution_count": null,
   "metadata": {
    "collapsed": true
   },
   "outputs": [],
   "source": [
    "# Here we have  list of dicts, each representing one guest and what they are bringing.\n",
    "# This format is more verbose, but a great example of what you might get\n",
    "# if you have your guests fill out a form and then download the results.\n",
    "potluck2 = [{'name': 'Hassan', 'foods': ['cups']}, {'name': 'Jim', 'foods': ['apples', 'bananas'] }, {'name': 'Sally', 'foods': ['pears', 'bacon']}]"
   ]
  },
  {
   "cell_type": "code",
   "execution_count": null,
   "metadata": {
    "collapsed": false
   },
   "outputs": [],
   "source": [
    "pprint(potluck2)"
   ]
  },
  {
   "cell_type": "code",
   "execution_count": null,
   "metadata": {
    "collapsed": true
   },
   "outputs": [],
   "source": [
    "# Here we have a dict of dicts, where each value is a dict which maps the type: amount of the food they're bringing.\n",
    "\n",
    "potluck3 = {'Hassan': { 'cups': 5}, 'Jim': {'apples': 2, 'bananas': 5}, 'Sally': {'pears': 3, 'bacon': 10}}"
   ]
  },
  {
   "cell_type": "code",
   "execution_count": null,
   "metadata": {
    "collapsed": false
   },
   "outputs": [],
   "source": [
    "pprint(potluck3)"
   ]
  },
  {
   "cell_type": "code",
   "execution_count": null,
   "metadata": {
    "collapsed": true
   },
   "outputs": [],
   "source": [
    "# Here is the same data represented as a list of lists.\n",
    "# This is a good example of what our data might look like if we download it from an excel spreadsheet.\n",
    "potluck4 = [ # guest, item, quantity\n",
    "    ['hassan', 'cups', 5],\n",
    "    ['Sally', 'pears', 3],\n",
    "    ['Sally', 'bacon', 10],\n",
    "    ['Jim', 'apples', 2],\n",
    "    ['Jim', 'bananas', 5]\n",
    "]"
   ]
  },
  {
   "cell_type": "markdown",
   "metadata": {},
   "source": [
    "## Using data structures to model things in the real world"
   ]
  },
  {
   "cell_type": "markdown",
   "metadata": {},
   "source": [
    "### Hangman"
   ]
  },
  {
   "cell_type": "markdown",
   "metadata": {},
   "source": [
    "### Chess"
   ]
  },
  {
   "cell_type": "markdown",
   "metadata": {},
   "source": [
    "### Tic Tac Toe"
   ]
  },
  {
   "cell_type": "markdown",
   "metadata": {},
   "source": [
    "### General Election?"
   ]
  },
  {
   "cell_type": "code",
   "execution_count": null,
   "metadata": {
    "collapsed": true
   },
   "outputs": [],
   "source": [
    "import data.states"
   ]
  },
  {
   "cell_type": "code",
   "execution_count": null,
   "metadata": {
    "collapsed": true
   },
   "outputs": [],
   "source": [
    "electoral_votes = data.states.ELECTORAL_VOTES\n",
    "state_abbreviations = data.states.STATE_ABBREVIATIONS"
   ]
  },
  {
   "cell_type": "markdown",
   "metadata": {},
   "source": [
    "# Review Questions\n",
    "- What does the code for an empty dictionary look like?\n",
    "- What happens if you access a key that doesn't exist in a dict like so: states['England']\n",
    "- What is the difference between the code: `'apple' in foods` and `'apple' in foods.values()`\n",
    "- What is the difference between: `foo['monkey']` and `foo.get(monkey)`?\n",
    "- What do lists and dicts have in common?"
   ]
  },
  {
   "cell_type": "markdown",
   "metadata": {},
   "source": [
    "# Practice Projects"
   ]
  },
  {
   "cell_type": "markdown",
   "metadata": {},
   "source": [
    "Try the examples provided in [Chapter 5](https://automatetheboringstuff.com/chapter5/)"
   ]
  }
 ],
 "metadata": {
  "anaconda-cloud": {},
  "kernelspec": {
   "display_name": "Python [conda env:python-foundations]",
   "language": "python",
   "name": "conda-env-python-foundations-py"
  },
  "language_info": {
   "codemirror_mode": {
    "name": "ipython",
    "version": 3
   },
   "file_extension": ".py",
   "mimetype": "text/x-python",
   "name": "python",
   "nbconvert_exporter": "python",
   "pygments_lexer": "ipython3",
   "version": "3.5.2"
  }
 },
 "nbformat": 4,
 "nbformat_minor": 1
}
