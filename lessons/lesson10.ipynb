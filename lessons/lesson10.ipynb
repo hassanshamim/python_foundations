{
 "cells": [
  {
   "cell_type": "markdown",
   "metadata": {},
   "source": [
    "# More Practice Problems\n",
    "\n",
    "Feel free to solve these in the Jupyter Notebook or your preferred text editor."
   ]
  },
  {
   "cell_type": "markdown",
   "metadata": {},
   "source": [
    "#### List Overlap\n",
    "\n",
    "Take two lists, say for example these two:\n",
    "\n",
    "`\n",
    "a = [1, 1, 2, 3, 5, 8, 13, 21, 34, 55, 89]\n",
    "b = [1, 2, 3, 4, 5, 6, 7, 8, 9, 10, 11, 12, 13]\n",
    "`\n",
    "\n",
    "and write a program that returns a list that contains only the elements that are common between the lists (without duplicates). Make sure your program works on two lists of different sizes.\n",
    "\n",
    "Extras:\n",
    "\n",
    "Randomly generate two lists to test this"
   ]
  },
  {
   "cell_type": "markdown",
   "metadata": {},
   "source": [
    "#### List Ends  \n",
    "\n",
    "Write a program that takes a list of numbers (for example, a = [5, 10, 15, 20, 25]) and makes a new list of only the first and last elements of the given list. For practice, write this code inside a function.\n",
    "\n",
    "i.e.\n",
    "```python\n",
    "ends([10, 20, 30, 40])\n",
    "[10, 40]\n",
    "```"
   ]
  },
  {
   "cell_type": "markdown",
   "metadata": {},
   "source": [
    "Remove List Duplicates\n",
    "Write a program (function!) that takes a list and returns a new list that contains all the elements of the first list minus all the duplicates.\n",
    "\n",
    "Extras:\n",
    "\n",
    "Write two different functions to do this - one using a loop and constructing a list, and another using sets."
   ]
  },
  {
   "cell_type": "markdown",
   "metadata": {},
   "source": [
    "#### Anagrams\n",
    "\n",
    "Given two strings, for example:\n",
    "\n",
    "`a = \"Tom Marvolo Riddle\"\n",
    "b = \"I am Lord Voldemort\"\n",
    "`\n",
    "\n",
    "Write a function that returns True if the two strings are anagrams, or False. (Ignore spaces)"
   ]
  },
  {
   "cell_type": "markdown",
   "metadata": {},
   "source": [
    "#### Rock Paper Scissors\n",
    "Make a Rock-Paper-Scissors game where a player plays against a Computer. (Hint: Ask for player choice (using input), compare to computer's choice, print out a message of congratulations if the user wins, and ask if the player want to start a new game)\n",
    "\n",
    "hint: to make the the computer pick a choice at random:\n",
    "```python\n",
    "from random import choice\n",
    "choice(['rock', 'paper', 'scissors']\n",
    "```\n",
    "Remember the rules:\n",
    "- Rock beats Scissors\n",
    "- Paper beats Rock\n",
    "- Scissors beats Paper\n",
    "\n",
    "Bonus: Make the computer undefeatable"
   ]
  },
  {
   "cell_type": "markdown",
   "metadata": {},
   "source": [
    "#### Prime Numbers\n",
    "\n",
    "Write a function that determines whether a number is prime or not. (For those who have forgotten, a prime number is a number that has no divisors.)  This wiki page may help - https://en.wikipedia.org/wiki/Sieve_of_Eratosthenes"
   ]
  },
  {
   "cell_type": "markdown",
   "metadata": {},
   "source": [
    "####  Reverse Word Order\n",
    "\n",
    "Given an input string, return back the same string with the words in reverse order.\n",
    "\n",
    "```python\n",
    "reverse_words('Happy Birthday to you')\n",
    "'you to Birthday Happy\n",
    "```"
   ]
  },
  {
   "cell_type": "markdown",
   "metadata": {
    "collapsed": true
   },
   "source": [
    "#### Password Generator\n",
    "\n",
    "Write a password generator in Python. Be creative with how you generate passwords - strong passwords have a mix of lowercase letters, uppercase letters, numbers, and symbols. The passwords should be random, generating a new password every time the user asks for a new password.\n",
    "\n",
    "Your generator should take a number (n) and a return a password n characters long.\n",
    "\n",
    "```python\n",
    "generate_password(10)\n",
    "'hELvzBju3S'\n",
    "```\n",
    "\n",
    "**hint** Use [random](https://docs.python.org/3/library/random.html) module like in the Rock Paper Scissors game above."
   ]
  },
  {
   "cell_type": "code",
   "execution_count": null,
   "metadata": {
    "collapsed": true
   },
   "outputs": [],
   "source": []
  }
 ],
 "metadata": {
  "anaconda-cloud": {},
  "kernelspec": {
   "display_name": "Python [conda env:python-foundations]",
   "language": "python",
   "name": "conda-env-python-foundations-py"
  },
  "language_info": {
   "codemirror_mode": {
    "name": "ipython",
    "version": 3
   },
   "file_extension": ".py",
   "mimetype": "text/x-python",
   "name": "python",
   "nbconvert_exporter": "python",
   "pygments_lexer": "ipython3",
   "version": "3.5.2"
  }
 },
 "nbformat": 4,
 "nbformat_minor": 1
}
