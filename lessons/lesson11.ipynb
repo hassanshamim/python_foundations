{
 "cells": [
  {
   "cell_type": "markdown",
   "metadata": {},
   "source": [
    "# Lesson plan for last 2 weeks:\n",
    "- OOP / Testing?\n",
    "- Web Scaping\n",
    "- Git / Testing?\n",
    "- Working with APIs\n"
   ]
  },
  {
   "cell_type": "markdown",
   "metadata": {},
   "source": [
    "## What is Object Oriented Programming?\n",
    "<a id='oop'> </a>\n",
    "\n",
    "OOP is a programming paradigm based around *objects* which have attributes (data) and methods (functions).\n",
    "\n",
    "Once we start using objects and methods, we can start leveraging other techniques such as *encapsulation*, *inheritence* and *composition*.\n",
    "\n",
    "The basic idea is to incorparate all relavent logic into objcets.  This allows us to maintain and reason about our code more easily.  It also helps us keep our code DRY so it can be updated more easily.\n",
    "\n",
    "Or, as Steve Jobs says:\n",
    ">Objects are like people. They’re living, breathing things that have knowledge inside them about how to do things and have memory inside them so they can remember things. And rather than interacting with them at a very low level, you interact with them at a very high level of abstraction, like we’re doing right here.\n",
    "Here’s an example: If I’m your laundry object, you can give me your dirty clothes and send me a message that says, “Can you get my clothes laundered, please.” I happen to know where the best laundry place in San Francisco is. And I speak English, and I have dollars in my pockets. So I go out and hail a taxicab and tell the driver to take me to this place in San Francisco. I go get your clothes laundered, I jump back in the cab, I get back here. I give you your clean clothes and say, “Here are your clean clothes.”\n",
    "You have no idea how I did that. You have no knowledge of the laundry place. Maybe you speak French, and you can’t even hail a taxi. You can’t pay for one, you don’t have dollars in your pocket. Yet, I knew how to do all of that. And you didn’t have to know any of it. All that complexity was hidden inside of me, and we were able to interact at a very high level of abstraction. That’s what objects are. They encapsulate complexity, and the interfaces to that complexity are high level."
   ]
  },
  {
   "cell_type": "markdown",
   "metadata": {},
   "source": [
    "### Objective:\n",
    "We'll write some code (using classes) today to try and capture the process of shopping at a grocery store.\n",
    "This will cover:\n",
    "- adding items to our shopping cart\n",
    "- Applying coupons\n",
    "- Calculating total.\n",
    "\n",
    "This is an arbitrary example, we could just as easily have chosen to model a drag-race of different cars or a number of different real-world or technological processes."
   ]
  },
  {
   "cell_type": "markdown",
   "metadata": {},
   "source": [
    "## What does it look like?"
   ]
  },
  {
   "cell_type": "code",
   "execution_count": null,
   "metadata": {
    "collapsed": true
   },
   "outputs": [],
   "source": [
    "class Customer:\n",
    "    \"\"\"A customer of ABC Bank with a checking account. Customers have the\n",
    "    following properties:\n",
    "\n",
    "    Attributes:\n",
    "        name: A string representing the customer's name.\n",
    "        balance: A float tracking the current balance of the customer's account.\n",
    "    \"\"\"\n",
    "\n",
    "    def __init__(self, name, balance=0.0):\n",
    "        \"\"\"Return a Customer object whose name is *name* and starting\n",
    "        balance is *balance*.\"\"\"\n",
    "        self.name = name\n",
    "        self.balance = balance\n",
    "\n",
    "    def withdraw(self, amount):\n",
    "        \"\"\"Return the balance remaining after withdrawing *amount*\n",
    "        dollars.\"\"\"\n",
    "        if amount > self.balance:\n",
    "            raise RuntimeError('Amount greater than available balance.')\n",
    "        self.balance -= amount\n",
    "        return self.balance\n",
    "\n",
    "    def deposit(self, amount):\n",
    "        \"\"\"Return the balance remaining after depositing *amount*\n",
    "        dollars.\"\"\"\n",
    "        self.balance += amount\n",
    "        return self.balance"
   ]
  },
  {
   "cell_type": "code",
   "execution_count": null,
   "metadata": {
    "collapsed": true
   },
   "outputs": [],
   "source": [
    "# Which lets us do things like this.\n",
    "daffy = Customer('daffy')"
   ]
  },
  {
   "cell_type": "code",
   "execution_count": null,
   "metadata": {
    "collapsed": false
   },
   "outputs": [],
   "source": [
    "daffy.name"
   ]
  },
  {
   "cell_type": "code",
   "execution_count": null,
   "metadata": {
    "collapsed": false
   },
   "outputs": [],
   "source": [
    "daffy.balance"
   ]
  },
  {
   "cell_type": "code",
   "execution_count": null,
   "metadata": {
    "collapsed": false
   },
   "outputs": [],
   "source": [
    "daffy.withdraw(200)"
   ]
  },
  {
   "cell_type": "code",
   "execution_count": null,
   "metadata": {
    "collapsed": false
   },
   "outputs": [],
   "source": [
    "daffy.deposit(1000)"
   ]
  },
  {
   "cell_type": "code",
   "execution_count": null,
   "metadata": {
    "collapsed": false
   },
   "outputs": [],
   "source": [
    "daffy.withdraw(400)"
   ]
  },
  {
   "cell_type": "markdown",
   "metadata": {},
   "source": [
    "## First, we start by creating our own object.\n",
    "\n",
    "We do this by defining a **class**, which is like a template or blueprint for our objects.\n",
    "\n",
    "Much like defining a function, defining a class doesn't actually create or *do* anything yet.  We have to **call** the class in order for an action to be taken (sound familiar)?"
   ]
  },
  {
   "cell_type": "code",
   "execution_count": null,
   "metadata": {
    "collapsed": false
   },
   "outputs": [],
   "source": [
    "class Item:\n",
    "    def __init__(self):\n",
    "        pass\n",
    "# right now this class doesn't do anything meaningful.  This is the minimum required to create an class."
   ]
  },
  {
   "cell_type": "markdown",
   "metadata": {},
   "source": [
    "The parts:\n",
    "- `class` : like def, says we're going to start defining something\n",
    "- `Item`: after the `class` comes the name of the class we're defining\n",
    "- `def __init__`: We can define functions inside of a class.  These are called methods.  __init__ is a special method used to setup our object when we call the class\n",
    "- `self`: a reference to the object that will be created\n",
    "- `pass`: just a placeholder that let's an empty function be valid.  Doesn't do anything yet.\n",
    "\n",
    "Once we have a class, we can create objects from it by *calling* the class with ().  Much like how we create string, list, and other objects by calling `str()`, `list()` etc.\n",
    "\n",
    "**instatiate** - create an **instance** of an object from a class."
   ]
  },
  {
   "cell_type": "code",
   "execution_count": null,
   "metadata": {
    "collapsed": false
   },
   "outputs": [],
   "source": [
    "my_item = Item() # create an item\n",
    "my_item"
   ]
  },
  {
   "cell_type": "code",
   "execution_count": null,
   "metadata": {
    "collapsed": false,
    "scrolled": true
   },
   "outputs": [],
   "source": [
    "second_item = Item() # create another item\n",
    "my_item == second_item # prove they are not the same item"
   ]
  },
  {
   "cell_type": "code",
   "execution_count": null,
   "metadata": {
    "collapsed": false
   },
   "outputs": [],
   "source": [
    "type(my_item) # check our item is indeed an Item object"
   ]
  },
  {
   "cell_type": "code",
   "execution_count": null,
   "metadata": {
    "collapsed": false,
    "scrolled": true
   },
   "outputs": [],
   "source": [
    "isinstance(my_item, Item) # prove that our item object is an instance of Item."
   ]
  },
  {
   "cell_type": "markdown",
   "metadata": {},
   "source": [
    "### Challenge:\n",
    "Create a class called 'Fraction'.  Make sure you can create a fraction object by calling the fraction class.  It doesn't have to do anything special yet."
   ]
  },
  {
   "cell_type": "code",
   "execution_count": null,
   "metadata": {
    "collapsed": true
   },
   "outputs": [],
   "source": []
  },
  {
   "cell_type": "code",
   "execution_count": null,
   "metadata": {
    "collapsed": true
   },
   "outputs": [],
   "source": []
  },
  {
   "cell_type": "markdown",
   "metadata": {},
   "source": [
    "So far we can create our own classes and objects, now let's try to make them *useful* by incorporating Item-specific logic inside of Item.  We'll be redefining our Item class as we improve it.\n",
    "\n",
    "First, let's give our Item object an `attribute`.  This is like a variable that lives inside that object.  Each object has it's own value for that attribute."
   ]
  },
  {
   "cell_type": "code",
   "execution_count": null,
   "metadata": {
    "collapsed": true
   },
   "outputs": [],
   "source": [
    "class Item:\n",
    "    '''An Item class representing a good for sale - like at a grocery store.\n",
    "    '''\n",
    "    def __init__(self, price):\n",
    "        self.price = price\n"
   ]
  },
  {
   "cell_type": "code",
   "execution_count": null,
   "metadata": {
    "collapsed": false,
    "scrolled": true
   },
   "outputs": [],
   "source": [
    "# Create an item object from our Item class again.  Do we get an error?\n",
    "new_item = Item()"
   ]
  },
  {
   "cell_type": "code",
   "execution_count": null,
   "metadata": {
    "collapsed": true
   },
   "outputs": [],
   "source": [
    "new_item = Item('price')"
   ]
  },
  {
   "cell_type": "code",
   "execution_count": null,
   "metadata": {
    "collapsed": false
   },
   "outputs": [],
   "source": [
    "new_item.price"
   ]
  },
  {
   "cell_type": "code",
   "execution_count": null,
   "metadata": {
    "collapsed": true
   },
   "outputs": [],
   "source": [
    "good_item = Item(1.99)"
   ]
  },
  {
   "cell_type": "code",
   "execution_count": null,
   "metadata": {
    "collapsed": false
   },
   "outputs": [],
   "source": [
    "good_item.price"
   ]
  },
  {
   "cell_type": "code",
   "execution_count": null,
   "metadata": {
    "collapsed": true
   },
   "outputs": [],
   "source": [
    "# Here we improve our Item class by adding a name attribute, and ensuring the values passed are the right type.\n",
    "# Also we add the __repr__ function to make our item object more readable in the REPL.\n",
    "class Item:\n",
    "    '''An Item class representing a good for sale - like at a grocery store.\n",
    "    '''\n",
    "    def __init__(self, name, price):\n",
    "        self.price = float(price)\n",
    "        self.name = str(name)\n",
    "    \n",
    "    def __repr__(self):\n",
    "        return \"Item({item.name}, {item.price})\".format(item=self)"
   ]
  },
  {
   "cell_type": "code",
   "execution_count": null,
   "metadata": {
    "collapsed": false,
    "scrolled": true
   },
   "outputs": [],
   "source": [
    "Item('cookies', 3.4534)"
   ]
  },
  {
   "cell_type": "markdown",
   "metadata": {},
   "source": [
    "It's simple, but it does the job so far.  It holds data, it's readable and clear the intent of the data it holds. \n",
    "Before we start shopping, let's practice a bit.\n",
    "\n",
    "### Challenge:\n",
    "Add two attributes to your Fraction class.\n",
    "Name them what you want, but one should represent the `numerator` and the other the `denominator`.\n",
    "\n",
    "**bonus** Add a __repr__ method to your Fraction class that makes it a bit more readable.  It can look as simple as `'3/4'`"
   ]
  },
  {
   "cell_type": "code",
   "execution_count": null,
   "metadata": {
    "collapsed": true
   },
   "outputs": [],
   "source": []
  },
  {
   "cell_type": "code",
   "execution_count": null,
   "metadata": {
    "collapsed": true
   },
   "outputs": [],
   "source": []
  },
  {
   "cell_type": "code",
   "execution_count": null,
   "metadata": {
    "collapsed": true
   },
   "outputs": [],
   "source": [
    "cookies = Item('chocolate chip cookies', 4.00)\n",
    "ice_cream = Item('Vanilla Ice Cream', 3.50)"
   ]
  },
  {
   "cell_type": "code",
   "execution_count": null,
   "metadata": {
    "collapsed": true
   },
   "outputs": [],
   "source": [
    "cart = []"
   ]
  },
  {
   "cell_type": "code",
   "execution_count": null,
   "metadata": {
    "collapsed": false
   },
   "outputs": [],
   "source": [
    "cart.append(cookies)\n",
    "cart.append(cookies) # we want 2 boxes\n",
    "cart.append(ice_cream)\n",
    "cart"
   ]
  },
  {
   "cell_type": "code",
   "execution_count": null,
   "metadata": {
    "collapsed": false
   },
   "outputs": [],
   "source": [
    "cart_total = sum(cart)"
   ]
  },
  {
   "cell_type": "code",
   "execution_count": null,
   "metadata": {
    "collapsed": false
   },
   "outputs": [],
   "source": [
    "cart_total = sum([item.price for item in cart])\n",
    "cart_total"
   ]
  },
  {
   "cell_type": "markdown",
   "metadata": {},
   "source": [
    "Good Job! but how do we apply coupons?\n",
    "\n",
    "Let's say we have a coupon for 50% off if we buy 2 or more boxes of cookies."
   ]
  },
  {
   "cell_type": "code",
   "execution_count": null,
   "metadata": {
    "collapsed": false
   },
   "outputs": [],
   "source": [
    "# apply cookie coupon\n",
    "cart.count('chocolate chip cookies') # this looks for a string, not an Item with cookies as the name"
   ]
  },
  {
   "cell_type": "code",
   "execution_count": null,
   "metadata": {
    "collapsed": true
   },
   "outputs": [],
   "source": [
    "just_cookies = [item for item in cart if item.name == 'chocolate chip cookies']"
   ]
  },
  {
   "cell_type": "code",
   "execution_count": null,
   "metadata": {
    "collapsed": false
   },
   "outputs": [],
   "source": [
    "len(just_cookies) # we have enough cookies!\n",
    "price_reduction = sum(item.price for item in just_cookies) / 2 # get total cookie cost and half it\n",
    "price_reduction"
   ]
  },
  {
   "cell_type": "code",
   "execution_count": null,
   "metadata": {
    "collapsed": false
   },
   "outputs": [],
   "source": [
    "new_cart_total = cart_total - price_reduction\n",
    "new_cart_total # whew!"
   ]
  },
  {
   "cell_type": "markdown",
   "metadata": {},
   "source": [
    "Now let's say we have another coupon...\n",
    "See the problem?  Lots of repetition.  So let's write a function."
   ]
  },
  {
   "cell_type": "code",
   "execution_count": null,
   "metadata": {
    "collapsed": false
   },
   "outputs": [],
   "source": [
    "def calculate_coupon_reduction(cart, item_name, mininum_amount, reduction_type, reduction_amount):\n",
    "    items = [item for item in cart if item.name == item_name]\n",
    "    if len(items) >= mininum_amount:\n",
    "        if reduction_type == 'percent':\n",
    "            item_amount = sum(item.price for item in items)\n",
    "            reduction = item_amount * reduction_amount\n",
    "        elif reduction_type == 'absolute':\n",
    "            reduction = reduction_amount\n",
    "        elif reduction_type == 'per-item':\n",
    "            reduction = reduction_amount * len(items)\n",
    "    return reduction\n",
    "\n",
    "calculate_coupon_reduction(cart, 'chocolate chip cookies', 2, 'percent', 0.5)"
   ]
  },
  {
   "cell_type": "code",
   "execution_count": null,
   "metadata": {
    "collapsed": false
   },
   "outputs": [],
   "source": [
    "new_cart_total = cart_total - calculate_coupon_reduction(cart, 'chocolate chip cookies', 2, 'percent', 0.5)\n",
    "new_cart_total"
   ]
  },
  {
   "cell_type": "markdown",
   "metadata": {},
   "source": [
    "Still verbose but at least reusable.  There must be a better way!\n",
    "\n",
    "There is.  Our Cart is just a list at the moment, but it obviously has some useful functions pertaining to it.  Sounds like a good reason to make a class!\n",
    "\n",
    "Note we now have some normal functions inside of our class.  These are called methods.  They all take the `self` parameter **first**."
   ]
  },
  {
   "cell_type": "code",
   "execution_count": null,
   "metadata": {
    "collapsed": true
   },
   "outputs": [],
   "source": [
    "class Cart:\n",
    "    def __init__(self):\n",
    "        self.items = []\n",
    "    \n",
    "    def add(self, item, amount=1):\n",
    "        for i in range(amount):\n",
    "            self.items.append(item)\n",
    "    \n",
    "    def total(self):\n",
    "        return sum(item.price for item in self.items)\n",
    "    \n",
    "    def calculate_coupon_reduction(self, item_name, mininum_amount, reduction_type, reduction_amount):\n",
    "        items = [item for item in cart if item.name == item_name]\n",
    "        reduction = 0.0\n",
    "        if len(items) >= mininum_amount:\n",
    "            if reduction_type == 'percent':\n",
    "                item_amount = sum(item.price for item in items)\n",
    "                reduction += item_amount * reduction_amount\n",
    "            elif reduction_type == 'absolute':\n",
    "                reduction += reduction_amount\n",
    "            elif reduction_type == 'per-item':\n",
    "                reduction += reduction_amount * len(items)\n",
    "        return reduction"
   ]
  },
  {
   "cell_type": "code",
   "execution_count": null,
   "metadata": {
    "collapsed": true
   },
   "outputs": [],
   "source": [
    "cart_obj = Cart()"
   ]
  },
  {
   "cell_type": "code",
   "execution_count": null,
   "metadata": {
    "collapsed": false
   },
   "outputs": [],
   "source": [
    "cart_obj.items"
   ]
  },
  {
   "cell_type": "code",
   "execution_count": null,
   "metadata": {
    "collapsed": false
   },
   "outputs": [],
   "source": [
    "cart_obj.add(cookies, 2)"
   ]
  },
  {
   "cell_type": "code",
   "execution_count": null,
   "metadata": {
    "collapsed": false
   },
   "outputs": [],
   "source": [
    "cart_obj.items"
   ]
  },
  {
   "cell_type": "code",
   "execution_count": null,
   "metadata": {
    "collapsed": false
   },
   "outputs": [],
   "source": [
    "cart_obj.total()"
   ]
  },
  {
   "cell_type": "code",
   "execution_count": null,
   "metadata": {
    "collapsed": false
   },
   "outputs": [],
   "source": [
    "cart_obj.calculate_coupon_reduction('chocolate chip cookies', 2, 'percent', 0.5)"
   ]
  },
  {
   "cell_type": "code",
   "execution_count": null,
   "metadata": {
    "collapsed": false,
    "scrolled": true
   },
   "outputs": [],
   "source": [
    "cart_obj.calculate_coupon_reduction('diapers', 4, 'absolute', 10)"
   ]
  },
  {
   "cell_type": "code",
   "execution_count": null,
   "metadata": {
    "collapsed": true
   },
   "outputs": [],
   "source": [
    "# Imagine this with multiple coupons...\n",
    "final_amount = cart_obj.total() - cart_obj.calculate_coupon_reduction('chocolate chip cookies', 2, 'percent', 0.5)"
   ]
  },
  {
   "cell_type": "markdown",
   "metadata": {},
   "source": [
    "This final amount seems like a useful addition to our Cart.  But there's a problem.  Any ideas what it is?"
   ]
  },
  {
   "cell_type": "markdown",
   "metadata": {},
   "source": [
    "### Challenge\n",
    "\n",
    "Add a new method to Fraction called `simplify`.  This should return a Fraction that is 'simplified'.  I.e. 8/12 becomes 2/3.\n",
    "\n",
    "math.gcd might be helpful:"
   ]
  },
  {
   "cell_type": "code",
   "execution_count": null,
   "metadata": {
    "collapsed": true
   },
   "outputs": [],
   "source": [
    "from math import gcd"
   ]
  },
  {
   "cell_type": "code",
   "execution_count": null,
   "metadata": {
    "collapsed": false
   },
   "outputs": [],
   "source": [
    "gcd(8, 12)"
   ]
  },
  {
   "cell_type": "code",
   "execution_count": null,
   "metadata": {
    "collapsed": true
   },
   "outputs": [],
   "source": []
  },
  {
   "cell_type": "code",
   "execution_count": null,
   "metadata": {
    "collapsed": true
   },
   "outputs": [],
   "source": []
  },
  {
   "cell_type": "markdown",
   "metadata": {},
   "source": [
    "Back to shopping! We want to incorporate the 'final_amount' into our Cart object.  This method will call total() and then subtract all the coupons available.\n",
    "\n",
    "To do this we're going to create a Coupon class.  Coupon objects can then be added to our cart (like we do items).\n",
    "\n",
    "Create a Coupon class with the following attributes: \n",
    "- item_name\n",
    "- minimum_amount\n",
    "- reduction_type\n",
    "- reduction_amount"
   ]
  },
  {
   "cell_type": "code",
   "execution_count": null,
   "metadata": {
    "collapsed": false
   },
   "outputs": [],
   "source": [
    "class Cart:\n",
    "    def __init__(self):\n",
    "        self.items = []\n",
    "        self.coupons = []\n",
    "    \n",
    "    def add(self, item, amount=1):\n",
    "        for i in range(amount):\n",
    "            self.items.append(item)\n",
    "    \n",
    "    def add_coupon(coupon):\n",
    "        self.coupons.append(coupon)\n",
    "    \n",
    "    def total(self):\n",
    "        return sum(item.price for item in self.items)\n",
    "    \n",
    "    def final_amount(self):\n",
    "        return self.total() - self.total_coupon_reductions()\n",
    "    \n",
    "    def calculate_coupon_reduction(self, coupon):\n",
    "        items = [item for item in cart if item.name == coupon.item_name]\n",
    "        reduction = 0.0\n",
    "        if len(items) >= mininum_amount:\n",
    "            if coupon.reduction_type == 'percent':\n",
    "                item_amount = sum(item.price for item in items)\n",
    "                reduction += item_amount * coupon.reduction_amount\n",
    "            elif coupon.reduction_type == 'absolute':\n",
    "                reduction += coupon.reduction_amount\n",
    "            elif reduction_type == 'per-item':\n",
    "                reduction += coupon.reduction_amount * len(items)\n",
    "        return reduction\n",
    "    \n",
    "    def total_coupon_reductions(self):\n",
    "        total = 0\n",
    "        for coupon in self.coupons:\n",
    "            total += self.calculate_coupon_reduction(coupon)\n",
    "        return total\n",
    "            "
   ]
  },
  {
   "cell_type": "markdown",
   "metadata": {},
   "source": [
    "Take a moment or two to verify that our new Coupon and Cart objects play well together."
   ]
  },
  {
   "cell_type": "markdown",
   "metadata": {},
   "source": [
    "## Class Variables/methods\n",
    "\n",
    "Like instances (aka the objects we create from a class), classes themselves can have variables and methods.  This is generally not as commonly used as their instance counterparts, but they are certainly useful.\n",
    "\n",
    "Since class variables/methods only exist on the class, there's only one of them.   Let's see an example where the Item class keeps track of all Items created.  That way we can tell whether the Item is valid at checkout.\n",
    "\n",
    "Some things to note:\n",
    "\n",
    "`@classmethod` is called a function decorator.  It goes before the function definition and makes the method belong to the *class* not the *instances*.\n",
    "\n",
    "`register_item` has the first argument of `cls`.  This is convention and just reminds us we're working with the class here and not the object.\n",
    "\n",
    "`valid_items` is created inside the class body, not the the `__init__` or in a method.\n",
    "\n",
    "We refer to `valid_items` as `Item.valid_items` in `is_valid` to be explicit, but we could just say self.valid_items.  The object would look to see if it has that attribute, and if it doesn't it would look in it's class.\n",
    "\n",
    "\n",
    "Aside from class variables and methods, some more advanced features may interest you: static methods, properties, "
   ]
  },
  {
   "cell_type": "code",
   "execution_count": null,
   "metadata": {
    "collapsed": true
   },
   "outputs": [],
   "source": []
  },
  {
   "cell_type": "code",
   "execution_count": null,
   "metadata": {
    "collapsed": true
   },
   "outputs": [],
   "source": [
    "class Item:\n",
    "    '''An Item class representing a good for sale - like at a grocery store.\n",
    "    '''\n",
    "    valid_items = []\n",
    "    def __init__(self, name, price):\n",
    "        self.price = float(price)\n",
    "        self.name = str(name)\n",
    "        \n",
    "    @classmethod\n",
    "    def register_item(cls, item):\n",
    "        cls.valid_items.append(item.name)\n",
    "  \n",
    "    def is_valid(self):\n",
    "        return self.name in Item.valid_items\n",
    "    \n",
    "    def __repr__(self):\n",
    "        return \"Item({item.name}, {item.price})\".format(item=self)"
   ]
  },
  {
   "cell_type": "code",
   "execution_count": null,
   "metadata": {
    "collapsed": false
   },
   "outputs": [],
   "source": [
    "pop = Item('Pop', 1.00)"
   ]
  },
  {
   "cell_type": "code",
   "execution_count": null,
   "metadata": {
    "collapsed": false
   },
   "outputs": [],
   "source": [
    "pop.valid_items"
   ]
  },
  {
   "cell_type": "code",
   "execution_count": null,
   "metadata": {
    "collapsed": false
   },
   "outputs": [],
   "source": [
    "pop.is_valid()"
   ]
  },
  {
   "cell_type": "code",
   "execution_count": null,
   "metadata": {
    "collapsed": false
   },
   "outputs": [],
   "source": [
    "Item.register_item(pop)"
   ]
  },
  {
   "cell_type": "code",
   "execution_count": null,
   "metadata": {
    "collapsed": false
   },
   "outputs": [],
   "source": [
    "pop.is_valid()"
   ]
  },
  {
   "cell_type": "code",
   "execution_count": null,
   "metadata": {
    "collapsed": false
   },
   "outputs": [],
   "source": [
    "Item.valid_items"
   ]
  },
  {
   "cell_type": "code",
   "execution_count": null,
   "metadata": {
    "collapsed": true
   },
   "outputs": [],
   "source": []
  },
  {
   "cell_type": "markdown",
   "metadata": {},
   "source": [
    "## Inheritence\n",
    "\n",
    "Inheritence allows us to define a class from another class.  In other words, it allows us to create a blueprint from another blueprint, marking only the changes."
   ]
  },
  {
   "cell_type": "code",
   "execution_count": null,
   "metadata": {
    "collapsed": true
   },
   "outputs": [],
   "source": [
    "class Employee:\n",
    "\n",
    "    def __init__(self, first, last, staffnum):\n",
    "        self.firstname = first\n",
    "        self.lastname = last\n",
    "        self.staffnumber = staffnum\n",
    "        self.email_address = first[0] + last + '@company.com'\n",
    "\n",
    "    def full_name(self):\n",
    "        return self.firstname + \" \" + self.lastname\n",
    "\n",
    "    def badge_info(self):\n",
    "        return self.full_name() + \", \" +  self.staffnumber\n",
    "\n",
    "class Customer:\n",
    "    def __init__(self, first, last, email):\n",
    "        self.firstname = first\n",
    "        self.lastname = last\n",
    "        self.email_address = email\n",
    "    \n",
    "    def full_name(self):\n",
    "        return self.firstname + \" \" + self.lastname"
   ]
  },
  {
   "cell_type": "code",
   "execution_count": null,
   "metadata": {
    "collapsed": false
   },
   "outputs": [],
   "source": [
    "homer = Employee('Homer', 'Simpson', '1309')\n",
    "marge = Customer('Marge', 'Simpson', 'marge@springfield.com')"
   ]
  },
  {
   "cell_type": "code",
   "execution_count": null,
   "metadata": {
    "collapsed": false
   },
   "outputs": [],
   "source": [
    "homer.full_name()"
   ]
  },
  {
   "cell_type": "code",
   "execution_count": null,
   "metadata": {
    "collapsed": false
   },
   "outputs": [],
   "source": [
    "marge.full_name()"
   ]
  },
  {
   "cell_type": "code",
   "execution_count": null,
   "metadata": {
    "collapsed": false
   },
   "outputs": [],
   "source": [
    "marge.email_address"
   ]
  },
  {
   "cell_type": "code",
   "execution_count": null,
   "metadata": {
    "collapsed": false
   },
   "outputs": [],
   "source": [
    "homer.email_address"
   ]
  },
  {
   "cell_type": "markdown",
   "metadata": {},
   "source": [
    "This works.  But there's a lot of duplication.  We can reduce that by defining a *base class* with all the information that Employee and Customer share in common.  Then, when we define our classes we can inherit from the base class and only define things specific to that new class."
   ]
  },
  {
   "cell_type": "code",
   "execution_count": null,
   "metadata": {
    "collapsed": true
   },
   "outputs": [],
   "source": [
    "class Person:\n",
    "    def __init__(self, first, last):\n",
    "        self.firstname = first\n",
    "        self.lastname = last\n",
    "\n",
    "    def full_name(self):\n",
    "        return self.firstname + \" \" + self.lastname"
   ]
  },
  {
   "cell_type": "code",
   "execution_count": null,
   "metadata": {
    "collapsed": false
   },
   "outputs": [],
   "source": [
    "bart = Person('bart', 'simpson')"
   ]
  },
  {
   "cell_type": "code",
   "execution_count": null,
   "metadata": {
    "collapsed": false
   },
   "outputs": [],
   "source": [
    "bart.full_name()"
   ]
  },
  {
   "cell_type": "code",
   "execution_count": null,
   "metadata": {
    "collapsed": true
   },
   "outputs": [],
   "source": [
    "class Employee(Person):\n",
    "\n",
    "    def __init__(self, first, last, staffnum):\n",
    "        super().__init__(first, last) # This says call my ancestor's __init__ method\n",
    "        \n",
    "        self.staffnumber = staffnum\n",
    "        self.email_address = first[0] + last + '@company.com'\n",
    "\n",
    "    def badge_info(self):\n",
    "        return self.full_name() + \", \" +  self.staffnumber\n",
    "\n",
    "\n",
    "class Customer(Person):\n",
    "    def __init__(self, first, last, email):\n",
    "        super().__init__(first, last) # This says call my ancestor's __init__ method\n",
    "\n",
    "        self.email_address = email"
   ]
  },
  {
   "cell_type": "code",
   "execution_count": null,
   "metadata": {
    "collapsed": true
   },
   "outputs": [],
   "source": [
    "homer = Employee('Homer', 'Simpson', '1309')"
   ]
  },
  {
   "cell_type": "code",
   "execution_count": null,
   "metadata": {
    "collapsed": false
   },
   "outputs": [],
   "source": [
    "homer.firstname"
   ]
  },
  {
   "cell_type": "code",
   "execution_count": null,
   "metadata": {
    "collapsed": true
   },
   "outputs": [],
   "source": [
    "marge = Customer('Marge', 'Simpson', 'marge@springfield.com')"
   ]
  },
  {
   "cell_type": "code",
   "execution_count": null,
   "metadata": {
    "collapsed": false
   },
   "outputs": [],
   "source": [
    "marge.full_name()"
   ]
  },
  {
   "cell_type": "markdown",
   "metadata": {},
   "source": [
    "### Challenge\n",
    "\n",
    "Try and change the Items class above so that `valid_items` is updated every time a new item is created, rather than manually registering an item."
   ]
  },
  {
   "cell_type": "code",
   "execution_count": null,
   "metadata": {
    "collapsed": true
   },
   "outputs": [],
   "source": []
  },
  {
   "cell_type": "markdown",
   "metadata": {},
   "source": [
    "## Special Methods\n",
    "\n",
    "Special methods are methods that start and end with `__`.  We've seen two examples already: `__init__` and `__repr__`.  They essentially allow your custom python classes to act like built-in objects and respond appropriately to built-in methods (i.e. len, str, bool, []).\n",
    "\n",
    "It generally goes like this:\n",
    "- call some python function on your object.  i.e. len\n",
    "- python looks to see if your object defines the special method associated with that function.  i.e. `__len__`\n",
    "- if that method is defined, it calls that method.  Otherwise an error is raised.\n",
    "\n",
    "\n",
    "Let's implement the following on some of our previous classes:\n",
    "- `__len__`\n",
    "- `__str__`\n",
    "- `__iter__`\n",
    "- `__bool__`\n",
    "- `__contains__`"
   ]
  },
  {
   "cell_type": "code",
   "execution_count": null,
   "metadata": {
    "collapsed": true
   },
   "outputs": [],
   "source": [
    "class Cart:\n",
    "    def __init__(self):\n",
    "        self.items = []\n",
    "        self.coupons = []\n",
    "    \n",
    "    # Special Methods here\n",
    "    \n",
    "    def add(self, item, amount=1):\n",
    "        for i in range(amount):\n",
    "            self.items.append(item)\n",
    "    \n",
    "    def add_coupon(coupon):\n",
    "        self.coupons.append(coupon)\n",
    "    \n",
    "    def total(self):\n",
    "        return sum(item.price for item in self.items)\n",
    "    \n",
    "    def final_amount(self):\n",
    "        return self.total() - self.total_coupon_reductions()\n",
    "    \n",
    "    def calculate_coupon_reduction(self, coupon):\n",
    "        items = [item for item in cart if item.name == coupon.item_name]\n",
    "        reduction = 0.0\n",
    "        if len(items) >= mininum_amount:\n",
    "            if reduction_type == 'percent':\n",
    "                item_amount = sum(item.price for item in items)\n",
    "                reduction += item_amount * reduction_amount\n",
    "            elif reduction_type == 'absolute':\n",
    "                reduction += reduction_amount\n",
    "            elif reduction_type == 'per-item':\n",
    "                reduction += reduction_amount * len(items)\n",
    "        return reduction\n",
    "    \n",
    "    def total_coupon_reductions(self):\n",
    "        total = 0.0\n",
    "        for coupon in self.coupons:\n",
    "            total += self.calculate_coupon_reduction(coupon)\n",
    "        return total"
   ]
  },
  {
   "cell_type": "code",
   "execution_count": null,
   "metadata": {
    "collapsed": false
   },
   "outputs": [],
   "source": [
    "pop = Item('pop', 3)"
   ]
  },
  {
   "cell_type": "code",
   "execution_count": null,
   "metadata": {
    "collapsed": true
   },
   "outputs": [],
   "source": [
    "c = Cart()"
   ]
  },
  {
   "cell_type": "code",
   "execution_count": null,
   "metadata": {
    "collapsed": false
   },
   "outputs": [],
   "source": [
    "len(c)"
   ]
  },
  {
   "cell_type": "code",
   "execution_count": null,
   "metadata": {
    "collapsed": false
   },
   "outputs": [],
   "source": [
    "print(c)"
   ]
  },
  {
   "cell_type": "code",
   "execution_count": null,
   "metadata": {
    "collapsed": false
   },
   "outputs": [],
   "source": [
    "bool(c)"
   ]
  },
  {
   "cell_type": "code",
   "execution_count": null,
   "metadata": {
    "collapsed": false
   },
   "outputs": [],
   "source": [
    "pop in c"
   ]
  },
  {
   "cell_type": "code",
   "execution_count": null,
   "metadata": {
    "collapsed": false
   },
   "outputs": [],
   "source": [
    "c.add(pop)"
   ]
  },
  {
   "cell_type": "code",
   "execution_count": null,
   "metadata": {
    "collapsed": false
   },
   "outputs": [],
   "source": [
    "pop in c"
   ]
  },
  {
   "cell_type": "code",
   "execution_count": null,
   "metadata": {
    "collapsed": true
   },
   "outputs": [],
   "source": [
    "juice = Item('orange juice', 3.0)"
   ]
  },
  {
   "cell_type": "code",
   "execution_count": null,
   "metadata": {
    "collapsed": true
   },
   "outputs": [],
   "source": [
    "c.add(juice)"
   ]
  },
  {
   "cell_type": "code",
   "execution_count": null,
   "metadata": {
    "collapsed": false,
    "scrolled": true
   },
   "outputs": [],
   "source": [
    "for item in c:\n",
    "    print(item)"
   ]
  },
  {
   "cell_type": "markdown",
   "metadata": {},
   "source": [
    "## Practice\n",
    "\n",
    "> Imagine we run a car dealership. We sell all types of vehicles, from motorcycles to trucks. We set ourselves apart from the competition by our prices. Specifically, how we determine the price of a vehicle on our lot: 5,000 x number of wheels a vehicle has. We love buying back our vehicles as well. We offer a flat rate - 10% of the miles driven on the vehicle. For trucks, that rate is `$10,000`. For cars, `$8,000`. For motorcycles, `$4,000`.\n",
    "\n",
    "For the Car and Truck class below, refactor them to inherit from a class called 'Vehicle' so we can reduce the amount of duplicated code.\n",
    "\n",
    "Once that is complete, try making a 'Motorcycle' class that also inherits from Vehicle."
   ]
  },
  {
   "cell_type": "code",
   "execution_count": null,
   "metadata": {
    "collapsed": true
   },
   "outputs": [],
   "source": [
    "class Car:\n",
    "    \"\"\"A car for sale by Jeffco Car Dealership.\n",
    "\n",
    "    Attributes:\n",
    "        wheels: An integer representing the number of wheels the car has.\n",
    "        miles: The integral number of miles driven on the car.\n",
    "        make: The make of the car as a string.\n",
    "        model: The model of the car as a string.\n",
    "        year: The integral year the car was built.\n",
    "        sold_on: The date the vehicle was sold.\n",
    "    \"\"\"\n",
    "\n",
    "    def __init__(self, wheels, miles, make, model, year, sold_on):\n",
    "        \"\"\"Return a new Car object.\"\"\"\n",
    "        self.wheels = wheels\n",
    "        self.miles = miles\n",
    "        self.make = make\n",
    "        self.model = model\n",
    "        self.year = year\n",
    "        self.sold_on = sold_on\n",
    "\n",
    "    def sale_price(self):\n",
    "        \"\"\"Return the sale price for this car as a float amount.\"\"\"\n",
    "        if self.sold_on is not None:\n",
    "            return 0.0  # Already sold\n",
    "        return 5000.0 * self.wheels\n",
    "\n",
    "    def purchase_price(self):\n",
    "        \"\"\"Return the price for which we would pay to purchase the car.\"\"\"\n",
    "        if self.sold_on is None:\n",
    "            return 0.0  # Not yet sold\n",
    "        return 8000 - (.10 * self.miles)"
   ]
  },
  {
   "cell_type": "code",
   "execution_count": null,
   "metadata": {
    "collapsed": true
   },
   "outputs": [],
   "source": [
    "class Truck:\n",
    "    \"\"\"A truck for sale by Jeffco Car Dealership.\n",
    "\n",
    "    Attributes:\n",
    "        wheels: An integer representing the number of wheels the truck has.\n",
    "        miles: The integral number of miles driven on the truck.\n",
    "        make: The make of the truck as a string.\n",
    "        model: The model of the truck as a string.\n",
    "        year: The integral year the truck was built.\n",
    "        sold_on: The date the vehicle was sold.\n",
    "    \"\"\"\n",
    "\n",
    "    def __init__(self, wheels, miles, make, model, year, sold_on):\n",
    "        \"\"\"Return a new Truck object.\"\"\"\n",
    "        self.wheels = wheels\n",
    "        self.miles = miles\n",
    "        self.make = make\n",
    "        self.model = model\n",
    "        self.year = year\n",
    "        self.sold_on = sold_on\n",
    "\n",
    "    def sale_price(self):\n",
    "        \"\"\"Return the sale price for this truck as a float amount.\"\"\"\n",
    "        if self.sold_on is not None:\n",
    "            return 0.0  # Already sold\n",
    "        return 5000.0 * self.wheels\n",
    "\n",
    "    def purchase_price(self):\n",
    "        \"\"\"Return the price for which we would pay to purchase the truck.\"\"\"\n",
    "        if self.sold_on is None:\n",
    "            return 0.0  # Not yet sold\n",
    "        return 10000 - (.10 * self.miles)"
   ]
  },
  {
   "cell_type": "code",
   "execution_count": null,
   "metadata": {
    "collapsed": false
   },
   "outputs": [],
   "source": [
    "c = Car(4, 0, 'Honda', 'Accord', 2014, None)\n",
    "c.purchase_price()"
   ]
  },
  {
   "cell_type": "code",
   "execution_count": null,
   "metadata": {
    "collapsed": true
   },
   "outputs": [],
   "source": [
    "t = Truck(4, 0, 'Ford', 'F150', 2015, None)"
   ]
  },
  {
   "cell_type": "code",
   "execution_count": null,
   "metadata": {
    "collapsed": false
   },
   "outputs": [],
   "source": [
    "t.sale_price()"
   ]
  },
  {
   "cell_type": "markdown",
   "metadata": {},
   "source": [
    "## Review Questions\n",
    "- What is an object?\n",
    "- What is a class?\n",
    "- How do you insantiate a new object from a class?\n",
    "- what does the `__init__` method do in a class?  Why do we have to define it?\n",
    "- What is an instance method?\n",
    "- What is a class method?\n",
    "- When would you want to use inheritence?\n",
    "- What is the format for a special  method?\n",
    "\n",
    "### Thought Exercise\n",
    "- Think about programming a game of checkers. \n",
    "-  1. What type of classes might you want to create?\n",
    "-  2. Would inheritence be useful?\n",
    "- Repeat the previous exercise for Chess.  This time, try and create a Pawn and King class to represent the pawn and king game peices respectively.  What similarities do they have?  What about differences?\n",
    "\n",
    "\n",
    "### Bonus\n",
    "- Refactor the Coupon and Cart class so that coupon can calculate it's discount rather than Cart.  This will need to be a new method in Coupon.  You will need to share with coupon some of the information in cart (i.e. the type and number of items). \n",
    "- Add some special methods to your Fraction class so you can compare your fractions with floats (and ints?) as well as convert them to floats.  A detailed list is linked below in [Additional References](#Additional-references:)"
   ]
  },
  {
   "cell_type": "markdown",
   "metadata": {},
   "source": [
    "## Additional references: \n",
    "- [wiki page for OOP](https://en.wikipedia.org/wiki/Object-oriented_programming#Objects_and_classes)\n",
    "- [list of special methods](http://www.diveintopython3.net/special-method-names.html)"
   ]
  }
 ],
 "metadata": {
  "anaconda-cloud": {},
  "kernelspec": {
   "display_name": "Python [conda env:python-foundations]",
   "language": "python",
   "name": "conda-env-python-foundations-py"
  },
  "language_info": {
   "codemirror_mode": {
    "name": "ipython",
    "version": 3
   },
   "file_extension": ".py",
   "mimetype": "text/x-python",
   "name": "python",
   "nbconvert_exporter": "python",
   "pygments_lexer": "ipython3",
   "version": "3.5.2"
  }
 },
 "nbformat": 4,
 "nbformat_minor": 1
}
