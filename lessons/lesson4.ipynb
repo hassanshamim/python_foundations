{
 "cells": [
  {
   "cell_type": "markdown",
   "metadata": {},
   "source": [
    "### Corresponds to first half of [Chapter 3](https://automatetheboringstuff.com/chapter3/)"
   ]
  },
  {
   "cell_type": "markdown",
   "metadata": {},
   "source": [
    "We've already encountered some functions already, such as `len`, `print`, `input`, `str`, `int`, and `float`.\n",
    "These are known as builtin functions.\n",
    "\n",
    "Today, we'll be learning to write our own."
   ]
  },
  {
   "cell_type": "markdown",
   "metadata": {},
   "source": [
    "## What are functions?\n",
    "They're like mini programs.\n",
    "- Can take an input\n",
    "- Can *return* a value or values, aka the functions output\n",
    "- Can provide a descriptive name about what the code does (intent).\n",
    "- Allows us to reuse code."
   ]
  },
  {
   "cell_type": "code",
   "execution_count": null,
   "metadata": {
    "collapsed": false
   },
   "outputs": [],
   "source": [
    "# An example:\n",
    "def hello():\n",
    "    print('Hello from inside a function')\n",
    "    print('Goodbye from inside a function')\n",
    "print('outside the function')\n",
    "\n",
    "hello()\n",
    "hello()\n",
    "hello()"
   ]
  },
  {
   "cell_type": "markdown",
   "metadata": {},
   "source": [
    "So what's the point?  Compare the above to:\n",
    "\n",
    "```\n",
    "print('Hello from inside a function')\n",
    "print('Goodbye from inside a function')\n",
    "print('Hello from inside a function')\n",
    "print('Goodbye from inside a function')\n",
    "print('Hello from inside a function')\n",
    "print('Goodbye from inside a function')\n",
    "```\n",
    "etc.  Now pretend you want to change the message inside the function.  Which is easier to correct?  Minimizing duplication reduces potential bugs when you are editing your code."
   ]
  },
  {
   "cell_type": "markdown",
   "metadata": {},
   "source": [
    "### Functions with parameters\n",
    "Functions can accept **arguments**, or often called **parameters**.  We use them to pass in a value that the function uses, but isn't known until the function is invoked.\n",
    "\n",
    "Parameters are essentially variables that are assigned by passing them to the function.  These variables are 'forgotten' after the function's code block is finished executing.\n",
    "\n",
    "Some examples:"
   ]
  },
  {
   "cell_type": "code",
   "execution_count": null,
   "metadata": {
    "collapsed": true
   },
   "outputs": [],
   "source": [
    "def greet(name):\n",
    "    print(\"hello \" + name)\n",
    "    \n",
    "def double_greet(name1, name2):\n",
    "    print(\"hello\", name1)\n",
    "    print(\"hello\", name2)"
   ]
  },
  {
   "cell_type": "code",
   "execution_count": null,
   "metadata": {
    "collapsed": true
   },
   "outputs": [],
   "source": [
    "def leap_year(year):\n",
    "    if year % 400 == 0:\n",
    "        print('Leap')\n",
    "    elif year % 100 == 0:\n",
    "        print('Normal')\n",
    "    elif year % 4 == 0:\n",
    "        print('Leap')\n",
    "    else:\n",
    "        print('Normal')"
   ]
  },
  {
   "cell_type": "code",
   "execution_count": null,
   "metadata": {
    "collapsed": true
   },
   "outputs": [],
   "source": [
    "# Demo with Thonny or online visualizer"
   ]
  },
  {
   "cell_type": "markdown",
   "metadata": {},
   "source": [
    "### Return Values\n",
    "\n",
    "In the past we've used `input` to get text from the user and assigned it to a variable to use later.  What would happen if we did the same with `print`?\n",
    "\n",
    "i.e.\n",
    "test = print(\"But print doesn't receive information\") # What would test be equal to here?"
   ]
  },
  {
   "cell_type": "markdown",
   "metadata": {},
   "source": [
    "Remember expressions evaluate or reduce down to a single value (1+4 becomes 5).  Functions are similar.  The value functions reduce down to is called it's **return value**.\n",
    "\n",
    "To have a function return a value, inside its code block you have a line consisting of:\n",
    "- the **return** statement\n",
    "- the optional value or expression to be returned"
   ]
  },
  {
   "cell_type": "code",
   "execution_count": null,
   "metadata": {
    "collapsed": false
   },
   "outputs": [],
   "source": [
    "import random\n",
    "def getAnswer(answerNumber):\n",
    "    if answerNumber == 1:\n",
    "        return 'It is certain'\n",
    "    elif answerNumber == 2:\n",
    "        return 'It is decidedly so'\n",
    "    elif answerNumber == 3:\n",
    "        return 'Yes'\n",
    "    elif answerNumber == 4:\n",
    "        return 'Reply hazy try again'\n",
    "    elif answerNumber == 5:\n",
    "        return 'Ask again later'\n",
    "    elif answerNumber == 6:\n",
    "        return 'Concentrate and ask again'\n",
    "    elif answerNumber == 7:\n",
    "        return 'My reply is no'\n",
    "    elif answerNumber == 8:\n",
    "        return 'Outlook not so good'\n",
    "    elif answerNumber == 9:\n",
    "        return 'Very doubtful'\n",
    "\n",
    "r = random.randint(1, 9)\n",
    "fortune = getAnswer(r)\n",
    "print(fortune)"
   ]
  },
  {
   "cell_type": "code",
   "execution_count": null,
   "metadata": {
    "collapsed": true
   },
   "outputs": [],
   "source": [
    "def is_purple(color):\n",
    "    if color == 'purple':\n",
    "        return True\n",
    "    return False"
   ]
  },
  {
   "cell_type": "markdown",
   "metadata": {},
   "source": [
    "#### Exercise\n",
    "\n",
    "- Try and refactor the leap_year function above to return True or False depending on whether the input is a leap year.\n",
    "\n",
    "Now that our `leap_year` function returns a value (instead of just printing which is only good for humans), we can use the output of that function to do useful things in other parts of our code.\n",
    "\n",
    "- Use our new `leap_year` function to print out all the leap years in the last 20 years. (hint: loop with the `range` function)"
   ]
  },
  {
   "cell_type": "code",
   "execution_count": null,
   "metadata": {
    "collapsed": true
   },
   "outputs": [],
   "source": []
  },
  {
   "cell_type": "markdown",
   "metadata": {},
   "source": [
    "### None"
   ]
  },
  {
   "cell_type": "markdown",
   "metadata": {},
   "source": [
    "The `None` value denotes the absence of a value in python.  Same concept is used in other languages, often by another name (null, nil, undefined).  Used when 'there is no value', i.e. the return value of a `print` or a keyword arg that isn't set."
   ]
  },
  {
   "cell_type": "markdown",
   "metadata": {},
   "source": [
    "### Keyword Arguments (kwargs)\n",
    "\n",
    "Most arguments are identified by their position in the function all.  For example, `range(1, 10)` is different than `range(10, 1)`.  Another way to identify arguments is by placing a keyword before the value.  These are often used for optional values (i.e. you want to assume a specific value unless specified).  Let's look at some keyword args in the print function.\n",
    "\n",
    "**Note**: keyword args must be listed *after* positional arguments when defining the function."
   ]
  },
  {
   "cell_type": "code",
   "execution_count": null,
   "metadata": {
    "collapsed": false
   },
   "outputs": [],
   "source": [
    "help(print)"
   ]
  },
  {
   "cell_type": "code",
   "execution_count": null,
   "metadata": {
    "collapsed": true
   },
   "outputs": [],
   "source": [
    "def greet(name, msg='Howdy'):\n",
    "    print(msg, name)"
   ]
  },
  {
   "cell_type": "markdown",
   "metadata": {},
   "source": [
    "## Extra:\n",
    "- `*args`, `**kwargs`\n",
    "- multiple return values\n",
    "- recursion\n",
    "- docstrings\n",
    "- pass\n",
    "- lambda functions\n",
    "- higher order functions\n",
    "- functions vs methods"
   ]
  },
  {
   "cell_type": "markdown",
   "metadata": {
    "collapsed": true
   },
   "source": [
    "# Review\n",
    "- Why are functions useful?\n",
    "- When is a function's code executed: when it is defined or when it is called?\n",
    "- What statement do you use to create a function?\n",
    "- What is the difference between a function and a function call?\n",
    "- What is a return value?\n",
    "- Why is it important that functions can return values?\n",
    "- If a function does not have a return statment, what value is returned by that function?\n",
    "- What comes first in a function definition: positional arguments or keyword arguments?"
   ]
  },
  {
   "cell_type": "markdown",
   "metadata": {},
   "source": [
    "# Practice\n",
    "Go over some of the code we've written for past lessons and turn them into functions.\n",
    "Good candidates are:\n",
    "- leap year\n",
    "- collatz\n",
    "- X bottles of beer on the wall.\n",
    "\n",
    "Some people don't like the default functionality of certain functions.  Write one or two of your own that works how you think it should.\n",
    "\n",
    "- i.e. `sane_range(10)` could be used to loop from 1 up to and including 10\n",
    "- or `intput()` could convert the input string to an int if possible otherwise return as text"
   ]
  },
  {
   "cell_type": "code",
   "execution_count": null,
   "metadata": {
    "collapsed": true
   },
   "outputs": [],
   "source": []
  }
 ],
 "metadata": {
  "anaconda-cloud": {},
  "kernelspec": {
   "display_name": "Python [conda env:python-foundations]",
   "language": "python",
   "name": "conda-env-python-foundations-py"
  },
  "language_info": {
   "codemirror_mode": {
    "name": "ipython",
    "version": 3
   },
   "file_extension": ".py",
   "mimetype": "text/x-python",
   "name": "python",
   "nbconvert_exporter": "python",
   "pygments_lexer": "ipython3",
   "version": "3.5.2"
  }
 },
 "nbformat": 4,
 "nbformat_minor": 1
}
