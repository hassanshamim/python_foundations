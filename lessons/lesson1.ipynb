{
 "cells": [
  {
   "cell_type": "markdown",
   "metadata": {},
   "source": [
    "# LESSON 1 - Python Basics\n",
    " - Follows [Chapter 1](https://automatetheboringstuff.com/chapter1/)"
   ]
  },
  {
   "cell_type": "markdown",
   "metadata": {},
   "source": [
    "## Expressions\n",
    "\n",
    "i.e. `2+2`"
   ]
  },
  {
   "cell_type": "markdown",
   "metadata": {},
   "source": [
    "### Common Math Operators\n",
    "(In Order of Operation)\n",
    "- **\n",
    "- %\n",
    "- //\n",
    "- /\n",
    "- -\n",
    "- *\n",
    "- +"
   ]
  },
  {
   "cell_type": "markdown",
   "metadata": {},
   "source": [
    "`(5 - 1) * ((7 + 1) / (3 - 1))`"
   ]
  },
  {
   "cell_type": "markdown",
   "metadata": {},
   "source": [
    "- invalid Expressions\n",
    "- valid expressiosn"
   ]
  },
  {
   "cell_type": "code",
   "execution_count": null,
   "metadata": {
    "collapsed": true
   },
   "outputs": [],
   "source": []
  },
  {
   "cell_type": "markdown",
   "metadata": {
    "collapsed": true
   },
   "source": [
    "# Basic Data Types:\n",
    "### integers: \n",
    "Examples: -2, -1, 1, 2, 3, 4, 1000\n",
    "### float (floating-points numbers)\n",
    "Examples: -1.25, -1.5, 0.0, 0.5, 1.25, 3.141592653589792328\n",
    "### strings\n",
    "'a', 'aa', 'Hello!', '99 Bottles of Beer on the wall'"
   ]
  },
  {
   "cell_type": "markdown",
   "metadata": {},
   "source": [
    "## String Concatenation and Replication\n",
    "**Examples**:\n",
    "\n",
    "`'Street' + 'Lamp'`\n",
    "\n",
    "`'S Club' + 7`\n",
    "\n",
    "`'Beetlejuice' * 3`\n",
    "\n",
    "`'Beetlejuice' * 3.0`"
   ]
  },
  {
   "cell_type": "markdown",
   "metadata": {
    "collapsed": true
   },
   "source": [
    "## Variables\n",
    "- Assignment Statements\n",
    "- var_name, equals_sign, value or expression\n",
    "- what are they for\n",
    "- naming conventions\n",
    "\n",
    "```\n",
    "spam = 40\n",
    "eggs = 2\n",
    "spam + eggs\n",
    "spam + eggs + spam\n",
    "spam = spam + 2\n",
    "```\n",
    "- Overwirting variables\n",
    "\n",
    "```\n",
    "message = 'Hello'\n",
    "message = 'Goodbye!'\n",
    "```"
   ]
  },
  {
   "cell_type": "markdown",
   "metadata": {
    "collapsed": true
   },
   "source": [
    "#### A simple program\n",
    "- Create and run hello world, then:\n",
    "\n",
    "\n",
    "```\n",
    "# This program says hello and asks for my name.\n",
    "\n",
    "print('Hello world!')\n",
    "print('What is your name?')    # ask for their name\n",
    "myName = input()\n",
    "print('It is good to meet you, ' + myName)\n",
    "print('The length of your name is:')\n",
    "print(len(myName))\n",
    "print('What is your age?')    # ask for their age\n",
    "myAge = input()\n",
    "print('You will be ' + str(int(myAge) + 1) + ' in a year.'\n",
    "```"
   ]
  },
  {
   "cell_type": "markdown",
   "metadata": {},
   "source": [
    "- Example breakdown line by line\n",
    "- Explain print(), input() weird in notebooks, len"
   ]
  },
  {
   "cell_type": "code",
   "execution_count": 9,
   "metadata": {
    "collapsed": true
   },
   "outputs": [],
   "source": [
    "# type conversions, casting\n",
    "# str, int, float\n",
    "# when to use each"
   ]
  },
  {
   "cell_type": "code",
   "execution_count": 10,
   "metadata": {
    "collapsed": true
   },
   "outputs": [],
   "source": [
    "# type equivalence\n",
    "# 42.0 == 42\n",
    "# 42 == '42'"
   ]
  },
  {
   "cell_type": "code",
   "execution_count": null,
   "metadata": {
    "collapsed": true
   },
   "outputs": [],
   "source": [
    "# practice questions, review\n",
    "\n"
   ]
  }
 ],
 "metadata": {
  "anaconda-cloud": {},
  "kernelspec": {
   "display_name": "Python [default]",
   "language": "python",
   "name": "python3"
  },
  "language_info": {
   "codemirror_mode": {
    "name": "ipython",
    "version": 3
   },
   "file_extension": ".py",
   "mimetype": "text/x-python",
   "name": "python",
   "nbconvert_exporter": "python",
   "pygments_lexer": "ipython3",
   "version": "3.5.2"
  }
 },
 "nbformat": 4,
 "nbformat_minor": 1
}
