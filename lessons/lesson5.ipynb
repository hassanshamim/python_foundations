{
 "cells": [
  {
   "cell_type": "markdown",
   "metadata": {},
   "source": [
    "### Corresponds to second half of [Chapter 3](https://automatetheboringstuff.com/chapter3/)"
   ]
  },
  {
   "cell_type": "markdown",
   "metadata": {},
   "source": [
    "## Global vs Local Scope\n",
    "\n",
    "Variables defined *inside* a function are said to be *local* to that function.  They exist in the local scope. (aka local variable)\n",
    "\n",
    "Variables defined *outside* of any functions are in the *global* scope. (aka global variable)\n",
    "\n",
    "Variables must be local **or** global in scope.  They cannot be both.\n"
   ]
  },
  {
   "cell_type": "markdown",
   "metadata": {},
   "source": [
    "### Okay.. but what *is* scope?\n",
    "\n",
    "It's like a container for variables.  If that scope is destroyed, all the variables inside get deleted (aka garbage collection).\n",
    "\n",
    "When you run a python program (i.e. python some_script.py) it creates a global scope for said program.  When the program terminates, all the computer memory it takes up is freed.  Otherwise, the next time you run this program all the variables would be set to what they were previously.\n",
    "\n",
    "When you execute a function, it creates a new local scope for that function.  Any variables created inside the function are forgotten when the function returns."
   ]
  },
  {
   "cell_type": "markdown",
   "metadata": {},
   "source": [
    "### And they come with some rules:\n",
    "- Code in the global scope cannot use any local variables.\n",
    "- However, a local scope can access global variables.\n",
    "- Code in a function’s local scope cannot use variables in any other local scope.\n",
    "- You can use the same name for different variables if they are in different scopes. That is, there can be a local variable named foo and a global variable also named foo."
   ]
  },
  {
   "cell_type": "markdown",
   "metadata": {},
   "source": [
    "### Why?\n",
    "\n",
    "It's safer.  Imagine all variables are global.  Now you have to be careful not to ever name two variables the same thing.  Common variable names (like `i`, `x`, `total`, `result`, etc) would potentially get overwritten by different parts of your code (and at different times, now that we know control flow.)  Also, we wouldn't be able to safely import code to run without checking that all the variable names used are different than ours.\n",
    "\n",
    "Global variables are fine, but it's safer to use local variables when possible.\n",
    "\n",
    "#### Let's see some examples\n",
    "Before you run the examples, take a moment to guess if it works and what the output would be.  If it doesn't work - why?\n",
    "\n",
    "If you want more detail, paste the examples into [Python Visualizer](http://www.pythontutor.com/visualize.html#mode=edit) or Thonny"
   ]
  },
  {
   "cell_type": "code",
   "execution_count": null,
   "metadata": {
    "collapsed": true
   },
   "outputs": [],
   "source": [
    "# Access a local variable from global scope.  \n",
    "def foo():\n",
    "    bar = 'anything'\n",
    "\n",
    "foo()\n",
    "print(bar)"
   ]
  },
  {
   "cell_type": "code",
   "execution_count": null,
   "metadata": {
    "collapsed": false
   },
   "outputs": [],
   "source": [
    "# Access a local variable from another local scope\n",
    "def foo():\n",
    "    thing1 = 100\n",
    "    bar()\n",
    "    print(thing1)\n",
    "\n",
    "def bar():\n",
    "    thing1 = 0\n",
    "    thing2 = 0\n",
    "    \n",
    "foo()"
   ]
  },
  {
   "cell_type": "code",
   "execution_count": null,
   "metadata": {
    "collapsed": false
   },
   "outputs": [],
   "source": [
    "# Access Global variable from local scope\n",
    "def introduce():\n",
    "    print('hello, my name is', name)\n",
    "    \n",
    "name = 'Albert'\n",
    "    \n",
    "introduce()\n",
    "print(name)"
   ]
  },
  {
   "cell_type": "code",
   "execution_count": null,
   "metadata": {
    "collapsed": false
   },
   "outputs": [],
   "source": [
    "# Local and Global variable with the same name\n",
    "def foo():\n",
    "    var = 'foo variable'\n",
    "    print(var)\n",
    "    \n",
    "def bar():\n",
    "    var = 'bar variable'\n",
    "    print(var)\n",
    "    foo()\n",
    "    print(var)\n",
    "    \n",
    "var = 'global variable'\n",
    "print(var)\n",
    "bar() # calls foo\n",
    "print(var)"
   ]
  },
  {
   "cell_type": "markdown",
   "metadata": {},
   "source": [
    "## Modifying Global variables from a local scope\n",
    "\n",
    "\"from a local scope\" == \"inside a function\"\n",
    "\n",
    "Sometimes you need to do this rather than passing in the variable as an argument and returning it.\n",
    "\n",
    "You can acheive this by using the `global` statement, followed by the variable name, inside a function.\n",
    "\n",
    "**Caveat**: This can get messy.  I don't see the pattern used often but it's useful to know."
   ]
  },
  {
   "cell_type": "code",
   "execution_count": null,
   "metadata": {
    "collapsed": false
   },
   "outputs": [],
   "source": [
    "name = 'Bob'\n",
    "print('original name:', name)\n",
    "def change_name():\n",
    "    global name\n",
    "    name = 'Phillip'\n",
    "\n",
    "\n",
    "change_name()\n",
    "print('changed name:', name)"
   ]
  },
  {
   "cell_type": "markdown",
   "metadata": {},
   "source": [
    "## Rules for determining the scope of a variable\n",
    "1. If a variable is being used in the global scope (that is, outside of all functions), then it is always a global variable.\n",
    "\n",
    "2. If there is a global statement for that variable in a function, it is a global variable.\n",
    "\n",
    "3. Otherwise, if the variable is used in an assignment statement in the function, it is a local variable.\n",
    "\n",
    "4. But if the variable is not used in an assignment statement, it is a global variable."
   ]
  },
  {
   "cell_type": "code",
   "execution_count": null,
   "metadata": {
    "collapsed": false
   },
   "outputs": [],
   "source": [
    "def foo():\n",
    "    global thing\n",
    "    thing = 'foo' # this is the global\n",
    "\n",
    "def bar():\n",
    "    thing = 'bar' # this is a local\n",
    "\n",
    "def baz():\n",
    "    print(thing) # this is the global\n",
    "\n",
    "thing = 'global' # this is the global\n",
    "foo()\n",
    "print(thing)"
   ]
  },
  {
   "cell_type": "markdown",
   "metadata": {},
   "source": [
    "### Note\n",
    "If you try to use a local variable in a function before you assign a value to it, as in the following program, Python will give you an error."
   ]
  },
  {
   "cell_type": "code",
   "execution_count": null,
   "metadata": {
    "collapsed": true
   },
   "outputs": [],
   "source": [
    "def foo():\n",
    "    print(thing)\n",
    "    thing = 'hello from foo'\n",
    "\n",
    "thing = 'hello from the global scope'\n",
    "foo()"
   ]
  },
  {
   "cell_type": "markdown",
   "metadata": {},
   "source": [
    "## Confused?\n",
    "\n",
    "You can think of scopes like Russian nesting dolls.  If you're inside the smallest doll you look inside there before going to the next biggest doll, etc.\n",
    "\n",
    "Or you could think about it like rooms in a house.  House is the global scope, and each room is a local scope.  If you are in the kitchen() funtion and you are looking for the `eggs` variable, you would look in the kitchen first before looking around the house."
   ]
  },
  {
   "cell_type": "markdown",
   "metadata": {},
   "source": [
    "## Functions as 'black boxes'\n",
    "\n",
    "Because functions try to affect the rest of your program as little as possible (by introducing new scope) you can often just think of them as some black box.  You care what you put in (parameters) and what comes out (returned values), but you don't need to know what exactly goes on inside.\n",
    "\n",
    "Because of this we can use functions and code written by someone else just by knowing *what* the function does.  We don't need to know *how* it does it.\n",
    "\n",
    "Hence, when using a new package or module we read the documentation for use, not the source code's implementation."
   ]
  },
  {
   "cell_type": "markdown",
   "metadata": {},
   "source": [
    "## Exception Handling\n",
    "\n",
    "So far, if we encounter an error (aka *exception*) our entire program crashes.  This is bad for real-world programs.  Instead we can detect errors and take appropriate actions to handle them and continue with our program."
   ]
  },
  {
   "cell_type": "code",
   "execution_count": null,
   "metadata": {
    "collapsed": false
   },
   "outputs": [],
   "source": [
    "def compare_ages():\n",
    "    your_age = int(input('how old are you?'))\n",
    "    other_age = int(input('how old is your friend?'))\n",
    "    compared = your_age / other_age\n",
    "    print('you are', compared, 'times older than your friend')\n",
    "\n",
    "compare_ages()"
   ]
  },
  {
   "cell_type": "code",
   "execution_count": null,
   "metadata": {
    "collapsed": true
   },
   "outputs": [],
   "source": [
    "compare_ages() # enter a 0 this time"
   ]
  },
  {
   "cell_type": "markdown",
   "metadata": {},
   "source": [
    "Errors can be handled with `try` and `except` statements. The code that could potentially have an error is put in a try clause. The program execution moves to the start of a following except clause if an error happens."
   ]
  },
  {
   "cell_type": "code",
   "execution_count": null,
   "metadata": {
    "collapsed": true
   },
   "outputs": [],
   "source": [
    "def compare_ages():\n",
    "    your_age = int(input('how old are you?'))\n",
    "    other_age = int(input('how old is your friend?'))\n",
    "    try:\n",
    "        compared = your_age / other_age\n",
    "    except ZeroDivisionError:\n",
    "        compared = 'infinity'\n",
    "    print('you are', compared, 'times older than your friend')\n"
   ]
  },
  {
   "cell_type": "markdown",
   "metadata": {},
   "source": [
    "When code in a try clause causes an error, the program execution immediately moves to the code in the except clause. After running that code, the execution continues as normal. The output of the previous program is as follows:"
   ]
  },
  {
   "cell_type": "code",
   "execution_count": null,
   "metadata": {
    "collapsed": false
   },
   "outputs": [],
   "source": [
    "compare_ages()"
   ]
  },
  {
   "cell_type": "markdown",
   "metadata": {},
   "source": [
    "What if someone provides letters instead of a number?  What type of error do you get?\n",
    "\n",
    "Edit the `compare_ages` function to handle non-integer inputs. Print an error message when provided invalid input.\n",
    "\n",
    "**Bonus**: edit the compare_ages funciton again to reprompt the user to enter ages until both values are valid inputs."
   ]
  },
  {
   "cell_type": "markdown",
   "metadata": {},
   "source": [
    "Note that any errors that occur in function calls in a try block will also be caught. Consider the following program, which instead has the `compare_ages()` calls in the try block:"
   ]
  },
  {
   "cell_type": "code",
   "execution_count": null,
   "metadata": {
    "collapsed": false
   },
   "outputs": [],
   "source": [
    "def compare_ages(age1, age2): # Using arguments instead of input() for clarity\n",
    "    compared = age1 / age2\n",
    "    print('you are', compared, 'times older than your friend')\n",
    "\n",
    "try:\n",
    "    compare_ages(10, 10)\n",
    "    compare_ages(12, 3)\n",
    "    compare_ages(5, 2)\n",
    "    compare_ages(18, 0)\n",
    "    compare_ages(100, 1)\n",
    "except ZeroDivisionError:\n",
    "    print('Caught an error')\n"
   ]
  },
  {
   "cell_type": "markdown",
   "metadata": {},
   "source": [
    "## Review Questions:\n",
    "1. How can you force a variable in a function to refer to the global variable?\n",
    "\n",
    "2. How many global scopes does a program have?\n",
    "\n",
    "2. What is the data type of None?\n",
    "\n",
    "3. How can you prevent a program from crashing when it gets an error?\n",
    "\n",
    "4. What goes in the try clause? What goes in the except clause?"
   ]
  },
  {
   "cell_type": "markdown",
   "metadata": {
    "collapsed": true
   },
   "source": [
    "## Bonus\n",
    "\n",
    "Let's try and code a hangman game.  This would be a good time to open your text editor and make a new file.  Let's call it 'hangman.py'.\n",
    "\n",
    "### Requirements:\n",
    "- Game has the word to guess hard-coded into it.  We can make this dynamic later.\n",
    "- Player has X turns to guess letters or numbers (Also hardcoded, you can decide what you think is fair).\n",
    "- Each turn we display the word with correct letters guessed so far and ask for their next guess.  Unguessed letters are displayed as _ or ? (your choice)  i.e. P_t_on or P?t?on\n",
    "- Guesses can be a whole word (to guess the target word) or a single letter.\n",
    "- If the word is guessed or all the letters are filled in, they win.  Print a winning message.\n",
    "- If they run out of guesses the player loses.  Print a condolence.\n",
    "\n",
    "**Note:** I expect you to get stuck, but let's see how far we can get!"
   ]
  }
 ],
 "metadata": {
  "anaconda-cloud": {},
  "kernelspec": {
   "display_name": "Python [conda env:python-foundations]",
   "language": "python",
   "name": "conda-env-python-foundations-py"
  },
  "language_info": {
   "codemirror_mode": {
    "name": "ipython",
    "version": 3
   },
   "file_extension": ".py",
   "mimetype": "text/x-python",
   "name": "python",
   "nbconvert_exporter": "python",
   "pygments_lexer": "ipython3",
   "version": "3.5.2"
  }
 },
 "nbformat": 4,
 "nbformat_minor": 1
}
