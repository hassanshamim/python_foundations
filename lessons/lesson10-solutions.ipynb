{
 "cells": [
  {
   "cell_type": "markdown",
   "metadata": {},
   "source": [
    "# More Practice Problems\n",
    "\n",
    "Feel free to solve these in the Jupyter Notebook or your preferred text editor."
   ]
  },
  {
   "cell_type": "markdown",
   "metadata": {},
   "source": [
    "#### List Overlap\n",
    "\n",
    "Take two lists, say for example these two:\n",
    "\n",
    "`\n",
    "a = [1, 1, 2, 3, 5, 8, 13, 21, 34, 55, 89]\n",
    "b = [1, 2, 3, 4, 5, 6, 7, 8, 9, 10, 11, 12, 13]\n",
    "`\n",
    "\n",
    "and write a program that returns a list that contains only the elements that are common between the lists (without duplicates). Make sure your program works on two lists of different sizes.\n",
    "\n",
    "Extras:\n",
    "\n",
    "Randomly generate two lists to test this"
   ]
  },
  {
   "cell_type": "code",
   "execution_count": 15,
   "metadata": {
    "collapsed": false
   },
   "outputs": [],
   "source": [
    "def similar(first, second):\n",
    "    s1 = set(first)\n",
    "    s2 = set(second)\n",
    "    appear_in_both = s1.intersection(s2)\n",
    "    \n",
    "    return list(appear_in_both)\n",
    "\n",
    "# Do it without sets\n",
    "def similar2(first, second):\n",
    "    # get a list of all the ones that appear in both lists\n",
    "    appear_in_both = [item for item in first if item in second] \n",
    "    # now remove duplicates\n",
    "    result = []\n",
    "    for item in appear_in_both:\n",
    "        if not item in result:\n",
    "            result.append(item)\n",
    "    return result"
   ]
  },
  {
   "cell_type": "code",
   "execution_count": 14,
   "metadata": {
    "collapsed": false
   },
   "outputs": [
    {
     "data": {
      "text/plain": [
       "[2]"
      ]
     },
     "execution_count": 14,
     "metadata": {},
     "output_type": "execute_result"
    }
   ],
   "source": [
    "similar2([1, 1, 1, 2, 2,], [2, 3, 4, 5])"
   ]
  },
  {
   "cell_type": "markdown",
   "metadata": {},
   "source": [
    "#### List Ends  \n",
    "\n",
    "Write a program that takes a list of numbers (for example, a = [5, 10, 15, 20, 25]) and makes a new list of only the first and last elements of the given list. For practice, write this code inside a function.\n",
    "\n",
    "i.e.\n",
    "```python\n",
    "ends([10, 20, 30, 40])\n",
    "[10, 40]\n",
    "```"
   ]
  },
  {
   "cell_type": "code",
   "execution_count": 24,
   "metadata": {
    "collapsed": true
   },
   "outputs": [],
   "source": [
    "def ends(collection):\n",
    "    first = collection[0]\n",
    "    last = collection[-1]\n",
    "    return [first, last]\n",
    "\n",
    "#Fancier way using 'iterable unpacking'\n",
    "def ends2(collection):\n",
    "    first, *ignore, last = collection\n",
    "    return [first, last]"
   ]
  },
  {
   "cell_type": "code",
   "execution_count": 22,
   "metadata": {
    "collapsed": false
   },
   "outputs": [
    {
     "data": {
      "text/plain": [
       "[10, 40]"
      ]
     },
     "execution_count": 22,
     "metadata": {},
     "output_type": "execute_result"
    }
   ],
   "source": [
    "ends2([10, 20, 30, 40])"
   ]
  },
  {
   "cell_type": "markdown",
   "metadata": {},
   "source": [
    "Remove List Duplicates\n",
    "Write a program (function!) that takes a list and returns a new list that contains all the elements of the first list minus all the duplicates.\n",
    "\n",
    "Extras:\n",
    "\n",
    "Write two different functions to do this - one using a loop and constructing a list, and another using sets."
   ]
  },
  {
   "cell_type": "code",
   "execution_count": 31,
   "metadata": {
    "collapsed": true
   },
   "outputs": [],
   "source": [
    "def remove_duplicates(collection):\n",
    "    \"\"\"Our approach here is to iterate over the collection, if we've seen the value already we ignore it,\n",
    "        otherwise we add it to our results list.\n",
    "        This approach preserves the order of our initial collection.\n",
    "    \"\"\"\n",
    "    result = []\n",
    "    for item in collection:\n",
    "        if item not in result:\n",
    "            result.append(item)\n",
    "    return result\n",
    "\n",
    "def remove_duplicates2(collection):\n",
    "    \"\"\"\n",
    "    Using a set is much quicker, but the same order is not guaranteed.\n",
    "    \"\"\"\n",
    "    return list(set(collection))"
   ]
  },
  {
   "cell_type": "code",
   "execution_count": 27,
   "metadata": {
    "collapsed": false
   },
   "outputs": [
    {
     "data": {
      "text/plain": [
       "['S', 'p', 'l', 'i', 't', ' ', 'P', 'e', 'a', 'o', 'u']"
      ]
     },
     "execution_count": 27,
     "metadata": {},
     "output_type": "execute_result"
    }
   ],
   "source": [
    "remove_duplicates('Split Pea Soup')"
   ]
  },
  {
   "cell_type": "code",
   "execution_count": 30,
   "metadata": {
    "collapsed": false
   },
   "outputs": [
    {
     "data": {
      "text/plain": [
       "[1, 2, 3]"
      ]
     },
     "execution_count": 30,
     "metadata": {},
     "output_type": "execute_result"
    }
   ],
   "source": [
    "remove_duplicates2([1, 1, 2, 3, 2, 1])"
   ]
  },
  {
   "cell_type": "markdown",
   "metadata": {},
   "source": [
    "#### Anagrams\n",
    "\n",
    "Given two strings, for example:\n",
    "\n",
    "`a = \"Tom Marvolo Riddle\"\n",
    "b = \"I am Lord Voldemort\"\n",
    "`\n",
    "\n",
    "Write a function that returns True if the two strings are anagrams, or False. (Ignore spaces)"
   ]
  },
  {
   "cell_type": "code",
   "execution_count": 39,
   "metadata": {
    "collapsed": true
   },
   "outputs": [],
   "source": [
    "def anagram(a, b):\n",
    "    \"\"\"\n",
    "    A clever solution.\n",
    "    \"\"\"\n",
    "    # Remove spaces and ignore casing\n",
    "    a = a.replace(' ', '').lower()\n",
    "    b = b.replace(' ', '').lower()\n",
    "    return sorted(a) == sorted(b)"
   ]
  },
  {
   "cell_type": "code",
   "execution_count": 63,
   "metadata": {
    "collapsed": true
   },
   "outputs": [],
   "source": [
    "def anagram2(a, b):\n",
    "    \"\"\"\n",
    "    Here let's manually count the number of occurences in each character in both strings.\n",
    "    If ever the numbers differ, we return False.\n",
    "    \"\"\"\n",
    "    a, b = a.lower(), b.lower()  # lowercase both inputs so we can ignore casing\n",
    "    all_letters = set(a + b)\n",
    "    all_letters.remove(' ')  # ignore spaces\n",
    "    for letter in all_letters:\n",
    "        if not a.count(letter) == b.count(letter): # does this letter appear a different amount of times?\n",
    "            return False\n",
    "\n",
    "    else: # else on for loop is executed if the loop finishes iterating over the whole collection\n",
    "        return True"
   ]
  },
  {
   "cell_type": "code",
   "execution_count": 64,
   "metadata": {
    "collapsed": false
   },
   "outputs": [
    {
     "data": {
      "text/plain": [
       "True"
      ]
     },
     "execution_count": 64,
     "metadata": {},
     "output_type": "execute_result"
    }
   ],
   "source": [
    "a = \"Tom Marvolo Riddle\"\n",
    "b = \"I am Lord Voldemort\"\n",
    "anagram2(a, b)"
   ]
  },
  {
   "cell_type": "markdown",
   "metadata": {},
   "source": [
    "#### Rock Paper Scissors\n",
    "Make a Rock-Paper-Scissors game where a player plays against a Computer. (Hint: Ask for player choice (using input), compare to computer's choice, print out a message of congratulations if the user wins, and ask if the player want to start a new game)\n",
    "\n",
    "hint: to make the the computer pick a choice at random:\n",
    "```python\n",
    "from random import choice\n",
    "choice(['rock', 'paper', 'scissors']\n",
    "```\n",
    "Remember the rules:\n",
    "- Rock beats Scissors\n",
    "- Paper beats Rock\n",
    "- Scissors beats Paper\n",
    "\n",
    "Bonus: Make the computer undefeatable"
   ]
  },
  {
   "cell_type": "code",
   "execution_count": 83,
   "metadata": {
    "collapsed": true
   },
   "outputs": [],
   "source": [
    "## SEE solutions/rock_paper_scissors.py\n",
    "# Play with it by running 'python rock_paper_scissors.py' in your terminal"
   ]
  },
  {
   "cell_type": "markdown",
   "metadata": {},
   "source": [
    "#### Prime Numbers\n",
    "\n",
    "Write a function that determines whether a number is prime or not. (For those who have forgotten, a prime number is a number that has no divisors.)  This wiki page may help - https://en.wikipedia.org/wiki/Sieve_of_Eratosthenes"
   ]
  },
  {
   "cell_type": "code",
   "execution_count": 66,
   "metadata": {
    "collapsed": true
   },
   "outputs": [],
   "source": [
    "def is_prime(number):\n",
    "    for i in range(2, number):\n",
    "        if number % i == 0:\n",
    "            return False\n",
    "    else:\n",
    "        return True"
   ]
  },
  {
   "cell_type": "code",
   "execution_count": 70,
   "metadata": {
    "collapsed": false
   },
   "outputs": [
    {
     "data": {
      "text/plain": [
       "True"
      ]
     },
     "execution_count": 70,
     "metadata": {},
     "output_type": "execute_result"
    }
   ],
   "source": [
    "is_prime(17)"
   ]
  },
  {
   "cell_type": "markdown",
   "metadata": {},
   "source": [
    "####  Reverse Word Order\n",
    "\n",
    "Given an input string, return back the same string with the words in reverse order.\n",
    "\n",
    "```python\n",
    "reverse_words('Happy Birthday to you')\n",
    "'you to Birthday Happy\n",
    "```"
   ]
  },
  {
   "cell_type": "code",
   "execution_count": 71,
   "metadata": {
    "collapsed": true
   },
   "outputs": [],
   "source": [
    "def reverse_word_order(words):\n",
    "    words = words.split(' ')\n",
    "    return ' '.join(reversed(words))"
   ]
  },
  {
   "cell_type": "code",
   "execution_count": 72,
   "metadata": {
    "collapsed": false
   },
   "outputs": [
    {
     "data": {
      "text/plain": [
       "'you to Birthday Happy'"
      ]
     },
     "execution_count": 72,
     "metadata": {},
     "output_type": "execute_result"
    }
   ],
   "source": [
    "reverse_word_order('Happy Birthday to you')"
   ]
  },
  {
   "cell_type": "markdown",
   "metadata": {
    "collapsed": true
   },
   "source": [
    "#### Password Generator\n",
    "\n",
    "Write a password generator in Python. Be creative with how you generate passwords - strong passwords have a mix of lowercase letters, uppercase letters, numbers, and symbols. The passwords should be random, generating a new password every time the user asks for a new password.\n",
    "\n",
    "Your generator should take a number (n) and a return a password n characters long.\n",
    "\n",
    "```python\n",
    "generate_password(10)\n",
    "'hELvzBju3S'\n",
    "```\n",
    "\n",
    "**hint** Use [random](https://docs.python.org/3/library/random.html) module like in the Rock Paper Scissors game above."
   ]
  },
  {
   "cell_type": "code",
   "execution_count": 81,
   "metadata": {
    "collapsed": true
   },
   "outputs": [],
   "source": [
    "from random import sample\n",
    "from string import ascii_letters\n",
    "\n",
    "def generate_password(n):\n",
    "    possible_values = ascii_letters + '1234567890'\n",
    "    random_values = sample(possible_values, n)\n",
    "    return ''.join(random_values)"
   ]
  },
  {
   "cell_type": "code",
   "execution_count": 82,
   "metadata": {
    "collapsed": false
   },
   "outputs": [
    {
     "data": {
      "text/plain": [
       "'ILmGO2dF7g'"
      ]
     },
     "execution_count": 82,
     "metadata": {},
     "output_type": "execute_result"
    }
   ],
   "source": [
    "generate_password(10)"
   ]
  }
 ],
 "metadata": {
  "anaconda-cloud": {},
  "kernelspec": {
   "display_name": "Python [conda env:python-foundations]",
   "language": "python",
   "name": "conda-env-python-foundations-py"
  },
  "language_info": {
   "codemirror_mode": {
    "name": "ipython",
    "version": 3
   },
   "file_extension": ".py",
   "mimetype": "text/x-python",
   "name": "python",
   "nbconvert_exporter": "python",
   "pygments_lexer": "ipython3",
   "version": "3.5.2"
  }
 },
 "nbformat": 4,
 "nbformat_minor": 1
}
