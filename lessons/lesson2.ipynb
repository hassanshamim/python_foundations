{
 "cells": [
  {
   "cell_type": "markdown",
   "metadata": {
    "nbpresent": {
     "id": "d637990d-73b3-4512-9c49-4d1f95889c55"
    }
   },
   "source": [
    "# LESSON 2 - Flow Control\n",
    " - Starts [Chapter 2](https://automatetheboringstuff.com/chapter2/)\n",
    "    "
   ]
  },
  {
   "cell_type": "markdown",
   "metadata": {
    "nbpresent": {
     "id": "d04d1b70-d33f-4857-bc18-0ee3a6bab3e3"
    }
   },
   "source": [
    "# Flow Control\n",
    "- Telling your program *when* to run a line of code (not just in order)\n",
    "- Have to make decisions based on *something*\n",
    "## Example:\n",
    "![Example](https://automatetheboringstuff.com/images/000105.jpg)"
   ]
  },
  {
   "cell_type": "markdown",
   "metadata": {
    "nbpresent": {
     "id": "063b060a-658d-40d3-8924-6d13c42b67bf"
    }
   },
   "source": [
    "## Boolean Values\n",
    "- `True` and `False` (Notice the capitalization)\n",
    "\n",
    "What can we do with them?  Let's try:\n",
    "- assign to a variable\n",
    "- using as a variable\n",
    "- math operators?"
   ]
  },
  {
   "cell_type": "markdown",
   "metadata": {
    "nbpresent": {
     "id": "f7eaaae5-7214-4d78-96e8-3c6828e970b7"
    }
   },
   "source": [
    "## Comparison Operators\n",
    "Used for comparing!  Always return a Boolean Value.\n",
    "- `==` equals\n",
    "- `!=` \n",
    "- `<`\n",
    "- `>`\n",
    "- `<=`\n",
    "- `>=`\n",
    "\n",
    "Let's try some!"
   ]
  },
  {
   "cell_type": "code",
   "execution_count": null,
   "metadata": {
    "collapsed": true,
    "nbpresent": {
     "id": "2d8ae656-faff-435f-8665-ecfa5f8eeb5b"
    }
   },
   "outputs": [],
   "source": [
    "4 == 4"
   ]
  },
  {
   "cell_type": "code",
   "execution_count": null,
   "metadata": {
    "collapsed": true
   },
   "outputs": [],
   "source": [
    "num_children = \n",
    "num_children <= 2.4"
   ]
  },
  {
   "cell_type": "code",
   "execution_count": null,
   "metadata": {
    "collapsed": true,
    "nbpresent": {
     "id": "465b49fb-8d31-4e15-b7a7-95e888b886aa"
    }
   },
   "outputs": [],
   "source": [
    "-1 > 1"
   ]
  },
  {
   "cell_type": "code",
   "execution_count": null,
   "metadata": {
    "collapsed": false,
    "nbpresent": {
     "id": "f7c518b5-5664-485e-8585-355600137783"
    }
   },
   "outputs": [],
   "source": [
    "0 >= 0"
   ]
  },
  {
   "cell_type": "code",
   "execution_count": null,
   "metadata": {
    "collapsed": false,
    "nbpresent": {
     "id": "55dac333-a04b-491a-8205-413f5a2afe34"
    }
   },
   "outputs": [],
   "source": [
    "'a' < 'b'"
   ]
  },
  {
   "cell_type": "code",
   "execution_count": null,
   "metadata": {
    "collapsed": true,
    "nbpresent": {
     "id": "f9f80497-29db-4593-b25c-37069cc508e2"
    }
   },
   "outputs": [],
   "source": [
    "3 == 3.0"
   ]
  },
  {
   "cell_type": "code",
   "execution_count": null,
   "metadata": {
    "collapsed": false,
    "nbpresent": {
     "id": "3e9d5396-ce36-44cf-871f-5facb130627b"
    }
   },
   "outputs": [],
   "source": [
    "3 == '3'"
   ]
  },
  {
   "cell_type": "markdown",
   "metadata": {},
   "source": [
    "### Review:\n",
    "What's the difference between `=` and `==`?"
   ]
  },
  {
   "cell_type": "markdown",
   "metadata": {},
   "source": [
    "## Boolean Operators\n",
    "- **and**, **or** (Binary)\n",
    "- **not** (Unary)\n",
    "- In order of precedence: `and or not`\n",
    "\n",
    "I could explain what these do, but finding out ourselves with a truth table is just as easy."
   ]
  },
  {
   "cell_type": "code",
   "execution_count": null,
   "metadata": {
    "collapsed": false
   },
   "outputs": [],
   "source": [
    "# I'll start\n",
    "True and True"
   ]
  },
  {
   "cell_type": "markdown",
   "metadata": {},
   "source": [
    "### A Note on `not not` and `bool`:"
   ]
  },
  {
   "cell_type": "markdown",
   "metadata": {},
   "source": [
    "## Mixing Boolean and Comparison Operators"
   ]
  },
  {
   "cell_type": "code",
   "execution_count": null,
   "metadata": {
    "collapsed": true
   },
   "outputs": [],
   "source": [
    "# Abritrary example:\n",
    "(3 < 4) or (0 == 30)"
   ]
  },
  {
   "cell_type": "code",
   "execution_count": null,
   "metadata": {
    "collapsed": false
   },
   "outputs": [],
   "source": [
    "# Longer arbitrary example\n",
    "2 + 2 == 4 and not 2 + 2 == 5 and 2 * 2 == 2 + 2"
   ]
  },
  {
   "cell_type": "code",
   "execution_count": null,
   "metadata": {
    "collapsed": true
   },
   "outputs": [],
   "source": [
    "# Can we eat pizza everyday?\n",
    "age_of_maturity = \n",
    "my_age =  #\n",
    "my_age >= 18 and my_age < age_of_maturity"
   ]
  },
  {
   "cell_type": "markdown",
   "metadata": {},
   "source": [
    "## Elements of Flow Control:\n",
    "1. Conditions\n",
    " - Evaluate down to a boolean (True or False)\n",
    " - One or more comparison/boolean operators\n",
    "2. Block of code\n",
    " - What gets run when condition is met\n",
    " - Separated by indentation (4 spaces by convention)\n",
    " - Can contain other conditions/blocks\n",
    " - end when indentation stops or goes back to a parent block's indendtation level"
   ]
  },
  {
   "cell_type": "code",
   "execution_count": null,
   "metadata": {
    "collapsed": true
   },
   "outputs": [],
   "source": [
    "my_age = 0\n",
    "my_name = 'Hassan'\n",
    "if my_name != 'Hassan':\n",
    "    print('You are not Hassan')\n",
    "    if my_age % 10 == 0:\n",
    "        print(\"But it's a big year for you eh?\")\n",
    "    else:\n",
    "        print(str(my_age) + \" isn't a big deal.\")"
   ]
  },
  {
   "cell_type": "markdown",
   "metadata": {},
   "source": [
    "## Flow Control Statements:\n"
   ]
  },
  {
   "cell_type": "markdown",
   "metadata": {},
   "source": [
    "- `if` - executes block when condition is `True`\n",
    "- `else` - no specific condition.  Executes if previous conditions are not met.  Is the 'fallback'\n",
    "- `elif` - follows an `if`, takes a condition.  Only checks condition if previous `if` condition was False"
   ]
  },
  {
   "cell_type": "markdown",
   "metadata": {},
   "source": [
    "Let's try adding an `elif` to our previous condition and output a different message if your age ends in 9"
   ]
  },
  {
   "cell_type": "markdown",
   "metadata": {},
   "source": [
    "Practice Example: \n",
    "- [Collatz Conjecture](https://en.wikipedia.org/wiki/TV_Parental_Guidelines#Ratings)\n",
    "- FizzBuzz\n",
    "- Leap Year?"
   ]
  },
  {
   "cell_type": "code",
   "execution_count": null,
   "metadata": {
    "collapsed": true
   },
   "outputs": [],
   "source": []
  }
 ],
 "metadata": {
  "anaconda-cloud": {},
  "kernelspec": {
   "display_name": "Python [conda env:python-foundations]",
   "language": "python",
   "name": "conda-env-python-foundations-py"
  },
  "language_info": {
   "codemirror_mode": {
    "name": "ipython",
    "version": 3
   },
   "file_extension": ".py",
   "mimetype": "text/x-python",
   "name": "python",
   "nbconvert_exporter": "python",
   "pygments_lexer": "ipython3",
   "version": "3.5.2"
  }
 },
 "nbformat": 4,
 "nbformat_minor": 1
}
