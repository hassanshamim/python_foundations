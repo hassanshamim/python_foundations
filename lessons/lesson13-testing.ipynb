{
 "cells": [
  {
   "cell_type": "markdown",
   "metadata": {},
   "source": [
    "# Unit Testing"
   ]
  },
  {
   "cell_type": "markdown",
   "metadata": {},
   "source": [
    "What?\n",
    "\n",
    "(automated) Testing is the practice of writing code, separate from our main code (business logic) to check how our software runs under certain conditions.  Generally we test against expected behaviors, looking for any errors that may occur.  Common errors found via testing are **Syntax Errors** (i.e. missing colon) or **Logical Errors** (i.e. off by one when indexing a list).  When we test individual parts of our code in isolation (function, class, or module) this is often called **Unit Testing**.\n",
    "\n",
    "\n",
    "Why?\n",
    "- Makes it dependable by others.\n",
    "- Makes changing the code itself (adding/removing/refactoring) easier.\n",
    "- Saves time (from manually checking output after every change)\n",
    "- Helps documentation (can just look at tests to see how to interact with library)\n",
    "- Forces us to think about our design.  Modular, decoupled code is easier to test and maintain.\n",
    "- Can make writing the code easier (TDD)"
   ]
  },
  {
   "cell_type": "markdown",
   "metadata": {},
   "source": [
    "## Easiest Way - Doctests\n",
    "\n",
    "- Put your 'tests' in the documentation of a function.\n",
    "- Tests take the format of inputs/outputs of the python repl.\n",
    "\n",
    "To launch the python REPL (if one isn't included in your text editor):\n",
    "- Open your Terminal, and enter the command \"`python`\"\n",
    "- Or from Anaconda Navigator, right click the green triangle on your environment and select 'Open with Python'\n",
    "\n",
    "Example without doctest:"
   ]
  },
  {
   "cell_type": "code",
   "execution_count": null,
   "metadata": {
    "collapsed": true
   },
   "outputs": [],
   "source": [
    "def add(x, y):\n",
    "    return x + y"
   ]
  },
  {
   "cell_type": "markdown",
   "metadata": {},
   "source": [
    "Example with documentation.\n",
    "\n",
    "NB: Documentation inside a python file is often referred to as a docstring"
   ]
  },
  {
   "cell_type": "code",
   "execution_count": null,
   "metadata": {
    "collapsed": true
   },
   "outputs": [],
   "source": [
    "def add(x, y):\n",
    "    \"\"\"\n",
    "    Equivalent to the '+' operator.  Returns the total of two numbers.\n",
    "    \"\"\"\n",
    "    return x + y"
   ]
  },
  {
   "cell_type": "markdown",
   "metadata": {},
   "source": [
    "Example with doctest."
   ]
  },
  {
   "cell_type": "code",
   "execution_count": null,
   "metadata": {
    "collapsed": true
   },
   "outputs": [],
   "source": [
    "def add(x, y):\n",
    "    \"\"\"\n",
    "    Equivalent to the '+' operator.  Returns the total of two numbers.\n",
    "    \n",
    "    >>> add(1, 3)\n",
    "    4\n",
    "    \n",
    "    >>> add(-4, 10)\n",
    "    6\n",
    "    \"\"\"\n",
    "    return x + y"
   ]
  },
  {
   "cell_type": "markdown",
   "metadata": {},
   "source": [
    "## Running Doctests\n",
    "\n",
    "To run your doctests, include the following at the bottom of your python file:\n",
    "\n",
    "```python\n",
    "if __name__ == \"__main__\":\n",
    "    import doctest\n",
    "    doctest.testmod()\n",
    "```\n",
    "\n",
    "Then, run your file with **python example_file.py**.  If tests are successful you will see no output.\n",
    "\n",
    "If you would like to see the output even when tests are successful, you can run the file with the verbose flag, i.e. `python -v example_file.py` or pass `verbose=True` to the testmod function:\n",
    "\n",
    "```python\n",
    "if __name__ == \"__main__\":\n",
    "    import doctest\n",
    "    doctest.testmod(verbose=True)\n",
    "```\n",
    "\n",
    "For a full example file, see the [provided python file](testing/example_doctest.py)"
   ]
  },
  {
   "cell_type": "code",
   "execution_count": null,
   "metadata": {
    "collapsed": false
   },
   "outputs": [],
   "source": [
    "!python testing/example_doctest.py"
   ]
  },
  {
   "cell_type": "markdown",
   "metadata": {},
   "source": [
    "## UnitTest\n",
    "\n",
    "Another standard library '`import unittest`'\n",
    "\n",
    "We create a 'suite' of tests - generally in their own file, or folder.  We have much more control than doctests.\n",
    "\n",
    "To write our tests, we:\n",
    "- create a new file\n",
    "- import unittest and the python code we want to test\n",
    "- Create one or more classes that inherit from unittest.TestCase\n",
    "- add methods to the above that all start with 'test_', i.e. 'test_add_function_adds_two_floats'\n",
    "- use the `self.assert_` methods to test what we want.  List [here](https://docs.python.org/3/library/unittest.html#unittest.TestCase.debug)\n",
    "- add \"`unittest.main()`\" to our `if __name__ == '__main__:'` block, like in our doctest example.\n",
    "- run the test file with `python file_with_our_tests.py`\n",
    "\n",
    "\n",
    "See [example](testing/example_unittest.py) unittest file, which has some tests covering the Reindeer class in  testing/reindeer.py "
   ]
  },
  {
   "cell_type": "code",
   "execution_count": null,
   "metadata": {
    "collapsed": false
   },
   "outputs": [],
   "source": [
    "!python testing/example_unittest.py"
   ]
  },
  {
   "cell_type": "markdown",
   "metadata": {},
   "source": [
    "### Additional References\n",
    "\n",
    "- [Unittest standard library](https://docs.python.org/3/library/unittest.html)\n",
    "- [Doctest standard library](https://docs.python.org/3/library/doctest.html#module-doctest)\n",
    "- [Pytest - a popular testing framework](http://doc.pytest.org/en/latest/index.html)"
   ]
  },
  {
   "cell_type": "code",
   "execution_count": null,
   "metadata": {
    "collapsed": true
   },
   "outputs": [],
   "source": []
  }
 ],
 "metadata": {
  "anaconda-cloud": {},
  "kernelspec": {
   "display_name": "Python [conda env:python-foundations]",
   "language": "python",
   "name": "conda-env-python-foundations-py"
  },
  "language_info": {
   "codemirror_mode": {
    "name": "ipython",
    "version": 3
   },
   "file_extension": ".py",
   "mimetype": "text/x-python",
   "name": "python",
   "nbconvert_exporter": "python",
   "pygments_lexer": "ipython3",
   "version": "3.5.2"
  }
 },
 "nbformat": 4,
 "nbformat_minor": 1
}
