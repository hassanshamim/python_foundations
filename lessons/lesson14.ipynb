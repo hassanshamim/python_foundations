{
 "cells": [
  {
   "cell_type": "markdown",
   "metadata": {},
   "source": [
    "# Working with APIs\n",
    "\n",
    "\n",
    "Today we'll explore the nature and surrounding concepts related to APIs.\n",
    "\n",
    "We shall experiment and get a feel for Github's Gist API.  And finally, we'll try to implement a python script which will create a new gist from files on our computer (basically upload files to github for sharing)."
   ]
  },
  {
   "cell_type": "markdown",
   "metadata": {},
   "source": [
    "## API\n",
    "- **Application Programming Interface**  In the context of Web APIs, this is a service provided by a web application to allow other programs to more easily interact with the Application.  The method to retrieve or send specific information is standardized, and returned in a machine-readable format.\n",
    "\n",
    "When we were web-scraping last week, we had to figure out the URL format we wanted, then make the request, get the HTML and parse the HTML and find the specific information we wanted.  The same could be achieved with an API, except:\n",
    "- the URL and its format to retrieve information is standardized and documented\n",
    "- the response is not HTML but rather JSON/XML\n",
    "- We still have to parse the response to find the specific information we want, but it's all documented (and consistent!)\n",
    "\n",
    "\n",
    "**Note**: the term 'API' is not exclusive to the web.  The way you interact with any piece of software when programming is said to be it's API.  This includes things like the name of functions, they arguments provided to functiosn, and the general usablity as well (in what order you should call the functions, etc)."
   ]
  },
  {
   "cell_type": "markdown",
   "metadata": {},
   "source": [
    "## HTTP\n",
    "\n",
    "Since Web APIs are also built on HTTP, we will still be using the `requests` framework.  Except now we need to know a bit more about HTTP, such as the standard HTTP verbs:\n",
    "\n",
    "- **GET**: retrieves information from the resource\n",
    "- **POST**: Sends information to the resource, with the intent to create something new\n",
    "- **PUT/PATCH**: Sends information to the resource, with the intent to *update* that resource.\n",
    "- **DELETE**: Removes an instance of the resource (undoes a POST).\n",
    "\n",
    "A common acronym for this functionality is CRUD - Create, Read, Update, Delete."
   ]
  },
  {
   "cell_type": "markdown",
   "metadata": {},
   "source": [
    "## REST\n",
    "\n",
    "- **Representational State Transfer** is a pattern/style of API design.\n",
    "\n",
    "The basic idea is to structure your applicaiton as a series of **resources**, to which you can apply any or all of the CRUD actions described above.\n",
    "\n",
    "For example, if I'm shopping on a website I'll have a *Cart* resource, which is *created* when I start adding things to my cart.  Its *updated* when I add more things to my cart.  Its *read* when I go to check out.  When I finalize my order and pay, rather than update the cart to say that it is finalized, we might *create* a new Order.  In this example, we have a Cart resource and an Order resource.\n",
    "\n",
    "See [this Wikipedia Table](https://en.wikipedia.org/wiki/Representational_state_transfer#Relationship_between_URL_and_HTTP_methods) for some examples.\n",
    "\n",
    "**Note**: REST is not the only architecture pattern.  There are others but at the moment REST is most popular."
   ]
  },
  {
   "cell_type": "markdown",
   "metadata": {},
   "source": [
    "## JSON\n",
    "- **Javascript Object Notation** is a lightweight data format.  It's the most popular format (these days) for working with web APIs.  It's very similar to a python dictionary, with keys and values.  Very often you will see lists and dictionaries nested inside one another with JSON.\n",
    "\n",
    "JSON will sometimes use a different terminology or notation than python to refer to the types of information it contains.\n",
    "\n",
    "python | json\n",
    "-------|------\n",
    "dictionary | object\n",
    "list | array\n",
    "True | true\n",
    "False | false\n",
    "None | null\n",
    "\n",
    "To convert our data to and from json, we will use the builtin [json](http://docs.python-guide.org/en/latest/scenarios/json/) module.\n",
    "\n",
    "The other option is XML, which more verbose and fading in popularity.  HTML is a type of XML.  You can see examples of both [here](http://json.org/example.html)"
   ]
  },
  {
   "cell_type": "markdown",
   "metadata": {},
   "source": [
    "## Gist API\n",
    "\n",
    "Today we'll explore working with APIs through [Github's Gist API](https://developer.github.com/v3/gists/).  There are many, many APIs out there.  I chose this one because:\n",
    "- No authentication required (keeps things simple for now)\n",
    "- We can do all the CRUD operations with it\n",
    "- Well documented\n",
    "- FREE!\n",
    "\n",
    "A note: Github follows another architectural style called HATEOS.  You'll notice a lot of URLs in the response.  This is not as common as REST.  In most APIs you'll get the value back (i.e. `'username': 'hassanshamim'`) rather than a link to that value (i.e. `'username': 'https://github.com/user/hassanshamim'`).  Just something to be aware of."
   ]
  },
  {
   "cell_type": "markdown",
   "metadata": {},
   "source": [
    "## Getting Started\n",
    "\n",
    "Jupyter notebook is a great place to start playing around with the API to get a feel for how to format our requests, and how to get the information we want back out.\n",
    "\n",
    "Once we start building our script, a proper text editor is the best place to do that."
   ]
  },
  {
   "cell_type": "code",
   "execution_count": null,
   "metadata": {
    "collapsed": true
   },
   "outputs": [],
   "source": [
    "import requests\n",
    "import json"
   ]
  },
  {
   "cell_type": "code",
   "execution_count": null,
   "metadata": {
    "collapsed": true
   },
   "outputs": [],
   "source": [
    "# We'll be using these URLs a lot, so lets save the first part.  Then, we only have to worry about the resource we want.\n",
    "API_BASE_URL = 'https://api.github.com/'\n",
    "GIST_BASE_URL = API_BASE_URL + 'gists'"
   ]
  },
  {
   "cell_type": "code",
   "execution_count": null,
   "metadata": {
    "collapsed": false
   },
   "outputs": [],
   "source": [
    "# Let's do the simplest http verb first - GET\n",
    "public_gists_url = GIST_BASE_URL + '/public'\n",
    "response = requests.get(public_gists_url)\n",
    "response.text"
   ]
  },
  {
   "cell_type": "code",
   "execution_count": null,
   "metadata": {
    "collapsed": false
   },
   "outputs": [],
   "source": [
    "result = json.loads(response.text) # convert to a python object - in this case a list of dictionaries\n",
    "result[0] # let's look at the first one"
   ]
  },
  {
   "cell_type": "code",
   "execution_count": null,
   "metadata": {
    "collapsed": false
   },
   "outputs": [],
   "source": [
    "resp2 = requests.get(GIST_BASE_URL + '/starred')\n",
    "resp2.text"
   ]
  },
  {
   "cell_type": "code",
   "execution_count": null,
   "metadata": {
    "collapsed": false
   },
   "outputs": [],
   "source": [
    "resp2.json()"
   ]
  },
  {
   "cell_type": "code",
   "execution_count": null,
   "metadata": {
    "collapsed": false
   },
   "outputs": [],
   "source": [
    "# Get a single gist\n",
    "my_gist_id = '32ad548cf3c5779e6132ea0b1fc1a78d'\n",
    "url = GIST_BASE_URL + '/' +  my_gist_id\n",
    "resp3 = requests.get(url)"
   ]
  },
  {
   "cell_type": "code",
   "execution_count": null,
   "metadata": {
    "collapsed": false
   },
   "outputs": [],
   "source": [
    "resp3.text"
   ]
  },
  {
   "cell_type": "code",
   "execution_count": null,
   "metadata": {
    "collapsed": false
   },
   "outputs": [],
   "source": [
    "result3 = json.loads(resp3.text)\n",
    "result3"
   ]
  },
  {
   "cell_type": "code",
   "execution_count": null,
   "metadata": {
    "collapsed": false
   },
   "outputs": [],
   "source": [
    "# Explore this gists history.  Look at a specific version."
   ]
  },
  {
   "cell_type": "code",
   "execution_count": null,
   "metadata": {
    "collapsed": false,
    "scrolled": true
   },
   "outputs": [],
   "source": [
    "# Create a gist - https://developer.github.com/v3/gists/#create-a-gist\n",
    "# We could just build one whole object, but I like doing it in steps.\n",
    "# I think for exploration purposes it's more clear.\n",
    "example_data = {}\n",
    "example_data['description'] = 'test gist from api'\n",
    "example_data['public'] = False\n",
    "files = {}\n",
    "# Each 'file' is a dictionary with the format {'file_name_here': {'contents': 'file_contents_here}}\n",
    "files['example_file_name.txt'] = {'content': 'example_file_data'}\n",
    "example_data['files'] = files\n",
    "example_data"
   ]
  },
  {
   "cell_type": "code",
   "execution_count": null,
   "metadata": {
    "collapsed": false
   },
   "outputs": [],
   "source": [
    "json.dumps(example_data)"
   ]
  },
  {
   "cell_type": "code",
   "execution_count": null,
   "metadata": {
    "collapsed": false
   },
   "outputs": [],
   "source": [
    "response = requests.post(GIST_BASE_URL, data=json.dumps(example_data))"
   ]
  },
  {
   "cell_type": "code",
   "execution_count": null,
   "metadata": {
    "collapsed": false
   },
   "outputs": [],
   "source": [
    "result = json.loads(response.text)\n",
    "result"
   ]
  },
  {
   "cell_type": "code",
   "execution_count": null,
   "metadata": {
    "collapsed": false
   },
   "outputs": [],
   "source": [
    "last_gist_url = GIST_BASE_URL + '/' + result['id']\n",
    "last_gist_url"
   ]
  },
  {
   "cell_type": "code",
   "execution_count": null,
   "metadata": {
    "collapsed": false
   },
   "outputs": [],
   "source": [
    "requests.delete(last_gist_url)"
   ]
  },
  {
   "cell_type": "markdown",
   "metadata": {},
   "source": [
    "## API wrappers\n",
    "\n",
    "So far we've been interacting with the API 'manually' by typing in the specific URLS we want and using requests.\n",
    "\n",
    "Often you'll see an API wrapper available that abstracts (aka hides) the implementation details (url to follow, format of requests, etc) and just lets you interact with the API itself.  These wrappers are sometimes provided by the owners of the API itself, and sometimes created by other users.\n",
    "\n",
    "One good example of such is [Twilio](https://www.twilio.com/docs/api/rest/sending-messages), which includes examples of the API wrapper in the API docs itself.  Github has a few official API wrappers (or clients), but none are in python.  You can find unofficial python wrappers [here](https://developer.github.com/libraries/):"
   ]
  },
  {
   "cell_type": "markdown",
   "metadata": {},
   "source": [
    "## Authorization\n",
    "\n",
    "To use the API as a user, first generate an auth token [here](https://github.com/settings/tokens)\n",
    "\n",
    "Then, include that auth token in the header of your requests like so:\n",
    "\n",
    "**Note**: Headers are separate from the body, or *data* you provide requests.  All HTTP verbs allow headers, whereas GET and DELETE typically do not have a body."
   ]
  },
  {
   "cell_type": "code",
   "execution_count": null,
   "metadata": {
    "collapsed": false
   },
   "outputs": [],
   "source": [
    "# Example of request without auth\n",
    "auth_required_url = GIST_BASE_URL + '/starred'\n",
    "no_auth_response = requests.get(auth_required_url)\n",
    "no_auth_response.json()"
   ]
  },
  {
   "cell_type": "code",
   "execution_count": null,
   "metadata": {
    "collapsed": false
   },
   "outputs": [],
   "source": [
    "# Auth Setup\n",
    "my_auth_token = 'b0dac1d3637d5fe47440fc33b4d975927dcffc08' # replace with your token\n",
    "AUTH_HEADER = {'Authorization': 'token ' + my_auth_token}"
   ]
  },
  {
   "cell_type": "code",
   "execution_count": null,
   "metadata": {
    "collapsed": false
   },
   "outputs": [],
   "source": [
    "#Example request with authorization:\n",
    "auth_response = requests.get(auth_required_url, headers=AUTH_HEADER)"
   ]
  },
  {
   "cell_type": "code",
   "execution_count": null,
   "metadata": {
    "collapsed": false
   },
   "outputs": [],
   "source": [
    "auth_response.json()"
   ]
  },
  {
   "cell_type": "markdown",
   "metadata": {},
   "source": [
    "### Tools Used\n",
    "- [requests](http://docs.python-requests.org/en/master/)\n",
    "- Python's [json library](https://docs.python.org/3/library/json.html)\n",
    "- [Github's Gist API](https://developer.github.com/v3/gists/)"
   ]
  }
 ],
 "metadata": {
  "anaconda-cloud": {},
  "kernelspec": {
   "display_name": "Python [conda env:python-foundations]",
   "language": "python",
   "name": "conda-env-python-foundations-py"
  },
  "language_info": {
   "codemirror_mode": {
    "name": "ipython",
    "version": 3
   },
   "file_extension": ".py",
   "mimetype": "text/x-python",
   "name": "python",
   "nbconvert_exporter": "python",
   "pygments_lexer": "ipython3",
   "version": "3.5.2"
  }
 },
 "nbformat": 4,
 "nbformat_minor": 1
}
