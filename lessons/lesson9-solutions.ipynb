{
 "cells": [
  {
   "cell_type": "markdown",
   "metadata": {},
   "source": [
    "# Lesson 9 - Doesn't correlate with the book.\n",
    "\n",
    "At this point, we've covered the basics and 90% of what you'll see in your average python package.  This means we're prepared to read and understand python code and use python to solve non-domain specific problems.  In essence, we know the words we just need more practice putting them together to form sentences.\n",
    "\n",
    "\n",
    "## Topics covered:\n",
    "- sets [reference](http://www.diveintopython3.net/native-datatypes.html#sets)\n",
    "- List/Dictionary/Set comprehensions [reference](http://www.diveintopython3.net/comprehensions.html#listcomprehension)\n",
    "- Some practice problems"
   ]
  },
  {
   "cell_type": "markdown",
   "metadata": {},
   "source": [
    "### Some Notes:\n",
    "- Thank you for course feedback.  I just received the results and will be incorporating the feedback into the rest of the course\n",
    "- Not including today, we have 3 more weeks of class.  That's 6 classes. (No class Thanksgiving week)\n",
    "\n",
    "Original plan is:\n",
    " 1. Practice Problems for a week just to strengthen our python-fu\n",
    " 2. Last 2 weeks dedicated to Applications of python in the real world. For some ideas, see [this list](https://github.com/hassanshamim/python_foundations#curriculum-outline-subject-to-change)\n",
    " \n",
    "Our options:\n",
    "- Skip practice problems and go straight to 'real world python'\n",
    "- Put more emphasis on Software Development skills (Testing, OOP, git, etc) or more emphasis on 'hobby python' (Web scraping, visualizing data, organizing files)\n",
    "- Work on these à la carte topics as a class, or in small groups/individually.\n",
    "- any ideas I missed.\n",
    "\n",
    "\n",
    "\n",
    "\n"
   ]
  },
  {
   "cell_type": "markdown",
   "metadata": {},
   "source": [
    "# Sets\n",
    "\n",
    "- `set()` function\n",
    "- literal is curly braces {}\n",
    "- are **mutable**\n",
    "- are **unordered**,\n",
    "- **unique** collection of *immutable* objects\n",
    "- useful for getting *unique* values, or doing [set theory](https://en.wikipedia.org/wiki/Set_theory) operations"
   ]
  },
  {
   "cell_type": "markdown",
   "metadata": {},
   "source": [
    "### Creating a set"
   ]
  },
  {
   "cell_type": "code",
   "execution_count": null,
   "metadata": {
    "collapsed": false
   },
   "outputs": [],
   "source": [
    "s1 = set()\n",
    "type(s1)"
   ]
  },
  {
   "cell_type": "code",
   "execution_count": null,
   "metadata": {
    "collapsed": false
   },
   "outputs": [],
   "source": [
    "s2 = {}\n",
    "type(s2)  ## Shocking!"
   ]
  },
  {
   "cell_type": "markdown",
   "metadata": {},
   "source": [
    "Explicit is better than implicit.  You must create *empty* sets with set().  If you use curly braces with values inside already, python can tell the difference between the following:"
   ]
  },
  {
   "cell_type": "code",
   "execution_count": null,
   "metadata": {
    "collapsed": false
   },
   "outputs": [],
   "source": [
    "a_set = {1, 2, 3}\n",
    "a_set"
   ]
  },
  {
   "cell_type": "code",
   "execution_count": null,
   "metadata": {
    "collapsed": false
   },
   "outputs": [],
   "source": [
    "a_dict = {1: 2, 3: 4}\n",
    "a_dict"
   ]
  },
  {
   "cell_type": "markdown",
   "metadata": {},
   "source": [
    "### Converting a collection to a set\n",
    "\n",
    "just call `set` function on that object"
   ]
  },
  {
   "cell_type": "code",
   "execution_count": null,
   "metadata": {
    "collapsed": false
   },
   "outputs": [],
   "source": [
    "a = [1, 1, 1, 2, 2]\n",
    "a"
   ]
  },
  {
   "cell_type": "code",
   "execution_count": null,
   "metadata": {
    "collapsed": false
   },
   "outputs": [],
   "source": [
    "a_set = set(a)\n",
    "a_set"
   ]
  },
  {
   "cell_type": "code",
   "execution_count": null,
   "metadata": {
    "collapsed": true
   },
   "outputs": [],
   "source": [
    "b = 'ABBA'\n",
    "c = (1, 2, 3, 1, 2)\n",
    "d = {'a': 1, 'b': 2, 'c': 1, 'd': 2}"
   ]
  },
  {
   "cell_type": "markdown",
   "metadata": {},
   "source": [
    "create sets with the above data types.  Before you create them, try and predict what the set will look like."
   ]
  },
  {
   "cell_type": "markdown",
   "metadata": {},
   "source": [
    "sets have a length:"
   ]
  },
  {
   "cell_type": "code",
   "execution_count": null,
   "metadata": {
    "collapsed": false
   },
   "outputs": [],
   "source": [
    "len(a_set)"
   ]
  },
  {
   "cell_type": "markdown",
   "metadata": {},
   "source": [
    "### Adding to a set"
   ]
  },
  {
   "cell_type": "code",
   "execution_count": null,
   "metadata": {
    "collapsed": false
   },
   "outputs": [],
   "source": [
    "foods = {'apples', 'bananas', 'oranges', 'grapes'}\n",
    "print(len(foods), 'food items')\n",
    "foods"
   ]
  },
  {
   "cell_type": "code",
   "execution_count": null,
   "metadata": {
    "collapsed": false,
    "scrolled": true
   },
   "outputs": [],
   "source": [
    "foods.add('pickles') # Notice nothing is returned.  This is common when you are mutating an object.\n",
    "print(len(foods), 'food items')\n",
    "foods"
   ]
  },
  {
   "cell_type": "code",
   "execution_count": null,
   "metadata": {
    "collapsed": false
   },
   "outputs": [],
   "source": [
    "foods.add('apples') # how many now?\n",
    "len(foods)"
   ]
  },
  {
   "cell_type": "code",
   "execution_count": null,
   "metadata": {
    "collapsed": false
   },
   "outputs": [],
   "source": [
    "foods.add(3) # as long as the object we are adding is immutable, python is happy.\n",
    "foods"
   ]
  },
  {
   "cell_type": "code",
   "execution_count": null,
   "metadata": {
    "collapsed": false
   },
   "outputs": [],
   "source": [
    "try:\n",
    "    foods.add([])\n",
    "except TypeError:\n",
    "    print('no bueno')"
   ]
  },
  {
   "cell_type": "markdown",
   "metadata": {},
   "source": [
    "But no ordering, so they can't be sliced"
   ]
  },
  {
   "cell_type": "code",
   "execution_count": null,
   "metadata": {
    "collapsed": false
   },
   "outputs": [],
   "source": [
    "set([1, 2, 3])[3]"
   ]
  },
  {
   "cell_type": "markdown",
   "metadata": {},
   "source": [
    "### Removing items from a set"
   ]
  },
  {
   "cell_type": "code",
   "execution_count": null,
   "metadata": {
    "collapsed": true
   },
   "outputs": [],
   "source": [
    "a = {1, 2, 3, 4}"
   ]
  },
  {
   "cell_type": "markdown",
   "metadata": {},
   "source": [
    "#### removing all values:"
   ]
  },
  {
   "cell_type": "code",
   "execution_count": null,
   "metadata": {
    "collapsed": false
   },
   "outputs": [],
   "source": [
    "a.clear() # no return value"
   ]
  },
  {
   "cell_type": "code",
   "execution_count": null,
   "metadata": {
    "collapsed": false
   },
   "outputs": [],
   "source": [
    "a"
   ]
  },
  {
   "cell_type": "markdown",
   "metadata": {},
   "source": [
    "#### Removing a specific value:"
   ]
  },
  {
   "cell_type": "code",
   "execution_count": null,
   "metadata": {
    "collapsed": true
   },
   "outputs": [],
   "source": [
    "a = {1, 2, 3, 4}"
   ]
  },
  {
   "cell_type": "code",
   "execution_count": null,
   "metadata": {
    "collapsed": false
   },
   "outputs": [],
   "source": [
    "a.remove(3) # no return value"
   ]
  },
  {
   "cell_type": "code",
   "execution_count": null,
   "metadata": {
    "collapsed": false,
    "scrolled": true
   },
   "outputs": [],
   "source": [
    "a"
   ]
  },
  {
   "cell_type": "code",
   "execution_count": null,
   "metadata": {
    "collapsed": false,
    "scrolled": true
   },
   "outputs": [],
   "source": [
    "a.remove(3)"
   ]
  },
  {
   "cell_type": "code",
   "execution_count": null,
   "metadata": {
    "collapsed": true
   },
   "outputs": [],
   "source": [
    "a = {1, 2, 3, 4}"
   ]
  },
  {
   "cell_type": "code",
   "execution_count": null,
   "metadata": {
    "collapsed": false
   },
   "outputs": [],
   "source": [
    "a.discard(3)\n",
    "a"
   ]
  },
  {
   "cell_type": "code",
   "execution_count": null,
   "metadata": {
    "collapsed": false
   },
   "outputs": [],
   "source": [
    "a.discard(3)\n",
    "a"
   ]
  },
  {
   "cell_type": "markdown",
   "metadata": {},
   "source": [
    "#### Removing a random value"
   ]
  },
  {
   "cell_type": "code",
   "execution_count": null,
   "metadata": {
    "collapsed": true
   },
   "outputs": [],
   "source": [
    "a = {1, 2, 3, 4}"
   ]
  },
  {
   "cell_type": "code",
   "execution_count": null,
   "metadata": {
    "collapsed": false
   },
   "outputs": [],
   "source": [
    "a.pop()"
   ]
  },
  {
   "cell_type": "code",
   "execution_count": null,
   "metadata": {
    "collapsed": true
   },
   "outputs": [],
   "source": [
    "# What are all the set methods?\n",
    "help(set)"
   ]
  },
  {
   "cell_type": "markdown",
   "metadata": {},
   "source": [
    "### We can iterate over it like any collection"
   ]
  },
  {
   "cell_type": "code",
   "execution_count": null,
   "metadata": {
    "collapsed": false
   },
   "outputs": [],
   "source": [
    "for thing in {'rice', 'salad', 1, 3.13}:\n",
    "    print(thing)"
   ]
  },
  {
   "cell_type": "markdown",
   "metadata": {},
   "source": [
    "###  Sets are most often useful when checking membership (at least in my experience)"
   ]
  },
  {
   "cell_type": "code",
   "execution_count": null,
   "metadata": {
    "collapsed": false
   },
   "outputs": [],
   "source": [
    "3 in {1, 2, 3}"
   ]
  },
  {
   "cell_type": "code",
   "execution_count": null,
   "metadata": {
    "collapsed": false
   },
   "outputs": [],
   "source": [
    "4 in {1, 2, 3}"
   ]
  },
  {
   "cell_type": "code",
   "execution_count": null,
   "metadata": {
    "collapsed": true
   },
   "outputs": [],
   "source": [
    "students_in_class = {'steph', 'ryan', 'jill', 'sam', 'bernie'}"
   ]
  },
  {
   "cell_type": "code",
   "execution_count": null,
   "metadata": {
    "collapsed": true
   },
   "outputs": [],
   "source": [
    "friends = { 'bernie', 'jack', 'steve', 'jim', 'steph', 'sarah'}"
   ]
  },
  {
   "cell_type": "code",
   "execution_count": null,
   "metadata": {
    "collapsed": false
   },
   "outputs": [],
   "source": [
    "friends.issubset(students_in_class) # is every one of my friends in this class?"
   ]
  },
  {
   "cell_type": "code",
   "execution_count": null,
   "metadata": {
    "collapsed": false
   },
   "outputs": [],
   "source": [
    "students_in_class.issuperset(friends) # same as above"
   ]
  },
  {
   "cell_type": "code",
   "execution_count": null,
   "metadata": {
    "collapsed": false
   },
   "outputs": [],
   "source": [
    "students_in_class.isdisjoint(friends) # Are none of the students in class my friends?"
   ]
  },
  {
   "cell_type": "code",
   "execution_count": null,
   "metadata": {
    "collapsed": true
   },
   "outputs": [],
   "source": []
  },
  {
   "cell_type": "code",
   "execution_count": null,
   "metadata": {
    "collapsed": true
   },
   "outputs": [],
   "source": []
  },
  {
   "cell_type": "markdown",
   "metadata": {},
   "source": [
    "# Comprehensions\n",
    "\n",
    "Comprehensions don't give us any new functionality, they just allow our code to be shorter/more readable.\n",
    "\n",
    "You will see them a lot in the wild.\n",
    "\n",
    "**Format**: `_ for _ in _ if _`\n",
    "\n",
    "They combine a for loop, a conditional, and an optional tranformation\n",
    "\n",
    "`<transformation> for <thing> in <collection> if <condition>`\n",
    "\n",
    "They do *all* this and return a new object, either: list, set, dict, or generator(not discussed)\n",
    "\n",
    "You can thing of them as transforming a collection (list, dict, etc)"
   ]
  },
  {
   "cell_type": "markdown",
   "metadata": {},
   "source": [
    "## List Comprehension\n",
    "\n",
    "The following examples just use numbers.  Any data type can be processed depending on the task involved.\n",
    "\n",
    "I try and keep the comprehensions simple so as to focus on syntax and composeability. What you actually do in the comprehensions will vary depending on your goal.\n",
    "\n",
    "If you have specific use-cases in mind please ask for an example, or try implementing it yourself."
   ]
  },
  {
   "cell_type": "code",
   "execution_count": null,
   "metadata": {
    "collapsed": true
   },
   "outputs": [],
   "source": []
  },
  {
   "cell_type": "markdown",
   "metadata": {},
   "source": [
    "#### Just the transformation"
   ]
  },
  {
   "cell_type": "code",
   "execution_count": null,
   "metadata": {
    "collapsed": true
   },
   "outputs": [],
   "source": [
    "x = list(range(10))"
   ]
  },
  {
   "cell_type": "code",
   "execution_count": null,
   "metadata": {
    "collapsed": false
   },
   "outputs": [],
   "source": [
    "[i*2 for i in x]"
   ]
  },
  {
   "cell_type": "code",
   "execution_count": null,
   "metadata": {
    "collapsed": false
   },
   "outputs": [],
   "source": [
    "[i**2 for i in x]"
   ]
  },
  {
   "cell_type": "code",
   "execution_count": null,
   "metadata": {
    "collapsed": false
   },
   "outputs": [],
   "source": [
    "x # x in unchanged!"
   ]
  },
  {
   "cell_type": "code",
   "execution_count": null,
   "metadata": {
    "collapsed": false
   },
   "outputs": [],
   "source": [
    "[str(i) for i in x] # calling functions or expressions are equally fine"
   ]
  },
  {
   "cell_type": "markdown",
   "metadata": {},
   "source": [
    "#### Adding the condition"
   ]
  },
  {
   "cell_type": "code",
   "execution_count": null,
   "metadata": {
    "collapsed": false
   },
   "outputs": [],
   "source": [
    "[i*2 for i in x if i < 5]"
   ]
  },
  {
   "cell_type": "code",
   "execution_count": null,
   "metadata": {
    "collapsed": true
   },
   "outputs": [],
   "source": [
    "def even(i):\n",
    "    return i % 2 == 0"
   ]
  },
  {
   "cell_type": "code",
   "execution_count": null,
   "metadata": {
    "collapsed": false
   },
   "outputs": [],
   "source": [
    "[i*2 for i in x if even(i)]"
   ]
  },
  {
   "cell_type": "code",
   "execution_count": null,
   "metadata": {
    "collapsed": false
   },
   "outputs": [],
   "source": [
    "['Even' for i in x if even(i)]"
   ]
  },
  {
   "cell_type": "code",
   "execution_count": null,
   "metadata": {
    "collapsed": false
   },
   "outputs": [],
   "source": [
    "['Even' for i in x if even(i) else 'Odd']"
   ]
  },
  {
   "cell_type": "markdown",
   "metadata": {},
   "source": [
    "####  Can also use else by using ternary operator\n",
    "**Notice the position**"
   ]
  },
  {
   "cell_type": "code",
   "execution_count": null,
   "metadata": {
    "collapsed": false
   },
   "outputs": [],
   "source": [
    "['Even' for i in x if even(i)]"
   ]
  },
  {
   "cell_type": "code",
   "execution_count": null,
   "metadata": {
    "collapsed": false
   },
   "outputs": [],
   "source": [
    "['Even' if even(i) else 'Odd' for i in x]"
   ]
  },
  {
   "cell_type": "code",
   "execution_count": null,
   "metadata": {
    "collapsed": false
   },
   "outputs": [],
   "source": [
    "[even(i) for i in x if i > 2]"
   ]
  },
  {
   "cell_type": "code",
   "execution_count": null,
   "metadata": {
    "collapsed": false
   },
   "outputs": [],
   "source": [
    "# Here's our collatz:\n",
    "[i//2 if even(i) else i*3+1 for i in x]"
   ]
  },
  {
   "cell_type": "markdown",
   "metadata": {},
   "source": [
    "#### Comprehension can be used inside of dictionaries and sets as well."
   ]
  },
  {
   "cell_type": "markdown",
   "metadata": {},
   "source": [
    "####  Dictionaries"
   ]
  },
  {
   "cell_type": "code",
   "execution_count": null,
   "metadata": {
    "collapsed": false
   },
   "outputs": [],
   "source": [
    "friends"
   ]
  },
  {
   "cell_type": "code",
   "execution_count": null,
   "metadata": {
    "collapsed": false
   },
   "outputs": [],
   "source": [
    "{name: len(name) for name in friends}"
   ]
  },
  {
   "cell_type": "code",
   "execution_count": null,
   "metadata": {
    "collapsed": false
   },
   "outputs": [],
   "source": [
    "{name: name[0] for name in friends}"
   ]
  },
  {
   "cell_type": "code",
   "execution_count": null,
   "metadata": {
    "collapsed": false
   },
   "outputs": [],
   "source": [
    "{len(name): name[0] for name in friends} # Notice how some keys will be overwritten?  Why is this?"
   ]
  },
  {
   "cell_type": "code",
   "execution_count": null,
   "metadata": {
    "collapsed": true
   },
   "outputs": [],
   "source": [
    "# Reversing a dictionary\n",
    "d = {'a': 1, 'b': 2, 'c': 3}"
   ]
  },
  {
   "cell_type": "code",
   "execution_count": null,
   "metadata": {
    "collapsed": false
   },
   "outputs": [],
   "source": [
    "{val:key for key, val in d.items()}"
   ]
  },
  {
   "cell_type": "markdown",
   "metadata": {},
   "source": [
    "####  Sets\n",
    "Looks the same as dictionary comprehensions, but no key-> val mapping (`:`)"
   ]
  },
  {
   "cell_type": "code",
   "execution_count": null,
   "metadata": {
    "collapsed": true
   },
   "outputs": [],
   "source": [
    "song = 'It is the song that never ends it goes on and on my friends.'"
   ]
  },
  {
   "cell_type": "code",
   "execution_count": null,
   "metadata": {
    "collapsed": false
   },
   "outputs": [],
   "source": [
    "{word for word in song}"
   ]
  },
  {
   "cell_type": "markdown",
   "metadata": {},
   "source": [
    "Strings by default iterate character by character.  We can get the words out by calling .split() on the collection in our comprehension."
   ]
  },
  {
   "cell_type": "code",
   "execution_count": null,
   "metadata": {
    "collapsed": false
   },
   "outputs": [],
   "source": [
    "{word for word in song.split()}  # But now we have duplicate 'it'.  We wanted the unique words right?"
   ]
  },
  {
   "cell_type": "code",
   "execution_count": null,
   "metadata": {
    "collapsed": false,
    "scrolled": true
   },
   "outputs": [],
   "source": [
    "{word.lower() for word in song.split()}"
   ]
  },
  {
   "cell_type": "markdown",
   "metadata": {},
   "source": [
    "# Practice Problems\n",
    "\n",
    "Feel free to jump around."
   ]
  },
  {
   "cell_type": "markdown",
   "metadata": {},
   "source": [
    "####  Strings"
   ]
  },
  {
   "cell_type": "markdown",
   "metadata": {},
   "source": [
    "Read two strings from the user and print their concatenation, without the first character of each. The strings will be at least length  1\n",
    "\n",
    "E.g.: 'Hello', 'There' → 'ellohere'"
   ]
  },
  {
   "cell_type": "code",
   "execution_count": null,
   "metadata": {
    "collapsed": false
   },
   "outputs": [],
   "source": [
    "def remove_first_and_join(word1, word2): # Your solution doesn't need to be a function\n",
    "    output = word1[1:] + word2[1:]\n",
    "    print(output)\n",
    "    \n",
    "remove_first_and_join('Hello', 'There')"
   ]
  },
  {
   "cell_type": "markdown",
   "metadata": {},
   "source": [
    "Write a function that decides on a string (which is typed by the user) whether it is a palindrome"
   ]
  },
  {
   "cell_type": "code",
   "execution_count": null,
   "metadata": {
    "collapsed": false
   },
   "outputs": [],
   "source": [
    "def palindrome(phrase):\n",
    "    return phrase == phrase[::-1] # phrase[start:stop:step], here step is -1 so it essentially reverses the string\n",
    "\n",
    "def palindrome2(phrase):\n",
    "    # if we want to ignore casing and punctuation and spaces:\n",
    "    ignore = set(\"',. \")\n",
    "    phrase = phrase.lower()\n",
    "    phrase_just_letters = [char for char in phrase if char not in ignore]\n",
    "    cleaned = ''.join(phrase_just_letters)\n",
    "    \n",
    "    return cleaned == cleaned[::-1]\n",
    "\n",
    "palindrome2('Mr. Owl ate my metal worm.')"
   ]
  },
  {
   "cell_type": "markdown",
   "metadata": {},
   "source": [
    "Write a function taht prints \"True\" if the strings \"cat\" and \"dog\" appear the same number of times in the given string.\n",
    "\n",
    "```\n",
    "catdog('catcat')\n",
    "False\n",
    "catdog('1cat1cadodog')\n",
    "True\n",
    "```"
   ]
  },
  {
   "cell_type": "code",
   "execution_count": null,
   "metadata": {
    "collapsed": false
   },
   "outputs": [],
   "source": [
    "def catdog(word):\n",
    "    return word.count('cat') == word.count('dog')\n",
    "\n",
    "catdog('1cat1cadodog')"
   ]
  },
  {
   "cell_type": "markdown",
   "metadata": {},
   "source": [
    "Transform a non-empty string (read from the user) like \"Code\" to another such as \"CCoCodCode\", \"Program\" to \"PPrProProgProgrPrograProgram\"\n"
   ]
  },
  {
   "cell_type": "code",
   "execution_count": null,
   "metadata": {
    "collapsed": false
   },
   "outputs": [],
   "source": [
    "def stutter(word):\n",
    "    steps = [word[:i+1] for i in range(len(word))]\n",
    "    return ''.join(steps)\n",
    " \n",
    "stutter('Code')"
   ]
  },
  {
   "cell_type": "markdown",
   "metadata": {},
   "source": [
    "Given 2 strings, a and b. Count the number of the positions where they contain the same two character long substring.\n",
    "\n",
    "E.g. \"xxcaazz\" and \"xxbaaz\" yields 3, since the \"xx\", \"aa\", and \"az\" substrings appear in the same place in both strings."
   ]
  },
  {
   "cell_type": "markdown",
   "metadata": {
    "collapsed": true
   },
   "source": [
    "#### Comment from Hassan:\n",
    "Ooh this one was interesting.\n",
    "\n",
    "Our approach here is to:\n",
    "- iterate over the two strings\n",
    "- compare the parts of the strings we're at to see if they are equal\n",
    "- Count the number of times they are equal.\n",
    "\n",
    "The hard parts here come from iterating over the two strings simultaneously, as well as comparing two characters at a time rather than one."
   ]
  },
  {
   "cell_type": "code",
   "execution_count": null,
   "metadata": {
    "collapsed": false,
    "scrolled": true
   },
   "outputs": [],
   "source": [
    "def compare(s1, s2):\n",
    "    length = len(s1) # Going to assume s2 is the same length, though you could find the shorter one with min()\n",
    "    \n",
    "    total = 0\n",
    "    for start in range(length-2):\n",
    "        stop = start+2 # We want 2 letters at a time\n",
    "        part1 = s1[start:stop]\n",
    "        part2 = s2[start:stop]\n",
    "        if part1 == part2:\n",
    "            total +=1\n",
    "    return total\n",
    "\n",
    "compare(\"xxcaazz\", \"xxbaaz\")"
   ]
  },
  {
   "cell_type": "markdown",
   "metadata": {},
   "source": [
    "#### Harder Challenge:\n",
    "\n",
    "Implement a script that converts numbers to roman numerals.\n",
    "After printing the value, ask the user for the next task, till she types \"quit\".\n",
    "Check the input before the evaluation!"
   ]
  },
  {
   "cell_type": "code",
   "execution_count": null,
   "metadata": {
    "collapsed": true
   },
   "outputs": [],
   "source": []
  },
  {
   "cell_type": "markdown",
   "metadata": {},
   "source": [
    "####  Data Types"
   ]
  },
  {
   "cell_type": "markdown",
   "metadata": {},
   "source": [
    "\"One liners\" -- use comprehension!\n",
    "\n",
    "- Create a list of numbers in which the elements are less than 1000 and are not divisible by neither 2 or 5.\n",
    "- Create a list with the even powers of 2 that are less than 100.\n",
    "- Create a list containing a the coordinates of a three dimensional (3x3x3) matrix. ((1,1,1), (1,1,2) ... (3,3,3))\n",
    "- Transform a string by omitting the lowercase characters.\n",
    "- Split a multiline string into list of lists representing words in lines. (E.g. [[\"First\", \"line\"], [\"Second\", \"line\"]])"
   ]
  },
  {
   "cell_type": "code",
   "execution_count": null,
   "metadata": {
    "collapsed": true
   },
   "outputs": [],
   "source": [
    "#short version number 1\n",
    "[i for i in range(1000) if not ( i%2==0 or i%5==0 )]\n",
    "\n",
    "\n",
    "# look how much readable it becomes when I'm not lazy and extract some desccriptive variables and functions\n",
    "def divisible_by_2_or_5(i):\n",
    "    div_by_2 = i%2==0\n",
    "    div_by_5 = i%2==5\n",
    "    return div_by_2 or div_by_5\n",
    "\n",
    "\n",
    "[i for i in range(1000) if not divisible_by_2_or_5(i)]"
   ]
  },
  {
   "cell_type": "code",
   "execution_count": null,
   "metadata": {
    "collapsed": false
   },
   "outputs": [],
   "source": [
    "# number 2\n",
    "# Let's assume I don't know logarithms in python\n",
    "# This means I don't  know when 2^n will be > 100, so I can't create a range like (1, 2, 3, 4, 5, 6, 7) beforehand\n",
    "# unbounded while loop to the rescue!\n",
    "\n",
    "def even(i):\n",
    "    return i%2 == 0\n",
    "\n",
    "results = []\n",
    "i = 0\n",
    "while True: \n",
    "    x = 2**i\n",
    "    if x >= 100:\n",
    "        break\n",
    "        \n",
    "    if even(x):\n",
    "        results.append(x)\n",
    "\n",
    "    i += 1\n",
    "results\n",
    "\n",
    "\n",
    "# One-line\n",
    "[2**i for i in range(100) if 2**i < 100] # realistically range(100) could be optimized, but we'll just go with that"
   ]
  },
  {
   "cell_type": "code",
   "execution_count": null,
   "metadata": {
    "collapsed": false
   },
   "outputs": [],
   "source": [
    "# Create a list containing a the coordinates of a three dimensional (3x3x3) matrix. ((1,1,1), (1,1,2) ... (3,3,3))\n",
    "\n",
    "[(x+1, y+1, z+1) for x in range(3)\n",
    "                 for y in range(3)\n",
    "                 for z in range(3)]\n",
    "\n",
    "# In general I don't like nested comprehensions.  But when the alternative is:\n",
    "result = []\n",
    "for x in range(1, 4):\n",
    "    for y in range(1, 4):\n",
    "        for z in range(1, 4):\n",
    "            result.append((x, y, z))\n",
    "result\n",
    "\n",
    "# I appreciate comprehensions more.  But python can be pretty, so here's a more advanced solution\n",
    "from itertools import product\n",
    "list(product(range(1, 4), repeat=3))"
   ]
  },
  {
   "cell_type": "code",
   "execution_count": null,
   "metadata": {
    "collapsed": false
   },
   "outputs": [],
   "source": [
    "# Transform a string by omitting the lowercase characters.\n",
    "\n",
    "def remove_lowercase1(words):\n",
    "    return ''.join([c for c in words if c.lower() != c]) # this doesn't work because apparently spaces are lowecase\n",
    "\n",
    "def remove_lowercase2(words):\n",
    "    import string\n",
    "    return ''.join([c for c in words if c not in string.ascii_lowercase])\n",
    "\n",
    "remove_lowercase2('tHIs DiDnt takE me that loNg i swear')"
   ]
  },
  {
   "cell_type": "code",
   "execution_count": null,
   "metadata": {
    "collapsed": false
   },
   "outputs": [],
   "source": [
    "# Split a multiline string into list of lists representing words in lines. (E.g. [[\"First\", \"line\"], [\"Second\", \"line\"]])\n",
    "\n",
    "multiline_string = \"\"\"first line\n",
    "second line\n",
    "third line\"\"\"\n",
    "\n",
    "[line.split() for line in multiline_string.splitlines()]"
   ]
  },
  {
   "cell_type": "markdown",
   "metadata": {},
   "source": [
    "Write a function that takes a word from the user and prints a dictionary that counts the number of times each letter appears."
   ]
  },
  {
   "cell_type": "code",
   "execution_count": null,
   "metadata": {
    "collapsed": false
   },
   "outputs": [],
   "source": [
    "def count_letters(word):\n",
    "    print({char: word.count(char) for char in word})\n",
    "\n",
    "count_letters('abra cadabra')"
   ]
  },
  {
   "cell_type": "markdown",
   "metadata": {},
   "source": [
    "A sparse vector is a vector whose entries are almost all zero, like [1, 0, 0, 0, 0, 0, 0, 2, 0]. Storing all those zeros wastes memory and dictionaries are commonly used to keep track of just the nonzero entries. For example, the vector shown earlier can be represented as {0:1, 7:2}, since the vector it is meant to represent has the value 1 at index 0 and the value 2 at index 7. Write a function / script that converts a dictionary to its sparse vector representation and vica versa."
   ]
  },
  {
   "cell_type": "code",
   "execution_count": null,
   "metadata": {
    "collapsed": false
   },
   "outputs": [],
   "source": [
    "def compress(numbers):\n",
    "    result = dict()\n",
    "    for i in range(len(numbers)):\n",
    "        if numbers[i] != 0:\n",
    "                   result[i] = numbers[i]\n",
    "    return result\n",
    "\n",
    "def compress2(numbers):\n",
    "    return {i:numbers[i] for i in range(len(numbers)) if numbers[i] != 0}\n",
    "\n",
    "# We could also use enumerate() to iterate with the index, and take advantage of the fact that 0 is False\n",
    "def compress3(numbers):\n",
    "    return {i: num for i, num in enumerate(numbers) if num}\n",
    "\n",
    "compress([1, 0, 0, 0, 0, 0, 0, 2, 0])"
   ]
  },
  {
   "cell_type": "markdown",
   "metadata": {},
   "source": [
    "Write a function removeCommonElements(t1, t2) that takes in 2 tuples as arguments and returns a sorted tuple containing elements that are only found in one of them."
   ]
  },
  {
   "cell_type": "code",
   "execution_count": null,
   "metadata": {
    "collapsed": false
   },
   "outputs": [],
   "source": [
    "def remove_common(t1, t2):\n",
    "    # convert to sets\n",
    "    s1, s2 = set(t1), set(t2)\n",
    "    only_in_one = s1.symmetric_difference(t2)\n",
    "    return tuple(sorted(only_in_one))\n",
    "\n",
    "# or\n",
    "\n",
    "def remove_common2(t1, t2):\n",
    "    only_in_one = [x for x in t1 + t2 if (x in t1 and not x in t2) or (x in t2 and not x in t1)]\n",
    "    return tuple(sorted(only_in_one))\n",
    "\n",
    "# I'm having fun, so another way to do this:\n",
    "\n",
    "def remove_common3(t1, t2):\n",
    "    only_in_one = [x for x in t1 + t2 if [x in t1, x in t2].count(True) == 1]\n",
    "    return tuple(sorted(only_in_one))"
   ]
  },
  {
   "cell_type": "code",
   "execution_count": null,
   "metadata": {
    "collapsed": false
   },
   "outputs": [],
   "source": [
    "remove_common3((1, 2, 3), (3, 4, 5))"
   ]
  },
  {
   "cell_type": "markdown",
   "metadata": {},
   "source": [
    "#### Functions"
   ]
  },
  {
   "cell_type": "markdown",
   "metadata": {},
   "source": [
    "Create a function: given a non-negative number num, return True if num is within 2 of a multiple of 10.\n",
    "\n"
   ]
  },
  {
   "cell_type": "code",
   "execution_count": null,
   "metadata": {
    "collapsed": false
   },
   "outputs": [],
   "source": [
    "def dunno_what_to_call_this(num):\n",
    "    result = num % 10 # modulus gets the remainder after dividing by 10\n",
    "    return result in (0, 1, 2, 8, 9)\n",
    "\n",
    "dunno_what_to_call_this(2)"
   ]
  },
  {
   "cell_type": "markdown",
   "metadata": {},
   "source": [
    "We want to make a row of bricks that is goal inches long. We have a number of small bricks (1 inch each) and big bricks (5 inches each). Return True if it is possible to make the goal by choosing from the given bricks. This is a little harder than it looks and can be done without any loops.\n",
    "```python\n",
    ">>> make_bricks(3, 1, 8)\n",
    "True\n",
    ">>> make_bricks(3, 1, 9)\n",
    "False\n",
    ">>> make_bricks(3, 2, 10)\n",
    "True\n",
    "```"
   ]
  },
  {
   "cell_type": "code",
   "execution_count": null,
   "metadata": {
    "collapsed": false
   },
   "outputs": [],
   "source": [
    "def make_bricks(one_inch_blocks, five_inch_blocks, goal):\n",
    "    ones_required = goal - (5 * five_inch_blocks)\n",
    "    return ones_required <= one_inch_blocks\n",
    "\n",
    "\n",
    "make_bricks(3, 2, 10)"
   ]
  },
  {
   "cell_type": "markdown",
   "metadata": {},
   "source": [
    "Return the \"centered\" average of an array of integers, which we'll say is the mean average of the values, except ignoring the largest and smallest values in the array. If there are multiple copies of the smallest value, ignore just one copy, and likewise for the largest value. Use int division to produce the final average. You may assume that the array's length 3 or more.\n",
    "\n",
    "```python \n",
    ">>> centered_average([1, 2, 3, 4, 100])\n",
    "3\n",
    ">>> centered_average([1, 1, 5, 5, 10, 8, 7])\n",
    "5\n",
    "```"
   ]
  },
  {
   "cell_type": "code",
   "execution_count": null,
   "metadata": {
    "collapsed": false
   },
   "outputs": [],
   "source": [
    "# Python has min() and max() functions that return the largest and smallest value of an iterable.\n",
    "# Also a sum() function that returns the sum of an iterable\n",
    "# But if we didn't know that we know enough to write our own\n",
    "\n",
    "def my_min(collection):\n",
    "    smallest = collection[0]\n",
    "    for item in collection:\n",
    "        if item < smallest:\n",
    "            smallest = item\n",
    "    return smallest\n",
    "\n",
    "def my_max(collection):\n",
    "    largest = collection[0]\n",
    "    for item in collection:\n",
    "        largest = item if item > largest else largest # same condition as in my_min() but as a ternary operator\n",
    "    return largest\n",
    "\n",
    "def my_sum(collection):\n",
    "    total = 0\n",
    "    for item in collection:\n",
    "        total += item\n",
    "    return total\n",
    "\n",
    "def centered_average(collection):\n",
    "    collection = collection.copy() # Let's not mutate the orignal!\n",
    "    smallest = my_min(collection)\n",
    "    largest = my_max(collection)\n",
    "    \n",
    "    # remove smallest and largest values\n",
    "    collection.remove(smallest)\n",
    "    collection.remove(largest)\n",
    "    \n",
    "    total = my_sum(collection)\n",
    "    average = total // len(collection) # remember // is integer division\n",
    "    \n",
    "    return average\n",
    "\n",
    "\n",
    "centered_average([1, 2, 3, 4, 100])\n",
    "centered_average([1, 1, 5, 5, 10, 8, 7])"
   ]
  },
  {
   "cell_type": "markdown",
   "metadata": {},
   "source": [
    "Given an list of integers, return True if the array contains a 2 next to a 2 somewhere. 2 should be a (default) parameter.\n",
    "\n",
    "```python\n",
    ">>> has_x([1, 2, 2])\n",
    "True\n",
    ">>> has_x([1, 2, 1, 2])\n",
    "False\n",
    ">>> has_x([1, 3, 3, 2], 3)\n",
    "True\n",
    "```"
   ]
  },
  {
   "cell_type": "code",
   "execution_count": null,
   "metadata": {
    "collapsed": false
   },
   "outputs": [],
   "source": [
    "# Python itertools documentation has a 'recipe' for a function `pairwise` which would be very useful here.\n",
    "# I won't use it here, but normally I would.\n",
    "\n",
    "def has_x(collection, default=2):\n",
    "    result = False\n",
    "    for i in range(len(collection)): # we could offset by 1.  I don't because slicing doesn't raise IndexError when the stop index is out of bounds\n",
    "        items = collection[i:i+2]\n",
    "        if items == [default, default]: # here I'm constructing an array with default.  would look like [2, 2].\n",
    "            result = True\n",
    "    return result\n",
    "\n",
    "has_x([1, 3, 3, 2], 3)"
   ]
  },
  {
   "cell_type": "markdown",
   "metadata": {},
   "source": [
    "Write a function shiftByTwo(*args) that accepts a variable number of arguments and returns a tuple with the argument list shifted to the right by two indices. See the example below.\n",
    "\n",
    "``` python\n",
    ">>> shiftByTwo(1,2,3,4,5,6)\n",
    "(5, 6, 1, 2, 3, 4)\n",
    "```"
   ]
  },
  {
   "cell_type": "code",
   "execution_count": null,
   "metadata": {
    "collapsed": false
   },
   "outputs": [],
   "source": [
    "def shift_by_two(*args):\n",
    "    last_two = args[:-3:-1] # There might be a cleaner way to do this.  I just fiddled with the numbers until I got what I wanted\n",
    "    all_but_last_two = args[:-2]\n",
    "    return last_two + all_but_last_two\n",
    "\n",
    "def shift_by_two2(*args):\n",
    "    # a more advanced approach using tuple unpacking and the greedy * operator (often called globbing)\n",
    "    *first_few, second, last = args\n",
    "    return (second, last) + tuple(first_few)\n",
    "\n",
    "shift_by_two2(1,2,3,4,5,6)"
   ]
  },
  {
   "cell_type": "markdown",
   "metadata": {},
   "source": [
    "Write a function sortByIndex(aList) that takes in a list of tuples in the following format: (index, value) and returns a new tuple with its elements sorted based by their index.\n",
    "\n",
    "```python\n",
    ">>> sortByIndex([(2,'Programming'), (3, 'is'), (1, 'Python'), (4, 'Fun')])\n",
    "('Python', 'Programming', 'is', 'Fun')\n",
    "```"
   ]
  },
  {
   "cell_type": "code",
   "execution_count": null,
   "metadata": {
    "collapsed": false
   },
   "outputs": [],
   "source": [
    "def sort_by_index(collection):\n",
    "    result = []\n",
    "    for i in range(len(collection)):\n",
    "        for item in collection:\n",
    "            if item[0] == i+1:\n",
    "                result.append(item[1])\n",
    "    return tuple(result)\n",
    "    \n",
    "def sort_by_index2(collection):\n",
    "    result = []\n",
    "    for i in range(len(collection)):\n",
    "        for index, value in collection: # we can *unpack* the tuples into their own variable names as we iterate\n",
    "            if index == i+1:\n",
    "                result.append(value)\n",
    "    return tuple(result)\n",
    "\n",
    "\n",
    "def get_first_value(collection):\n",
    "    return collection[0]\n",
    "\n",
    "def sort_by_index_advanced(collection):\n",
    "    return tuple([item[1] for item in sorted(collection, key=get_first_value)])\n",
    "\n",
    "sort_by_index_advanced([(2,'Programming'), (3, 'is'), (1, 'Python'), (4, 'Fun')])"
   ]
  },
  {
   "cell_type": "markdown",
   "metadata": {},
   "source": [
    "Write a function numbersInbetween(start, end) that takes in two numbers and returns a comma-separated string with all the numbers in between the start and end number inclusive of both numbers.\n",
    "```python\n",
    ">>> numbersInbetween(5, 10)\n",
    "'5,6,7,8,9,10'\n",
    ">>> numbersInbetween(5, 0)\n",
    "'Invalid'\n",
    "```"
   ]
  },
  {
   "cell_type": "code",
   "execution_count": null,
   "metadata": {
    "collapsed": false
   },
   "outputs": [],
   "source": [
    "def numbers_in_between(start, end):\n",
    "    result = ''\n",
    "    for i in range(start, end+1): # have to add 1 to make it an inclusive range\n",
    "        result += str(i)\n",
    "        if i != end:\n",
    "            result += ','\n",
    "            \n",
    "    # Take care of invalid ranges\n",
    "    if result == '':\n",
    "        result = 'Invalid'\n",
    "    return result\n",
    "\n",
    "def numbers_in_between_advanced(start, end):\n",
    "    result =  ','.join([str(i) for i in range(start, end+1)])\n",
    "    return result or 'Invalid'\n",
    "\n",
    "numbers_in_between_advanced(5, 0)"
   ]
  },
  {
   "cell_type": "code",
   "execution_count": null,
   "metadata": {
    "collapsed": true
   },
   "outputs": [],
   "source": []
  }
 ],
 "metadata": {
  "anaconda-cloud": {},
  "kernelspec": {
   "display_name": "Python [conda env:python-foundations]",
   "language": "python",
   "name": "conda-env-python-foundations-py"
  },
  "language_info": {
   "codemirror_mode": {
    "name": "ipython",
    "version": 3
   },
   "file_extension": ".py",
   "mimetype": "text/x-python",
   "name": "python",
   "nbconvert_exporter": "python",
   "pygments_lexer": "ipython3",
   "version": "3.5.2"
  }
 },
 "nbformat": 4,
 "nbformat_minor": 1
}
